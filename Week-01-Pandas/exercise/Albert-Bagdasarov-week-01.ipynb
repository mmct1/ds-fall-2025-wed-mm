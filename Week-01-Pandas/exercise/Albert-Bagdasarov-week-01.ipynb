{
 "cells": [
  {
   "cell_type": "markdown",
   "metadata": {},
   "source": [
    "# First print your name in the cell below then save this file. (or something nice about your instructor)"
   ]
  },
  {
   "cell_type": "code",
   "execution_count": 1,
   "metadata": {
    "tags": []
   },
   "outputs": [
    {
     "name": "stdout",
     "output_type": "stream",
     "text": [
      "Albert Bagdasarov\n"
     ]
    }
   ],
   "source": [
    "# In this cell print your name \n",
    "print(\"Albert Bagdasarov\")\n"
   ]
  },
  {
   "cell_type": "markdown",
   "metadata": {},
   "source": [
    "# Data wrangling with Pandas exercise\n",
    "* For this exercise we will be using the `listings.csv` data file."
   ]
  },
  {
   "cell_type": "code",
   "execution_count": 137,
   "metadata": {
    "tags": []
   },
   "outputs": [],
   "source": [
    "import pandas as pd\n",
    "import numpy as np\n",
    "import glob\n",
    "import os"
   ]
  },
  {
   "cell_type": "markdown",
   "metadata": {},
   "source": [
    "# Load in the data file using `pd.read_csv()`"
   ]
  },
  {
   "cell_type": "code",
   "execution_count": 3,
   "metadata": {
    "tags": []
   },
   "outputs": [],
   "source": [
    "# Load data here\n",
    "df = pd.read_csv(\"../data/listings.csv\")"
   ]
  },
  {
   "cell_type": "markdown",
   "metadata": {},
   "source": [
    "## Exercise 2 - Filtering\n",
    "\n",
    "Return the following subsets of the dataframe.\n",
    "\n",
    "1. How many listings are there with a price less than 100? \n",
    "\n",
    "\n",
    "2. Find how many listings there are in just Brooklyn.\n",
    "\n",
    "\n",
    "3. Find how many listings there are in Brooklyn with a price less than 100.\n",
    "\n",
    "\n",
    "4. Using `.isin()` select anyone that has the host name of Michael, David, John, and Daniel.\n",
    "\n",
    "\n",
    "5. Create a new column called `adjusted_price` that has $100 added to every listing in Williamsburg.  The prices for all other listings should be the same as the were before. \n",
    "\n",
    "\n",
    "6. What % of the rooms are private, and what % of the rooms are shared.  \n",
    "    * Hint, use `.value_counts()`\n"
   ]
  },
  {
   "cell_type": "code",
   "execution_count": 4,
   "metadata": {
    "tags": []
   },
   "outputs": [
    {
     "data": {
      "text/html": [
       "<div>\n",
       "<style scoped>\n",
       "    .dataframe tbody tr th:only-of-type {\n",
       "        vertical-align: middle;\n",
       "    }\n",
       "\n",
       "    .dataframe tbody tr th {\n",
       "        vertical-align: top;\n",
       "    }\n",
       "\n",
       "    .dataframe thead th {\n",
       "        text-align: right;\n",
       "    }\n",
       "</style>\n",
       "<table border=\"1\" class=\"dataframe\">\n",
       "  <thead>\n",
       "    <tr style=\"text-align: right;\">\n",
       "      <th></th>\n",
       "      <th>id</th>\n",
       "      <th>name</th>\n",
       "      <th>host_id</th>\n",
       "      <th>host_name</th>\n",
       "      <th>neighbourhood_group</th>\n",
       "      <th>neighbourhood</th>\n",
       "      <th>latitude</th>\n",
       "      <th>longitude</th>\n",
       "      <th>room_type</th>\n",
       "      <th>price</th>\n",
       "      <th>minimum_nights</th>\n",
       "      <th>number_of_reviews</th>\n",
       "      <th>last_review</th>\n",
       "      <th>reviews_per_month</th>\n",
       "      <th>calculated_host_listings_count</th>\n",
       "      <th>availability_365</th>\n",
       "    </tr>\n",
       "  </thead>\n",
       "  <tbody>\n",
       "    <tr>\n",
       "      <th>0</th>\n",
       "      <td>2595</td>\n",
       "      <td>Skylit Midtown Castle</td>\n",
       "      <td>2845</td>\n",
       "      <td>Jennifer</td>\n",
       "      <td>Manhattan</td>\n",
       "      <td>Midtown</td>\n",
       "      <td>40.75362</td>\n",
       "      <td>-73.98377</td>\n",
       "      <td>Entire home/apt</td>\n",
       "      <td>175</td>\n",
       "      <td>3</td>\n",
       "      <td>48</td>\n",
       "      <td>2019-11-04</td>\n",
       "      <td>0.37</td>\n",
       "      <td>2</td>\n",
       "      <td>365</td>\n",
       "    </tr>\n",
       "    <tr>\n",
       "      <th>1</th>\n",
       "      <td>3831</td>\n",
       "      <td>Whole flr w/private bdrm, bath &amp; kitchen(pls r...</td>\n",
       "      <td>4869</td>\n",
       "      <td>LisaRoxanne</td>\n",
       "      <td>Brooklyn</td>\n",
       "      <td>Clinton Hill</td>\n",
       "      <td>40.68514</td>\n",
       "      <td>-73.95976</td>\n",
       "      <td>Entire home/apt</td>\n",
       "      <td>75</td>\n",
       "      <td>1</td>\n",
       "      <td>340</td>\n",
       "      <td>2020-08-01</td>\n",
       "      <td>4.75</td>\n",
       "      <td>1</td>\n",
       "      <td>265</td>\n",
       "    </tr>\n",
       "  </tbody>\n",
       "</table>\n",
       "</div>"
      ],
      "text/plain": [
       "     id                                               name  host_id  \\\n",
       "0  2595                              Skylit Midtown Castle     2845   \n",
       "1  3831  Whole flr w/private bdrm, bath & kitchen(pls r...     4869   \n",
       "\n",
       "     host_name neighbourhood_group neighbourhood  latitude  longitude  \\\n",
       "0     Jennifer           Manhattan       Midtown  40.75362  -73.98377   \n",
       "1  LisaRoxanne            Brooklyn  Clinton Hill  40.68514  -73.95976   \n",
       "\n",
       "         room_type  price  minimum_nights  number_of_reviews last_review  \\\n",
       "0  Entire home/apt    175               3                 48  2019-11-04   \n",
       "1  Entire home/apt     75               1                340  2020-08-01   \n",
       "\n",
       "   reviews_per_month  calculated_host_listings_count  availability_365  \n",
       "0               0.37                               2               365  \n",
       "1               4.75                               1               265  "
      ]
     },
     "execution_count": 4,
     "metadata": {},
     "output_type": "execute_result"
    }
   ],
   "source": [
    "# lets look at the data\n",
    "df.head(2)"
   ]
  },
  {
   "cell_type": "code",
   "execution_count": 5,
   "metadata": {
    "tags": []
   },
   "outputs": [
    {
     "data": {
      "text/plain": [
       "22778"
      ]
     },
     "execution_count": 5,
     "metadata": {},
     "output_type": "execute_result"
    }
   ],
   "source": [
    "# 1. How many listings are there with a price less than 100? \n",
    "\n",
    "df[df['price'] < 100].shape[0] # sorting by condition and then taking number of rows through shape which returns (rows,columns)"
   ]
  },
  {
   "cell_type": "code",
   "execution_count": 6,
   "metadata": {
    "tags": []
   },
   "outputs": [
    {
     "data": {
      "text/plain": [
       "18632"
      ]
     },
     "execution_count": 6,
     "metadata": {},
     "output_type": "execute_result"
    }
   ],
   "source": [
    "# 2. Make a new DataFrame of listings in Brooklyn named `df_bk` \n",
    "# and find how many listings in just Brooklyn.\n",
    "\n",
    "df_bk = df[df['neighbourhood_group'] == 'Brooklyn']\n",
    "df_bk['id'].count() # counting listings by \"id\" column as unique identifier "
   ]
  },
  {
   "cell_type": "code",
   "execution_count": 7,
   "metadata": {
    "tags": []
   },
   "outputs": [
    {
     "data": {
      "text/plain": [
       "10473"
      ]
     },
     "execution_count": 7,
     "metadata": {},
     "output_type": "execute_result"
    }
   ],
   "source": [
    "# 3. Find how many listings there are in Brooklyn with a price less than 100.\n",
    "\n",
    "df_bk[df_bk['price'] < 100].shape[0]"
   ]
  },
  {
   "cell_type": "code",
   "execution_count": 8,
   "metadata": {
    "tags": []
   },
   "outputs": [
    {
     "data": {
      "text/plain": [
       "1258"
      ]
     },
     "execution_count": 8,
     "metadata": {},
     "output_type": "execute_result"
    }
   ],
   "source": [
    "# 4. Using `.isin()` select anyone that has the host name of Michael, David, John, and Daniel.\n",
    "# How many total are there that have those names\n",
    "df[df['host_name'].isin([\"Michael\",\"David\",\"John\",\"Daniel\"])]['id'].count()"
   ]
  },
  {
   "cell_type": "code",
   "execution_count": 9,
   "metadata": {
    "tags": []
   },
   "outputs": [],
   "source": [
    "# 5. Create a new column called `adjusted_price` that has $100 added to every listing in Williamsburg.  \n",
    "# The prices for all other listings should be the same as the were before. \n",
    "\n",
    "df['adjusted_price'] = np.where(\n",
    "    df['neighbourhood'] == 'Williamsburg', # If neighbourhood == \"Williamsburg\"\n",
    "    df['price'] + 100, # THEN price + 100\n",
    "    df['price'] # Else keep original price\n",
    ")"
   ]
  },
  {
   "cell_type": "code",
   "execution_count": 10,
   "metadata": {
    "tags": []
   },
   "outputs": [],
   "source": [
    "# 6. What % of the rooms are private, and what % of the rooms are shared.  \n",
    "private_room_percentage = df[df['room_type'] == 'Private room']['id'].count()  / df['room_type'].count() * 100\n",
    "shared_room_percentage  = df[df['room_type'] == 'Shared room']['id'].count() / df['room_type'].count() * 100"
   ]
  },
  {
   "cell_type": "code",
   "execution_count": 11,
   "metadata": {
    "tags": []
   },
   "outputs": [
    {
     "name": "stdout",
     "output_type": "stream",
     "text": [
      "45.444580566122895\n",
      "2.12134889419047\n"
     ]
    }
   ],
   "source": [
    "print(private_room_percentage)\n",
    "print(shared_room_percentage)"
   ]
  },
  {
   "cell_type": "markdown",
   "metadata": {},
   "source": [
    "# Exercise 3 - Grouping\n",
    "\n",
    "1. Using `groupby`, count how many listings are in each neighbourhood_group.\n",
    "\n",
    "\n",
    "2. Using `groupby`, find the mean price for each of the neighbourhood_groups. \n",
    "\n",
    "\n",
    "3. Using `groupby` and `.agg()`, find the min and max price for each of the neighbourhood_groups. \n",
    "\n",
    "\n",
    "4. Using `groupby`, find the median price for each room type in each neighbourhood_group.\n",
    "\n",
    "\n",
    "5. Using `groupby` and `.agg()`, find the count, min, max, mean, median, and std of the prices for each room type in each neighbourhood_group."
   ]
  },
  {
   "cell_type": "code",
   "execution_count": 12,
   "metadata": {
    "tags": []
   },
   "outputs": [
    {
     "data": {
      "text/html": [
       "<div>\n",
       "<style scoped>\n",
       "    .dataframe tbody tr th:only-of-type {\n",
       "        vertical-align: middle;\n",
       "    }\n",
       "\n",
       "    .dataframe tbody tr th {\n",
       "        vertical-align: top;\n",
       "    }\n",
       "\n",
       "    .dataframe thead th {\n",
       "        text-align: right;\n",
       "    }\n",
       "</style>\n",
       "<table border=\"1\" class=\"dataframe\">\n",
       "  <thead>\n",
       "    <tr style=\"text-align: right;\">\n",
       "      <th></th>\n",
       "      <th>neighbourhood_group</th>\n",
       "      <th>listings_count</th>\n",
       "    </tr>\n",
       "  </thead>\n",
       "  <tbody>\n",
       "    <tr>\n",
       "      <th>0</th>\n",
       "      <td>Bronx</td>\n",
       "      <td>1183</td>\n",
       "    </tr>\n",
       "    <tr>\n",
       "      <th>1</th>\n",
       "      <td>Brooklyn</td>\n",
       "      <td>18632</td>\n",
       "    </tr>\n",
       "    <tr>\n",
       "      <th>2</th>\n",
       "      <td>Manhattan</td>\n",
       "      <td>20580</td>\n",
       "    </tr>\n",
       "    <tr>\n",
       "      <th>3</th>\n",
       "      <td>Queens</td>\n",
       "      <td>5791</td>\n",
       "    </tr>\n",
       "    <tr>\n",
       "      <th>4</th>\n",
       "      <td>Staten Island</td>\n",
       "      <td>341</td>\n",
       "    </tr>\n",
       "  </tbody>\n",
       "</table>\n",
       "</div>"
      ],
      "text/plain": [
       "  neighbourhood_group  listings_count\n",
       "0               Bronx            1183\n",
       "1            Brooklyn           18632\n",
       "2           Manhattan           20580\n",
       "3              Queens            5791\n",
       "4       Staten Island             341"
      ]
     },
     "execution_count": 12,
     "metadata": {},
     "output_type": "execute_result"
    }
   ],
   "source": [
    "# 1. Using `groupby`, count how many listings are in each neighbourhood_group.\n",
    "\n",
    "df.groupby('neighbourhood_group').agg({'id':'count'}).rename(columns={'id': 'listings_count'}).reset_index()"
   ]
  },
  {
   "cell_type": "code",
   "execution_count": 13,
   "metadata": {
    "tags": []
   },
   "outputs": [
    {
     "data": {
      "text/html": [
       "<div>\n",
       "<style scoped>\n",
       "    .dataframe tbody tr th:only-of-type {\n",
       "        vertical-align: middle;\n",
       "    }\n",
       "\n",
       "    .dataframe tbody tr th {\n",
       "        vertical-align: top;\n",
       "    }\n",
       "\n",
       "    .dataframe thead th {\n",
       "        text-align: right;\n",
       "    }\n",
       "</style>\n",
       "<table border=\"1\" class=\"dataframe\">\n",
       "  <thead>\n",
       "    <tr style=\"text-align: right;\">\n",
       "      <th></th>\n",
       "      <th>neighbourhood_group</th>\n",
       "      <th>avg_price</th>\n",
       "    </tr>\n",
       "  </thead>\n",
       "  <tbody>\n",
       "    <tr>\n",
       "      <th>0</th>\n",
       "      <td>Bronx</td>\n",
       "      <td>92.751479</td>\n",
       "    </tr>\n",
       "    <tr>\n",
       "      <th>1</th>\n",
       "      <td>Brooklyn</td>\n",
       "      <td>120.225258</td>\n",
       "    </tr>\n",
       "    <tr>\n",
       "      <th>2</th>\n",
       "      <td>Manhattan</td>\n",
       "      <td>191.880466</td>\n",
       "    </tr>\n",
       "    <tr>\n",
       "      <th>3</th>\n",
       "      <td>Queens</td>\n",
       "      <td>99.754965</td>\n",
       "    </tr>\n",
       "    <tr>\n",
       "      <th>4</th>\n",
       "      <td>Staten Island</td>\n",
       "      <td>110.947214</td>\n",
       "    </tr>\n",
       "  </tbody>\n",
       "</table>\n",
       "</div>"
      ],
      "text/plain": [
       "  neighbourhood_group   avg_price\n",
       "0               Bronx   92.751479\n",
       "1            Brooklyn  120.225258\n",
       "2           Manhattan  191.880466\n",
       "3              Queens   99.754965\n",
       "4       Staten Island  110.947214"
      ]
     },
     "execution_count": 13,
     "metadata": {},
     "output_type": "execute_result"
    }
   ],
   "source": [
    "# 2. Using `groupby`, find the mean price for each of the neighbourhood_groups. \n",
    "\n",
    "df.groupby('neighbourhood_group').agg({'price':'mean'}).rename(columns={'price':'avg_price'}).reset_index()\n"
   ]
  },
  {
   "cell_type": "code",
   "execution_count": 14,
   "metadata": {
    "tags": []
   },
   "outputs": [
    {
     "data": {
      "text/html": [
       "<div>\n",
       "<style scoped>\n",
       "    .dataframe tbody tr th:only-of-type {\n",
       "        vertical-align: middle;\n",
       "    }\n",
       "\n",
       "    .dataframe tbody tr th {\n",
       "        vertical-align: top;\n",
       "    }\n",
       "\n",
       "    .dataframe thead th {\n",
       "        text-align: right;\n",
       "    }\n",
       "</style>\n",
       "<table border=\"1\" class=\"dataframe\">\n",
       "  <thead>\n",
       "    <tr style=\"text-align: right;\">\n",
       "      <th></th>\n",
       "      <th>room_type</th>\n",
       "      <th>avg_price</th>\n",
       "    </tr>\n",
       "  </thead>\n",
       "  <tbody>\n",
       "    <tr>\n",
       "      <th>0</th>\n",
       "      <td>Entire home/apt</td>\n",
       "      <td>199.395950</td>\n",
       "    </tr>\n",
       "    <tr>\n",
       "      <th>1</th>\n",
       "      <td>Hotel room</td>\n",
       "      <td>275.015075</td>\n",
       "    </tr>\n",
       "    <tr>\n",
       "      <th>2</th>\n",
       "      <td>Private room</td>\n",
       "      <td>91.453084</td>\n",
       "    </tr>\n",
       "    <tr>\n",
       "      <th>3</th>\n",
       "      <td>Shared room</td>\n",
       "      <td>87.063830</td>\n",
       "    </tr>\n",
       "  </tbody>\n",
       "</table>\n",
       "</div>"
      ],
      "text/plain": [
       "         room_type   avg_price\n",
       "0  Entire home/apt  199.395950\n",
       "1       Hotel room  275.015075\n",
       "2     Private room   91.453084\n",
       "3      Shared room   87.063830"
      ]
     },
     "execution_count": 14,
     "metadata": {},
     "output_type": "execute_result"
    }
   ],
   "source": [
    "# 2.5. Using `groupby`, find the mean price for each room_type. \n",
    "df.groupby('room_type').agg({'price':'mean'}).rename(columns={'price':'avg_price'}).reset_index()"
   ]
  },
  {
   "cell_type": "code",
   "execution_count": 15,
   "metadata": {
    "tags": []
   },
   "outputs": [
    {
     "data": {
      "text/html": [
       "<div>\n",
       "<style scoped>\n",
       "    .dataframe tbody tr th:only-of-type {\n",
       "        vertical-align: middle;\n",
       "    }\n",
       "\n",
       "    .dataframe tbody tr th {\n",
       "        vertical-align: top;\n",
       "    }\n",
       "\n",
       "    .dataframe thead th {\n",
       "        text-align: right;\n",
       "    }\n",
       "</style>\n",
       "<table border=\"1\" class=\"dataframe\">\n",
       "  <thead>\n",
       "    <tr style=\"text-align: right;\">\n",
       "      <th></th>\n",
       "      <th>neighbourhood_group</th>\n",
       "      <th>min_price</th>\n",
       "      <th>max_price</th>\n",
       "    </tr>\n",
       "  </thead>\n",
       "  <tbody>\n",
       "    <tr>\n",
       "      <th>0</th>\n",
       "      <td>Bronx</td>\n",
       "      <td>16</td>\n",
       "      <td>1404</td>\n",
       "    </tr>\n",
       "    <tr>\n",
       "      <th>1</th>\n",
       "      <td>Brooklyn</td>\n",
       "      <td>0</td>\n",
       "      <td>10000</td>\n",
       "    </tr>\n",
       "    <tr>\n",
       "      <th>2</th>\n",
       "      <td>Manhattan</td>\n",
       "      <td>0</td>\n",
       "      <td>10000</td>\n",
       "    </tr>\n",
       "    <tr>\n",
       "      <th>3</th>\n",
       "      <td>Queens</td>\n",
       "      <td>0</td>\n",
       "      <td>10000</td>\n",
       "    </tr>\n",
       "    <tr>\n",
       "      <th>4</th>\n",
       "      <td>Staten Island</td>\n",
       "      <td>19</td>\n",
       "      <td>1200</td>\n",
       "    </tr>\n",
       "  </tbody>\n",
       "</table>\n",
       "</div>"
      ],
      "text/plain": [
       "  neighbourhood_group  min_price  max_price\n",
       "0               Bronx         16       1404\n",
       "1            Brooklyn          0      10000\n",
       "2           Manhattan          0      10000\n",
       "3              Queens          0      10000\n",
       "4       Staten Island         19       1200"
      ]
     },
     "execution_count": 15,
     "metadata": {},
     "output_type": "execute_result"
    }
   ],
   "source": [
    "# 3. Using `groupby` and `.agg()`, find the min and max price for each of the neighbourhood_groups. \n",
    "df.groupby('neighbourhood_group').agg(\n",
    "    min_price=(\"price\", \"min\"),\n",
    "    max_price=(\"price\", \"max\")).reset_index()"
   ]
  },
  {
   "cell_type": "code",
   "execution_count": 16,
   "metadata": {
    "tags": []
   },
   "outputs": [
    {
     "data": {
      "text/html": [
       "<div>\n",
       "<style scoped>\n",
       "    .dataframe tbody tr th:only-of-type {\n",
       "        vertical-align: middle;\n",
       "    }\n",
       "\n",
       "    .dataframe tbody tr th {\n",
       "        vertical-align: top;\n",
       "    }\n",
       "\n",
       "    .dataframe thead th {\n",
       "        text-align: right;\n",
       "    }\n",
       "</style>\n",
       "<table border=\"1\" class=\"dataframe\">\n",
       "  <thead>\n",
       "    <tr style=\"text-align: right;\">\n",
       "      <th></th>\n",
       "      <th>neighbourhood_group</th>\n",
       "      <th>room_type</th>\n",
       "      <th>mean_price</th>\n",
       "    </tr>\n",
       "  </thead>\n",
       "  <tbody>\n",
       "    <tr>\n",
       "      <th>0</th>\n",
       "      <td>Bronx</td>\n",
       "      <td>Entire home/apt</td>\n",
       "      <td>138.004819</td>\n",
       "    </tr>\n",
       "    <tr>\n",
       "      <th>1</th>\n",
       "      <td>Bronx</td>\n",
       "      <td>Private room</td>\n",
       "      <td>68.419668</td>\n",
       "    </tr>\n",
       "    <tr>\n",
       "      <th>2</th>\n",
       "      <td>Bronx</td>\n",
       "      <td>Shared room</td>\n",
       "      <td>66.391304</td>\n",
       "    </tr>\n",
       "    <tr>\n",
       "      <th>3</th>\n",
       "      <td>Brooklyn</td>\n",
       "      <td>Entire home/apt</td>\n",
       "      <td>171.587687</td>\n",
       "    </tr>\n",
       "    <tr>\n",
       "      <th>4</th>\n",
       "      <td>Brooklyn</td>\n",
       "      <td>Hotel room</td>\n",
       "      <td>147.300000</td>\n",
       "    </tr>\n",
       "    <tr>\n",
       "      <th>5</th>\n",
       "      <td>Brooklyn</td>\n",
       "      <td>Private room</td>\n",
       "      <td>71.291189</td>\n",
       "    </tr>\n",
       "    <tr>\n",
       "      <th>6</th>\n",
       "      <td>Brooklyn</td>\n",
       "      <td>Shared room</td>\n",
       "      <td>57.870091</td>\n",
       "    </tr>\n",
       "    <tr>\n",
       "      <th>7</th>\n",
       "      <td>Manhattan</td>\n",
       "      <td>Entire home/apt</td>\n",
       "      <td>231.335572</td>\n",
       "    </tr>\n",
       "    <tr>\n",
       "      <th>8</th>\n",
       "      <td>Manhattan</td>\n",
       "      <td>Hotel room</td>\n",
       "      <td>292.515670</td>\n",
       "    </tr>\n",
       "    <tr>\n",
       "      <th>9</th>\n",
       "      <td>Manhattan</td>\n",
       "      <td>Private room</td>\n",
       "      <td>128.277069</td>\n",
       "    </tr>\n",
       "    <tr>\n",
       "      <th>10</th>\n",
       "      <td>Manhattan</td>\n",
       "      <td>Shared room</td>\n",
       "      <td>111.735084</td>\n",
       "    </tr>\n",
       "    <tr>\n",
       "      <th>11</th>\n",
       "      <td>Queens</td>\n",
       "      <td>Entire home/apt</td>\n",
       "      <td>150.168900</td>\n",
       "    </tr>\n",
       "    <tr>\n",
       "      <th>12</th>\n",
       "      <td>Queens</td>\n",
       "      <td>Hotel room</td>\n",
       "      <td>139.058824</td>\n",
       "    </tr>\n",
       "    <tr>\n",
       "      <th>13</th>\n",
       "      <td>Queens</td>\n",
       "      <td>Private room</td>\n",
       "      <td>69.972564</td>\n",
       "    </tr>\n",
       "    <tr>\n",
       "      <th>14</th>\n",
       "      <td>Queens</td>\n",
       "      <td>Shared room</td>\n",
       "      <td>89.891892</td>\n",
       "    </tr>\n",
       "    <tr>\n",
       "      <th>15</th>\n",
       "      <td>Staten Island</td>\n",
       "      <td>Entire home/apt</td>\n",
       "      <td>151.720930</td>\n",
       "    </tr>\n",
       "    <tr>\n",
       "      <th>16</th>\n",
       "      <td>Staten Island</td>\n",
       "      <td>Private room</td>\n",
       "      <td>70.312883</td>\n",
       "    </tr>\n",
       "    <tr>\n",
       "      <th>17</th>\n",
       "      <td>Staten Island</td>\n",
       "      <td>Shared room</td>\n",
       "      <td>46.000000</td>\n",
       "    </tr>\n",
       "  </tbody>\n",
       "</table>\n",
       "</div>"
      ],
      "text/plain": [
       "   neighbourhood_group        room_type  mean_price\n",
       "0                Bronx  Entire home/apt  138.004819\n",
       "1                Bronx     Private room   68.419668\n",
       "2                Bronx      Shared room   66.391304\n",
       "3             Brooklyn  Entire home/apt  171.587687\n",
       "4             Brooklyn       Hotel room  147.300000\n",
       "5             Brooklyn     Private room   71.291189\n",
       "6             Brooklyn      Shared room   57.870091\n",
       "7            Manhattan  Entire home/apt  231.335572\n",
       "8            Manhattan       Hotel room  292.515670\n",
       "9            Manhattan     Private room  128.277069\n",
       "10           Manhattan      Shared room  111.735084\n",
       "11              Queens  Entire home/apt  150.168900\n",
       "12              Queens       Hotel room  139.058824\n",
       "13              Queens     Private room   69.972564\n",
       "14              Queens      Shared room   89.891892\n",
       "15       Staten Island  Entire home/apt  151.720930\n",
       "16       Staten Island     Private room   70.312883\n",
       "17       Staten Island      Shared room   46.000000"
      ]
     },
     "execution_count": 16,
     "metadata": {},
     "output_type": "execute_result"
    }
   ],
   "source": [
    "# 4. Using `groupby`, find the mean price for each room_type in each neighbourhood_group.\n",
    "df.groupby(['neighbourhood_group', 'room_type']).agg(\n",
    "    mean_price=(\"price\", \"mean\")).reset_index()"
   ]
  },
  {
   "cell_type": "code",
   "execution_count": 17,
   "metadata": {
    "tags": []
   },
   "outputs": [
    {
     "data": {
      "text/html": [
       "<div>\n",
       "<style scoped>\n",
       "    .dataframe tbody tr th:only-of-type {\n",
       "        vertical-align: middle;\n",
       "    }\n",
       "\n",
       "    .dataframe tbody tr th {\n",
       "        vertical-align: top;\n",
       "    }\n",
       "\n",
       "    .dataframe thead th {\n",
       "        text-align: right;\n",
       "    }\n",
       "</style>\n",
       "<table border=\"1\" class=\"dataframe\">\n",
       "  <thead>\n",
       "    <tr style=\"text-align: right;\">\n",
       "      <th></th>\n",
       "      <th>neighbourhood_group</th>\n",
       "      <th>room_type</th>\n",
       "      <th>count</th>\n",
       "      <th>mean</th>\n",
       "      <th>std</th>\n",
       "      <th>min</th>\n",
       "      <th>25%</th>\n",
       "      <th>50%</th>\n",
       "      <th>75%</th>\n",
       "      <th>max</th>\n",
       "    </tr>\n",
       "  </thead>\n",
       "  <tbody>\n",
       "    <tr>\n",
       "      <th>0</th>\n",
       "      <td>Bronx</td>\n",
       "      <td>Entire home/apt</td>\n",
       "      <td>415.0</td>\n",
       "      <td>138.004819</td>\n",
       "      <td>126.032106</td>\n",
       "      <td>25.0</td>\n",
       "      <td>80.00</td>\n",
       "      <td>103.0</td>\n",
       "      <td>150.00</td>\n",
       "      <td>1404.0</td>\n",
       "    </tr>\n",
       "    <tr>\n",
       "      <th>1</th>\n",
       "      <td>Bronx</td>\n",
       "      <td>Private room</td>\n",
       "      <td>722.0</td>\n",
       "      <td>68.419668</td>\n",
       "      <td>57.337866</td>\n",
       "      <td>16.0</td>\n",
       "      <td>45.00</td>\n",
       "      <td>55.0</td>\n",
       "      <td>71.00</td>\n",
       "      <td>700.0</td>\n",
       "    </tr>\n",
       "    <tr>\n",
       "      <th>2</th>\n",
       "      <td>Bronx</td>\n",
       "      <td>Shared room</td>\n",
       "      <td>46.0</td>\n",
       "      <td>66.391304</td>\n",
       "      <td>114.442703</td>\n",
       "      <td>20.0</td>\n",
       "      <td>25.25</td>\n",
       "      <td>44.0</td>\n",
       "      <td>69.75</td>\n",
       "      <td>800.0</td>\n",
       "    </tr>\n",
       "    <tr>\n",
       "      <th>3</th>\n",
       "      <td>Brooklyn</td>\n",
       "      <td>Entire home/apt</td>\n",
       "      <td>9112.0</td>\n",
       "      <td>171.587687</td>\n",
       "      <td>236.732843</td>\n",
       "      <td>20.0</td>\n",
       "      <td>100.00</td>\n",
       "      <td>135.0</td>\n",
       "      <td>189.00</td>\n",
       "      <td>10000.0</td>\n",
       "    </tr>\n",
       "    <tr>\n",
       "      <th>4</th>\n",
       "      <td>Brooklyn</td>\n",
       "      <td>Hotel room</td>\n",
       "      <td>30.0</td>\n",
       "      <td>147.300000</td>\n",
       "      <td>91.153206</td>\n",
       "      <td>0.0</td>\n",
       "      <td>110.00</td>\n",
       "      <td>129.0</td>\n",
       "      <td>161.50</td>\n",
       "      <td>399.0</td>\n",
       "    </tr>\n",
       "    <tr>\n",
       "      <th>5</th>\n",
       "      <td>Brooklyn</td>\n",
       "      <td>Private room</td>\n",
       "      <td>9159.0</td>\n",
       "      <td>71.291189</td>\n",
       "      <td>69.023165</td>\n",
       "      <td>10.0</td>\n",
       "      <td>45.00</td>\n",
       "      <td>60.0</td>\n",
       "      <td>80.00</td>\n",
       "      <td>2500.0</td>\n",
       "    </tr>\n",
       "    <tr>\n",
       "      <th>6</th>\n",
       "      <td>Brooklyn</td>\n",
       "      <td>Shared room</td>\n",
       "      <td>331.0</td>\n",
       "      <td>57.870091</td>\n",
       "      <td>92.217618</td>\n",
       "      <td>15.0</td>\n",
       "      <td>25.00</td>\n",
       "      <td>36.0</td>\n",
       "      <td>60.00</td>\n",
       "      <td>1500.0</td>\n",
       "    </tr>\n",
       "    <tr>\n",
       "      <th>7</th>\n",
       "      <td>Manhattan</td>\n",
       "      <td>Entire home/apt</td>\n",
       "      <td>12209.0</td>\n",
       "      <td>231.335572</td>\n",
       "      <td>410.306439</td>\n",
       "      <td>0.0</td>\n",
       "      <td>120.00</td>\n",
       "      <td>165.0</td>\n",
       "      <td>240.00</td>\n",
       "      <td>10000.0</td>\n",
       "    </tr>\n",
       "    <tr>\n",
       "      <th>8</th>\n",
       "      <td>Manhattan</td>\n",
       "      <td>Hotel room</td>\n",
       "      <td>351.0</td>\n",
       "      <td>292.515670</td>\n",
       "      <td>315.924085</td>\n",
       "      <td>0.0</td>\n",
       "      <td>98.00</td>\n",
       "      <td>210.0</td>\n",
       "      <td>311.50</td>\n",
       "      <td>2211.0</td>\n",
       "    </tr>\n",
       "    <tr>\n",
       "      <th>9</th>\n",
       "      <td>Manhattan</td>\n",
       "      <td>Private room</td>\n",
       "      <td>7601.0</td>\n",
       "      <td>128.277069</td>\n",
       "      <td>448.677306</td>\n",
       "      <td>10.0</td>\n",
       "      <td>59.00</td>\n",
       "      <td>80.0</td>\n",
       "      <td>112.00</td>\n",
       "      <td>10000.0</td>\n",
       "    </tr>\n",
       "    <tr>\n",
       "      <th>10</th>\n",
       "      <td>Manhattan</td>\n",
       "      <td>Shared room</td>\n",
       "      <td>419.0</td>\n",
       "      <td>111.735084</td>\n",
       "      <td>502.728868</td>\n",
       "      <td>10.0</td>\n",
       "      <td>40.00</td>\n",
       "      <td>60.0</td>\n",
       "      <td>85.00</td>\n",
       "      <td>10000.0</td>\n",
       "    </tr>\n",
       "    <tr>\n",
       "      <th>11</th>\n",
       "      <td>Queens</td>\n",
       "      <td>Entire home/apt</td>\n",
       "      <td>2090.0</td>\n",
       "      <td>150.168900</td>\n",
       "      <td>252.606739</td>\n",
       "      <td>10.0</td>\n",
       "      <td>89.00</td>\n",
       "      <td>115.0</td>\n",
       "      <td>159.00</td>\n",
       "      <td>10000.0</td>\n",
       "    </tr>\n",
       "    <tr>\n",
       "      <th>12</th>\n",
       "      <td>Queens</td>\n",
       "      <td>Hotel room</td>\n",
       "      <td>17.0</td>\n",
       "      <td>139.058824</td>\n",
       "      <td>50.743806</td>\n",
       "      <td>0.0</td>\n",
       "      <td>132.00</td>\n",
       "      <td>149.0</td>\n",
       "      <td>149.00</td>\n",
       "      <td>249.0</td>\n",
       "    </tr>\n",
       "    <tr>\n",
       "      <th>13</th>\n",
       "      <td>Queens</td>\n",
       "      <td>Private room</td>\n",
       "      <td>3499.0</td>\n",
       "      <td>69.972564</td>\n",
       "      <td>163.814468</td>\n",
       "      <td>18.0</td>\n",
       "      <td>43.00</td>\n",
       "      <td>55.0</td>\n",
       "      <td>75.00</td>\n",
       "      <td>9000.0</td>\n",
       "    </tr>\n",
       "    <tr>\n",
       "      <th>14</th>\n",
       "      <td>Queens</td>\n",
       "      <td>Shared room</td>\n",
       "      <td>185.0</td>\n",
       "      <td>89.891892</td>\n",
       "      <td>275.675158</td>\n",
       "      <td>14.0</td>\n",
       "      <td>30.00</td>\n",
       "      <td>40.0</td>\n",
       "      <td>60.00</td>\n",
       "      <td>3000.0</td>\n",
       "    </tr>\n",
       "    <tr>\n",
       "      <th>15</th>\n",
       "      <td>Staten Island</td>\n",
       "      <td>Entire home/apt</td>\n",
       "      <td>172.0</td>\n",
       "      <td>151.720930</td>\n",
       "      <td>147.518392</td>\n",
       "      <td>39.0</td>\n",
       "      <td>82.75</td>\n",
       "      <td>111.0</td>\n",
       "      <td>150.00</td>\n",
       "      <td>1200.0</td>\n",
       "    </tr>\n",
       "    <tr>\n",
       "      <th>16</th>\n",
       "      <td>Staten Island</td>\n",
       "      <td>Private room</td>\n",
       "      <td>163.0</td>\n",
       "      <td>70.312883</td>\n",
       "      <td>70.759593</td>\n",
       "      <td>20.0</td>\n",
       "      <td>42.00</td>\n",
       "      <td>55.0</td>\n",
       "      <td>71.50</td>\n",
       "      <td>800.0</td>\n",
       "    </tr>\n",
       "    <tr>\n",
       "      <th>17</th>\n",
       "      <td>Staten Island</td>\n",
       "      <td>Shared room</td>\n",
       "      <td>6.0</td>\n",
       "      <td>46.000000</td>\n",
       "      <td>28.446441</td>\n",
       "      <td>19.0</td>\n",
       "      <td>22.50</td>\n",
       "      <td>38.0</td>\n",
       "      <td>70.75</td>\n",
       "      <td>82.0</td>\n",
       "    </tr>\n",
       "  </tbody>\n",
       "</table>\n",
       "</div>"
      ],
      "text/plain": [
       "   neighbourhood_group        room_type    count        mean         std  \\\n",
       "0                Bronx  Entire home/apt    415.0  138.004819  126.032106   \n",
       "1                Bronx     Private room    722.0   68.419668   57.337866   \n",
       "2                Bronx      Shared room     46.0   66.391304  114.442703   \n",
       "3             Brooklyn  Entire home/apt   9112.0  171.587687  236.732843   \n",
       "4             Brooklyn       Hotel room     30.0  147.300000   91.153206   \n",
       "5             Brooklyn     Private room   9159.0   71.291189   69.023165   \n",
       "6             Brooklyn      Shared room    331.0   57.870091   92.217618   \n",
       "7            Manhattan  Entire home/apt  12209.0  231.335572  410.306439   \n",
       "8            Manhattan       Hotel room    351.0  292.515670  315.924085   \n",
       "9            Manhattan     Private room   7601.0  128.277069  448.677306   \n",
       "10           Manhattan      Shared room    419.0  111.735084  502.728868   \n",
       "11              Queens  Entire home/apt   2090.0  150.168900  252.606739   \n",
       "12              Queens       Hotel room     17.0  139.058824   50.743806   \n",
       "13              Queens     Private room   3499.0   69.972564  163.814468   \n",
       "14              Queens      Shared room    185.0   89.891892  275.675158   \n",
       "15       Staten Island  Entire home/apt    172.0  151.720930  147.518392   \n",
       "16       Staten Island     Private room    163.0   70.312883   70.759593   \n",
       "17       Staten Island      Shared room      6.0   46.000000   28.446441   \n",
       "\n",
       "     min     25%    50%     75%      max  \n",
       "0   25.0   80.00  103.0  150.00   1404.0  \n",
       "1   16.0   45.00   55.0   71.00    700.0  \n",
       "2   20.0   25.25   44.0   69.75    800.0  \n",
       "3   20.0  100.00  135.0  189.00  10000.0  \n",
       "4    0.0  110.00  129.0  161.50    399.0  \n",
       "5   10.0   45.00   60.0   80.00   2500.0  \n",
       "6   15.0   25.00   36.0   60.00   1500.0  \n",
       "7    0.0  120.00  165.0  240.00  10000.0  \n",
       "8    0.0   98.00  210.0  311.50   2211.0  \n",
       "9   10.0   59.00   80.0  112.00  10000.0  \n",
       "10  10.0   40.00   60.0   85.00  10000.0  \n",
       "11  10.0   89.00  115.0  159.00  10000.0  \n",
       "12   0.0  132.00  149.0  149.00    249.0  \n",
       "13  18.0   43.00   55.0   75.00   9000.0  \n",
       "14  14.0   30.00   40.0   60.00   3000.0  \n",
       "15  39.0   82.75  111.0  150.00   1200.0  \n",
       "16  20.0   42.00   55.0   71.50    800.0  \n",
       "17  19.0   22.50   38.0   70.75     82.0  "
      ]
     },
     "execution_count": 17,
     "metadata": {},
     "output_type": "execute_result"
    }
   ],
   "source": [
    "# 5. Using `groupby` and `.agg()`, find the count, min, max, mean, median, and std of the prices \n",
    "# for each room type in each neighbourhood_group.\n",
    "df.groupby(['neighbourhood_group', 'room_type'])['price'].describe().reset_index() # no need in agg"
   ]
  },
  {
   "cell_type": "markdown",
   "metadata": {},
   "source": [
    "# Load, Merge, and Export files.\n",
    "1. Load the `prices.csv` and the `n_listings.csv`\n",
    "    * Having an error..? Inspect the actual csv file if you're having trouble\n",
    "\n",
    "2. Do join that keeps all the records for each table.\n",
    "    * Neighbourhood groups should include ['Bronx', 'Brooklyn', 'Manhattan', 'Queens', 'Staten Island',\n",
    "       'LongIsland']\n",
    "\n",
    "       \n",
    "3. Save your joined csv as `joined.csv` into the data folder. \n",
    "\n",
    "\n",
    "4. Load your saved table and see if it looks the same or different that the DataFrame you used to create it. "
   ]
  },
  {
   "cell_type": "code",
   "execution_count": 18,
   "metadata": {
    "tags": []
   },
   "outputs": [],
   "source": [
    "# 1. Load the `prices.csv` and the `n_listings.csv`\n",
    "prices = pd.read_csv(\"../data/prices.csv\")\n",
    "n_listings = pd.read_csv(\"../data/n_listings.csv\")"
   ]
  },
  {
   "cell_type": "code",
   "execution_count": 19,
   "metadata": {
    "tags": []
   },
   "outputs": [
    {
     "data": {
      "text/html": [
       "<div>\n",
       "<style scoped>\n",
       "    .dataframe tbody tr th:only-of-type {\n",
       "        vertical-align: middle;\n",
       "    }\n",
       "\n",
       "    .dataframe tbody tr th {\n",
       "        vertical-align: top;\n",
       "    }\n",
       "\n",
       "    .dataframe thead th {\n",
       "        text-align: right;\n",
       "    }\n",
       "</style>\n",
       "<table border=\"1\" class=\"dataframe\">\n",
       "  <thead>\n",
       "    <tr style=\"text-align: right;\">\n",
       "      <th></th>\n",
       "      <th>neighbourhood_group;n_listings</th>\n",
       "    </tr>\n",
       "  </thead>\n",
       "  <tbody>\n",
       "    <tr>\n",
       "      <th>0</th>\n",
       "      <td>Bronx;1183</td>\n",
       "    </tr>\n",
       "    <tr>\n",
       "      <th>1</th>\n",
       "      <td>Brooklyn;18632</td>\n",
       "    </tr>\n",
       "    <tr>\n",
       "      <th>2</th>\n",
       "      <td>Manhattan;20580</td>\n",
       "    </tr>\n",
       "    <tr>\n",
       "      <th>3</th>\n",
       "      <td>LongIsland;4121</td>\n",
       "    </tr>\n",
       "  </tbody>\n",
       "</table>\n",
       "</div>"
      ],
      "text/plain": [
       "  neighbourhood_group;n_listings\n",
       "0                     Bronx;1183\n",
       "1                 Brooklyn;18632\n",
       "2                Manhattan;20580\n",
       "3                LongIsland;4121"
      ]
     },
     "execution_count": 19,
     "metadata": {},
     "output_type": "execute_result"
    }
   ],
   "source": [
    "n_listings.head()"
   ]
  },
  {
   "cell_type": "code",
   "execution_count": 20,
   "metadata": {
    "tags": []
   },
   "outputs": [
    {
     "data": {
      "text/html": [
       "<div>\n",
       "<style scoped>\n",
       "    .dataframe tbody tr th:only-of-type {\n",
       "        vertical-align: middle;\n",
       "    }\n",
       "\n",
       "    .dataframe tbody tr th {\n",
       "        vertical-align: top;\n",
       "    }\n",
       "\n",
       "    .dataframe thead th {\n",
       "        text-align: right;\n",
       "    }\n",
       "</style>\n",
       "<table border=\"1\" class=\"dataframe\">\n",
       "  <thead>\n",
       "    <tr style=\"text-align: right;\">\n",
       "      <th></th>\n",
       "      <th>neighbourhood_group</th>\n",
       "      <th>mean_price</th>\n",
       "    </tr>\n",
       "  </thead>\n",
       "  <tbody>\n",
       "    <tr>\n",
       "      <th>0</th>\n",
       "      <td>Bronx</td>\n",
       "      <td>92.751479</td>\n",
       "    </tr>\n",
       "    <tr>\n",
       "      <th>1</th>\n",
       "      <td>Brooklyn</td>\n",
       "      <td>120.225258</td>\n",
       "    </tr>\n",
       "    <tr>\n",
       "      <th>2</th>\n",
       "      <td>Manhattan</td>\n",
       "      <td>191.880466</td>\n",
       "    </tr>\n",
       "    <tr>\n",
       "      <th>3</th>\n",
       "      <td>Queens</td>\n",
       "      <td>99.754965</td>\n",
       "    </tr>\n",
       "    <tr>\n",
       "      <th>4</th>\n",
       "      <td>Staten Island</td>\n",
       "      <td>110.947214</td>\n",
       "    </tr>\n",
       "  </tbody>\n",
       "</table>\n",
       "</div>"
      ],
      "text/plain": [
       "  neighbourhood_group   mean_price\n",
       "0               Bronx    92.751479\n",
       "1            Brooklyn   120.225258\n",
       "2           Manhattan   191.880466\n",
       "3              Queens    99.754965\n",
       "4       Staten Island   110.947214"
      ]
     },
     "execution_count": 20,
     "metadata": {},
     "output_type": "execute_result"
    }
   ],
   "source": [
    "prices.head()"
   ]
  },
  {
   "cell_type": "code",
   "execution_count": 21,
   "metadata": {
    "tags": []
   },
   "outputs": [
    {
     "name": "stdout",
     "output_type": "stream",
     "text": [
      "(5, 2)\n",
      "(4, 1)\n"
     ]
    }
   ],
   "source": [
    "# 2. Do join that keeps all the records for each table.\n",
    "print(prices.shape)\n",
    "print(n_listings.shape)"
   ]
  },
  {
   "cell_type": "markdown",
   "metadata": {},
   "source": [
    "**Seems like we have two problems**\n",
    "1)  The number of rows for both datasets are different we may have some problems with merging them \\\n",
    "2)  Categorical and numerical columns in n_listings are stacked together as one column, we need to separae them\n"
   ]
  },
  {
   "cell_type": "code",
   "execution_count": 22,
   "metadata": {
    "tags": []
   },
   "outputs": [],
   "source": [
    "# separatig the string using split by ';'\n",
    "# 'expand = true' returns result as separated columns \n",
    "n_listings[['neighbourhood_group', 'n_listings']] = n_listings['neighbourhood_group;n_listings'].str.split(';', expand=True)"
   ]
  },
  {
   "cell_type": "code",
   "execution_count": 23,
   "metadata": {
    "tags": []
   },
   "outputs": [],
   "source": [
    "# dropping unnecessary column\n",
    "n_listings = n_listings.drop(['neighbourhood_group;n_listings'], axis = 1)"
   ]
  },
  {
   "cell_type": "code",
   "execution_count": 24,
   "metadata": {
    "tags": []
   },
   "outputs": [
    {
     "data": {
      "text/html": [
       "<div>\n",
       "<style scoped>\n",
       "    .dataframe tbody tr th:only-of-type {\n",
       "        vertical-align: middle;\n",
       "    }\n",
       "\n",
       "    .dataframe tbody tr th {\n",
       "        vertical-align: top;\n",
       "    }\n",
       "\n",
       "    .dataframe thead th {\n",
       "        text-align: right;\n",
       "    }\n",
       "</style>\n",
       "<table border=\"1\" class=\"dataframe\">\n",
       "  <thead>\n",
       "    <tr style=\"text-align: right;\">\n",
       "      <th></th>\n",
       "      <th>neighbourhood_group</th>\n",
       "      <th>n_listings</th>\n",
       "    </tr>\n",
       "  </thead>\n",
       "  <tbody>\n",
       "    <tr>\n",
       "      <th>0</th>\n",
       "      <td>Bronx</td>\n",
       "      <td>1183</td>\n",
       "    </tr>\n",
       "    <tr>\n",
       "      <th>1</th>\n",
       "      <td>Brooklyn</td>\n",
       "      <td>18632</td>\n",
       "    </tr>\n",
       "    <tr>\n",
       "      <th>2</th>\n",
       "      <td>Manhattan</td>\n",
       "      <td>20580</td>\n",
       "    </tr>\n",
       "    <tr>\n",
       "      <th>3</th>\n",
       "      <td>LongIsland</td>\n",
       "      <td>4121</td>\n",
       "    </tr>\n",
       "  </tbody>\n",
       "</table>\n",
       "</div>"
      ],
      "text/plain": [
       "  neighbourhood_group n_listings\n",
       "0               Bronx       1183\n",
       "1            Brooklyn      18632\n",
       "2           Manhattan      20580\n",
       "3          LongIsland       4121"
      ]
     },
     "execution_count": 24,
     "metadata": {},
     "output_type": "execute_result"
    }
   ],
   "source": [
    "n_listings"
   ]
  },
  {
   "cell_type": "code",
   "execution_count": 25,
   "metadata": {
    "tags": []
   },
   "outputs": [],
   "source": [
    "# neighbourhood_group is the common column for both tables\n",
    "# I decided to use outer join since it  will include records that matches from either of the tables, which means we won't loose any records\n",
    "joined_df = prices.merge(n_listings, on='neighbourhood_group', how='outer')"
   ]
  },
  {
   "cell_type": "code",
   "execution_count": 26,
   "metadata": {
    "tags": []
   },
   "outputs": [
    {
     "data": {
      "text/html": [
       "<div>\n",
       "<style scoped>\n",
       "    .dataframe tbody tr th:only-of-type {\n",
       "        vertical-align: middle;\n",
       "    }\n",
       "\n",
       "    .dataframe tbody tr th {\n",
       "        vertical-align: top;\n",
       "    }\n",
       "\n",
       "    .dataframe thead th {\n",
       "        text-align: right;\n",
       "    }\n",
       "</style>\n",
       "<table border=\"1\" class=\"dataframe\">\n",
       "  <thead>\n",
       "    <tr style=\"text-align: right;\">\n",
       "      <th></th>\n",
       "      <th>neighbourhood_group</th>\n",
       "      <th>mean_price</th>\n",
       "      <th>n_listings</th>\n",
       "    </tr>\n",
       "  </thead>\n",
       "  <tbody>\n",
       "    <tr>\n",
       "      <th>0</th>\n",
       "      <td>Bronx</td>\n",
       "      <td>92.751479</td>\n",
       "      <td>1183</td>\n",
       "    </tr>\n",
       "    <tr>\n",
       "      <th>1</th>\n",
       "      <td>Brooklyn</td>\n",
       "      <td>120.225258</td>\n",
       "      <td>18632</td>\n",
       "    </tr>\n",
       "    <tr>\n",
       "      <th>2</th>\n",
       "      <td>Manhattan</td>\n",
       "      <td>191.880466</td>\n",
       "      <td>20580</td>\n",
       "    </tr>\n",
       "    <tr>\n",
       "      <th>3</th>\n",
       "      <td>Queens</td>\n",
       "      <td>99.754965</td>\n",
       "      <td>NaN</td>\n",
       "    </tr>\n",
       "    <tr>\n",
       "      <th>4</th>\n",
       "      <td>Staten Island</td>\n",
       "      <td>110.947214</td>\n",
       "      <td>NaN</td>\n",
       "    </tr>\n",
       "    <tr>\n",
       "      <th>5</th>\n",
       "      <td>LongIsland</td>\n",
       "      <td>NaN</td>\n",
       "      <td>4121</td>\n",
       "    </tr>\n",
       "  </tbody>\n",
       "</table>\n",
       "</div>"
      ],
      "text/plain": [
       "  neighbourhood_group   mean_price n_listings\n",
       "0               Bronx    92.751479       1183\n",
       "1            Brooklyn   120.225258      18632\n",
       "2           Manhattan   191.880466      20580\n",
       "3              Queens    99.754965        NaN\n",
       "4       Staten Island   110.947214        NaN\n",
       "5          LongIsland          NaN       4121"
      ]
     },
     "execution_count": 26,
     "metadata": {},
     "output_type": "execute_result"
    }
   ],
   "source": [
    "joined_df"
   ]
  },
  {
   "cell_type": "code",
   "execution_count": 27,
   "metadata": {
    "tags": []
   },
   "outputs": [],
   "source": [
    "# lets fill empty values \n",
    "correct_df = df.groupby('neighbourhood_group').agg({'id':'count'}).rename(columns={'id':'n_listings'}).reset_index()"
   ]
  },
  {
   "cell_type": "code",
   "execution_count": 28,
   "metadata": {
    "tags": []
   },
   "outputs": [
    {
     "data": {
      "text/html": [
       "<div>\n",
       "<style scoped>\n",
       "    .dataframe tbody tr th:only-of-type {\n",
       "        vertical-align: middle;\n",
       "    }\n",
       "\n",
       "    .dataframe tbody tr th {\n",
       "        vertical-align: top;\n",
       "    }\n",
       "\n",
       "    .dataframe thead th {\n",
       "        text-align: right;\n",
       "    }\n",
       "</style>\n",
       "<table border=\"1\" class=\"dataframe\">\n",
       "  <thead>\n",
       "    <tr style=\"text-align: right;\">\n",
       "      <th></th>\n",
       "      <th>neighbourhood_group</th>\n",
       "      <th>n_listings</th>\n",
       "    </tr>\n",
       "  </thead>\n",
       "  <tbody>\n",
       "    <tr>\n",
       "      <th>3</th>\n",
       "      <td>Queens</td>\n",
       "      <td>5791</td>\n",
       "    </tr>\n",
       "  </tbody>\n",
       "</table>\n",
       "</div>"
      ],
      "text/plain": [
       "  neighbourhood_group  n_listings\n",
       "3              Queens        5791"
      ]
     },
     "execution_count": 28,
     "metadata": {},
     "output_type": "execute_result"
    }
   ],
   "source": [
    "correct_df[correct_df['neighbourhood_group'] == 'Queens']"
   ]
  },
  {
   "cell_type": "code",
   "execution_count": 29,
   "metadata": {
    "tags": []
   },
   "outputs": [],
   "source": [
    "joined_df.loc[joined_df['neighbourhood_group'] == 'Queens', 'n_listings'] = correct_df.loc[correct_df['neighbourhood_group'] == 'Queens', 'n_listings'].values[0]\n",
    "joined_df.loc[joined_df['neighbourhood_group'] == 'Staten Island', 'n_listings'] = correct_df.loc[correct_df['neighbourhood_group'] == 'Staten Island', 'n_listings'].values[0]"
   ]
  },
  {
   "cell_type": "markdown",
   "metadata": {},
   "source": [
    "Seems like no records for longisland"
   ]
  },
  {
   "cell_type": "code",
   "execution_count": 30,
   "metadata": {
    "tags": []
   },
   "outputs": [],
   "source": [
    "joined_df = joined_df.fillna(0)"
   ]
  },
  {
   "cell_type": "code",
   "execution_count": 31,
   "metadata": {
    "tags": []
   },
   "outputs": [
    {
     "data": {
      "text/html": [
       "<div>\n",
       "<style scoped>\n",
       "    .dataframe tbody tr th:only-of-type {\n",
       "        vertical-align: middle;\n",
       "    }\n",
       "\n",
       "    .dataframe tbody tr th {\n",
       "        vertical-align: top;\n",
       "    }\n",
       "\n",
       "    .dataframe thead th {\n",
       "        text-align: right;\n",
       "    }\n",
       "</style>\n",
       "<table border=\"1\" class=\"dataframe\">\n",
       "  <thead>\n",
       "    <tr style=\"text-align: right;\">\n",
       "      <th></th>\n",
       "      <th>neighbourhood_group</th>\n",
       "      <th>mean_price</th>\n",
       "      <th>n_listings</th>\n",
       "    </tr>\n",
       "  </thead>\n",
       "  <tbody>\n",
       "    <tr>\n",
       "      <th>0</th>\n",
       "      <td>Bronx</td>\n",
       "      <td>92.751479</td>\n",
       "      <td>1183</td>\n",
       "    </tr>\n",
       "    <tr>\n",
       "      <th>1</th>\n",
       "      <td>Brooklyn</td>\n",
       "      <td>120.225258</td>\n",
       "      <td>18632</td>\n",
       "    </tr>\n",
       "    <tr>\n",
       "      <th>2</th>\n",
       "      <td>Manhattan</td>\n",
       "      <td>191.880466</td>\n",
       "      <td>20580</td>\n",
       "    </tr>\n",
       "    <tr>\n",
       "      <th>3</th>\n",
       "      <td>Queens</td>\n",
       "      <td>99.754965</td>\n",
       "      <td>5791</td>\n",
       "    </tr>\n",
       "    <tr>\n",
       "      <th>4</th>\n",
       "      <td>Staten Island</td>\n",
       "      <td>110.947214</td>\n",
       "      <td>341</td>\n",
       "    </tr>\n",
       "    <tr>\n",
       "      <th>5</th>\n",
       "      <td>LongIsland</td>\n",
       "      <td>0.000000</td>\n",
       "      <td>4121</td>\n",
       "    </tr>\n",
       "  </tbody>\n",
       "</table>\n",
       "</div>"
      ],
      "text/plain": [
       "  neighbourhood_group   mean_price n_listings\n",
       "0               Bronx    92.751479       1183\n",
       "1            Brooklyn   120.225258      18632\n",
       "2           Manhattan   191.880466      20580\n",
       "3              Queens    99.754965       5791\n",
       "4       Staten Island   110.947214        341\n",
       "5          LongIsland     0.000000       4121"
      ]
     },
     "execution_count": 31,
     "metadata": {},
     "output_type": "execute_result"
    }
   ],
   "source": [
    "joined_df"
   ]
  },
  {
   "cell_type": "code",
   "execution_count": 32,
   "metadata": {
    "tags": []
   },
   "outputs": [],
   "source": [
    "# 3. Save your joined csv as `joined.csv` into the data folder.\n",
    "joined_df.to_csv(\"../data/joined.csv\", index=False)"
   ]
  },
  {
   "cell_type": "code",
   "execution_count": 33,
   "metadata": {
    "tags": []
   },
   "outputs": [
    {
     "data": {
      "text/html": [
       "<div>\n",
       "<style scoped>\n",
       "    .dataframe tbody tr th:only-of-type {\n",
       "        vertical-align: middle;\n",
       "    }\n",
       "\n",
       "    .dataframe tbody tr th {\n",
       "        vertical-align: top;\n",
       "    }\n",
       "\n",
       "    .dataframe thead th {\n",
       "        text-align: right;\n",
       "    }\n",
       "</style>\n",
       "<table border=\"1\" class=\"dataframe\">\n",
       "  <thead>\n",
       "    <tr style=\"text-align: right;\">\n",
       "      <th></th>\n",
       "      <th>neighbourhood_group</th>\n",
       "      <th>mean_price</th>\n",
       "      <th>n_listings</th>\n",
       "    </tr>\n",
       "  </thead>\n",
       "  <tbody>\n",
       "    <tr>\n",
       "      <th>0</th>\n",
       "      <td>Bronx</td>\n",
       "      <td>92.751479</td>\n",
       "      <td>1183</td>\n",
       "    </tr>\n",
       "    <tr>\n",
       "      <th>1</th>\n",
       "      <td>Brooklyn</td>\n",
       "      <td>120.225258</td>\n",
       "      <td>18632</td>\n",
       "    </tr>\n",
       "    <tr>\n",
       "      <th>2</th>\n",
       "      <td>Manhattan</td>\n",
       "      <td>191.880466</td>\n",
       "      <td>20580</td>\n",
       "    </tr>\n",
       "    <tr>\n",
       "      <th>3</th>\n",
       "      <td>Queens</td>\n",
       "      <td>99.754965</td>\n",
       "      <td>5791</td>\n",
       "    </tr>\n",
       "    <tr>\n",
       "      <th>4</th>\n",
       "      <td>Staten Island</td>\n",
       "      <td>110.947214</td>\n",
       "      <td>341</td>\n",
       "    </tr>\n",
       "    <tr>\n",
       "      <th>5</th>\n",
       "      <td>LongIsland</td>\n",
       "      <td>0.000000</td>\n",
       "      <td>4121</td>\n",
       "    </tr>\n",
       "  </tbody>\n",
       "</table>\n",
       "</div>"
      ],
      "text/plain": [
       "  neighbourhood_group   mean_price  n_listings\n",
       "0               Bronx    92.751479        1183\n",
       "1            Brooklyn   120.225258       18632\n",
       "2           Manhattan   191.880466       20580\n",
       "3              Queens    99.754965        5791\n",
       "4       Staten Island   110.947214         341\n",
       "5          LongIsland     0.000000        4121"
      ]
     },
     "execution_count": 33,
     "metadata": {},
     "output_type": "execute_result"
    }
   ],
   "source": [
    "# 4. Load your newly saved file, see if it looks the same.  If not, try saving with argument `index=False`\n",
    "pd.read_csv(\"../data/joined.csv\")"
   ]
  },
  {
   "cell_type": "markdown",
   "metadata": {},
   "source": [
    "# Extra Credit\n",
    "Every question below this cell is extra credit and optional."
   ]
  },
  {
   "cell_type": "markdown",
   "metadata": {},
   "source": [
    "### 1. (Easy) Explore this new PandasAI Package and tell me what its all about because I've never used it. \n",
    "* https://www.youtube.com/watch?v=5w6eZaoDVVk&ab_channel=CodingIsFun  \n",
    "* See if you can use it on the listings.csv to find out some cool info. or answer some of the questions above. "
   ]
  },
  {
   "cell_type": "code",
   "execution_count": 34,
   "metadata": {
    "tags": []
   },
   "outputs": [],
   "source": [
    "from pandasai import SmartDataframe\n",
    "from pandasai.llm import OpenAI\n",
    "import pandas as pd\n",
    "\n",
    "df = pd.read_csv(\"../data/listings.csv\")\n",
    "\n",
    "# Wrap it with PandasAI\n",
    "#llm = OpenAI(api_token=\"\")  # you need an API key\n",
    "#sdf = SmartDataframe(df, config={\"llm\": llm})"
   ]
  },
  {
   "cell_type": "markdown",
   "metadata": {},
   "source": [
    "Not working for me :("
   ]
  },
  {
   "cell_type": "markdown",
   "metadata": {},
   "source": [
    "### 2. (Very Easy) Find other cool Panda packages / add ons and show us what they can do well. And how you installed them. "
   ]
  },
  {
   "cell_type": "markdown",
   "metadata": {},
   "source": [
    "### 3. (Medium) Use the grammys.csv data for the next section of questions.\n",
    "\n",
    "1. Who was won Album of the Year in 2016?\n",
    "\n",
    "\n",
    "2. Who won Best Rap Album in 2009?\n",
    "\n",
    "\n",
    "3. How many awards was Kendrick Lamar nomiated for, and how many did he win...?"
   ]
  },
  {
   "cell_type": "code",
   "execution_count": 35,
   "metadata": {
    "tags": []
   },
   "outputs": [],
   "source": [
    "gram = pd.read_csv(\"../data/grammys.csv\")"
   ]
  },
  {
   "cell_type": "code",
   "execution_count": 39,
   "metadata": {
    "tags": []
   },
   "outputs": [
    {
     "data": {
      "text/html": [
       "<div>\n",
       "<style scoped>\n",
       "    .dataframe tbody tr th:only-of-type {\n",
       "        vertical-align: middle;\n",
       "    }\n",
       "\n",
       "    .dataframe tbody tr th {\n",
       "        vertical-align: top;\n",
       "    }\n",
       "\n",
       "    .dataframe thead th {\n",
       "        text-align: right;\n",
       "    }\n",
       "</style>\n",
       "<table border=\"1\" class=\"dataframe\">\n",
       "  <thead>\n",
       "    <tr style=\"text-align: right;\">\n",
       "      <th></th>\n",
       "      <th>year</th>\n",
       "      <th>category</th>\n",
       "      <th>nominee</th>\n",
       "      <th>workers</th>\n",
       "      <th>winner</th>\n",
       "    </tr>\n",
       "  </thead>\n",
       "  <tbody>\n",
       "    <tr>\n",
       "      <th>0</th>\n",
       "      <td>1959</td>\n",
       "      <td>Album of the Year</td>\n",
       "      <td>The Music from Peter Gunn.</td>\n",
       "      <td>Henry Mancini</td>\n",
       "      <td>True</td>\n",
       "    </tr>\n",
       "    <tr>\n",
       "      <th>1</th>\n",
       "      <td>1959</td>\n",
       "      <td>Best Album Cover</td>\n",
       "      <td>Only the Lonely</td>\n",
       "      <td>Frank Sinatra (art director)</td>\n",
       "      <td>True</td>\n",
       "    </tr>\n",
       "    <tr>\n",
       "      <th>2</th>\n",
       "      <td>1959</td>\n",
       "      <td>Best Arrangement</td>\n",
       "      <td>The Music From Peter Gunn</td>\n",
       "      <td>Henry Mancini (artist/arranger)</td>\n",
       "      <td>True</td>\n",
       "    </tr>\n",
       "  </tbody>\n",
       "</table>\n",
       "</div>"
      ],
      "text/plain": [
       "   year           category                     nominee  \\\n",
       "0  1959  Album of the Year  The Music from Peter Gunn.   \n",
       "1  1959   Best Album Cover             Only the Lonely   \n",
       "2  1959   Best Arrangement   The Music From Peter Gunn   \n",
       "\n",
       "                           workers  winner  \n",
       "0                    Henry Mancini    True  \n",
       "1     Frank Sinatra (art director)    True  \n",
       "2  Henry Mancini (artist/arranger)    True  "
      ]
     },
     "execution_count": 39,
     "metadata": {},
     "output_type": "execute_result"
    }
   ],
   "source": [
    "gram.head(3)"
   ]
  },
  {
   "cell_type": "markdown",
   "metadata": {
    "tags": []
   },
   "source": [
    "**Who was won Album of the Year in 2016?**"
   ]
  },
  {
   "cell_type": "code",
   "execution_count": 46,
   "metadata": {
    "tags": []
   },
   "outputs": [
    {
     "data": {
      "text/html": [
       "<div>\n",
       "<style scoped>\n",
       "    .dataframe tbody tr th:only-of-type {\n",
       "        vertical-align: middle;\n",
       "    }\n",
       "\n",
       "    .dataframe tbody tr th {\n",
       "        vertical-align: top;\n",
       "    }\n",
       "\n",
       "    .dataframe thead th {\n",
       "        text-align: right;\n",
       "    }\n",
       "</style>\n",
       "<table border=\"1\" class=\"dataframe\">\n",
       "  <thead>\n",
       "    <tr style=\"text-align: right;\">\n",
       "      <th></th>\n",
       "      <th>year</th>\n",
       "      <th>category</th>\n",
       "      <th>nominee</th>\n",
       "      <th>workers</th>\n",
       "      <th>winner</th>\n",
       "    </tr>\n",
       "  </thead>\n",
       "  <tbody>\n",
       "    <tr>\n",
       "      <th>5505</th>\n",
       "      <td>2016</td>\n",
       "      <td>Album of the Year</td>\n",
       "      <td>1989.</td>\n",
       "      <td>Taylor Swift (artist/producer), Jack Antonoff ...</td>\n",
       "      <td>True</td>\n",
       "    </tr>\n",
       "  </tbody>\n",
       "</table>\n",
       "</div>"
      ],
      "text/plain": [
       "      year           category nominee  \\\n",
       "5505  2016  Album of the Year   1989.   \n",
       "\n",
       "                                                workers  winner  \n",
       "5505  Taylor Swift (artist/producer), Jack Antonoff ...    True  "
      ]
     },
     "execution_count": 46,
     "metadata": {},
     "output_type": "execute_result"
    }
   ],
   "source": [
    "gram[(gram['year'] == 2016) & \n",
    "     (gram['winner'] == True) & \n",
    "     (gram['category'] == 'Album of the Year')]\n"
   ]
  },
  {
   "cell_type": "markdown",
   "metadata": {},
   "source": [
    "**Who won Best Rap Album in 2009?**"
   ]
  },
  {
   "cell_type": "code",
   "execution_count": 56,
   "metadata": {
    "tags": []
   },
   "outputs": [
    {
     "data": {
      "text/html": [
       "<div>\n",
       "<style scoped>\n",
       "    .dataframe tbody tr th:only-of-type {\n",
       "        vertical-align: middle;\n",
       "    }\n",
       "\n",
       "    .dataframe tbody tr th {\n",
       "        vertical-align: top;\n",
       "    }\n",
       "\n",
       "    .dataframe thead th {\n",
       "        text-align: right;\n",
       "    }\n",
       "</style>\n",
       "<table border=\"1\" class=\"dataframe\">\n",
       "  <thead>\n",
       "    <tr style=\"text-align: right;\">\n",
       "      <th></th>\n",
       "      <th>year</th>\n",
       "      <th>category</th>\n",
       "      <th>nominee</th>\n",
       "      <th>workers</th>\n",
       "      <th>winner</th>\n",
       "    </tr>\n",
       "  </thead>\n",
       "  <tbody>\n",
       "    <tr>\n",
       "      <th>4396</th>\n",
       "      <td>2009</td>\n",
       "      <td>Best Rap Album</td>\n",
       "      <td>Tha Carter III</td>\n",
       "      <td>Lil' Wayne</td>\n",
       "      <td>True</td>\n",
       "    </tr>\n",
       "  </tbody>\n",
       "</table>\n",
       "</div>"
      ],
      "text/plain": [
       "      year        category         nominee     workers  winner\n",
       "4396  2009  Best Rap Album  Tha Carter III  Lil' Wayne    True"
      ]
     },
     "execution_count": 56,
     "metadata": {},
     "output_type": "execute_result"
    }
   ],
   "source": [
    "gram[(gram['year'] == 2009) & \n",
    "     (gram['winner'] == True) & \n",
    "     (gram['category'] == 'Best Rap Album')]\n"
   ]
  },
  {
   "cell_type": "markdown",
   "metadata": {},
   "source": [
    "**How many awards was Kendrick Lamar nomiated for, and how many did he win...?**"
   ]
  },
  {
   "cell_type": "code",
   "execution_count": 70,
   "metadata": {
    "tags": []
   },
   "outputs": [
    {
     "name": "stdout",
     "output_type": "stream",
     "text": [
      "2  - Did not win\n",
      "4  - Won\n",
      "6 - Total nominations\n"
     ]
    }
   ],
   "source": [
    "no_win = gram[(gram['workers'] == 'Kendrick Lamar') & (gram['winner'] == False)].shape[0]\n",
    "win = gram[(gram['workers'] == 'Kendrick Lamar') & (gram['winner'] == True)].shape[0]\n",
    "\n",
    "print(no_win, \" - Did not win\")\n",
    "print(win, \" - Won\")\n",
    "print(no_win+win, \"- Total nominations\")"
   ]
  },
  {
   "cell_type": "markdown",
   "metadata": {},
   "source": [
    "### (Hard) Load the Game Logs for 2022 and add the column names using a dictionary.  \n",
    "* [Link to the data page](https://www.retrosheet.org/gamelogs/)\n",
    "* [Link to the column names](https://procatinator.com/)\n",
    "* haha, gotta find them yourself!"
   ]
  },
  {
   "cell_type": "code",
   "execution_count": 133,
   "metadata": {
    "tags": []
   },
   "outputs": [],
   "source": [
    "df = pd.read_csv(\"../data/gl2022.txt\", sep=\",\", header = None)"
   ]
  },
  {
   "cell_type": "code",
   "execution_count": 134,
   "metadata": {
    "tags": []
   },
   "outputs": [],
   "source": [
    "# assigning columns\n",
    "df_columns = pd.read_csv(\"../data/columns.txt\")"
   ]
  },
  {
   "cell_type": "code",
   "execution_count": 135,
   "metadata": {
    "tags": []
   },
   "outputs": [],
   "source": [
    "df.columns = df_columns.columns"
   ]
  },
  {
   "cell_type": "code",
   "execution_count": 136,
   "metadata": {
    "tags": []
   },
   "outputs": [
    {
     "data": {
      "text/html": [
       "<div>\n",
       "<style scoped>\n",
       "    .dataframe tbody tr th:only-of-type {\n",
       "        vertical-align: middle;\n",
       "    }\n",
       "\n",
       "    .dataframe tbody tr th {\n",
       "        vertical-align: top;\n",
       "    }\n",
       "\n",
       "    .dataframe thead th {\n",
       "        text-align: right;\n",
       "    }\n",
       "</style>\n",
       "<table border=\"1\" class=\"dataframe\">\n",
       "  <thead>\n",
       "    <tr style=\"text-align: right;\">\n",
       "      <th></th>\n",
       "      <th>Date</th>\n",
       "      <th>DoubleHeader</th>\n",
       "      <th>DayOfWeek</th>\n",
       "      <th>VisitingTeam</th>\n",
       "      <th>VisitingTeamLeague</th>\n",
       "      <th>VisitingTeamGameNumber</th>\n",
       "      <th>HomeTeam</th>\n",
       "      <th>HomeTeamLeague</th>\n",
       "      <th>HomeTeamGameNumber</th>\n",
       "      <th>VisitorRunsScored</th>\n",
       "      <th>...</th>\n",
       "      <th>HomeBatting7Name</th>\n",
       "      <th>HomeBatting7Position</th>\n",
       "      <th>HomeBatting8PlayerID</th>\n",
       "      <th>HomeBatting8Name</th>\n",
       "      <th>HomeBatting8Position</th>\n",
       "      <th>HomeBatting9PlayerID</th>\n",
       "      <th>HomeBatting9Name</th>\n",
       "      <th>HomeBatting9Position</th>\n",
       "      <th>AdditionalInfo</th>\n",
       "      <th>AcquisitionInfo</th>\n",
       "    </tr>\n",
       "  </thead>\n",
       "  <tbody>\n",
       "    <tr>\n",
       "      <th>0</th>\n",
       "      <td>20220407</td>\n",
       "      <td>0</td>\n",
       "      <td>Thu</td>\n",
       "      <td>SDN</td>\n",
       "      <td>NL</td>\n",
       "      <td>1</td>\n",
       "      <td>ARI</td>\n",
       "      <td>NL</td>\n",
       "      <td>1</td>\n",
       "      <td>2</td>\n",
       "      <td>...</td>\n",
       "      <td>Seth Beer</td>\n",
       "      <td>10</td>\n",
       "      <td>ellid002</td>\n",
       "      <td>Drew Ellis</td>\n",
       "      <td>5</td>\n",
       "      <td>perdg001</td>\n",
       "      <td>Gerardo Perdomo</td>\n",
       "      <td>6</td>\n",
       "      <td>NaN</td>\n",
       "      <td>Y</td>\n",
       "    </tr>\n",
       "    <tr>\n",
       "      <th>1</th>\n",
       "      <td>20220407</td>\n",
       "      <td>0</td>\n",
       "      <td>Thu</td>\n",
       "      <td>CIN</td>\n",
       "      <td>NL</td>\n",
       "      <td>1</td>\n",
       "      <td>ATL</td>\n",
       "      <td>NL</td>\n",
       "      <td>1</td>\n",
       "      <td>6</td>\n",
       "      <td>...</td>\n",
       "      <td>Travis d'Arnaud</td>\n",
       "      <td>2</td>\n",
       "      <td>dicka001</td>\n",
       "      <td>Alex Dickerson</td>\n",
       "      <td>10</td>\n",
       "      <td>swand001</td>\n",
       "      <td>Dansby Swanson</td>\n",
       "      <td>6</td>\n",
       "      <td>NaN</td>\n",
       "      <td>Y</td>\n",
       "    </tr>\n",
       "    <tr>\n",
       "      <th>2</th>\n",
       "      <td>20220407</td>\n",
       "      <td>0</td>\n",
       "      <td>Thu</td>\n",
       "      <td>MIL</td>\n",
       "      <td>NL</td>\n",
       "      <td>1</td>\n",
       "      <td>CHN</td>\n",
       "      <td>NL</td>\n",
       "      <td>1</td>\n",
       "      <td>4</td>\n",
       "      <td>...</td>\n",
       "      <td>Jason Heyward</td>\n",
       "      <td>8</td>\n",
       "      <td>wisdp001</td>\n",
       "      <td>Patrick Wisdom</td>\n",
       "      <td>5</td>\n",
       "      <td>hoern001</td>\n",
       "      <td>Nico Hoerner</td>\n",
       "      <td>6</td>\n",
       "      <td>NaN</td>\n",
       "      <td>Y</td>\n",
       "    </tr>\n",
       "    <tr>\n",
       "      <th>3</th>\n",
       "      <td>20220407</td>\n",
       "      <td>0</td>\n",
       "      <td>Thu</td>\n",
       "      <td>PIT</td>\n",
       "      <td>NL</td>\n",
       "      <td>1</td>\n",
       "      <td>SLN</td>\n",
       "      <td>NL</td>\n",
       "      <td>1</td>\n",
       "      <td>0</td>\n",
       "      <td>...</td>\n",
       "      <td>Yadier Molina</td>\n",
       "      <td>2</td>\n",
       "      <td>badeh001</td>\n",
       "      <td>Harrison Bader</td>\n",
       "      <td>8</td>\n",
       "      <td>edmat001</td>\n",
       "      <td>Tommy Edman</td>\n",
       "      <td>4</td>\n",
       "      <td>NaN</td>\n",
       "      <td>Y</td>\n",
       "    </tr>\n",
       "    <tr>\n",
       "      <th>4</th>\n",
       "      <td>20220407</td>\n",
       "      <td>0</td>\n",
       "      <td>Thu</td>\n",
       "      <td>NYN</td>\n",
       "      <td>NL</td>\n",
       "      <td>1</td>\n",
       "      <td>WAS</td>\n",
       "      <td>NL</td>\n",
       "      <td>1</td>\n",
       "      <td>5</td>\n",
       "      <td>...</td>\n",
       "      <td>Maikel Franco</td>\n",
       "      <td>5</td>\n",
       "      <td>escoa003</td>\n",
       "      <td>Alcides Escobar</td>\n",
       "      <td>6</td>\n",
       "      <td>roblv001</td>\n",
       "      <td>Victor Robles</td>\n",
       "      <td>8</td>\n",
       "      <td>NaN</td>\n",
       "      <td>Y</td>\n",
       "    </tr>\n",
       "    <tr>\n",
       "      <th>...</th>\n",
       "      <td>...</td>\n",
       "      <td>...</td>\n",
       "      <td>...</td>\n",
       "      <td>...</td>\n",
       "      <td>...</td>\n",
       "      <td>...</td>\n",
       "      <td>...</td>\n",
       "      <td>...</td>\n",
       "      <td>...</td>\n",
       "      <td>...</td>\n",
       "      <td>...</td>\n",
       "      <td>...</td>\n",
       "      <td>...</td>\n",
       "      <td>...</td>\n",
       "      <td>...</td>\n",
       "      <td>...</td>\n",
       "      <td>...</td>\n",
       "      <td>...</td>\n",
       "      <td>...</td>\n",
       "      <td>...</td>\n",
       "      <td>...</td>\n",
       "    </tr>\n",
       "    <tr>\n",
       "      <th>2425</th>\n",
       "      <td>20221005</td>\n",
       "      <td>0</td>\n",
       "      <td>Wed</td>\n",
       "      <td>KCA</td>\n",
       "      <td>AL</td>\n",
       "      <td>162</td>\n",
       "      <td>CLE</td>\n",
       "      <td>AL</td>\n",
       "      <td>162</td>\n",
       "      <td>2</td>\n",
       "      <td>...</td>\n",
       "      <td>Will Brennan</td>\n",
       "      <td>7</td>\n",
       "      <td>maill001</td>\n",
       "      <td>Luke Maile</td>\n",
       "      <td>2</td>\n",
       "      <td>stram002</td>\n",
       "      <td>Myles Straw</td>\n",
       "      <td>8</td>\n",
       "      <td>NaN</td>\n",
       "      <td>Y</td>\n",
       "    </tr>\n",
       "    <tr>\n",
       "      <th>2426</th>\n",
       "      <td>20221005</td>\n",
       "      <td>0</td>\n",
       "      <td>Wed</td>\n",
       "      <td>PHI</td>\n",
       "      <td>NL</td>\n",
       "      <td>162</td>\n",
       "      <td>HOU</td>\n",
       "      <td>AL</td>\n",
       "      <td>162</td>\n",
       "      <td>2</td>\n",
       "      <td>...</td>\n",
       "      <td>Jake Meyers</td>\n",
       "      <td>8</td>\n",
       "      <td>dubom001</td>\n",
       "      <td>Mauricio Dubon</td>\n",
       "      <td>6</td>\n",
       "      <td>maldm001</td>\n",
       "      <td>Martin Maldonado</td>\n",
       "      <td>2</td>\n",
       "      <td>NaN</td>\n",
       "      <td>Y</td>\n",
       "    </tr>\n",
       "    <tr>\n",
       "      <th>2427</th>\n",
       "      <td>20221005</td>\n",
       "      <td>0</td>\n",
       "      <td>Wed</td>\n",
       "      <td>ANA</td>\n",
       "      <td>AL</td>\n",
       "      <td>162</td>\n",
       "      <td>OAK</td>\n",
       "      <td>AL</td>\n",
       "      <td>162</td>\n",
       "      <td>2</td>\n",
       "      <td>...</td>\n",
       "      <td>Conner Capel</td>\n",
       "      <td>9</td>\n",
       "      <td>garcd004</td>\n",
       "      <td>Dermis Garcia</td>\n",
       "      <td>3</td>\n",
       "      <td>allen002</td>\n",
       "      <td>Nick Allen</td>\n",
       "      <td>6</td>\n",
       "      <td>NaN</td>\n",
       "      <td>Y</td>\n",
       "    </tr>\n",
       "    <tr>\n",
       "      <th>2428</th>\n",
       "      <td>20221005</td>\n",
       "      <td>0</td>\n",
       "      <td>Wed</td>\n",
       "      <td>DET</td>\n",
       "      <td>AL</td>\n",
       "      <td>162</td>\n",
       "      <td>SEA</td>\n",
       "      <td>AL</td>\n",
       "      <td>162</td>\n",
       "      <td>4</td>\n",
       "      <td>...</td>\n",
       "      <td>Abraham Toro</td>\n",
       "      <td>5</td>\n",
       "      <td>casac001</td>\n",
       "      <td>Curt Casali</td>\n",
       "      <td>2</td>\n",
       "      <td>crawj002</td>\n",
       "      <td>J.P. Crawford</td>\n",
       "      <td>6</td>\n",
       "      <td>NaN</td>\n",
       "      <td>Y</td>\n",
       "    </tr>\n",
       "    <tr>\n",
       "      <th>2429</th>\n",
       "      <td>20221005</td>\n",
       "      <td>0</td>\n",
       "      <td>Wed</td>\n",
       "      <td>NYA</td>\n",
       "      <td>AL</td>\n",
       "      <td>162</td>\n",
       "      <td>TEX</td>\n",
       "      <td>AL</td>\n",
       "      <td>162</td>\n",
       "      <td>2</td>\n",
       "      <td>...</td>\n",
       "      <td>Charlie Culberson</td>\n",
       "      <td>7</td>\n",
       "      <td>tavel001</td>\n",
       "      <td>Leody Taveras</td>\n",
       "      <td>8</td>\n",
       "      <td>thomb003</td>\n",
       "      <td>Bubba Thompson</td>\n",
       "      <td>9</td>\n",
       "      <td>NaN</td>\n",
       "      <td>Y</td>\n",
       "    </tr>\n",
       "  </tbody>\n",
       "</table>\n",
       "<p>2430 rows × 161 columns</p>\n",
       "</div>"
      ],
      "text/plain": [
       "          Date  DoubleHeader DayOfWeek VisitingTeam VisitingTeamLeague  \\\n",
       "0     20220407             0       Thu          SDN                 NL   \n",
       "1     20220407             0       Thu          CIN                 NL   \n",
       "2     20220407             0       Thu          MIL                 NL   \n",
       "3     20220407             0       Thu          PIT                 NL   \n",
       "4     20220407             0       Thu          NYN                 NL   \n",
       "...        ...           ...       ...          ...                ...   \n",
       "2425  20221005             0       Wed          KCA                 AL   \n",
       "2426  20221005             0       Wed          PHI                 NL   \n",
       "2427  20221005             0       Wed          ANA                 AL   \n",
       "2428  20221005             0       Wed          DET                 AL   \n",
       "2429  20221005             0       Wed          NYA                 AL   \n",
       "\n",
       "      VisitingTeamGameNumber HomeTeam HomeTeamLeague  HomeTeamGameNumber  \\\n",
       "0                          1      ARI             NL                   1   \n",
       "1                          1      ATL             NL                   1   \n",
       "2                          1      CHN             NL                   1   \n",
       "3                          1      SLN             NL                   1   \n",
       "4                          1      WAS             NL                   1   \n",
       "...                      ...      ...            ...                 ...   \n",
       "2425                     162      CLE             AL                 162   \n",
       "2426                     162      HOU             AL                 162   \n",
       "2427                     162      OAK             AL                 162   \n",
       "2428                     162      SEA             AL                 162   \n",
       "2429                     162      TEX             AL                 162   \n",
       "\n",
       "      VisitorRunsScored  ...   HomeBatting7Name  HomeBatting7Position  \\\n",
       "0                     2  ...          Seth Beer                    10   \n",
       "1                     6  ...    Travis d'Arnaud                     2   \n",
       "2                     4  ...      Jason Heyward                     8   \n",
       "3                     0  ...      Yadier Molina                     2   \n",
       "4                     5  ...      Maikel Franco                     5   \n",
       "...                 ...  ...                ...                   ...   \n",
       "2425                  2  ...       Will Brennan                     7   \n",
       "2426                  2  ...        Jake Meyers                     8   \n",
       "2427                  2  ...       Conner Capel                     9   \n",
       "2428                  4  ...       Abraham Toro                     5   \n",
       "2429                  2  ...  Charlie Culberson                     7   \n",
       "\n",
       "     HomeBatting8PlayerID HomeBatting8Name  HomeBatting8Position  \\\n",
       "0                ellid002       Drew Ellis                     5   \n",
       "1                dicka001   Alex Dickerson                    10   \n",
       "2                wisdp001   Patrick Wisdom                     5   \n",
       "3                badeh001   Harrison Bader                     8   \n",
       "4                escoa003  Alcides Escobar                     6   \n",
       "...                   ...              ...                   ...   \n",
       "2425             maill001       Luke Maile                     2   \n",
       "2426             dubom001   Mauricio Dubon                     6   \n",
       "2427             garcd004    Dermis Garcia                     3   \n",
       "2428             casac001      Curt Casali                     2   \n",
       "2429             tavel001    Leody Taveras                     8   \n",
       "\n",
       "      HomeBatting9PlayerID  HomeBatting9Name  HomeBatting9Position  \\\n",
       "0                 perdg001   Gerardo Perdomo                     6   \n",
       "1                 swand001    Dansby Swanson                     6   \n",
       "2                 hoern001      Nico Hoerner                     6   \n",
       "3                 edmat001       Tommy Edman                     4   \n",
       "4                 roblv001     Victor Robles                     8   \n",
       "...                    ...               ...                   ...   \n",
       "2425              stram002       Myles Straw                     8   \n",
       "2426              maldm001  Martin Maldonado                     2   \n",
       "2427              allen002        Nick Allen                     6   \n",
       "2428              crawj002     J.P. Crawford                     6   \n",
       "2429              thomb003    Bubba Thompson                     9   \n",
       "\n",
       "      AdditionalInfo AcquisitionInfo  \n",
       "0                NaN               Y  \n",
       "1                NaN               Y  \n",
       "2                NaN               Y  \n",
       "3                NaN               Y  \n",
       "4                NaN               Y  \n",
       "...              ...             ...  \n",
       "2425             NaN               Y  \n",
       "2426             NaN               Y  \n",
       "2427             NaN               Y  \n",
       "2428             NaN               Y  \n",
       "2429             NaN               Y  \n",
       "\n",
       "[2430 rows x 161 columns]"
      ]
     },
     "execution_count": 136,
     "metadata": {},
     "output_type": "execute_result"
    }
   ],
   "source": [
    "df"
   ]
  },
  {
   "cell_type": "markdown",
   "metadata": {},
   "source": [
    "### (Extra Hard) Download the files for the past 5 years into a new folder and add them all into one data frame using pandas, then save that new file.\n",
    "* Try to not hard code in the file names. We want to do this programmatically because what if we want to add new/more file names in the future."
   ]
  },
  {
   "cell_type": "code",
   "execution_count": 140,
   "metadata": {
    "tags": []
   },
   "outputs": [],
   "source": [
    "# get all .txt files in the folder\n",
    "files = glob.glob(os.path.join(\"../data/\", \"*.txt\"))"
   ]
  },
  {
   "cell_type": "code",
   "execution_count": 141,
   "metadata": {
    "tags": []
   },
   "outputs": [
    {
     "data": {
      "text/plain": [
       "['../data\\\\columns.txt',\n",
       " '../data\\\\gl2020.txt',\n",
       " '../data\\\\gl2021.txt',\n",
       " '../data\\\\gl2022.txt',\n",
       " '../data\\\\gl2023.txt',\n",
       " '../data\\\\gl2024.txt']"
      ]
     },
     "execution_count": 141,
     "metadata": {},
     "output_type": "execute_result"
    }
   ],
   "source": [
    "files"
   ]
  },
  {
   "cell_type": "code",
   "execution_count": 150,
   "metadata": {
    "tags": []
   },
   "outputs": [],
   "source": [
    "dfs = [] # list of pandas dataFrames\n",
    "for file in files: # looping through all txt file names\n",
    "    if \"gl\" in file: # checking for keyword within file name to make sure it is game records\n",
    "        df = pd.read_csv(file, names = df_columns.columns)\n",
    "        dfs.append(df)\n",
    "        "
   ]
  },
  {
   "cell_type": "code",
   "execution_count": 151,
   "metadata": {
    "tags": []
   },
   "outputs": [],
   "source": [
    "# concatenate into one DataFrame\n",
    "all_data = pd.concat(dfs, ignore_index=True)"
   ]
  },
  {
   "cell_type": "code",
   "execution_count": 152,
   "metadata": {
    "tags": []
   },
   "outputs": [
    {
     "data": {
      "text/html": [
       "<div>\n",
       "<style scoped>\n",
       "    .dataframe tbody tr th:only-of-type {\n",
       "        vertical-align: middle;\n",
       "    }\n",
       "\n",
       "    .dataframe tbody tr th {\n",
       "        vertical-align: top;\n",
       "    }\n",
       "\n",
       "    .dataframe thead th {\n",
       "        text-align: right;\n",
       "    }\n",
       "</style>\n",
       "<table border=\"1\" class=\"dataframe\">\n",
       "  <thead>\n",
       "    <tr style=\"text-align: right;\">\n",
       "      <th></th>\n",
       "      <th>Date</th>\n",
       "      <th>DoubleHeader</th>\n",
       "      <th>DayOfWeek</th>\n",
       "      <th>VisitingTeam</th>\n",
       "      <th>VisitingTeamLeague</th>\n",
       "      <th>VisitingTeamGameNumber</th>\n",
       "      <th>HomeTeam</th>\n",
       "      <th>HomeTeamLeague</th>\n",
       "      <th>HomeTeamGameNumber</th>\n",
       "      <th>VisitorRunsScored</th>\n",
       "      <th>...</th>\n",
       "      <th>HomeBatting7Name</th>\n",
       "      <th>HomeBatting7Position</th>\n",
       "      <th>HomeBatting8PlayerID</th>\n",
       "      <th>HomeBatting8Name</th>\n",
       "      <th>HomeBatting8Position</th>\n",
       "      <th>HomeBatting9PlayerID</th>\n",
       "      <th>HomeBatting9Name</th>\n",
       "      <th>HomeBatting9Position</th>\n",
       "      <th>AdditionalInfo</th>\n",
       "      <th>AcquisitionInfo</th>\n",
       "    </tr>\n",
       "  </thead>\n",
       "  <tbody>\n",
       "    <tr>\n",
       "      <th>0</th>\n",
       "      <td>20200723</td>\n",
       "      <td>0</td>\n",
       "      <td>Thu</td>\n",
       "      <td>SFN</td>\n",
       "      <td>NL</td>\n",
       "      <td>1</td>\n",
       "      <td>LAN</td>\n",
       "      <td>NL</td>\n",
       "      <td>1</td>\n",
       "      <td>1</td>\n",
       "      <td>...</td>\n",
       "      <td>Joc Pederson</td>\n",
       "      <td>7</td>\n",
       "      <td>polla001</td>\n",
       "      <td>A.J. Pollock</td>\n",
       "      <td>10</td>\n",
       "      <td>barna001</td>\n",
       "      <td>Austin Barnes</td>\n",
       "      <td>2</td>\n",
       "      <td>NaN</td>\n",
       "      <td>Y</td>\n",
       "    </tr>\n",
       "    <tr>\n",
       "      <th>1</th>\n",
       "      <td>20200723</td>\n",
       "      <td>0</td>\n",
       "      <td>Thu</td>\n",
       "      <td>NYA</td>\n",
       "      <td>AL</td>\n",
       "      <td>1</td>\n",
       "      <td>WAS</td>\n",
       "      <td>NL</td>\n",
       "      <td>1</td>\n",
       "      <td>4</td>\n",
       "      <td>...</td>\n",
       "      <td>Asdrubal Cabrera</td>\n",
       "      <td>5</td>\n",
       "      <td>steva001</td>\n",
       "      <td>Andrew Stevenson</td>\n",
       "      <td>7</td>\n",
       "      <td>roblv001</td>\n",
       "      <td>Victor Robles</td>\n",
       "      <td>8</td>\n",
       "      <td>NaN</td>\n",
       "      <td>Y</td>\n",
       "    </tr>\n",
       "    <tr>\n",
       "      <th>2</th>\n",
       "      <td>20200724</td>\n",
       "      <td>0</td>\n",
       "      <td>Fri</td>\n",
       "      <td>MIL</td>\n",
       "      <td>NL</td>\n",
       "      <td>1</td>\n",
       "      <td>CHN</td>\n",
       "      <td>NL</td>\n",
       "      <td>1</td>\n",
       "      <td>0</td>\n",
       "      <td>...</td>\n",
       "      <td>Victor Caratini</td>\n",
       "      <td>10</td>\n",
       "      <td>hoern001</td>\n",
       "      <td>Nico Hoerner</td>\n",
       "      <td>4</td>\n",
       "      <td>happi001</td>\n",
       "      <td>Ian Happ</td>\n",
       "      <td>8</td>\n",
       "      <td>NaN</td>\n",
       "      <td>Y</td>\n",
       "    </tr>\n",
       "    <tr>\n",
       "      <th>3</th>\n",
       "      <td>20200724</td>\n",
       "      <td>0</td>\n",
       "      <td>Fri</td>\n",
       "      <td>DET</td>\n",
       "      <td>AL</td>\n",
       "      <td>1</td>\n",
       "      <td>CIN</td>\n",
       "      <td>NL</td>\n",
       "      <td>1</td>\n",
       "      <td>1</td>\n",
       "      <td>...</td>\n",
       "      <td>Nick Senzel</td>\n",
       "      <td>8</td>\n",
       "      <td>galvf001</td>\n",
       "      <td>Freddy Galvis</td>\n",
       "      <td>6</td>\n",
       "      <td>casac001</td>\n",
       "      <td>Curt Casali</td>\n",
       "      <td>2</td>\n",
       "      <td>NaN</td>\n",
       "      <td>Y</td>\n",
       "    </tr>\n",
       "    <tr>\n",
       "      <th>4</th>\n",
       "      <td>20200724</td>\n",
       "      <td>0</td>\n",
       "      <td>Fri</td>\n",
       "      <td>SFN</td>\n",
       "      <td>NL</td>\n",
       "      <td>2</td>\n",
       "      <td>LAN</td>\n",
       "      <td>NL</td>\n",
       "      <td>2</td>\n",
       "      <td>1</td>\n",
       "      <td>...</td>\n",
       "      <td>Chris Taylor</td>\n",
       "      <td>7</td>\n",
       "      <td>pedej001</td>\n",
       "      <td>Joc Pederson</td>\n",
       "      <td>10</td>\n",
       "      <td>smitw003</td>\n",
       "      <td>Will Smith</td>\n",
       "      <td>2</td>\n",
       "      <td>NaN</td>\n",
       "      <td>Y</td>\n",
       "    </tr>\n",
       "    <tr>\n",
       "      <th>...</th>\n",
       "      <td>...</td>\n",
       "      <td>...</td>\n",
       "      <td>...</td>\n",
       "      <td>...</td>\n",
       "      <td>...</td>\n",
       "      <td>...</td>\n",
       "      <td>...</td>\n",
       "      <td>...</td>\n",
       "      <td>...</td>\n",
       "      <td>...</td>\n",
       "      <td>...</td>\n",
       "      <td>...</td>\n",
       "      <td>...</td>\n",
       "      <td>...</td>\n",
       "      <td>...</td>\n",
       "      <td>...</td>\n",
       "      <td>...</td>\n",
       "      <td>...</td>\n",
       "      <td>...</td>\n",
       "      <td>...</td>\n",
       "      <td>...</td>\n",
       "    </tr>\n",
       "    <tr>\n",
       "      <th>10611</th>\n",
       "      <td>20240929</td>\n",
       "      <td>0</td>\n",
       "      <td>Sun</td>\n",
       "      <td>PIT</td>\n",
       "      <td>NL</td>\n",
       "      <td>162</td>\n",
       "      <td>NYA</td>\n",
       "      <td>AL</td>\n",
       "      <td>162</td>\n",
       "      <td>4</td>\n",
       "      <td>...</td>\n",
       "      <td>Anthony Volpe</td>\n",
       "      <td>6</td>\n",
       "      <td>riceb001</td>\n",
       "      <td>Ben Rice</td>\n",
       "      <td>3</td>\n",
       "      <td>trevj001</td>\n",
       "      <td>Jose Trevino</td>\n",
       "      <td>2</td>\n",
       "      <td>NaN</td>\n",
       "      <td>Y</td>\n",
       "    </tr>\n",
       "    <tr>\n",
       "      <th>10612</th>\n",
       "      <td>20240929</td>\n",
       "      <td>0</td>\n",
       "      <td>Sun</td>\n",
       "      <td>OAK</td>\n",
       "      <td>AL</td>\n",
       "      <td>162</td>\n",
       "      <td>SEA</td>\n",
       "      <td>AL</td>\n",
       "      <td>162</td>\n",
       "      <td>4</td>\n",
       "      <td>...</td>\n",
       "      <td>Jorge Polanco</td>\n",
       "      <td>4</td>\n",
       "      <td>crawj002</td>\n",
       "      <td>J.P. Crawford</td>\n",
       "      <td>6</td>\n",
       "      <td>rojaj001</td>\n",
       "      <td>Josh Rojas</td>\n",
       "      <td>5</td>\n",
       "      <td>NaN</td>\n",
       "      <td>Y</td>\n",
       "    </tr>\n",
       "    <tr>\n",
       "      <th>10613</th>\n",
       "      <td>20240929</td>\n",
       "      <td>0</td>\n",
       "      <td>Sun</td>\n",
       "      <td>MIA</td>\n",
       "      <td>NL</td>\n",
       "      <td>162</td>\n",
       "      <td>TOR</td>\n",
       "      <td>AL</td>\n",
       "      <td>162</td>\n",
       "      <td>3</td>\n",
       "      <td>...</td>\n",
       "      <td>Steward Berroa</td>\n",
       "      <td>9</td>\n",
       "      <td>lopej008</td>\n",
       "      <td>Joey Loperfido</td>\n",
       "      <td>7</td>\n",
       "      <td>heint001</td>\n",
       "      <td>Tyler Heineman</td>\n",
       "      <td>2</td>\n",
       "      <td>NaN</td>\n",
       "      <td>Y</td>\n",
       "    </tr>\n",
       "    <tr>\n",
       "      <th>10614</th>\n",
       "      <td>20240930</td>\n",
       "      <td>1</td>\n",
       "      <td>Mon</td>\n",
       "      <td>NYN</td>\n",
       "      <td>NL</td>\n",
       "      <td>161</td>\n",
       "      <td>ATL</td>\n",
       "      <td>NL</td>\n",
       "      <td>161</td>\n",
       "      <td>8</td>\n",
       "      <td>...</td>\n",
       "      <td>Travis d'Arnaud</td>\n",
       "      <td>2</td>\n",
       "      <td>urshg001</td>\n",
       "      <td>Giovanny Urshela</td>\n",
       "      <td>5</td>\n",
       "      <td>arcio002</td>\n",
       "      <td>Orlando Arcia</td>\n",
       "      <td>6</td>\n",
       "      <td>NaN</td>\n",
       "      <td>Y</td>\n",
       "    </tr>\n",
       "    <tr>\n",
       "      <th>10615</th>\n",
       "      <td>20240930</td>\n",
       "      <td>2</td>\n",
       "      <td>Mon</td>\n",
       "      <td>NYN</td>\n",
       "      <td>NL</td>\n",
       "      <td>162</td>\n",
       "      <td>ATL</td>\n",
       "      <td>NL</td>\n",
       "      <td>162</td>\n",
       "      <td>0</td>\n",
       "      <td>...</td>\n",
       "      <td>Giovanny Urshela</td>\n",
       "      <td>5</td>\n",
       "      <td>murps001</td>\n",
       "      <td>Sean Murphy</td>\n",
       "      <td>2</td>\n",
       "      <td>arcio002</td>\n",
       "      <td>Orlando Arcia</td>\n",
       "      <td>6</td>\n",
       "      <td>NaN</td>\n",
       "      <td>Y</td>\n",
       "    </tr>\n",
       "  </tbody>\n",
       "</table>\n",
       "<p>10616 rows × 161 columns</p>\n",
       "</div>"
      ],
      "text/plain": [
       "           Date  DoubleHeader DayOfWeek VisitingTeam VisitingTeamLeague  \\\n",
       "0      20200723             0       Thu          SFN                 NL   \n",
       "1      20200723             0       Thu          NYA                 AL   \n",
       "2      20200724             0       Fri          MIL                 NL   \n",
       "3      20200724             0       Fri          DET                 AL   \n",
       "4      20200724             0       Fri          SFN                 NL   \n",
       "...         ...           ...       ...          ...                ...   \n",
       "10611  20240929             0       Sun          PIT                 NL   \n",
       "10612  20240929             0       Sun          OAK                 AL   \n",
       "10613  20240929             0       Sun          MIA                 NL   \n",
       "10614  20240930             1       Mon          NYN                 NL   \n",
       "10615  20240930             2       Mon          NYN                 NL   \n",
       "\n",
       "       VisitingTeamGameNumber HomeTeam HomeTeamLeague  HomeTeamGameNumber  \\\n",
       "0                           1      LAN             NL                   1   \n",
       "1                           1      WAS             NL                   1   \n",
       "2                           1      CHN             NL                   1   \n",
       "3                           1      CIN             NL                   1   \n",
       "4                           2      LAN             NL                   2   \n",
       "...                       ...      ...            ...                 ...   \n",
       "10611                     162      NYA             AL                 162   \n",
       "10612                     162      SEA             AL                 162   \n",
       "10613                     162      TOR             AL                 162   \n",
       "10614                     161      ATL             NL                 161   \n",
       "10615                     162      ATL             NL                 162   \n",
       "\n",
       "       VisitorRunsScored  ...  HomeBatting7Name  HomeBatting7Position  \\\n",
       "0                      1  ...      Joc Pederson                     7   \n",
       "1                      4  ...  Asdrubal Cabrera                     5   \n",
       "2                      0  ...   Victor Caratini                    10   \n",
       "3                      1  ...       Nick Senzel                     8   \n",
       "4                      1  ...      Chris Taylor                     7   \n",
       "...                  ...  ...               ...                   ...   \n",
       "10611                  4  ...     Anthony Volpe                     6   \n",
       "10612                  4  ...     Jorge Polanco                     4   \n",
       "10613                  3  ...    Steward Berroa                     9   \n",
       "10614                  8  ...   Travis d'Arnaud                     2   \n",
       "10615                  0  ...  Giovanny Urshela                     5   \n",
       "\n",
       "      HomeBatting8PlayerID  HomeBatting8Name  HomeBatting8Position  \\\n",
       "0                 polla001      A.J. Pollock                    10   \n",
       "1                 steva001  Andrew Stevenson                     7   \n",
       "2                 hoern001      Nico Hoerner                     4   \n",
       "3                 galvf001     Freddy Galvis                     6   \n",
       "4                 pedej001      Joc Pederson                    10   \n",
       "...                    ...               ...                   ...   \n",
       "10611             riceb001          Ben Rice                     3   \n",
       "10612             crawj002     J.P. Crawford                     6   \n",
       "10613             lopej008    Joey Loperfido                     7   \n",
       "10614             urshg001  Giovanny Urshela                     5   \n",
       "10615             murps001       Sean Murphy                     2   \n",
       "\n",
       "       HomeBatting9PlayerID HomeBatting9Name  HomeBatting9Position  \\\n",
       "0                  barna001    Austin Barnes                     2   \n",
       "1                  roblv001    Victor Robles                     8   \n",
       "2                  happi001         Ian Happ                     8   \n",
       "3                  casac001      Curt Casali                     2   \n",
       "4                  smitw003       Will Smith                     2   \n",
       "...                     ...              ...                   ...   \n",
       "10611              trevj001     Jose Trevino                     2   \n",
       "10612              rojaj001       Josh Rojas                     5   \n",
       "10613              heint001   Tyler Heineman                     2   \n",
       "10614              arcio002    Orlando Arcia                     6   \n",
       "10615              arcio002    Orlando Arcia                     6   \n",
       "\n",
       "       AdditionalInfo AcquisitionInfo  \n",
       "0                 NaN               Y  \n",
       "1                 NaN               Y  \n",
       "2                 NaN               Y  \n",
       "3                 NaN               Y  \n",
       "4                 NaN               Y  \n",
       "...               ...             ...  \n",
       "10611             NaN               Y  \n",
       "10612             NaN               Y  \n",
       "10613             NaN               Y  \n",
       "10614             NaN               Y  \n",
       "10615             NaN               Y  \n",
       "\n",
       "[10616 rows x 161 columns]"
      ]
     },
     "execution_count": 152,
     "metadata": {},
     "output_type": "execute_result"
    }
   ],
   "source": [
    "all_data"
   ]
  },
  {
   "cell_type": "code",
   "execution_count": 155,
   "metadata": {
    "tags": []
   },
   "outputs": [
    {
     "data": {
      "text/plain": [
       "Date                        0\n",
       "DoubleHeader                0\n",
       "DayOfWeek                   0\n",
       "VisitingTeam                0\n",
       "VisitingTeamLeague          0\n",
       "                        ...  \n",
       "HomeBatting9PlayerID        0\n",
       "HomeBatting9Name            0\n",
       "HomeBatting9Position        0\n",
       "AdditionalInfo          10524\n",
       "AcquisitionInfo             0\n",
       "Length: 161, dtype: int64"
      ]
     },
     "execution_count": 155,
     "metadata": {},
     "output_type": "execute_result"
    }
   ],
   "source": [
    "# checking for missing values\n",
    "all_data.isnull().sum()"
   ]
  },
  {
   "cell_type": "markdown",
   "metadata": {},
   "source": [
    "**Let's check if we actually have other years.**"
   ]
  },
  {
   "cell_type": "code",
   "execution_count": 156,
   "metadata": {
    "tags": []
   },
   "outputs": [
    {
     "name": "stdout",
     "output_type": "stream",
     "text": [
      "Years in dataset: [2020 2021 2022 2023 2024]\n"
     ]
    }
   ],
   "source": [
    "all_data['Date'] = pd.to_datetime(all_data['Date'], format='%Y%m%d') # convert timestamp into datetime\n",
    "\n",
    "# Check which years are in dataset\n",
    "years = all_data['Date'].dt.year.unique()\n",
    "print(\"Years in dataset:\", years)\n"
   ]
  },
  {
   "cell_type": "markdown",
   "metadata": {},
   "source": [
    "Seems like correct."
   ]
  }
 ],
 "metadata": {
  "kernelspec": {
   "display_name": "Python 3 (ipykernel)",
   "language": "python",
   "name": "python3"
  },
  "language_info": {
   "codemirror_mode": {
    "name": "ipython",
    "version": 3
   },
   "file_extension": ".py",
   "mimetype": "text/x-python",
   "name": "python",
   "nbconvert_exporter": "python",
   "pygments_lexer": "ipython3",
   "version": "3.11.4"
  }
 },
 "nbformat": 4,
 "nbformat_minor": 4
}
