{
 "cells": [
  {
   "cell_type": "code",
   "execution_count": 15,
   "id": "1d93a68b",
   "metadata": {},
   "outputs": [
    {
     "data": {
      "text/html": [
       "<div>\n",
       "<style scoped>\n",
       "    .dataframe tbody tr th:only-of-type {\n",
       "        vertical-align: middle;\n",
       "    }\n",
       "\n",
       "    .dataframe tbody tr th {\n",
       "        vertical-align: top;\n",
       "    }\n",
       "\n",
       "    .dataframe thead th {\n",
       "        text-align: right;\n",
       "    }\n",
       "</style>\n",
       "<table border=\"1\" class=\"dataframe\">\n",
       "  <thead>\n",
       "    <tr style=\"text-align: right;\">\n",
       "      <th></th>\n",
       "      <th>Row ID</th>\n",
       "      <th>Order ID</th>\n",
       "      <th>Order Date</th>\n",
       "      <th>Ship Date</th>\n",
       "      <th>Ship Mode</th>\n",
       "      <th>Customer ID</th>\n",
       "      <th>Customer Name</th>\n",
       "      <th>Segment</th>\n",
       "      <th>Country</th>\n",
       "      <th>City</th>\n",
       "      <th>...</th>\n",
       "      <th>Postal Code</th>\n",
       "      <th>Region</th>\n",
       "      <th>Product ID</th>\n",
       "      <th>Category</th>\n",
       "      <th>Sub-Category</th>\n",
       "      <th>Product Name</th>\n",
       "      <th>Sales</th>\n",
       "      <th>Quantity</th>\n",
       "      <th>Discount</th>\n",
       "      <th>Profit</th>\n",
       "    </tr>\n",
       "  </thead>\n",
       "  <tbody>\n",
       "    <tr>\n",
       "      <th>0</th>\n",
       "      <td>1</td>\n",
       "      <td>CA-2016-152156</td>\n",
       "      <td>11/8/2016</td>\n",
       "      <td>11/11/2016</td>\n",
       "      <td>Second Class</td>\n",
       "      <td>CG-12520</td>\n",
       "      <td>Claire Gute</td>\n",
       "      <td>Consumer</td>\n",
       "      <td>United States</td>\n",
       "      <td>Henderson</td>\n",
       "      <td>...</td>\n",
       "      <td>42420</td>\n",
       "      <td>South</td>\n",
       "      <td>FUR-BO-10001798</td>\n",
       "      <td>Furniture</td>\n",
       "      <td>Bookcases</td>\n",
       "      <td>Bush Somerset Collection Bookcase</td>\n",
       "      <td>261.96</td>\n",
       "      <td>2</td>\n",
       "      <td>0.00</td>\n",
       "      <td>41.91</td>\n",
       "    </tr>\n",
       "    <tr>\n",
       "      <th>1</th>\n",
       "      <td>2</td>\n",
       "      <td>CA-2016-152156</td>\n",
       "      <td>11/8/2016</td>\n",
       "      <td>11/11/2016</td>\n",
       "      <td>Second Class</td>\n",
       "      <td>CG-12520</td>\n",
       "      <td>Claire Gute</td>\n",
       "      <td>Consumer</td>\n",
       "      <td>United States</td>\n",
       "      <td>Henderson</td>\n",
       "      <td>...</td>\n",
       "      <td>42420</td>\n",
       "      <td>South</td>\n",
       "      <td>FUR-CH-10000454</td>\n",
       "      <td>Furniture</td>\n",
       "      <td>Chairs</td>\n",
       "      <td>Hon Deluxe Fabric Upholstered Stacking Chairs,...</td>\n",
       "      <td>731.94</td>\n",
       "      <td>3</td>\n",
       "      <td>0.00</td>\n",
       "      <td>219.58</td>\n",
       "    </tr>\n",
       "    <tr>\n",
       "      <th>2</th>\n",
       "      <td>3</td>\n",
       "      <td>CA-2016-138688</td>\n",
       "      <td>6/12/2016</td>\n",
       "      <td>6/16/2016</td>\n",
       "      <td>Second Class</td>\n",
       "      <td>DV-13045</td>\n",
       "      <td>Darrin Van Huff</td>\n",
       "      <td>Corporate</td>\n",
       "      <td>United States</td>\n",
       "      <td>Los Angeles</td>\n",
       "      <td>...</td>\n",
       "      <td>90036</td>\n",
       "      <td>West</td>\n",
       "      <td>OFF-LA-10000240</td>\n",
       "      <td>Office Supplies</td>\n",
       "      <td>Labels</td>\n",
       "      <td>Self-Adhesive Address Labels for Typewriters b...</td>\n",
       "      <td>14.62</td>\n",
       "      <td>2</td>\n",
       "      <td>0.00</td>\n",
       "      <td>6.87</td>\n",
       "    </tr>\n",
       "    <tr>\n",
       "      <th>3</th>\n",
       "      <td>4</td>\n",
       "      <td>US-2015-108966</td>\n",
       "      <td>10/11/2015</td>\n",
       "      <td>10/18/2015</td>\n",
       "      <td>Standard Class</td>\n",
       "      <td>SO-20335</td>\n",
       "      <td>Sean O'Donnell</td>\n",
       "      <td>Consumer</td>\n",
       "      <td>United States</td>\n",
       "      <td>Fort Lauderdale</td>\n",
       "      <td>...</td>\n",
       "      <td>33311</td>\n",
       "      <td>South</td>\n",
       "      <td>FUR-TA-10000577</td>\n",
       "      <td>Furniture</td>\n",
       "      <td>Tables</td>\n",
       "      <td>Bretford CR4500 Series Slim Rectangular Table</td>\n",
       "      <td>957.58</td>\n",
       "      <td>5</td>\n",
       "      <td>0.45</td>\n",
       "      <td>-383.03</td>\n",
       "    </tr>\n",
       "    <tr>\n",
       "      <th>4</th>\n",
       "      <td>5</td>\n",
       "      <td>US-2015-108966</td>\n",
       "      <td>10/11/2015</td>\n",
       "      <td>10/18/2015</td>\n",
       "      <td>Standard Class</td>\n",
       "      <td>SO-20335</td>\n",
       "      <td>Sean O'Donnell</td>\n",
       "      <td>Consumer</td>\n",
       "      <td>United States</td>\n",
       "      <td>Fort Lauderdale</td>\n",
       "      <td>...</td>\n",
       "      <td>33311</td>\n",
       "      <td>South</td>\n",
       "      <td>OFF-ST-10000760</td>\n",
       "      <td>Office Supplies</td>\n",
       "      <td>Storage</td>\n",
       "      <td>Eldon Fold 'N Roll Cart System</td>\n",
       "      <td>22.37</td>\n",
       "      <td>2</td>\n",
       "      <td>0.20</td>\n",
       "      <td>2.52</td>\n",
       "    </tr>\n",
       "  </tbody>\n",
       "</table>\n",
       "<p>5 rows × 21 columns</p>\n",
       "</div>"
      ],
      "text/plain": [
       "   Row ID        Order ID  Order Date   Ship Date       Ship Mode Customer ID  \\\n",
       "0       1  CA-2016-152156   11/8/2016  11/11/2016    Second Class    CG-12520   \n",
       "1       2  CA-2016-152156   11/8/2016  11/11/2016    Second Class    CG-12520   \n",
       "2       3  CA-2016-138688   6/12/2016   6/16/2016    Second Class    DV-13045   \n",
       "3       4  US-2015-108966  10/11/2015  10/18/2015  Standard Class    SO-20335   \n",
       "4       5  US-2015-108966  10/11/2015  10/18/2015  Standard Class    SO-20335   \n",
       "\n",
       "     Customer Name    Segment        Country             City  ...  \\\n",
       "0      Claire Gute   Consumer  United States        Henderson  ...   \n",
       "1      Claire Gute   Consumer  United States        Henderson  ...   \n",
       "2  Darrin Van Huff  Corporate  United States      Los Angeles  ...   \n",
       "3   Sean O'Donnell   Consumer  United States  Fort Lauderdale  ...   \n",
       "4   Sean O'Donnell   Consumer  United States  Fort Lauderdale  ...   \n",
       "\n",
       "  Postal Code  Region       Product ID         Category Sub-Category  \\\n",
       "0       42420   South  FUR-BO-10001798        Furniture    Bookcases   \n",
       "1       42420   South  FUR-CH-10000454        Furniture       Chairs   \n",
       "2       90036    West  OFF-LA-10000240  Office Supplies       Labels   \n",
       "3       33311   South  FUR-TA-10000577        Furniture       Tables   \n",
       "4       33311   South  OFF-ST-10000760  Office Supplies      Storage   \n",
       "\n",
       "                                        Product Name  Sales  Quantity  \\\n",
       "0                  Bush Somerset Collection Bookcase 261.96         2   \n",
       "1  Hon Deluxe Fabric Upholstered Stacking Chairs,... 731.94         3   \n",
       "2  Self-Adhesive Address Labels for Typewriters b...  14.62         2   \n",
       "3      Bretford CR4500 Series Slim Rectangular Table 957.58         5   \n",
       "4                     Eldon Fold 'N Roll Cart System  22.37         2   \n",
       "\n",
       "   Discount  Profit  \n",
       "0      0.00   41.91  \n",
       "1      0.00  219.58  \n",
       "2      0.00    6.87  \n",
       "3      0.45 -383.03  \n",
       "4      0.20    2.52  \n",
       "\n",
       "[5 rows x 21 columns]"
      ]
     },
     "execution_count": 15,
     "metadata": {},
     "output_type": "execute_result"
    }
   ],
   "source": [
    "# ==== Setup & Imports ====\n",
    "from pathlib import Path\n",
    "import pandas as pd\n",
    "import numpy as np\n",
    "from scipy import stats\n",
    "import statsmodels.api as sm\n",
    "from statsmodels.tsa.seasonal import seasonal_decompose\n",
    "\n",
    "pd.set_option('display.float_format', lambda x: f'{x:,.2f}')\n",
    "\n",
    "CSV_PATH = 'data/superstore.csv'  \n",
    "\n",
    "df = pd.read_csv(CSV_PATH, encoding='ISO-8859-1')\n",
    "df.head()"
   ]
  },
  {
   "cell_type": "markdown",
   "id": "895da8e8",
   "metadata": {},
   "source": [
    "## Data Card\n",
    "Dataset containing Information related to Sales, Profits and other interesting facts of a Superstore giant. Can you tell about the region. Their is no north region available in this column.\n",
    "\n",
    "## Metadata\n",
    "```\n",
    "Row ID => Unique ID for each row.\n",
    "Order ID => Unique Order ID for each Customer.\n",
    "Order Date => Order Date of the product.\n",
    "Ship Date => Shipping Date of the Product.\n",
    "Ship Mode=> Shipping Mode specified by the Customer.\n",
    "Customer ID => Unique ID to identify each Customer.\n",
    "Customer Name => Name of the Customer.\n",
    "Segment => The segment where the Customer belongs.\n",
    "Country => Country of residence of the Customer.\n",
    "City => City of residence of of the Customer.\n",
    "State => State of residence of the Customer.\n",
    "Postal Code => Postal Code of every Customer.\n",
    "Region => Region where the Customer belong.\n",
    "Product ID => Unique ID of the Product.\n",
    "Category => Category of the product ordered.\n",
    "Sub-Category => Sub-Category of the product ordered.\n",
    "Product Name => Name of the Product\n",
    "Sales => Sales of the Product.\n",
    "Quantity => Quantity of the Product.\n",
    "Discount => Discount provided.\n",
    "Profit => Profit/Loss incurred.\n",
    "```"
   ]
  },
  {
   "cell_type": "code",
   "execution_count": 16,
   "id": "5e2acc98",
   "metadata": {},
   "outputs": [
    {
     "data": {
      "text/html": [
       "<div>\n",
       "<style scoped>\n",
       "    .dataframe tbody tr th:only-of-type {\n",
       "        vertical-align: middle;\n",
       "    }\n",
       "\n",
       "    .dataframe tbody tr th {\n",
       "        vertical-align: top;\n",
       "    }\n",
       "\n",
       "    .dataframe thead th {\n",
       "        text-align: right;\n",
       "    }\n",
       "</style>\n",
       "<table border=\"1\" class=\"dataframe\">\n",
       "  <thead>\n",
       "    <tr style=\"text-align: right;\">\n",
       "      <th></th>\n",
       "      <th>0</th>\n",
       "      <th>1</th>\n",
       "      <th>2</th>\n",
       "      <th>3</th>\n",
       "      <th>4</th>\n",
       "    </tr>\n",
       "  </thead>\n",
       "  <tbody>\n",
       "    <tr>\n",
       "      <th>row_id</th>\n",
       "      <td>1</td>\n",
       "      <td>2</td>\n",
       "      <td>3</td>\n",
       "      <td>4</td>\n",
       "      <td>5</td>\n",
       "    </tr>\n",
       "    <tr>\n",
       "      <th>order_id</th>\n",
       "      <td>CA-2016-152156</td>\n",
       "      <td>CA-2016-152156</td>\n",
       "      <td>CA-2016-138688</td>\n",
       "      <td>US-2015-108966</td>\n",
       "      <td>US-2015-108966</td>\n",
       "    </tr>\n",
       "    <tr>\n",
       "      <th>order_date</th>\n",
       "      <td>11/8/2016</td>\n",
       "      <td>11/8/2016</td>\n",
       "      <td>6/12/2016</td>\n",
       "      <td>10/11/2015</td>\n",
       "      <td>10/11/2015</td>\n",
       "    </tr>\n",
       "    <tr>\n",
       "      <th>ship_date</th>\n",
       "      <td>11/11/2016</td>\n",
       "      <td>11/11/2016</td>\n",
       "      <td>6/16/2016</td>\n",
       "      <td>10/18/2015</td>\n",
       "      <td>10/18/2015</td>\n",
       "    </tr>\n",
       "    <tr>\n",
       "      <th>ship_mode</th>\n",
       "      <td>Second Class</td>\n",
       "      <td>Second Class</td>\n",
       "      <td>Second Class</td>\n",
       "      <td>Standard Class</td>\n",
       "      <td>Standard Class</td>\n",
       "    </tr>\n",
       "    <tr>\n",
       "      <th>customer_id</th>\n",
       "      <td>CG-12520</td>\n",
       "      <td>CG-12520</td>\n",
       "      <td>DV-13045</td>\n",
       "      <td>SO-20335</td>\n",
       "      <td>SO-20335</td>\n",
       "    </tr>\n",
       "    <tr>\n",
       "      <th>customer_name</th>\n",
       "      <td>Claire Gute</td>\n",
       "      <td>Claire Gute</td>\n",
       "      <td>Darrin Van Huff</td>\n",
       "      <td>Sean O'Donnell</td>\n",
       "      <td>Sean O'Donnell</td>\n",
       "    </tr>\n",
       "    <tr>\n",
       "      <th>segment</th>\n",
       "      <td>Consumer</td>\n",
       "      <td>Consumer</td>\n",
       "      <td>Corporate</td>\n",
       "      <td>Consumer</td>\n",
       "      <td>Consumer</td>\n",
       "    </tr>\n",
       "    <tr>\n",
       "      <th>country</th>\n",
       "      <td>United States</td>\n",
       "      <td>United States</td>\n",
       "      <td>United States</td>\n",
       "      <td>United States</td>\n",
       "      <td>United States</td>\n",
       "    </tr>\n",
       "    <tr>\n",
       "      <th>city</th>\n",
       "      <td>Henderson</td>\n",
       "      <td>Henderson</td>\n",
       "      <td>Los Angeles</td>\n",
       "      <td>Fort Lauderdale</td>\n",
       "      <td>Fort Lauderdale</td>\n",
       "    </tr>\n",
       "    <tr>\n",
       "      <th>state</th>\n",
       "      <td>Kentucky</td>\n",
       "      <td>Kentucky</td>\n",
       "      <td>California</td>\n",
       "      <td>Florida</td>\n",
       "      <td>Florida</td>\n",
       "    </tr>\n",
       "    <tr>\n",
       "      <th>postal_code</th>\n",
       "      <td>42420</td>\n",
       "      <td>42420</td>\n",
       "      <td>90036</td>\n",
       "      <td>33311</td>\n",
       "      <td>33311</td>\n",
       "    </tr>\n",
       "    <tr>\n",
       "      <th>region</th>\n",
       "      <td>South</td>\n",
       "      <td>South</td>\n",
       "      <td>West</td>\n",
       "      <td>South</td>\n",
       "      <td>South</td>\n",
       "    </tr>\n",
       "    <tr>\n",
       "      <th>product_id</th>\n",
       "      <td>FUR-BO-10001798</td>\n",
       "      <td>FUR-CH-10000454</td>\n",
       "      <td>OFF-LA-10000240</td>\n",
       "      <td>FUR-TA-10000577</td>\n",
       "      <td>OFF-ST-10000760</td>\n",
       "    </tr>\n",
       "    <tr>\n",
       "      <th>category</th>\n",
       "      <td>Furniture</td>\n",
       "      <td>Furniture</td>\n",
       "      <td>Office Supplies</td>\n",
       "      <td>Furniture</td>\n",
       "      <td>Office Supplies</td>\n",
       "    </tr>\n",
       "    <tr>\n",
       "      <th>sub_category</th>\n",
       "      <td>Bookcases</td>\n",
       "      <td>Chairs</td>\n",
       "      <td>Labels</td>\n",
       "      <td>Tables</td>\n",
       "      <td>Storage</td>\n",
       "    </tr>\n",
       "    <tr>\n",
       "      <th>product_name</th>\n",
       "      <td>Bush Somerset Collection Bookcase</td>\n",
       "      <td>Hon Deluxe Fabric Upholstered Stacking Chairs,...</td>\n",
       "      <td>Self-Adhesive Address Labels for Typewriters b...</td>\n",
       "      <td>Bretford CR4500 Series Slim Rectangular Table</td>\n",
       "      <td>Eldon Fold 'N Roll Cart System</td>\n",
       "    </tr>\n",
       "    <tr>\n",
       "      <th>sales</th>\n",
       "      <td>261.96</td>\n",
       "      <td>731.94</td>\n",
       "      <td>14.62</td>\n",
       "      <td>957.58</td>\n",
       "      <td>22.37</td>\n",
       "    </tr>\n",
       "    <tr>\n",
       "      <th>quantity</th>\n",
       "      <td>2</td>\n",
       "      <td>3</td>\n",
       "      <td>2</td>\n",
       "      <td>5</td>\n",
       "      <td>2</td>\n",
       "    </tr>\n",
       "    <tr>\n",
       "      <th>discount</th>\n",
       "      <td>0.00</td>\n",
       "      <td>0.00</td>\n",
       "      <td>0.00</td>\n",
       "      <td>0.45</td>\n",
       "      <td>0.20</td>\n",
       "    </tr>\n",
       "    <tr>\n",
       "      <th>profit</th>\n",
       "      <td>41.91</td>\n",
       "      <td>219.58</td>\n",
       "      <td>6.87</td>\n",
       "      <td>-383.03</td>\n",
       "      <td>2.52</td>\n",
       "    </tr>\n",
       "  </tbody>\n",
       "</table>\n",
       "</div>"
      ],
      "text/plain": [
       "                                               0  \\\n",
       "row_id                                         1   \n",
       "order_id                          CA-2016-152156   \n",
       "order_date                             11/8/2016   \n",
       "ship_date                             11/11/2016   \n",
       "ship_mode                           Second Class   \n",
       "customer_id                             CG-12520   \n",
       "customer_name                        Claire Gute   \n",
       "segment                                 Consumer   \n",
       "country                            United States   \n",
       "city                                   Henderson   \n",
       "state                                   Kentucky   \n",
       "postal_code                                42420   \n",
       "region                                     South   \n",
       "product_id                       FUR-BO-10001798   \n",
       "category                               Furniture   \n",
       "sub_category                           Bookcases   \n",
       "product_name   Bush Somerset Collection Bookcase   \n",
       "sales                                     261.96   \n",
       "quantity                                       2   \n",
       "discount                                    0.00   \n",
       "profit                                     41.91   \n",
       "\n",
       "                                                               1  \\\n",
       "row_id                                                         2   \n",
       "order_id                                          CA-2016-152156   \n",
       "order_date                                             11/8/2016   \n",
       "ship_date                                             11/11/2016   \n",
       "ship_mode                                           Second Class   \n",
       "customer_id                                             CG-12520   \n",
       "customer_name                                        Claire Gute   \n",
       "segment                                                 Consumer   \n",
       "country                                            United States   \n",
       "city                                                   Henderson   \n",
       "state                                                   Kentucky   \n",
       "postal_code                                                42420   \n",
       "region                                                     South   \n",
       "product_id                                       FUR-CH-10000454   \n",
       "category                                               Furniture   \n",
       "sub_category                                              Chairs   \n",
       "product_name   Hon Deluxe Fabric Upholstered Stacking Chairs,...   \n",
       "sales                                                     731.94   \n",
       "quantity                                                       3   \n",
       "discount                                                    0.00   \n",
       "profit                                                    219.58   \n",
       "\n",
       "                                                               2  \\\n",
       "row_id                                                         3   \n",
       "order_id                                          CA-2016-138688   \n",
       "order_date                                             6/12/2016   \n",
       "ship_date                                              6/16/2016   \n",
       "ship_mode                                           Second Class   \n",
       "customer_id                                             DV-13045   \n",
       "customer_name                                    Darrin Van Huff   \n",
       "segment                                                Corporate   \n",
       "country                                            United States   \n",
       "city                                                 Los Angeles   \n",
       "state                                                 California   \n",
       "postal_code                                                90036   \n",
       "region                                                      West   \n",
       "product_id                                       OFF-LA-10000240   \n",
       "category                                         Office Supplies   \n",
       "sub_category                                              Labels   \n",
       "product_name   Self-Adhesive Address Labels for Typewriters b...   \n",
       "sales                                                      14.62   \n",
       "quantity                                                       2   \n",
       "discount                                                    0.00   \n",
       "profit                                                      6.87   \n",
       "\n",
       "                                                           3  \\\n",
       "row_id                                                     4   \n",
       "order_id                                      US-2015-108966   \n",
       "order_date                                        10/11/2015   \n",
       "ship_date                                         10/18/2015   \n",
       "ship_mode                                     Standard Class   \n",
       "customer_id                                         SO-20335   \n",
       "customer_name                                 Sean O'Donnell   \n",
       "segment                                             Consumer   \n",
       "country                                        United States   \n",
       "city                                         Fort Lauderdale   \n",
       "state                                                Florida   \n",
       "postal_code                                            33311   \n",
       "region                                                 South   \n",
       "product_id                                   FUR-TA-10000577   \n",
       "category                                           Furniture   \n",
       "sub_category                                          Tables   \n",
       "product_name   Bretford CR4500 Series Slim Rectangular Table   \n",
       "sales                                                 957.58   \n",
       "quantity                                                   5   \n",
       "discount                                                0.45   \n",
       "profit                                               -383.03   \n",
       "\n",
       "                                            4  \n",
       "row_id                                      5  \n",
       "order_id                       US-2015-108966  \n",
       "order_date                         10/11/2015  \n",
       "ship_date                          10/18/2015  \n",
       "ship_mode                      Standard Class  \n",
       "customer_id                          SO-20335  \n",
       "customer_name                  Sean O'Donnell  \n",
       "segment                              Consumer  \n",
       "country                         United States  \n",
       "city                          Fort Lauderdale  \n",
       "state                                 Florida  \n",
       "postal_code                             33311  \n",
       "region                                  South  \n",
       "product_id                    OFF-ST-10000760  \n",
       "category                      Office Supplies  \n",
       "sub_category                          Storage  \n",
       "product_name   Eldon Fold 'N Roll Cart System  \n",
       "sales                                   22.37  \n",
       "quantity                                    2  \n",
       "discount                                 0.20  \n",
       "profit                                   2.52  "
      ]
     },
     "execution_count": 16,
     "metadata": {},
     "output_type": "execute_result"
    }
   ],
   "source": [
    "def standardize_columns(df: pd.DataFrame) -> pd.DataFrame:\n",
    "    df = df.copy()\n",
    "    df.columns = (\n",
    "        df.columns.str.strip().str.lower()\n",
    "        .str.replace(r'[^0-9a-zA-Z]+', '_', regex=True)\n",
    "        .str.strip('_')\n",
    "    )\n",
    "    return df\n",
    "\n",
    "\n",
    "df = standardize_columns(df)\n",
    "df.head().T\n"
   ]
  },
  {
   "cell_type": "code",
   "execution_count": 17,
   "id": "a10701e7",
   "metadata": {},
   "outputs": [
    {
     "name": "stdout",
     "output_type": "stream",
     "text": [
      "row_id           0\n",
      "order_id         0\n",
      "order_date       0\n",
      "ship_date        0\n",
      "ship_mode        0\n",
      "customer_id      0\n",
      "customer_name    0\n",
      "segment          0\n",
      "country          0\n",
      "city             0\n",
      "state            0\n",
      "postal_code      0\n",
      "region           0\n",
      "product_id       0\n",
      "category         0\n",
      "sub_category     0\n",
      "product_name     0\n",
      "sales            0\n",
      "quantity         0\n",
      "discount         0\n",
      "profit           0\n",
      "dtype: int64\n",
      "0\n"
     ]
    }
   ],
   "source": [
    "print(df.isnull().sum())\n",
    "print(df.duplicated().sum())\n"
   ]
  },
  {
   "cell_type": "markdown",
   "id": "ac70e77f",
   "metadata": {},
   "source": [
    "## 1. How much money did we make in total, then year by year, month by month.\n",
    "## 2. Are we getting better or worse at our job\n",
    "## 3. Who is our most profitable employee (what does profitable mean)?\n",
    "## 4. Who is our lest profitable employee (by how much?)\n",
    "\n",
    "## 5. What sells the most. \n",
    "## 6. What makes us the most money. \n",
    "## 7. Are we losting money.  If so, where and how? \n",
    "\n",
    "\n",
    "## 0. Distribution of sales quantities, profits, and discounts"
   ]
  },
  {
   "cell_type": "code",
   "execution_count": 21,
   "id": "10d5ff88",
   "metadata": {},
   "outputs": [
    {
     "name": "stdout",
     "output_type": "stream",
     "text": [
      "$286,397.02\n"
     ]
    }
   ],
   "source": [
    "## 1. How much money did we make in total, then year by year, month by month.\n",
    "total_profit = df.profit.sum().round(2)\n",
    "formatted_currency_format = \"${:,.2f}\".format(total_profit)\n",
    "print(formatted_currency_format)\n",
    "\n"
   ]
  },
  {
   "cell_type": "code",
   "execution_count": 23,
   "id": "c8a2655a",
   "metadata": {},
   "outputs": [
    {
     "data": {
      "text/html": [
       "<div>\n",
       "<style scoped>\n",
       "    .dataframe tbody tr th:only-of-type {\n",
       "        vertical-align: middle;\n",
       "    }\n",
       "\n",
       "    .dataframe tbody tr th {\n",
       "        vertical-align: top;\n",
       "    }\n",
       "\n",
       "    .dataframe thead th {\n",
       "        text-align: right;\n",
       "    }\n",
       "</style>\n",
       "<table border=\"1\" class=\"dataframe\">\n",
       "  <thead>\n",
       "    <tr style=\"text-align: right;\">\n",
       "      <th></th>\n",
       "      <th>row_id</th>\n",
       "      <th>order_id</th>\n",
       "      <th>order_date</th>\n",
       "      <th>ship_date</th>\n",
       "      <th>ship_mode</th>\n",
       "      <th>customer_id</th>\n",
       "      <th>customer_name</th>\n",
       "      <th>segment</th>\n",
       "      <th>country</th>\n",
       "      <th>city</th>\n",
       "      <th>...</th>\n",
       "      <th>postal_code</th>\n",
       "      <th>region</th>\n",
       "      <th>product_id</th>\n",
       "      <th>category</th>\n",
       "      <th>sub_category</th>\n",
       "      <th>product_name</th>\n",
       "      <th>sales</th>\n",
       "      <th>quantity</th>\n",
       "      <th>discount</th>\n",
       "      <th>profit</th>\n",
       "    </tr>\n",
       "  </thead>\n",
       "  <tbody>\n",
       "    <tr>\n",
       "      <th>0</th>\n",
       "      <td>1</td>\n",
       "      <td>CA-2016-152156</td>\n",
       "      <td>11/8/2016</td>\n",
       "      <td>11/11/2016</td>\n",
       "      <td>Second Class</td>\n",
       "      <td>CG-12520</td>\n",
       "      <td>Claire Gute</td>\n",
       "      <td>Consumer</td>\n",
       "      <td>United States</td>\n",
       "      <td>Henderson</td>\n",
       "      <td>...</td>\n",
       "      <td>42420</td>\n",
       "      <td>South</td>\n",
       "      <td>FUR-BO-10001798</td>\n",
       "      <td>Furniture</td>\n",
       "      <td>Bookcases</td>\n",
       "      <td>Bush Somerset Collection Bookcase</td>\n",
       "      <td>261.96</td>\n",
       "      <td>2</td>\n",
       "      <td>0.00</td>\n",
       "      <td>41.91</td>\n",
       "    </tr>\n",
       "    <tr>\n",
       "      <th>1</th>\n",
       "      <td>2</td>\n",
       "      <td>CA-2016-152156</td>\n",
       "      <td>11/8/2016</td>\n",
       "      <td>11/11/2016</td>\n",
       "      <td>Second Class</td>\n",
       "      <td>CG-12520</td>\n",
       "      <td>Claire Gute</td>\n",
       "      <td>Consumer</td>\n",
       "      <td>United States</td>\n",
       "      <td>Henderson</td>\n",
       "      <td>...</td>\n",
       "      <td>42420</td>\n",
       "      <td>South</td>\n",
       "      <td>FUR-CH-10000454</td>\n",
       "      <td>Furniture</td>\n",
       "      <td>Chairs</td>\n",
       "      <td>Hon Deluxe Fabric Upholstered Stacking Chairs,...</td>\n",
       "      <td>731.94</td>\n",
       "      <td>3</td>\n",
       "      <td>0.00</td>\n",
       "      <td>219.58</td>\n",
       "    </tr>\n",
       "    <tr>\n",
       "      <th>2</th>\n",
       "      <td>3</td>\n",
       "      <td>CA-2016-138688</td>\n",
       "      <td>6/12/2016</td>\n",
       "      <td>6/16/2016</td>\n",
       "      <td>Second Class</td>\n",
       "      <td>DV-13045</td>\n",
       "      <td>Darrin Van Huff</td>\n",
       "      <td>Corporate</td>\n",
       "      <td>United States</td>\n",
       "      <td>Los Angeles</td>\n",
       "      <td>...</td>\n",
       "      <td>90036</td>\n",
       "      <td>West</td>\n",
       "      <td>OFF-LA-10000240</td>\n",
       "      <td>Office Supplies</td>\n",
       "      <td>Labels</td>\n",
       "      <td>Self-Adhesive Address Labels for Typewriters b...</td>\n",
       "      <td>14.62</td>\n",
       "      <td>2</td>\n",
       "      <td>0.00</td>\n",
       "      <td>6.87</td>\n",
       "    </tr>\n",
       "    <tr>\n",
       "      <th>3</th>\n",
       "      <td>4</td>\n",
       "      <td>US-2015-108966</td>\n",
       "      <td>10/11/2015</td>\n",
       "      <td>10/18/2015</td>\n",
       "      <td>Standard Class</td>\n",
       "      <td>SO-20335</td>\n",
       "      <td>Sean O'Donnell</td>\n",
       "      <td>Consumer</td>\n",
       "      <td>United States</td>\n",
       "      <td>Fort Lauderdale</td>\n",
       "      <td>...</td>\n",
       "      <td>33311</td>\n",
       "      <td>South</td>\n",
       "      <td>FUR-TA-10000577</td>\n",
       "      <td>Furniture</td>\n",
       "      <td>Tables</td>\n",
       "      <td>Bretford CR4500 Series Slim Rectangular Table</td>\n",
       "      <td>957.58</td>\n",
       "      <td>5</td>\n",
       "      <td>0.45</td>\n",
       "      <td>-383.03</td>\n",
       "    </tr>\n",
       "    <tr>\n",
       "      <th>4</th>\n",
       "      <td>5</td>\n",
       "      <td>US-2015-108966</td>\n",
       "      <td>10/11/2015</td>\n",
       "      <td>10/18/2015</td>\n",
       "      <td>Standard Class</td>\n",
       "      <td>SO-20335</td>\n",
       "      <td>Sean O'Donnell</td>\n",
       "      <td>Consumer</td>\n",
       "      <td>United States</td>\n",
       "      <td>Fort Lauderdale</td>\n",
       "      <td>...</td>\n",
       "      <td>33311</td>\n",
       "      <td>South</td>\n",
       "      <td>OFF-ST-10000760</td>\n",
       "      <td>Office Supplies</td>\n",
       "      <td>Storage</td>\n",
       "      <td>Eldon Fold 'N Roll Cart System</td>\n",
       "      <td>22.37</td>\n",
       "      <td>2</td>\n",
       "      <td>0.20</td>\n",
       "      <td>2.52</td>\n",
       "    </tr>\n",
       "  </tbody>\n",
       "</table>\n",
       "<p>5 rows × 21 columns</p>\n",
       "</div>"
      ],
      "text/plain": [
       "   row_id        order_id  order_date   ship_date       ship_mode customer_id  \\\n",
       "0       1  CA-2016-152156   11/8/2016  11/11/2016    Second Class    CG-12520   \n",
       "1       2  CA-2016-152156   11/8/2016  11/11/2016    Second Class    CG-12520   \n",
       "2       3  CA-2016-138688   6/12/2016   6/16/2016    Second Class    DV-13045   \n",
       "3       4  US-2015-108966  10/11/2015  10/18/2015  Standard Class    SO-20335   \n",
       "4       5  US-2015-108966  10/11/2015  10/18/2015  Standard Class    SO-20335   \n",
       "\n",
       "     customer_name    segment        country             city  ...  \\\n",
       "0      Claire Gute   Consumer  United States        Henderson  ...   \n",
       "1      Claire Gute   Consumer  United States        Henderson  ...   \n",
       "2  Darrin Van Huff  Corporate  United States      Los Angeles  ...   \n",
       "3   Sean O'Donnell   Consumer  United States  Fort Lauderdale  ...   \n",
       "4   Sean O'Donnell   Consumer  United States  Fort Lauderdale  ...   \n",
       "\n",
       "  postal_code  region       product_id         category sub_category  \\\n",
       "0       42420   South  FUR-BO-10001798        Furniture    Bookcases   \n",
       "1       42420   South  FUR-CH-10000454        Furniture       Chairs   \n",
       "2       90036    West  OFF-LA-10000240  Office Supplies       Labels   \n",
       "3       33311   South  FUR-TA-10000577        Furniture       Tables   \n",
       "4       33311   South  OFF-ST-10000760  Office Supplies      Storage   \n",
       "\n",
       "                                        product_name  sales  quantity  \\\n",
       "0                  Bush Somerset Collection Bookcase 261.96         2   \n",
       "1  Hon Deluxe Fabric Upholstered Stacking Chairs,... 731.94         3   \n",
       "2  Self-Adhesive Address Labels for Typewriters b...  14.62         2   \n",
       "3      Bretford CR4500 Series Slim Rectangular Table 957.58         5   \n",
       "4                     Eldon Fold 'N Roll Cart System  22.37         2   \n",
       "\n",
       "   discount  profit  \n",
       "0      0.00   41.91  \n",
       "1      0.00  219.58  \n",
       "2      0.00    6.87  \n",
       "3      0.45 -383.03  \n",
       "4      0.20    2.52  \n",
       "\n",
       "[5 rows x 21 columns]"
      ]
     },
     "execution_count": 23,
     "metadata": {},
     "output_type": "execute_result"
    }
   ],
   "source": [
    "## 1.2 How much money did we make in total, then year by year, month by month.\n",
    "# df['order_date']\n",
    "df.head()"
   ]
  },
  {
   "cell_type": "code",
   "execution_count": 26,
   "id": "b820bd31",
   "metadata": {},
   "outputs": [
    {
     "data": {
      "text/html": [
       "<div>\n",
       "<style scoped>\n",
       "    .dataframe tbody tr th:only-of-type {\n",
       "        vertical-align: middle;\n",
       "    }\n",
       "\n",
       "    .dataframe tbody tr th {\n",
       "        vertical-align: top;\n",
       "    }\n",
       "\n",
       "    .dataframe thead th {\n",
       "        text-align: right;\n",
       "    }\n",
       "</style>\n",
       "<table border=\"1\" class=\"dataframe\">\n",
       "  <thead>\n",
       "    <tr style=\"text-align: right;\">\n",
       "      <th></th>\n",
       "      <th>row_id</th>\n",
       "      <th>order_id</th>\n",
       "      <th>order_date</th>\n",
       "      <th>ship_date</th>\n",
       "      <th>ship_mode</th>\n",
       "      <th>customer_id</th>\n",
       "      <th>customer_name</th>\n",
       "      <th>segment</th>\n",
       "      <th>country</th>\n",
       "      <th>city</th>\n",
       "      <th>...</th>\n",
       "      <th>postal_code</th>\n",
       "      <th>region</th>\n",
       "      <th>product_id</th>\n",
       "      <th>category</th>\n",
       "      <th>sub_category</th>\n",
       "      <th>product_name</th>\n",
       "      <th>sales</th>\n",
       "      <th>quantity</th>\n",
       "      <th>discount</th>\n",
       "      <th>profit</th>\n",
       "    </tr>\n",
       "  </thead>\n",
       "  <tbody>\n",
       "    <tr>\n",
       "      <th>0</th>\n",
       "      <td>1</td>\n",
       "      <td>CA-2016-152156</td>\n",
       "      <td>2016-11-08</td>\n",
       "      <td>11/11/2016</td>\n",
       "      <td>Second Class</td>\n",
       "      <td>CG-12520</td>\n",
       "      <td>Claire Gute</td>\n",
       "      <td>Consumer</td>\n",
       "      <td>United States</td>\n",
       "      <td>Henderson</td>\n",
       "      <td>...</td>\n",
       "      <td>42420</td>\n",
       "      <td>South</td>\n",
       "      <td>FUR-BO-10001798</td>\n",
       "      <td>Furniture</td>\n",
       "      <td>Bookcases</td>\n",
       "      <td>Bush Somerset Collection Bookcase</td>\n",
       "      <td>261.96</td>\n",
       "      <td>2</td>\n",
       "      <td>0.00</td>\n",
       "      <td>41.91</td>\n",
       "    </tr>\n",
       "    <tr>\n",
       "      <th>1</th>\n",
       "      <td>2</td>\n",
       "      <td>CA-2016-152156</td>\n",
       "      <td>2016-11-08</td>\n",
       "      <td>11/11/2016</td>\n",
       "      <td>Second Class</td>\n",
       "      <td>CG-12520</td>\n",
       "      <td>Claire Gute</td>\n",
       "      <td>Consumer</td>\n",
       "      <td>United States</td>\n",
       "      <td>Henderson</td>\n",
       "      <td>...</td>\n",
       "      <td>42420</td>\n",
       "      <td>South</td>\n",
       "      <td>FUR-CH-10000454</td>\n",
       "      <td>Furniture</td>\n",
       "      <td>Chairs</td>\n",
       "      <td>Hon Deluxe Fabric Upholstered Stacking Chairs,...</td>\n",
       "      <td>731.94</td>\n",
       "      <td>3</td>\n",
       "      <td>0.00</td>\n",
       "      <td>219.58</td>\n",
       "    </tr>\n",
       "    <tr>\n",
       "      <th>2</th>\n",
       "      <td>3</td>\n",
       "      <td>CA-2016-138688</td>\n",
       "      <td>2016-06-12</td>\n",
       "      <td>6/16/2016</td>\n",
       "      <td>Second Class</td>\n",
       "      <td>DV-13045</td>\n",
       "      <td>Darrin Van Huff</td>\n",
       "      <td>Corporate</td>\n",
       "      <td>United States</td>\n",
       "      <td>Los Angeles</td>\n",
       "      <td>...</td>\n",
       "      <td>90036</td>\n",
       "      <td>West</td>\n",
       "      <td>OFF-LA-10000240</td>\n",
       "      <td>Office Supplies</td>\n",
       "      <td>Labels</td>\n",
       "      <td>Self-Adhesive Address Labels for Typewriters b...</td>\n",
       "      <td>14.62</td>\n",
       "      <td>2</td>\n",
       "      <td>0.00</td>\n",
       "      <td>6.87</td>\n",
       "    </tr>\n",
       "    <tr>\n",
       "      <th>3</th>\n",
       "      <td>4</td>\n",
       "      <td>US-2015-108966</td>\n",
       "      <td>2015-10-11</td>\n",
       "      <td>10/18/2015</td>\n",
       "      <td>Standard Class</td>\n",
       "      <td>SO-20335</td>\n",
       "      <td>Sean O'Donnell</td>\n",
       "      <td>Consumer</td>\n",
       "      <td>United States</td>\n",
       "      <td>Fort Lauderdale</td>\n",
       "      <td>...</td>\n",
       "      <td>33311</td>\n",
       "      <td>South</td>\n",
       "      <td>FUR-TA-10000577</td>\n",
       "      <td>Furniture</td>\n",
       "      <td>Tables</td>\n",
       "      <td>Bretford CR4500 Series Slim Rectangular Table</td>\n",
       "      <td>957.58</td>\n",
       "      <td>5</td>\n",
       "      <td>0.45</td>\n",
       "      <td>-383.03</td>\n",
       "    </tr>\n",
       "    <tr>\n",
       "      <th>4</th>\n",
       "      <td>5</td>\n",
       "      <td>US-2015-108966</td>\n",
       "      <td>2015-10-11</td>\n",
       "      <td>10/18/2015</td>\n",
       "      <td>Standard Class</td>\n",
       "      <td>SO-20335</td>\n",
       "      <td>Sean O'Donnell</td>\n",
       "      <td>Consumer</td>\n",
       "      <td>United States</td>\n",
       "      <td>Fort Lauderdale</td>\n",
       "      <td>...</td>\n",
       "      <td>33311</td>\n",
       "      <td>South</td>\n",
       "      <td>OFF-ST-10000760</td>\n",
       "      <td>Office Supplies</td>\n",
       "      <td>Storage</td>\n",
       "      <td>Eldon Fold 'N Roll Cart System</td>\n",
       "      <td>22.37</td>\n",
       "      <td>2</td>\n",
       "      <td>0.20</td>\n",
       "      <td>2.52</td>\n",
       "    </tr>\n",
       "  </tbody>\n",
       "</table>\n",
       "<p>5 rows × 21 columns</p>\n",
       "</div>"
      ],
      "text/plain": [
       "   row_id        order_id order_date   ship_date       ship_mode customer_id  \\\n",
       "0       1  CA-2016-152156 2016-11-08  11/11/2016    Second Class    CG-12520   \n",
       "1       2  CA-2016-152156 2016-11-08  11/11/2016    Second Class    CG-12520   \n",
       "2       3  CA-2016-138688 2016-06-12   6/16/2016    Second Class    DV-13045   \n",
       "3       4  US-2015-108966 2015-10-11  10/18/2015  Standard Class    SO-20335   \n",
       "4       5  US-2015-108966 2015-10-11  10/18/2015  Standard Class    SO-20335   \n",
       "\n",
       "     customer_name    segment        country             city  ...  \\\n",
       "0      Claire Gute   Consumer  United States        Henderson  ...   \n",
       "1      Claire Gute   Consumer  United States        Henderson  ...   \n",
       "2  Darrin Van Huff  Corporate  United States      Los Angeles  ...   \n",
       "3   Sean O'Donnell   Consumer  United States  Fort Lauderdale  ...   \n",
       "4   Sean O'Donnell   Consumer  United States  Fort Lauderdale  ...   \n",
       "\n",
       "  postal_code  region       product_id         category sub_category  \\\n",
       "0       42420   South  FUR-BO-10001798        Furniture    Bookcases   \n",
       "1       42420   South  FUR-CH-10000454        Furniture       Chairs   \n",
       "2       90036    West  OFF-LA-10000240  Office Supplies       Labels   \n",
       "3       33311   South  FUR-TA-10000577        Furniture       Tables   \n",
       "4       33311   South  OFF-ST-10000760  Office Supplies      Storage   \n",
       "\n",
       "                                        product_name  sales  quantity  \\\n",
       "0                  Bush Somerset Collection Bookcase 261.96         2   \n",
       "1  Hon Deluxe Fabric Upholstered Stacking Chairs,... 731.94         3   \n",
       "2  Self-Adhesive Address Labels for Typewriters b...  14.62         2   \n",
       "3      Bretford CR4500 Series Slim Rectangular Table 957.58         5   \n",
       "4                     Eldon Fold 'N Roll Cart System  22.37         2   \n",
       "\n",
       "   discount  profit  \n",
       "0      0.00   41.91  \n",
       "1      0.00  219.58  \n",
       "2      0.00    6.87  \n",
       "3      0.45 -383.03  \n",
       "4      0.20    2.52  \n",
       "\n",
       "[5 rows x 21 columns]"
      ]
     },
     "execution_count": 26,
     "metadata": {},
     "output_type": "execute_result"
    }
   ],
   "source": [
    "df['order_date'] = pd.to_datetime(df['order_date'])\n",
    "df.head()"
   ]
  },
  {
   "cell_type": "code",
   "execution_count": 29,
   "id": "932281b0",
   "metadata": {},
   "outputs": [
    {
     "data": {
      "text/plain": [
       "order_date\n",
       "2014   49,543.97\n",
       "2015   61,618.60\n",
       "2016   81,795.17\n",
       "2017   93,439.27\n",
       "Name: profit, dtype: float64"
      ]
     },
     "execution_count": 29,
     "metadata": {},
     "output_type": "execute_result"
    }
   ],
   "source": [
    "df.groupby(df['order_date'].dt.year)['profit'].sum()\n",
    "# df.groupby(df['order_date'].dt.month)['profit'].sum()"
   ]
  },
  {
   "cell_type": "code",
   "execution_count": 56,
   "id": "54d96105",
   "metadata": {},
   "outputs": [],
   "source": [
    "profit_over_time = df.groupby(\n",
    "    [df['order_date'].dt.year,\n",
    "     df['order_date'].dt.month])['profit'].sum().to_frame()\n",
    "\n"
   ]
  },
  {
   "cell_type": "code",
   "execution_count": 63,
   "id": "1d35aacd",
   "metadata": {},
   "outputs": [
    {
     "data": {
      "text/html": [
       "<div>\n",
       "<style scoped>\n",
       "    .dataframe tbody tr th:only-of-type {\n",
       "        vertical-align: middle;\n",
       "    }\n",
       "\n",
       "    .dataframe tbody tr th {\n",
       "        vertical-align: top;\n",
       "    }\n",
       "\n",
       "    .dataframe thead th {\n",
       "        text-align: right;\n",
       "    }\n",
       "</style>\n",
       "<table border=\"1\" class=\"dataframe\">\n",
       "  <thead>\n",
       "    <tr style=\"text-align: right;\">\n",
       "      <th></th>\n",
       "      <th>order_date</th>\n",
       "      <th>profit</th>\n",
       "    </tr>\n",
       "  </thead>\n",
       "  <tbody>\n",
       "    <tr>\n",
       "      <th>0</th>\n",
       "      <td>2014-01-03</td>\n",
       "      <td>5.55</td>\n",
       "    </tr>\n",
       "    <tr>\n",
       "      <th>1</th>\n",
       "      <td>2014-01-04</td>\n",
       "      <td>-65.99</td>\n",
       "    </tr>\n",
       "    <tr>\n",
       "      <th>2</th>\n",
       "      <td>2014-01-05</td>\n",
       "      <td>4.88</td>\n",
       "    </tr>\n",
       "    <tr>\n",
       "      <th>3</th>\n",
       "      <td>2014-01-06</td>\n",
       "      <td>1,358.05</td>\n",
       "    </tr>\n",
       "    <tr>\n",
       "      <th>4</th>\n",
       "      <td>2014-01-07</td>\n",
       "      <td>-71.96</td>\n",
       "    </tr>\n",
       "    <tr>\n",
       "      <th>...</th>\n",
       "      <td>...</td>\n",
       "      <td>...</td>\n",
       "    </tr>\n",
       "    <tr>\n",
       "      <th>1232</th>\n",
       "      <td>2017-12-26</td>\n",
       "      <td>61.12</td>\n",
       "    </tr>\n",
       "    <tr>\n",
       "      <th>1233</th>\n",
       "      <td>2017-12-27</td>\n",
       "      <td>-31.97</td>\n",
       "    </tr>\n",
       "    <tr>\n",
       "      <th>1234</th>\n",
       "      <td>2017-12-28</td>\n",
       "      <td>253.12</td>\n",
       "    </tr>\n",
       "    <tr>\n",
       "      <th>1235</th>\n",
       "      <td>2017-12-29</td>\n",
       "      <td>644.43</td>\n",
       "    </tr>\n",
       "    <tr>\n",
       "      <th>1236</th>\n",
       "      <td>2017-12-30</td>\n",
       "      <td>101.54</td>\n",
       "    </tr>\n",
       "  </tbody>\n",
       "</table>\n",
       "<p>1237 rows × 2 columns</p>\n",
       "</div>"
      ],
      "text/plain": [
       "     order_date   profit\n",
       "0    2014-01-03     5.55\n",
       "1    2014-01-04   -65.99\n",
       "2    2014-01-05     4.88\n",
       "3    2014-01-06 1,358.05\n",
       "4    2014-01-07   -71.96\n",
       "...         ...      ...\n",
       "1232 2017-12-26    61.12\n",
       "1233 2017-12-27   -31.97\n",
       "1234 2017-12-28   253.12\n",
       "1235 2017-12-29   644.43\n",
       "1236 2017-12-30   101.54\n",
       "\n",
       "[1237 rows x 2 columns]"
      ]
     },
     "execution_count": 63,
     "metadata": {},
     "output_type": "execute_result"
    }
   ],
   "source": [
    "daily_profit = df.groupby('order_date')['profit'].sum().reset_index()\n",
    "daily_profit\n",
    "\n"
   ]
  },
  {
   "cell_type": "code",
   "execution_count": 70,
   "id": "964ff717",
   "metadata": {},
   "outputs": [
    {
     "data": {
      "application/vnd.plotly.v1+json": {
       "config": {
        "plotlyServerURL": "https://plot.ly"
       },
       "data": [
        {
         "hovertemplate": "order_date=%{x}<br>profit=%{y}<extra></extra>",
         "legendgroup": "",
         "marker": {
          "color": "#636efa",
          "pattern": {
           "shape": ""
          }
         },
         "name": "",
         "orientation": "v",
         "showlegend": false,
         "textposition": "auto",
         "type": "bar",
         "x": [
          "2014-01-03T00:00:00.000000000",
          "2014-01-04T00:00:00.000000000",
          "2014-01-05T00:00:00.000000000",
          "2014-01-06T00:00:00.000000000",
          "2014-01-07T00:00:00.000000000",
          "2014-01-09T00:00:00.000000000",
          "2014-01-10T00:00:00.000000000",
          "2014-01-11T00:00:00.000000000",
          "2014-01-13T00:00:00.000000000",
          "2014-01-14T00:00:00.000000000",
          "2014-01-15T00:00:00.000000000",
          "2014-01-16T00:00:00.000000000",
          "2014-01-18T00:00:00.000000000",
          "2014-01-19T00:00:00.000000000",
          "2014-01-20T00:00:00.000000000",
          "2014-01-21T00:00:00.000000000",
          "2014-01-23T00:00:00.000000000",
          "2014-01-26T00:00:00.000000000",
          "2014-01-27T00:00:00.000000000",
          "2014-01-28T00:00:00.000000000",
          "2014-01-30T00:00:00.000000000",
          "2014-01-31T00:00:00.000000000",
          "2014-02-01T00:00:00.000000000",
          "2014-02-02T00:00:00.000000000",
          "2014-02-03T00:00:00.000000000",
          "2014-02-04T00:00:00.000000000",
          "2014-02-06T00:00:00.000000000",
          "2014-02-07T00:00:00.000000000",
          "2014-02-08T00:00:00.000000000",
          "2014-02-11T00:00:00.000000000",
          "2014-02-12T00:00:00.000000000",
          "2014-02-14T00:00:00.000000000",
          "2014-02-15T00:00:00.000000000",
          "2014-02-16T00:00:00.000000000",
          "2014-02-17T00:00:00.000000000",
          "2014-02-18T00:00:00.000000000",
          "2014-02-20T00:00:00.000000000",
          "2014-02-21T00:00:00.000000000",
          "2014-02-22T00:00:00.000000000",
          "2014-02-23T00:00:00.000000000",
          "2014-02-24T00:00:00.000000000",
          "2014-02-27T00:00:00.000000000",
          "2014-03-01T00:00:00.000000000",
          "2014-03-02T00:00:00.000000000",
          "2014-03-03T00:00:00.000000000",
          "2014-03-04T00:00:00.000000000",
          "2014-03-05T00:00:00.000000000",
          "2014-03-07T00:00:00.000000000",
          "2014-03-10T00:00:00.000000000",
          "2014-03-11T00:00:00.000000000",
          "2014-03-14T00:00:00.000000000",
          "2014-03-15T00:00:00.000000000",
          "2014-03-16T00:00:00.000000000",
          "2014-03-17T00:00:00.000000000",
          "2014-03-18T00:00:00.000000000",
          "2014-03-19T00:00:00.000000000",
          "2014-03-21T00:00:00.000000000",
          "2014-03-22T00:00:00.000000000",
          "2014-03-23T00:00:00.000000000",
          "2014-03-24T00:00:00.000000000",
          "2014-03-25T00:00:00.000000000",
          "2014-03-26T00:00:00.000000000",
          "2014-03-28T00:00:00.000000000",
          "2014-03-29T00:00:00.000000000",
          "2014-03-30T00:00:00.000000000",
          "2014-03-31T00:00:00.000000000",
          "2014-04-01T00:00:00.000000000",
          "2014-04-02T00:00:00.000000000",
          "2014-04-03T00:00:00.000000000",
          "2014-04-04T00:00:00.000000000",
          "2014-04-05T00:00:00.000000000",
          "2014-04-06T00:00:00.000000000",
          "2014-04-07T00:00:00.000000000",
          "2014-04-08T00:00:00.000000000",
          "2014-04-11T00:00:00.000000000",
          "2014-04-12T00:00:00.000000000",
          "2014-04-13T00:00:00.000000000",
          "2014-04-15T00:00:00.000000000",
          "2014-04-16T00:00:00.000000000",
          "2014-04-18T00:00:00.000000000",
          "2014-04-19T00:00:00.000000000",
          "2014-04-20T00:00:00.000000000",
          "2014-04-21T00:00:00.000000000",
          "2014-04-22T00:00:00.000000000",
          "2014-04-23T00:00:00.000000000",
          "2014-04-25T00:00:00.000000000",
          "2014-04-26T00:00:00.000000000",
          "2014-04-28T00:00:00.000000000",
          "2014-04-29T00:00:00.000000000",
          "2014-04-30T00:00:00.000000000",
          "2014-05-02T00:00:00.000000000",
          "2014-05-03T00:00:00.000000000",
          "2014-05-04T00:00:00.000000000",
          "2014-05-05T00:00:00.000000000",
          "2014-05-06T00:00:00.000000000",
          "2014-05-07T00:00:00.000000000",
          "2014-05-08T00:00:00.000000000",
          "2014-05-09T00:00:00.000000000",
          "2014-05-10T00:00:00.000000000",
          "2014-05-11T00:00:00.000000000",
          "2014-05-12T00:00:00.000000000",
          "2014-05-13T00:00:00.000000000",
          "2014-05-14T00:00:00.000000000",
          "2014-05-16T00:00:00.000000000",
          "2014-05-17T00:00:00.000000000",
          "2014-05-18T00:00:00.000000000",
          "2014-05-19T00:00:00.000000000",
          "2014-05-20T00:00:00.000000000",
          "2014-05-21T00:00:00.000000000",
          "2014-05-22T00:00:00.000000000",
          "2014-05-23T00:00:00.000000000",
          "2014-05-24T00:00:00.000000000",
          "2014-05-25T00:00:00.000000000",
          "2014-05-26T00:00:00.000000000",
          "2014-05-27T00:00:00.000000000",
          "2014-05-28T00:00:00.000000000",
          "2014-05-30T00:00:00.000000000",
          "2014-05-31T00:00:00.000000000",
          "2014-06-01T00:00:00.000000000",
          "2014-06-02T00:00:00.000000000",
          "2014-06-03T00:00:00.000000000",
          "2014-06-04T00:00:00.000000000",
          "2014-06-06T00:00:00.000000000",
          "2014-06-07T00:00:00.000000000",
          "2014-06-08T00:00:00.000000000",
          "2014-06-09T00:00:00.000000000",
          "2014-06-10T00:00:00.000000000",
          "2014-06-13T00:00:00.000000000",
          "2014-06-14T00:00:00.000000000",
          "2014-06-15T00:00:00.000000000",
          "2014-06-16T00:00:00.000000000",
          "2014-06-17T00:00:00.000000000",
          "2014-06-18T00:00:00.000000000",
          "2014-06-20T00:00:00.000000000",
          "2014-06-21T00:00:00.000000000",
          "2014-06-22T00:00:00.000000000",
          "2014-06-23T00:00:00.000000000",
          "2014-06-24T00:00:00.000000000",
          "2014-06-25T00:00:00.000000000",
          "2014-06-27T00:00:00.000000000",
          "2014-06-28T00:00:00.000000000",
          "2014-06-29T00:00:00.000000000",
          "2014-06-30T00:00:00.000000000",
          "2014-07-01T00:00:00.000000000",
          "2014-07-02T00:00:00.000000000",
          "2014-07-04T00:00:00.000000000",
          "2014-07-05T00:00:00.000000000",
          "2014-07-06T00:00:00.000000000",
          "2014-07-07T00:00:00.000000000",
          "2014-07-08T00:00:00.000000000",
          "2014-07-09T00:00:00.000000000",
          "2014-07-11T00:00:00.000000000",
          "2014-07-12T00:00:00.000000000",
          "2014-07-13T00:00:00.000000000",
          "2014-07-14T00:00:00.000000000",
          "2014-07-15T00:00:00.000000000",
          "2014-07-18T00:00:00.000000000",
          "2014-07-19T00:00:00.000000000",
          "2014-07-20T00:00:00.000000000",
          "2014-07-21T00:00:00.000000000",
          "2014-07-22T00:00:00.000000000",
          "2014-07-23T00:00:00.000000000",
          "2014-07-25T00:00:00.000000000",
          "2014-07-26T00:00:00.000000000",
          "2014-07-27T00:00:00.000000000",
          "2014-07-28T00:00:00.000000000",
          "2014-07-30T00:00:00.000000000",
          "2014-08-01T00:00:00.000000000",
          "2014-08-02T00:00:00.000000000",
          "2014-08-03T00:00:00.000000000",
          "2014-08-04T00:00:00.000000000",
          "2014-08-05T00:00:00.000000000",
          "2014-08-06T00:00:00.000000000",
          "2014-08-08T00:00:00.000000000",
          "2014-08-09T00:00:00.000000000",
          "2014-08-11T00:00:00.000000000",
          "2014-08-12T00:00:00.000000000",
          "2014-08-15T00:00:00.000000000",
          "2014-08-16T00:00:00.000000000",
          "2014-08-17T00:00:00.000000000",
          "2014-08-19T00:00:00.000000000",
          "2014-08-20T00:00:00.000000000",
          "2014-08-22T00:00:00.000000000",
          "2014-08-23T00:00:00.000000000",
          "2014-08-24T00:00:00.000000000",
          "2014-08-25T00:00:00.000000000",
          "2014-08-26T00:00:00.000000000",
          "2014-08-27T00:00:00.000000000",
          "2014-08-29T00:00:00.000000000",
          "2014-08-30T00:00:00.000000000",
          "2014-08-31T00:00:00.000000000",
          "2014-09-01T00:00:00.000000000",
          "2014-09-02T00:00:00.000000000",
          "2014-09-03T00:00:00.000000000",
          "2014-09-05T00:00:00.000000000",
          "2014-09-06T00:00:00.000000000",
          "2014-09-07T00:00:00.000000000",
          "2014-09-08T00:00:00.000000000",
          "2014-09-09T00:00:00.000000000",
          "2014-09-10T00:00:00.000000000",
          "2014-09-11T00:00:00.000000000",
          "2014-09-12T00:00:00.000000000",
          "2014-09-13T00:00:00.000000000",
          "2014-09-14T00:00:00.000000000",
          "2014-09-15T00:00:00.000000000",
          "2014-09-16T00:00:00.000000000",
          "2014-09-17T00:00:00.000000000",
          "2014-09-19T00:00:00.000000000",
          "2014-09-20T00:00:00.000000000",
          "2014-09-21T00:00:00.000000000",
          "2014-09-22T00:00:00.000000000",
          "2014-09-23T00:00:00.000000000",
          "2014-09-24T00:00:00.000000000",
          "2014-09-25T00:00:00.000000000",
          "2014-09-26T00:00:00.000000000",
          "2014-09-27T00:00:00.000000000",
          "2014-09-28T00:00:00.000000000",
          "2014-09-29T00:00:00.000000000",
          "2014-09-30T00:00:00.000000000",
          "2014-10-01T00:00:00.000000000",
          "2014-10-02T00:00:00.000000000",
          "2014-10-03T00:00:00.000000000",
          "2014-10-04T00:00:00.000000000",
          "2014-10-05T00:00:00.000000000",
          "2014-10-06T00:00:00.000000000",
          "2014-10-07T00:00:00.000000000",
          "2014-10-08T00:00:00.000000000",
          "2014-10-09T00:00:00.000000000",
          "2014-10-10T00:00:00.000000000",
          "2014-10-11T00:00:00.000000000",
          "2014-10-12T00:00:00.000000000",
          "2014-10-13T00:00:00.000000000",
          "2014-10-14T00:00:00.000000000",
          "2014-10-15T00:00:00.000000000",
          "2014-10-16T00:00:00.000000000",
          "2014-10-17T00:00:00.000000000",
          "2014-10-18T00:00:00.000000000",
          "2014-10-19T00:00:00.000000000",
          "2014-10-20T00:00:00.000000000",
          "2014-10-21T00:00:00.000000000",
          "2014-10-22T00:00:00.000000000",
          "2014-10-24T00:00:00.000000000",
          "2014-10-25T00:00:00.000000000",
          "2014-10-26T00:00:00.000000000",
          "2014-10-27T00:00:00.000000000",
          "2014-10-28T00:00:00.000000000",
          "2014-10-29T00:00:00.000000000",
          "2014-10-31T00:00:00.000000000",
          "2014-11-01T00:00:00.000000000",
          "2014-11-02T00:00:00.000000000",
          "2014-11-03T00:00:00.000000000",
          "2014-11-04T00:00:00.000000000",
          "2014-11-05T00:00:00.000000000",
          "2014-11-06T00:00:00.000000000",
          "2014-11-07T00:00:00.000000000",
          "2014-11-08T00:00:00.000000000",
          "2014-11-09T00:00:00.000000000",
          "2014-11-10T00:00:00.000000000",
          "2014-11-11T00:00:00.000000000",
          "2014-11-12T00:00:00.000000000",
          "2014-11-14T00:00:00.000000000",
          "2014-11-15T00:00:00.000000000",
          "2014-11-16T00:00:00.000000000",
          "2014-11-17T00:00:00.000000000",
          "2014-11-18T00:00:00.000000000",
          "2014-11-19T00:00:00.000000000",
          "2014-11-20T00:00:00.000000000",
          "2014-11-21T00:00:00.000000000",
          "2014-11-22T00:00:00.000000000",
          "2014-11-23T00:00:00.000000000",
          "2014-11-24T00:00:00.000000000",
          "2014-11-25T00:00:00.000000000",
          "2014-11-26T00:00:00.000000000",
          "2014-11-27T00:00:00.000000000",
          "2014-11-28T00:00:00.000000000",
          "2014-11-29T00:00:00.000000000",
          "2014-11-30T00:00:00.000000000",
          "2014-12-01T00:00:00.000000000",
          "2014-12-02T00:00:00.000000000",
          "2014-12-03T00:00:00.000000000",
          "2014-12-04T00:00:00.000000000",
          "2014-12-05T00:00:00.000000000",
          "2014-12-06T00:00:00.000000000",
          "2014-12-07T00:00:00.000000000",
          "2014-12-08T00:00:00.000000000",
          "2014-12-09T00:00:00.000000000",
          "2014-12-10T00:00:00.000000000",
          "2014-12-12T00:00:00.000000000",
          "2014-12-13T00:00:00.000000000",
          "2014-12-14T00:00:00.000000000",
          "2014-12-15T00:00:00.000000000",
          "2014-12-16T00:00:00.000000000",
          "2014-12-17T00:00:00.000000000",
          "2014-12-19T00:00:00.000000000",
          "2014-12-20T00:00:00.000000000",
          "2014-12-21T00:00:00.000000000",
          "2014-12-22T00:00:00.000000000",
          "2014-12-23T00:00:00.000000000",
          "2014-12-24T00:00:00.000000000",
          "2014-12-26T00:00:00.000000000",
          "2014-12-27T00:00:00.000000000",
          "2014-12-28T00:00:00.000000000",
          "2014-12-29T00:00:00.000000000",
          "2014-12-30T00:00:00.000000000",
          "2014-12-31T00:00:00.000000000",
          "2015-01-02T00:00:00.000000000",
          "2015-01-03T00:00:00.000000000",
          "2015-01-04T00:00:00.000000000",
          "2015-01-05T00:00:00.000000000",
          "2015-01-06T00:00:00.000000000",
          "2015-01-09T00:00:00.000000000",
          "2015-01-10T00:00:00.000000000",
          "2015-01-12T00:00:00.000000000",
          "2015-01-13T00:00:00.000000000",
          "2015-01-17T00:00:00.000000000",
          "2015-01-19T00:00:00.000000000",
          "2015-01-23T00:00:00.000000000",
          "2015-01-24T00:00:00.000000000",
          "2015-01-26T00:00:00.000000000",
          "2015-01-27T00:00:00.000000000",
          "2015-01-28T00:00:00.000000000",
          "2015-01-30T00:00:00.000000000",
          "2015-01-31T00:00:00.000000000",
          "2015-02-03T00:00:00.000000000",
          "2015-02-06T00:00:00.000000000",
          "2015-02-07T00:00:00.000000000",
          "2015-02-08T00:00:00.000000000",
          "2015-02-09T00:00:00.000000000",
          "2015-02-10T00:00:00.000000000",
          "2015-02-14T00:00:00.000000000",
          "2015-02-15T00:00:00.000000000",
          "2015-02-16T00:00:00.000000000",
          "2015-02-18T00:00:00.000000000",
          "2015-02-20T00:00:00.000000000",
          "2015-02-21T00:00:00.000000000",
          "2015-02-22T00:00:00.000000000",
          "2015-02-23T00:00:00.000000000",
          "2015-02-25T00:00:00.000000000",
          "2015-02-27T00:00:00.000000000",
          "2015-02-28T00:00:00.000000000",
          "2015-03-01T00:00:00.000000000",
          "2015-03-02T00:00:00.000000000",
          "2015-03-05T00:00:00.000000000",
          "2015-03-06T00:00:00.000000000",
          "2015-03-07T00:00:00.000000000",
          "2015-03-08T00:00:00.000000000",
          "2015-03-09T00:00:00.000000000",
          "2015-03-10T00:00:00.000000000",
          "2015-03-12T00:00:00.000000000",
          "2015-03-13T00:00:00.000000000",
          "2015-03-14T00:00:00.000000000",
          "2015-03-15T00:00:00.000000000",
          "2015-03-16T00:00:00.000000000",
          "2015-03-17T00:00:00.000000000",
          "2015-03-19T00:00:00.000000000",
          "2015-03-20T00:00:00.000000000",
          "2015-03-21T00:00:00.000000000",
          "2015-03-22T00:00:00.000000000",
          "2015-03-23T00:00:00.000000000",
          "2015-03-24T00:00:00.000000000",
          "2015-03-26T00:00:00.000000000",
          "2015-03-27T00:00:00.000000000",
          "2015-03-28T00:00:00.000000000",
          "2015-03-29T00:00:00.000000000",
          "2015-03-30T00:00:00.000000000",
          "2015-03-31T00:00:00.000000000",
          "2015-04-02T00:00:00.000000000",
          "2015-04-04T00:00:00.000000000",
          "2015-04-05T00:00:00.000000000",
          "2015-04-06T00:00:00.000000000",
          "2015-04-07T00:00:00.000000000",
          "2015-04-09T00:00:00.000000000",
          "2015-04-10T00:00:00.000000000",
          "2015-04-11T00:00:00.000000000",
          "2015-04-12T00:00:00.000000000",
          "2015-04-13T00:00:00.000000000",
          "2015-04-14T00:00:00.000000000",
          "2015-04-16T00:00:00.000000000",
          "2015-04-17T00:00:00.000000000",
          "2015-04-18T00:00:00.000000000",
          "2015-04-19T00:00:00.000000000",
          "2015-04-20T00:00:00.000000000",
          "2015-04-21T00:00:00.000000000",
          "2015-04-22T00:00:00.000000000",
          "2015-04-24T00:00:00.000000000",
          "2015-04-25T00:00:00.000000000",
          "2015-04-26T00:00:00.000000000",
          "2015-04-27T00:00:00.000000000",
          "2015-04-28T00:00:00.000000000",
          "2015-04-29T00:00:00.000000000",
          "2015-04-30T00:00:00.000000000",
          "2015-05-01T00:00:00.000000000",
          "2015-05-02T00:00:00.000000000",
          "2015-05-03T00:00:00.000000000",
          "2015-05-04T00:00:00.000000000",
          "2015-05-07T00:00:00.000000000",
          "2015-05-08T00:00:00.000000000",
          "2015-05-09T00:00:00.000000000",
          "2015-05-10T00:00:00.000000000",
          "2015-05-11T00:00:00.000000000",
          "2015-05-12T00:00:00.000000000",
          "2015-05-13T00:00:00.000000000",
          "2015-05-14T00:00:00.000000000",
          "2015-05-15T00:00:00.000000000",
          "2015-05-16T00:00:00.000000000",
          "2015-05-17T00:00:00.000000000",
          "2015-05-18T00:00:00.000000000",
          "2015-05-20T00:00:00.000000000",
          "2015-05-21T00:00:00.000000000",
          "2015-05-22T00:00:00.000000000",
          "2015-05-23T00:00:00.000000000",
          "2015-05-24T00:00:00.000000000",
          "2015-05-25T00:00:00.000000000",
          "2015-05-26T00:00:00.000000000",
          "2015-05-28T00:00:00.000000000",
          "2015-05-29T00:00:00.000000000",
          "2015-05-30T00:00:00.000000000",
          "2015-05-31T00:00:00.000000000",
          "2015-06-01T00:00:00.000000000",
          "2015-06-04T00:00:00.000000000",
          "2015-06-05T00:00:00.000000000",
          "2015-06-07T00:00:00.000000000",
          "2015-06-08T00:00:00.000000000",
          "2015-06-09T00:00:00.000000000",
          "2015-06-11T00:00:00.000000000",
          "2015-06-12T00:00:00.000000000",
          "2015-06-13T00:00:00.000000000",
          "2015-06-14T00:00:00.000000000",
          "2015-06-15T00:00:00.000000000",
          "2015-06-16T00:00:00.000000000",
          "2015-06-18T00:00:00.000000000",
          "2015-06-19T00:00:00.000000000",
          "2015-06-20T00:00:00.000000000",
          "2015-06-21T00:00:00.000000000",
          "2015-06-22T00:00:00.000000000",
          "2015-06-23T00:00:00.000000000",
          "2015-06-25T00:00:00.000000000",
          "2015-06-26T00:00:00.000000000",
          "2015-06-28T00:00:00.000000000",
          "2015-06-29T00:00:00.000000000",
          "2015-07-02T00:00:00.000000000",
          "2015-07-03T00:00:00.000000000",
          "2015-07-04T00:00:00.000000000",
          "2015-07-05T00:00:00.000000000",
          "2015-07-06T00:00:00.000000000",
          "2015-07-08T00:00:00.000000000",
          "2015-07-09T00:00:00.000000000",
          "2015-07-10T00:00:00.000000000",
          "2015-07-11T00:00:00.000000000",
          "2015-07-12T00:00:00.000000000",
          "2015-07-13T00:00:00.000000000",
          "2015-07-14T00:00:00.000000000",
          "2015-07-16T00:00:00.000000000",
          "2015-07-17T00:00:00.000000000",
          "2015-07-18T00:00:00.000000000",
          "2015-07-19T00:00:00.000000000",
          "2015-07-20T00:00:00.000000000",
          "2015-07-23T00:00:00.000000000",
          "2015-07-24T00:00:00.000000000",
          "2015-07-25T00:00:00.000000000",
          "2015-07-26T00:00:00.000000000",
          "2015-07-27T00:00:00.000000000",
          "2015-07-30T00:00:00.000000000",
          "2015-07-31T00:00:00.000000000",
          "2015-08-01T00:00:00.000000000",
          "2015-08-02T00:00:00.000000000",
          "2015-08-05T00:00:00.000000000",
          "2015-08-06T00:00:00.000000000",
          "2015-08-07T00:00:00.000000000",
          "2015-08-08T00:00:00.000000000",
          "2015-08-09T00:00:00.000000000",
          "2015-08-10T00:00:00.000000000",
          "2015-08-11T00:00:00.000000000",
          "2015-08-13T00:00:00.000000000",
          "2015-08-15T00:00:00.000000000",
          "2015-08-16T00:00:00.000000000",
          "2015-08-17T00:00:00.000000000",
          "2015-08-21T00:00:00.000000000",
          "2015-08-22T00:00:00.000000000",
          "2015-08-23T00:00:00.000000000",
          "2015-08-24T00:00:00.000000000",
          "2015-08-25T00:00:00.000000000",
          "2015-08-27T00:00:00.000000000",
          "2015-08-28T00:00:00.000000000",
          "2015-08-29T00:00:00.000000000",
          "2015-08-31T00:00:00.000000000",
          "2015-09-01T00:00:00.000000000",
          "2015-09-03T00:00:00.000000000",
          "2015-09-04T00:00:00.000000000",
          "2015-09-05T00:00:00.000000000",
          "2015-09-06T00:00:00.000000000",
          "2015-09-07T00:00:00.000000000",
          "2015-09-08T00:00:00.000000000",
          "2015-09-10T00:00:00.000000000",
          "2015-09-11T00:00:00.000000000",
          "2015-09-12T00:00:00.000000000",
          "2015-09-13T00:00:00.000000000",
          "2015-09-14T00:00:00.000000000",
          "2015-09-15T00:00:00.000000000",
          "2015-09-16T00:00:00.000000000",
          "2015-09-17T00:00:00.000000000",
          "2015-09-18T00:00:00.000000000",
          "2015-09-19T00:00:00.000000000",
          "2015-09-20T00:00:00.000000000",
          "2015-09-21T00:00:00.000000000",
          "2015-09-22T00:00:00.000000000",
          "2015-09-24T00:00:00.000000000",
          "2015-09-25T00:00:00.000000000",
          "2015-09-26T00:00:00.000000000",
          "2015-09-27T00:00:00.000000000",
          "2015-09-28T00:00:00.000000000",
          "2015-10-01T00:00:00.000000000",
          "2015-10-02T00:00:00.000000000",
          "2015-10-03T00:00:00.000000000",
          "2015-10-04T00:00:00.000000000",
          "2015-10-05T00:00:00.000000000",
          "2015-10-08T00:00:00.000000000",
          "2015-10-09T00:00:00.000000000",
          "2015-10-10T00:00:00.000000000",
          "2015-10-11T00:00:00.000000000",
          "2015-10-12T00:00:00.000000000",
          "2015-10-13T00:00:00.000000000",
          "2015-10-15T00:00:00.000000000",
          "2015-10-16T00:00:00.000000000",
          "2015-10-17T00:00:00.000000000",
          "2015-10-18T00:00:00.000000000",
          "2015-10-19T00:00:00.000000000",
          "2015-10-20T00:00:00.000000000",
          "2015-10-22T00:00:00.000000000",
          "2015-10-23T00:00:00.000000000",
          "2015-10-24T00:00:00.000000000",
          "2015-10-25T00:00:00.000000000",
          "2015-10-26T00:00:00.000000000",
          "2015-10-28T00:00:00.000000000",
          "2015-10-29T00:00:00.000000000",
          "2015-10-30T00:00:00.000000000",
          "2015-10-31T00:00:00.000000000",
          "2015-11-01T00:00:00.000000000",
          "2015-11-02T00:00:00.000000000",
          "2015-11-03T00:00:00.000000000",
          "2015-11-05T00:00:00.000000000",
          "2015-11-06T00:00:00.000000000",
          "2015-11-07T00:00:00.000000000",
          "2015-11-08T00:00:00.000000000",
          "2015-11-09T00:00:00.000000000",
          "2015-11-10T00:00:00.000000000",
          "2015-11-11T00:00:00.000000000",
          "2015-11-12T00:00:00.000000000",
          "2015-11-13T00:00:00.000000000",
          "2015-11-14T00:00:00.000000000",
          "2015-11-15T00:00:00.000000000",
          "2015-11-16T00:00:00.000000000",
          "2015-11-17T00:00:00.000000000",
          "2015-11-19T00:00:00.000000000",
          "2015-11-20T00:00:00.000000000",
          "2015-11-21T00:00:00.000000000",
          "2015-11-22T00:00:00.000000000",
          "2015-11-23T00:00:00.000000000",
          "2015-11-24T00:00:00.000000000",
          "2015-11-25T00:00:00.000000000",
          "2015-11-26T00:00:00.000000000",
          "2015-11-27T00:00:00.000000000",
          "2015-11-28T00:00:00.000000000",
          "2015-11-29T00:00:00.000000000",
          "2015-11-30T00:00:00.000000000",
          "2015-12-01T00:00:00.000000000",
          "2015-12-03T00:00:00.000000000",
          "2015-12-04T00:00:00.000000000",
          "2015-12-05T00:00:00.000000000",
          "2015-12-06T00:00:00.000000000",
          "2015-12-07T00:00:00.000000000",
          "2015-12-08T00:00:00.000000000",
          "2015-12-09T00:00:00.000000000",
          "2015-12-10T00:00:00.000000000",
          "2015-12-11T00:00:00.000000000",
          "2015-12-12T00:00:00.000000000",
          "2015-12-13T00:00:00.000000000",
          "2015-12-14T00:00:00.000000000",
          "2015-12-15T00:00:00.000000000",
          "2015-12-16T00:00:00.000000000",
          "2015-12-17T00:00:00.000000000",
          "2015-12-18T00:00:00.000000000",
          "2015-12-19T00:00:00.000000000",
          "2015-12-20T00:00:00.000000000",
          "2015-12-21T00:00:00.000000000",
          "2015-12-22T00:00:00.000000000",
          "2015-12-23T00:00:00.000000000",
          "2015-12-24T00:00:00.000000000",
          "2015-12-25T00:00:00.000000000",
          "2015-12-26T00:00:00.000000000",
          "2015-12-27T00:00:00.000000000",
          "2015-12-28T00:00:00.000000000",
          "2015-12-29T00:00:00.000000000",
          "2015-12-30T00:00:00.000000000",
          "2015-12-31T00:00:00.000000000",
          "2016-01-02T00:00:00.000000000",
          "2016-01-03T00:00:00.000000000",
          "2016-01-04T00:00:00.000000000",
          "2016-01-05T00:00:00.000000000",
          "2016-01-07T00:00:00.000000000",
          "2016-01-08T00:00:00.000000000",
          "2016-01-09T00:00:00.000000000",
          "2016-01-10T00:00:00.000000000",
          "2016-01-11T00:00:00.000000000",
          "2016-01-14T00:00:00.000000000",
          "2016-01-15T00:00:00.000000000",
          "2016-01-16T00:00:00.000000000",
          "2016-01-17T00:00:00.000000000",
          "2016-01-21T00:00:00.000000000",
          "2016-01-22T00:00:00.000000000",
          "2016-01-23T00:00:00.000000000",
          "2016-01-24T00:00:00.000000000",
          "2016-01-25T00:00:00.000000000",
          "2016-01-28T00:00:00.000000000",
          "2016-01-30T00:00:00.000000000",
          "2016-01-31T00:00:00.000000000",
          "2016-02-01T00:00:00.000000000",
          "2016-02-02T00:00:00.000000000",
          "2016-02-03T00:00:00.000000000",
          "2016-02-04T00:00:00.000000000",
          "2016-02-05T00:00:00.000000000",
          "2016-02-06T00:00:00.000000000",
          "2016-02-07T00:00:00.000000000",
          "2016-02-08T00:00:00.000000000",
          "2016-02-09T00:00:00.000000000",
          "2016-02-11T00:00:00.000000000",
          "2016-02-12T00:00:00.000000000",
          "2016-02-13T00:00:00.000000000",
          "2016-02-14T00:00:00.000000000",
          "2016-02-15T00:00:00.000000000",
          "2016-02-16T00:00:00.000000000",
          "2016-02-19T00:00:00.000000000",
          "2016-02-20T00:00:00.000000000",
          "2016-02-21T00:00:00.000000000",
          "2016-02-22T00:00:00.000000000",
          "2016-02-23T00:00:00.000000000",
          "2016-02-25T00:00:00.000000000",
          "2016-02-27T00:00:00.000000000",
          "2016-02-28T00:00:00.000000000",
          "2016-02-29T00:00:00.000000000",
          "2016-03-01T00:00:00.000000000",
          "2016-03-03T00:00:00.000000000",
          "2016-03-04T00:00:00.000000000",
          "2016-03-05T00:00:00.000000000",
          "2016-03-06T00:00:00.000000000",
          "2016-03-07T00:00:00.000000000",
          "2016-03-08T00:00:00.000000000",
          "2016-03-09T00:00:00.000000000",
          "2016-03-10T00:00:00.000000000",
          "2016-03-11T00:00:00.000000000",
          "2016-03-12T00:00:00.000000000",
          "2016-03-13T00:00:00.000000000",
          "2016-03-14T00:00:00.000000000",
          "2016-03-15T00:00:00.000000000",
          "2016-03-17T00:00:00.000000000",
          "2016-03-18T00:00:00.000000000",
          "2016-03-19T00:00:00.000000000",
          "2016-03-20T00:00:00.000000000",
          "2016-03-21T00:00:00.000000000",
          "2016-03-22T00:00:00.000000000",
          "2016-03-24T00:00:00.000000000",
          "2016-03-25T00:00:00.000000000",
          "2016-03-26T00:00:00.000000000",
          "2016-03-27T00:00:00.000000000",
          "2016-03-28T00:00:00.000000000",
          "2016-03-29T00:00:00.000000000",
          "2016-03-30T00:00:00.000000000",
          "2016-03-31T00:00:00.000000000",
          "2016-04-01T00:00:00.000000000",
          "2016-04-02T00:00:00.000000000",
          "2016-04-03T00:00:00.000000000",
          "2016-04-04T00:00:00.000000000",
          "2016-04-05T00:00:00.000000000",
          "2016-04-06T00:00:00.000000000",
          "2016-04-07T00:00:00.000000000",
          "2016-04-08T00:00:00.000000000",
          "2016-04-09T00:00:00.000000000",
          "2016-04-10T00:00:00.000000000",
          "2016-04-12T00:00:00.000000000",
          "2016-04-13T00:00:00.000000000",
          "2016-04-14T00:00:00.000000000",
          "2016-04-15T00:00:00.000000000",
          "2016-04-16T00:00:00.000000000",
          "2016-04-17T00:00:00.000000000",
          "2016-04-18T00:00:00.000000000",
          "2016-04-19T00:00:00.000000000",
          "2016-04-21T00:00:00.000000000",
          "2016-04-22T00:00:00.000000000",
          "2016-04-23T00:00:00.000000000",
          "2016-04-24T00:00:00.000000000",
          "2016-04-25T00:00:00.000000000",
          "2016-04-26T00:00:00.000000000",
          "2016-04-28T00:00:00.000000000",
          "2016-04-30T00:00:00.000000000",
          "2016-05-01T00:00:00.000000000",
          "2016-05-02T00:00:00.000000000",
          "2016-05-03T00:00:00.000000000",
          "2016-05-05T00:00:00.000000000",
          "2016-05-06T00:00:00.000000000",
          "2016-05-07T00:00:00.000000000",
          "2016-05-08T00:00:00.000000000",
          "2016-05-09T00:00:00.000000000",
          "2016-05-10T00:00:00.000000000",
          "2016-05-11T00:00:00.000000000",
          "2016-05-12T00:00:00.000000000",
          "2016-05-14T00:00:00.000000000",
          "2016-05-15T00:00:00.000000000",
          "2016-05-16T00:00:00.000000000",
          "2016-05-17T00:00:00.000000000",
          "2016-05-18T00:00:00.000000000",
          "2016-05-19T00:00:00.000000000",
          "2016-05-20T00:00:00.000000000",
          "2016-05-21T00:00:00.000000000",
          "2016-05-22T00:00:00.000000000",
          "2016-05-23T00:00:00.000000000",
          "2016-05-24T00:00:00.000000000",
          "2016-05-25T00:00:00.000000000",
          "2016-05-26T00:00:00.000000000",
          "2016-05-27T00:00:00.000000000",
          "2016-05-28T00:00:00.000000000",
          "2016-05-29T00:00:00.000000000",
          "2016-05-30T00:00:00.000000000",
          "2016-05-31T00:00:00.000000000",
          "2016-06-02T00:00:00.000000000",
          "2016-06-03T00:00:00.000000000",
          "2016-06-04T00:00:00.000000000",
          "2016-06-05T00:00:00.000000000",
          "2016-06-06T00:00:00.000000000",
          "2016-06-07T00:00:00.000000000",
          "2016-06-09T00:00:00.000000000",
          "2016-06-10T00:00:00.000000000",
          "2016-06-11T00:00:00.000000000",
          "2016-06-12T00:00:00.000000000",
          "2016-06-13T00:00:00.000000000",
          "2016-06-14T00:00:00.000000000",
          "2016-06-15T00:00:00.000000000",
          "2016-06-16T00:00:00.000000000",
          "2016-06-17T00:00:00.000000000",
          "2016-06-18T00:00:00.000000000",
          "2016-06-19T00:00:00.000000000",
          "2016-06-20T00:00:00.000000000",
          "2016-06-21T00:00:00.000000000",
          "2016-06-23T00:00:00.000000000",
          "2016-06-24T00:00:00.000000000",
          "2016-06-25T00:00:00.000000000",
          "2016-06-26T00:00:00.000000000",
          "2016-06-27T00:00:00.000000000",
          "2016-06-28T00:00:00.000000000",
          "2016-06-29T00:00:00.000000000",
          "2016-06-30T00:00:00.000000000",
          "2016-07-01T00:00:00.000000000",
          "2016-07-02T00:00:00.000000000",
          "2016-07-03T00:00:00.000000000",
          "2016-07-04T00:00:00.000000000",
          "2016-07-07T00:00:00.000000000",
          "2016-07-08T00:00:00.000000000",
          "2016-07-09T00:00:00.000000000",
          "2016-07-10T00:00:00.000000000",
          "2016-07-12T00:00:00.000000000",
          "2016-07-14T00:00:00.000000000",
          "2016-07-15T00:00:00.000000000",
          "2016-07-16T00:00:00.000000000",
          "2016-07-17T00:00:00.000000000",
          "2016-07-18T00:00:00.000000000",
          "2016-07-19T00:00:00.000000000",
          "2016-07-20T00:00:00.000000000",
          "2016-07-21T00:00:00.000000000",
          "2016-07-22T00:00:00.000000000",
          "2016-07-23T00:00:00.000000000",
          "2016-07-24T00:00:00.000000000",
          "2016-07-25T00:00:00.000000000",
          "2016-07-28T00:00:00.000000000",
          "2016-07-29T00:00:00.000000000",
          "2016-07-30T00:00:00.000000000",
          "2016-07-31T00:00:00.000000000",
          "2016-08-01T00:00:00.000000000",
          "2016-08-02T00:00:00.000000000",
          "2016-08-03T00:00:00.000000000",
          "2016-08-04T00:00:00.000000000",
          "2016-08-05T00:00:00.000000000",
          "2016-08-06T00:00:00.000000000",
          "2016-08-07T00:00:00.000000000",
          "2016-08-08T00:00:00.000000000",
          "2016-08-09T00:00:00.000000000",
          "2016-08-11T00:00:00.000000000",
          "2016-08-12T00:00:00.000000000",
          "2016-08-13T00:00:00.000000000",
          "2016-08-14T00:00:00.000000000",
          "2016-08-15T00:00:00.000000000",
          "2016-08-16T00:00:00.000000000",
          "2016-08-17T00:00:00.000000000",
          "2016-08-18T00:00:00.000000000",
          "2016-08-19T00:00:00.000000000",
          "2016-08-20T00:00:00.000000000",
          "2016-08-21T00:00:00.000000000",
          "2016-08-22T00:00:00.000000000",
          "2016-08-23T00:00:00.000000000",
          "2016-08-26T00:00:00.000000000",
          "2016-08-27T00:00:00.000000000",
          "2016-08-28T00:00:00.000000000",
          "2016-08-29T00:00:00.000000000",
          "2016-08-30T00:00:00.000000000",
          "2016-08-31T00:00:00.000000000",
          "2016-09-01T00:00:00.000000000",
          "2016-09-02T00:00:00.000000000",
          "2016-09-03T00:00:00.000000000",
          "2016-09-04T00:00:00.000000000",
          "2016-09-05T00:00:00.000000000",
          "2016-09-06T00:00:00.000000000",
          "2016-09-08T00:00:00.000000000",
          "2016-09-09T00:00:00.000000000",
          "2016-09-10T00:00:00.000000000",
          "2016-09-11T00:00:00.000000000",
          "2016-09-12T00:00:00.000000000",
          "2016-09-13T00:00:00.000000000",
          "2016-09-14T00:00:00.000000000",
          "2016-09-15T00:00:00.000000000",
          "2016-09-16T00:00:00.000000000",
          "2016-09-17T00:00:00.000000000",
          "2016-09-18T00:00:00.000000000",
          "2016-09-19T00:00:00.000000000",
          "2016-09-20T00:00:00.000000000",
          "2016-09-22T00:00:00.000000000",
          "2016-09-23T00:00:00.000000000",
          "2016-09-24T00:00:00.000000000",
          "2016-09-25T00:00:00.000000000",
          "2016-09-26T00:00:00.000000000",
          "2016-09-27T00:00:00.000000000",
          "2016-09-28T00:00:00.000000000",
          "2016-09-29T00:00:00.000000000",
          "2016-09-30T00:00:00.000000000",
          "2016-10-01T00:00:00.000000000",
          "2016-10-02T00:00:00.000000000",
          "2016-10-03T00:00:00.000000000",
          "2016-10-04T00:00:00.000000000",
          "2016-10-06T00:00:00.000000000",
          "2016-10-07T00:00:00.000000000",
          "2016-10-08T00:00:00.000000000",
          "2016-10-09T00:00:00.000000000",
          "2016-10-10T00:00:00.000000000",
          "2016-10-11T00:00:00.000000000",
          "2016-10-13T00:00:00.000000000",
          "2016-10-14T00:00:00.000000000",
          "2016-10-15T00:00:00.000000000",
          "2016-10-16T00:00:00.000000000",
          "2016-10-17T00:00:00.000000000",
          "2016-10-18T00:00:00.000000000",
          "2016-10-20T00:00:00.000000000",
          "2016-10-21T00:00:00.000000000",
          "2016-10-22T00:00:00.000000000",
          "2016-10-23T00:00:00.000000000",
          "2016-10-24T00:00:00.000000000",
          "2016-10-25T00:00:00.000000000",
          "2016-10-27T00:00:00.000000000",
          "2016-10-28T00:00:00.000000000",
          "2016-10-29T00:00:00.000000000",
          "2016-10-30T00:00:00.000000000",
          "2016-10-31T00:00:00.000000000",
          "2016-11-01T00:00:00.000000000",
          "2016-11-03T00:00:00.000000000",
          "2016-11-04T00:00:00.000000000",
          "2016-11-05T00:00:00.000000000",
          "2016-11-06T00:00:00.000000000",
          "2016-11-07T00:00:00.000000000",
          "2016-11-08T00:00:00.000000000",
          "2016-11-09T00:00:00.000000000",
          "2016-11-10T00:00:00.000000000",
          "2016-11-11T00:00:00.000000000",
          "2016-11-12T00:00:00.000000000",
          "2016-11-13T00:00:00.000000000",
          "2016-11-14T00:00:00.000000000",
          "2016-11-15T00:00:00.000000000",
          "2016-11-16T00:00:00.000000000",
          "2016-11-17T00:00:00.000000000",
          "2016-11-18T00:00:00.000000000",
          "2016-11-19T00:00:00.000000000",
          "2016-11-20T00:00:00.000000000",
          "2016-11-21T00:00:00.000000000",
          "2016-11-22T00:00:00.000000000",
          "2016-11-23T00:00:00.000000000",
          "2016-11-24T00:00:00.000000000",
          "2016-11-25T00:00:00.000000000",
          "2016-11-26T00:00:00.000000000",
          "2016-11-27T00:00:00.000000000",
          "2016-11-28T00:00:00.000000000",
          "2016-11-29T00:00:00.000000000",
          "2016-11-30T00:00:00.000000000",
          "2016-12-01T00:00:00.000000000",
          "2016-12-02T00:00:00.000000000",
          "2016-12-03T00:00:00.000000000",
          "2016-12-04T00:00:00.000000000",
          "2016-12-05T00:00:00.000000000",
          "2016-12-06T00:00:00.000000000",
          "2016-12-08T00:00:00.000000000",
          "2016-12-09T00:00:00.000000000",
          "2016-12-10T00:00:00.000000000",
          "2016-12-11T00:00:00.000000000",
          "2016-12-12T00:00:00.000000000",
          "2016-12-13T00:00:00.000000000",
          "2016-12-14T00:00:00.000000000",
          "2016-12-15T00:00:00.000000000",
          "2016-12-16T00:00:00.000000000",
          "2016-12-17T00:00:00.000000000",
          "2016-12-18T00:00:00.000000000",
          "2016-12-19T00:00:00.000000000",
          "2016-12-20T00:00:00.000000000",
          "2016-12-22T00:00:00.000000000",
          "2016-12-23T00:00:00.000000000",
          "2016-12-24T00:00:00.000000000",
          "2016-12-25T00:00:00.000000000",
          "2016-12-26T00:00:00.000000000",
          "2016-12-27T00:00:00.000000000",
          "2016-12-29T00:00:00.000000000",
          "2016-12-30T00:00:00.000000000",
          "2016-12-31T00:00:00.000000000",
          "2017-01-01T00:00:00.000000000",
          "2017-01-02T00:00:00.000000000",
          "2017-01-03T00:00:00.000000000",
          "2017-01-06T00:00:00.000000000",
          "2017-01-07T00:00:00.000000000",
          "2017-01-08T00:00:00.000000000",
          "2017-01-09T00:00:00.000000000",
          "2017-01-12T00:00:00.000000000",
          "2017-01-13T00:00:00.000000000",
          "2017-01-14T00:00:00.000000000",
          "2017-01-15T00:00:00.000000000",
          "2017-01-16T00:00:00.000000000",
          "2017-01-19T00:00:00.000000000",
          "2017-01-20T00:00:00.000000000",
          "2017-01-21T00:00:00.000000000",
          "2017-01-22T00:00:00.000000000",
          "2017-01-23T00:00:00.000000000",
          "2017-01-24T00:00:00.000000000",
          "2017-01-26T00:00:00.000000000",
          "2017-01-27T00:00:00.000000000",
          "2017-01-28T00:00:00.000000000",
          "2017-01-29T00:00:00.000000000",
          "2017-01-30T00:00:00.000000000",
          "2017-02-02T00:00:00.000000000",
          "2017-02-03T00:00:00.000000000",
          "2017-02-04T00:00:00.000000000",
          "2017-02-05T00:00:00.000000000",
          "2017-02-06T00:00:00.000000000",
          "2017-02-09T00:00:00.000000000",
          "2017-02-10T00:00:00.000000000",
          "2017-02-11T00:00:00.000000000",
          "2017-02-13T00:00:00.000000000",
          "2017-02-16T00:00:00.000000000",
          "2017-02-17T00:00:00.000000000",
          "2017-02-18T00:00:00.000000000",
          "2017-02-19T00:00:00.000000000",
          "2017-02-20T00:00:00.000000000",
          "2017-02-21T00:00:00.000000000",
          "2017-02-23T00:00:00.000000000",
          "2017-02-24T00:00:00.000000000",
          "2017-02-25T00:00:00.000000000",
          "2017-02-26T00:00:00.000000000",
          "2017-02-28T00:00:00.000000000",
          "2017-03-02T00:00:00.000000000",
          "2017-03-03T00:00:00.000000000",
          "2017-03-04T00:00:00.000000000",
          "2017-03-05T00:00:00.000000000",
          "2017-03-06T00:00:00.000000000",
          "2017-03-07T00:00:00.000000000",
          "2017-03-08T00:00:00.000000000",
          "2017-03-09T00:00:00.000000000",
          "2017-03-10T00:00:00.000000000",
          "2017-03-11T00:00:00.000000000",
          "2017-03-12T00:00:00.000000000",
          "2017-03-13T00:00:00.000000000",
          "2017-03-14T00:00:00.000000000",
          "2017-03-16T00:00:00.000000000",
          "2017-03-17T00:00:00.000000000",
          "2017-03-18T00:00:00.000000000",
          "2017-03-19T00:00:00.000000000",
          "2017-03-20T00:00:00.000000000",
          "2017-03-21T00:00:00.000000000",
          "2017-03-23T00:00:00.000000000",
          "2017-03-24T00:00:00.000000000",
          "2017-03-25T00:00:00.000000000",
          "2017-03-26T00:00:00.000000000",
          "2017-03-27T00:00:00.000000000",
          "2017-03-28T00:00:00.000000000",
          "2017-03-29T00:00:00.000000000",
          "2017-03-30T00:00:00.000000000",
          "2017-03-31T00:00:00.000000000",
          "2017-04-01T00:00:00.000000000",
          "2017-04-02T00:00:00.000000000",
          "2017-04-03T00:00:00.000000000",
          "2017-04-04T00:00:00.000000000",
          "2017-04-06T00:00:00.000000000",
          "2017-04-07T00:00:00.000000000",
          "2017-04-08T00:00:00.000000000",
          "2017-04-09T00:00:00.000000000",
          "2017-04-10T00:00:00.000000000",
          "2017-04-11T00:00:00.000000000",
          "2017-04-12T00:00:00.000000000",
          "2017-04-13T00:00:00.000000000",
          "2017-04-14T00:00:00.000000000",
          "2017-04-15T00:00:00.000000000",
          "2017-04-16T00:00:00.000000000",
          "2017-04-17T00:00:00.000000000",
          "2017-04-20T00:00:00.000000000",
          "2017-04-21T00:00:00.000000000",
          "2017-04-22T00:00:00.000000000",
          "2017-04-23T00:00:00.000000000",
          "2017-04-24T00:00:00.000000000",
          "2017-04-25T00:00:00.000000000",
          "2017-04-26T00:00:00.000000000",
          "2017-04-27T00:00:00.000000000",
          "2017-04-28T00:00:00.000000000",
          "2017-04-29T00:00:00.000000000",
          "2017-04-30T00:00:00.000000000",
          "2017-05-01T00:00:00.000000000",
          "2017-05-02T00:00:00.000000000",
          "2017-05-03T00:00:00.000000000",
          "2017-05-04T00:00:00.000000000",
          "2017-05-05T00:00:00.000000000",
          "2017-05-06T00:00:00.000000000",
          "2017-05-07T00:00:00.000000000",
          "2017-05-08T00:00:00.000000000",
          "2017-05-09T00:00:00.000000000",
          "2017-05-11T00:00:00.000000000",
          "2017-05-12T00:00:00.000000000",
          "2017-05-13T00:00:00.000000000",
          "2017-05-14T00:00:00.000000000",
          "2017-05-15T00:00:00.000000000",
          "2017-05-16T00:00:00.000000000",
          "2017-05-18T00:00:00.000000000",
          "2017-05-19T00:00:00.000000000",
          "2017-05-20T00:00:00.000000000",
          "2017-05-21T00:00:00.000000000",
          "2017-05-22T00:00:00.000000000",
          "2017-05-23T00:00:00.000000000",
          "2017-05-25T00:00:00.000000000",
          "2017-05-26T00:00:00.000000000",
          "2017-05-27T00:00:00.000000000",
          "2017-05-28T00:00:00.000000000",
          "2017-05-29T00:00:00.000000000",
          "2017-05-30T00:00:00.000000000",
          "2017-06-01T00:00:00.000000000",
          "2017-06-02T00:00:00.000000000",
          "2017-06-03T00:00:00.000000000",
          "2017-06-04T00:00:00.000000000",
          "2017-06-05T00:00:00.000000000",
          "2017-06-06T00:00:00.000000000",
          "2017-06-08T00:00:00.000000000",
          "2017-06-09T00:00:00.000000000",
          "2017-06-10T00:00:00.000000000",
          "2017-06-11T00:00:00.000000000",
          "2017-06-12T00:00:00.000000000",
          "2017-06-13T00:00:00.000000000",
          "2017-06-15T00:00:00.000000000",
          "2017-06-16T00:00:00.000000000",
          "2017-06-17T00:00:00.000000000",
          "2017-06-18T00:00:00.000000000",
          "2017-06-19T00:00:00.000000000",
          "2017-06-20T00:00:00.000000000",
          "2017-06-21T00:00:00.000000000",
          "2017-06-22T00:00:00.000000000",
          "2017-06-24T00:00:00.000000000",
          "2017-06-25T00:00:00.000000000",
          "2017-06-26T00:00:00.000000000",
          "2017-06-27T00:00:00.000000000",
          "2017-06-29T00:00:00.000000000",
          "2017-06-30T00:00:00.000000000",
          "2017-07-01T00:00:00.000000000",
          "2017-07-02T00:00:00.000000000",
          "2017-07-03T00:00:00.000000000",
          "2017-07-05T00:00:00.000000000",
          "2017-07-06T00:00:00.000000000",
          "2017-07-07T00:00:00.000000000",
          "2017-07-08T00:00:00.000000000",
          "2017-07-09T00:00:00.000000000",
          "2017-07-10T00:00:00.000000000",
          "2017-07-11T00:00:00.000000000",
          "2017-07-12T00:00:00.000000000",
          "2017-07-13T00:00:00.000000000",
          "2017-07-14T00:00:00.000000000",
          "2017-07-15T00:00:00.000000000",
          "2017-07-16T00:00:00.000000000",
          "2017-07-17T00:00:00.000000000",
          "2017-07-18T00:00:00.000000000",
          "2017-07-20T00:00:00.000000000",
          "2017-07-21T00:00:00.000000000",
          "2017-07-22T00:00:00.000000000",
          "2017-07-23T00:00:00.000000000",
          "2017-07-24T00:00:00.000000000",
          "2017-07-25T00:00:00.000000000",
          "2017-07-26T00:00:00.000000000",
          "2017-07-27T00:00:00.000000000",
          "2017-07-28T00:00:00.000000000",
          "2017-07-29T00:00:00.000000000",
          "2017-07-30T00:00:00.000000000",
          "2017-07-31T00:00:00.000000000",
          "2017-08-01T00:00:00.000000000",
          "2017-08-03T00:00:00.000000000",
          "2017-08-04T00:00:00.000000000",
          "2017-08-05T00:00:00.000000000",
          "2017-08-06T00:00:00.000000000",
          "2017-08-07T00:00:00.000000000",
          "2017-08-10T00:00:00.000000000",
          "2017-08-11T00:00:00.000000000",
          "2017-08-12T00:00:00.000000000",
          "2017-08-13T00:00:00.000000000",
          "2017-08-14T00:00:00.000000000",
          "2017-08-15T00:00:00.000000000",
          "2017-08-16T00:00:00.000000000",
          "2017-08-17T00:00:00.000000000",
          "2017-08-18T00:00:00.000000000",
          "2017-08-19T00:00:00.000000000",
          "2017-08-20T00:00:00.000000000",
          "2017-08-21T00:00:00.000000000",
          "2017-08-22T00:00:00.000000000",
          "2017-08-23T00:00:00.000000000",
          "2017-08-24T00:00:00.000000000",
          "2017-08-25T00:00:00.000000000",
          "2017-08-26T00:00:00.000000000",
          "2017-08-27T00:00:00.000000000",
          "2017-08-28T00:00:00.000000000",
          "2017-08-29T00:00:00.000000000",
          "2017-08-31T00:00:00.000000000",
          "2017-09-01T00:00:00.000000000",
          "2017-09-02T00:00:00.000000000",
          "2017-09-03T00:00:00.000000000",
          "2017-09-04T00:00:00.000000000",
          "2017-09-05T00:00:00.000000000",
          "2017-09-07T00:00:00.000000000",
          "2017-09-08T00:00:00.000000000",
          "2017-09-09T00:00:00.000000000",
          "2017-09-10T00:00:00.000000000",
          "2017-09-11T00:00:00.000000000",
          "2017-09-12T00:00:00.000000000",
          "2017-09-13T00:00:00.000000000",
          "2017-09-14T00:00:00.000000000",
          "2017-09-15T00:00:00.000000000",
          "2017-09-16T00:00:00.000000000",
          "2017-09-17T00:00:00.000000000",
          "2017-09-18T00:00:00.000000000",
          "2017-09-19T00:00:00.000000000",
          "2017-09-20T00:00:00.000000000",
          "2017-09-21T00:00:00.000000000",
          "2017-09-22T00:00:00.000000000",
          "2017-09-23T00:00:00.000000000",
          "2017-09-24T00:00:00.000000000",
          "2017-09-25T00:00:00.000000000",
          "2017-09-26T00:00:00.000000000",
          "2017-09-28T00:00:00.000000000",
          "2017-09-29T00:00:00.000000000",
          "2017-09-30T00:00:00.000000000",
          "2017-10-01T00:00:00.000000000",
          "2017-10-02T00:00:00.000000000",
          "2017-10-03T00:00:00.000000000",
          "2017-10-04T00:00:00.000000000",
          "2017-10-05T00:00:00.000000000",
          "2017-10-06T00:00:00.000000000",
          "2017-10-07T00:00:00.000000000",
          "2017-10-08T00:00:00.000000000",
          "2017-10-09T00:00:00.000000000",
          "2017-10-10T00:00:00.000000000",
          "2017-10-12T00:00:00.000000000",
          "2017-10-13T00:00:00.000000000",
          "2017-10-14T00:00:00.000000000",
          "2017-10-15T00:00:00.000000000",
          "2017-10-16T00:00:00.000000000",
          "2017-10-17T00:00:00.000000000",
          "2017-10-19T00:00:00.000000000",
          "2017-10-20T00:00:00.000000000",
          "2017-10-21T00:00:00.000000000",
          "2017-10-22T00:00:00.000000000",
          "2017-10-23T00:00:00.000000000",
          "2017-10-24T00:00:00.000000000",
          "2017-10-26T00:00:00.000000000",
          "2017-10-27T00:00:00.000000000",
          "2017-10-28T00:00:00.000000000",
          "2017-10-29T00:00:00.000000000",
          "2017-10-30T00:00:00.000000000",
          "2017-10-31T00:00:00.000000000",
          "2017-11-01T00:00:00.000000000",
          "2017-11-02T00:00:00.000000000",
          "2017-11-03T00:00:00.000000000",
          "2017-11-04T00:00:00.000000000",
          "2017-11-05T00:00:00.000000000",
          "2017-11-06T00:00:00.000000000",
          "2017-11-07T00:00:00.000000000",
          "2017-11-08T00:00:00.000000000",
          "2017-11-09T00:00:00.000000000",
          "2017-11-10T00:00:00.000000000",
          "2017-11-11T00:00:00.000000000",
          "2017-11-12T00:00:00.000000000",
          "2017-11-13T00:00:00.000000000",
          "2017-11-14T00:00:00.000000000",
          "2017-11-15T00:00:00.000000000",
          "2017-11-16T00:00:00.000000000",
          "2017-11-17T00:00:00.000000000",
          "2017-11-18T00:00:00.000000000",
          "2017-11-19T00:00:00.000000000",
          "2017-11-20T00:00:00.000000000",
          "2017-11-21T00:00:00.000000000",
          "2017-11-22T00:00:00.000000000",
          "2017-11-23T00:00:00.000000000",
          "2017-11-24T00:00:00.000000000",
          "2017-11-25T00:00:00.000000000",
          "2017-11-26T00:00:00.000000000",
          "2017-11-27T00:00:00.000000000",
          "2017-11-28T00:00:00.000000000",
          "2017-11-29T00:00:00.000000000",
          "2017-11-30T00:00:00.000000000",
          "2017-12-01T00:00:00.000000000",
          "2017-12-02T00:00:00.000000000",
          "2017-12-03T00:00:00.000000000",
          "2017-12-04T00:00:00.000000000",
          "2017-12-05T00:00:00.000000000",
          "2017-12-06T00:00:00.000000000",
          "2017-12-07T00:00:00.000000000",
          "2017-12-08T00:00:00.000000000",
          "2017-12-09T00:00:00.000000000",
          "2017-12-10T00:00:00.000000000",
          "2017-12-11T00:00:00.000000000",
          "2017-12-13T00:00:00.000000000",
          "2017-12-14T00:00:00.000000000",
          "2017-12-15T00:00:00.000000000",
          "2017-12-16T00:00:00.000000000",
          "2017-12-17T00:00:00.000000000",
          "2017-12-18T00:00:00.000000000",
          "2017-12-19T00:00:00.000000000",
          "2017-12-20T00:00:00.000000000",
          "2017-12-21T00:00:00.000000000",
          "2017-12-22T00:00:00.000000000",
          "2017-12-23T00:00:00.000000000",
          "2017-12-24T00:00:00.000000000",
          "2017-12-25T00:00:00.000000000",
          "2017-12-26T00:00:00.000000000",
          "2017-12-27T00:00:00.000000000",
          "2017-12-28T00:00:00.000000000",
          "2017-12-29T00:00:00.000000000",
          "2017-12-30T00:00:00.000000000"
         ],
         "xaxis": "x",
         "y": {
          "bdata": "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",
          "dtype": "f8"
         },
         "yaxis": "y"
        }
       ],
       "layout": {
        "barmode": "relative",
        "legend": {
         "tracegroupgap": 0
        },
        "margin": {
         "t": 60
        },
        "template": {
         "data": {
          "bar": [
           {
            "error_x": {
             "color": "#2a3f5f"
            },
            "error_y": {
             "color": "#2a3f5f"
            },
            "marker": {
             "line": {
              "color": "#E5ECF6",
              "width": 0.5
             },
             "pattern": {
              "fillmode": "overlay",
              "size": 10,
              "solidity": 0.2
             }
            },
            "type": "bar"
           }
          ],
          "barpolar": [
           {
            "marker": {
             "line": {
              "color": "#E5ECF6",
              "width": 0.5
             },
             "pattern": {
              "fillmode": "overlay",
              "size": 10,
              "solidity": 0.2
             }
            },
            "type": "barpolar"
           }
          ],
          "carpet": [
           {
            "aaxis": {
             "endlinecolor": "#2a3f5f",
             "gridcolor": "white",
             "linecolor": "white",
             "minorgridcolor": "white",
             "startlinecolor": "#2a3f5f"
            },
            "baxis": {
             "endlinecolor": "#2a3f5f",
             "gridcolor": "white",
             "linecolor": "white",
             "minorgridcolor": "white",
             "startlinecolor": "#2a3f5f"
            },
            "type": "carpet"
           }
          ],
          "choropleth": [
           {
            "colorbar": {
             "outlinewidth": 0,
             "ticks": ""
            },
            "type": "choropleth"
           }
          ],
          "contour": [
           {
            "colorbar": {
             "outlinewidth": 0,
             "ticks": ""
            },
            "colorscale": [
             [
              0,
              "#0d0887"
             ],
             [
              0.1111111111111111,
              "#46039f"
             ],
             [
              0.2222222222222222,
              "#7201a8"
             ],
             [
              0.3333333333333333,
              "#9c179e"
             ],
             [
              0.4444444444444444,
              "#bd3786"
             ],
             [
              0.5555555555555556,
              "#d8576b"
             ],
             [
              0.6666666666666666,
              "#ed7953"
             ],
             [
              0.7777777777777778,
              "#fb9f3a"
             ],
             [
              0.8888888888888888,
              "#fdca26"
             ],
             [
              1,
              "#f0f921"
             ]
            ],
            "type": "contour"
           }
          ],
          "contourcarpet": [
           {
            "colorbar": {
             "outlinewidth": 0,
             "ticks": ""
            },
            "type": "contourcarpet"
           }
          ],
          "heatmap": [
           {
            "colorbar": {
             "outlinewidth": 0,
             "ticks": ""
            },
            "colorscale": [
             [
              0,
              "#0d0887"
             ],
             [
              0.1111111111111111,
              "#46039f"
             ],
             [
              0.2222222222222222,
              "#7201a8"
             ],
             [
              0.3333333333333333,
              "#9c179e"
             ],
             [
              0.4444444444444444,
              "#bd3786"
             ],
             [
              0.5555555555555556,
              "#d8576b"
             ],
             [
              0.6666666666666666,
              "#ed7953"
             ],
             [
              0.7777777777777778,
              "#fb9f3a"
             ],
             [
              0.8888888888888888,
              "#fdca26"
             ],
             [
              1,
              "#f0f921"
             ]
            ],
            "type": "heatmap"
           }
          ],
          "histogram": [
           {
            "marker": {
             "pattern": {
              "fillmode": "overlay",
              "size": 10,
              "solidity": 0.2
             }
            },
            "type": "histogram"
           }
          ],
          "histogram2d": [
           {
            "colorbar": {
             "outlinewidth": 0,
             "ticks": ""
            },
            "colorscale": [
             [
              0,
              "#0d0887"
             ],
             [
              0.1111111111111111,
              "#46039f"
             ],
             [
              0.2222222222222222,
              "#7201a8"
             ],
             [
              0.3333333333333333,
              "#9c179e"
             ],
             [
              0.4444444444444444,
              "#bd3786"
             ],
             [
              0.5555555555555556,
              "#d8576b"
             ],
             [
              0.6666666666666666,
              "#ed7953"
             ],
             [
              0.7777777777777778,
              "#fb9f3a"
             ],
             [
              0.8888888888888888,
              "#fdca26"
             ],
             [
              1,
              "#f0f921"
             ]
            ],
            "type": "histogram2d"
           }
          ],
          "histogram2dcontour": [
           {
            "colorbar": {
             "outlinewidth": 0,
             "ticks": ""
            },
            "colorscale": [
             [
              0,
              "#0d0887"
             ],
             [
              0.1111111111111111,
              "#46039f"
             ],
             [
              0.2222222222222222,
              "#7201a8"
             ],
             [
              0.3333333333333333,
              "#9c179e"
             ],
             [
              0.4444444444444444,
              "#bd3786"
             ],
             [
              0.5555555555555556,
              "#d8576b"
             ],
             [
              0.6666666666666666,
              "#ed7953"
             ],
             [
              0.7777777777777778,
              "#fb9f3a"
             ],
             [
              0.8888888888888888,
              "#fdca26"
             ],
             [
              1,
              "#f0f921"
             ]
            ],
            "type": "histogram2dcontour"
           }
          ],
          "mesh3d": [
           {
            "colorbar": {
             "outlinewidth": 0,
             "ticks": ""
            },
            "type": "mesh3d"
           }
          ],
          "parcoords": [
           {
            "line": {
             "colorbar": {
              "outlinewidth": 0,
              "ticks": ""
             }
            },
            "type": "parcoords"
           }
          ],
          "pie": [
           {
            "automargin": true,
            "type": "pie"
           }
          ],
          "scatter": [
           {
            "fillpattern": {
             "fillmode": "overlay",
             "size": 10,
             "solidity": 0.2
            },
            "type": "scatter"
           }
          ],
          "scatter3d": [
           {
            "line": {
             "colorbar": {
              "outlinewidth": 0,
              "ticks": ""
             }
            },
            "marker": {
             "colorbar": {
              "outlinewidth": 0,
              "ticks": ""
             }
            },
            "type": "scatter3d"
           }
          ],
          "scattercarpet": [
           {
            "marker": {
             "colorbar": {
              "outlinewidth": 0,
              "ticks": ""
             }
            },
            "type": "scattercarpet"
           }
          ],
          "scattergeo": [
           {
            "marker": {
             "colorbar": {
              "outlinewidth": 0,
              "ticks": ""
             }
            },
            "type": "scattergeo"
           }
          ],
          "scattergl": [
           {
            "marker": {
             "colorbar": {
              "outlinewidth": 0,
              "ticks": ""
             }
            },
            "type": "scattergl"
           }
          ],
          "scattermap": [
           {
            "marker": {
             "colorbar": {
              "outlinewidth": 0,
              "ticks": ""
             }
            },
            "type": "scattermap"
           }
          ],
          "scattermapbox": [
           {
            "marker": {
             "colorbar": {
              "outlinewidth": 0,
              "ticks": ""
             }
            },
            "type": "scattermapbox"
           }
          ],
          "scatterpolar": [
           {
            "marker": {
             "colorbar": {
              "outlinewidth": 0,
              "ticks": ""
             }
            },
            "type": "scatterpolar"
           }
          ],
          "scatterpolargl": [
           {
            "marker": {
             "colorbar": {
              "outlinewidth": 0,
              "ticks": ""
             }
            },
            "type": "scatterpolargl"
           }
          ],
          "scatterternary": [
           {
            "marker": {
             "colorbar": {
              "outlinewidth": 0,
              "ticks": ""
             }
            },
            "type": "scatterternary"
           }
          ],
          "surface": [
           {
            "colorbar": {
             "outlinewidth": 0,
             "ticks": ""
            },
            "colorscale": [
             [
              0,
              "#0d0887"
             ],
             [
              0.1111111111111111,
              "#46039f"
             ],
             [
              0.2222222222222222,
              "#7201a8"
             ],
             [
              0.3333333333333333,
              "#9c179e"
             ],
             [
              0.4444444444444444,
              "#bd3786"
             ],
             [
              0.5555555555555556,
              "#d8576b"
             ],
             [
              0.6666666666666666,
              "#ed7953"
             ],
             [
              0.7777777777777778,
              "#fb9f3a"
             ],
             [
              0.8888888888888888,
              "#fdca26"
             ],
             [
              1,
              "#f0f921"
             ]
            ],
            "type": "surface"
           }
          ],
          "table": [
           {
            "cells": {
             "fill": {
              "color": "#EBF0F8"
             },
             "line": {
              "color": "white"
             }
            },
            "header": {
             "fill": {
              "color": "#C8D4E3"
             },
             "line": {
              "color": "white"
             }
            },
            "type": "table"
           }
          ]
         },
         "layout": {
          "annotationdefaults": {
           "arrowcolor": "#2a3f5f",
           "arrowhead": 0,
           "arrowwidth": 1
          },
          "autotypenumbers": "strict",
          "coloraxis": {
           "colorbar": {
            "outlinewidth": 0,
            "ticks": ""
           }
          },
          "colorscale": {
           "diverging": [
            [
             0,
             "#8e0152"
            ],
            [
             0.1,
             "#c51b7d"
            ],
            [
             0.2,
             "#de77ae"
            ],
            [
             0.3,
             "#f1b6da"
            ],
            [
             0.4,
             "#fde0ef"
            ],
            [
             0.5,
             "#f7f7f7"
            ],
            [
             0.6,
             "#e6f5d0"
            ],
            [
             0.7,
             "#b8e186"
            ],
            [
             0.8,
             "#7fbc41"
            ],
            [
             0.9,
             "#4d9221"
            ],
            [
             1,
             "#276419"
            ]
           ],
           "sequential": [
            [
             0,
             "#0d0887"
            ],
            [
             0.1111111111111111,
             "#46039f"
            ],
            [
             0.2222222222222222,
             "#7201a8"
            ],
            [
             0.3333333333333333,
             "#9c179e"
            ],
            [
             0.4444444444444444,
             "#bd3786"
            ],
            [
             0.5555555555555556,
             "#d8576b"
            ],
            [
             0.6666666666666666,
             "#ed7953"
            ],
            [
             0.7777777777777778,
             "#fb9f3a"
            ],
            [
             0.8888888888888888,
             "#fdca26"
            ],
            [
             1,
             "#f0f921"
            ]
           ],
           "sequentialminus": [
            [
             0,
             "#0d0887"
            ],
            [
             0.1111111111111111,
             "#46039f"
            ],
            [
             0.2222222222222222,
             "#7201a8"
            ],
            [
             0.3333333333333333,
             "#9c179e"
            ],
            [
             0.4444444444444444,
             "#bd3786"
            ],
            [
             0.5555555555555556,
             "#d8576b"
            ],
            [
             0.6666666666666666,
             "#ed7953"
            ],
            [
             0.7777777777777778,
             "#fb9f3a"
            ],
            [
             0.8888888888888888,
             "#fdca26"
            ],
            [
             1,
             "#f0f921"
            ]
           ]
          },
          "colorway": [
           "#636efa",
           "#EF553B",
           "#00cc96",
           "#ab63fa",
           "#FFA15A",
           "#19d3f3",
           "#FF6692",
           "#B6E880",
           "#FF97FF",
           "#FECB52"
          ],
          "font": {
           "color": "#2a3f5f"
          },
          "geo": {
           "bgcolor": "white",
           "lakecolor": "white",
           "landcolor": "#E5ECF6",
           "showlakes": true,
           "showland": true,
           "subunitcolor": "white"
          },
          "hoverlabel": {
           "align": "left"
          },
          "hovermode": "closest",
          "mapbox": {
           "style": "light"
          },
          "paper_bgcolor": "white",
          "plot_bgcolor": "#E5ECF6",
          "polar": {
           "angularaxis": {
            "gridcolor": "white",
            "linecolor": "white",
            "ticks": ""
           },
           "bgcolor": "#E5ECF6",
           "radialaxis": {
            "gridcolor": "white",
            "linecolor": "white",
            "ticks": ""
           }
          },
          "scene": {
           "xaxis": {
            "backgroundcolor": "#E5ECF6",
            "gridcolor": "white",
            "gridwidth": 2,
            "linecolor": "white",
            "showbackground": true,
            "ticks": "",
            "zerolinecolor": "white"
           },
           "yaxis": {
            "backgroundcolor": "#E5ECF6",
            "gridcolor": "white",
            "gridwidth": 2,
            "linecolor": "white",
            "showbackground": true,
            "ticks": "",
            "zerolinecolor": "white"
           },
           "zaxis": {
            "backgroundcolor": "#E5ECF6",
            "gridcolor": "white",
            "gridwidth": 2,
            "linecolor": "white",
            "showbackground": true,
            "ticks": "",
            "zerolinecolor": "white"
           }
          },
          "shapedefaults": {
           "line": {
            "color": "#2a3f5f"
           }
          },
          "ternary": {
           "aaxis": {
            "gridcolor": "white",
            "linecolor": "white",
            "ticks": ""
           },
           "baxis": {
            "gridcolor": "white",
            "linecolor": "white",
            "ticks": ""
           },
           "bgcolor": "#E5ECF6",
           "caxis": {
            "gridcolor": "white",
            "linecolor": "white",
            "ticks": ""
           }
          },
          "title": {
           "x": 0.05
          },
          "xaxis": {
           "automargin": true,
           "gridcolor": "white",
           "linecolor": "white",
           "ticks": "",
           "title": {
            "standoff": 15
           },
           "zerolinecolor": "white",
           "zerolinewidth": 2
          },
          "yaxis": {
           "automargin": true,
           "gridcolor": "white",
           "linecolor": "white",
           "ticks": "",
           "title": {
            "standoff": 15
           },
           "zerolinecolor": "white",
           "zerolinewidth": 2
          }
         }
        },
        "xaxis": {
         "anchor": "y",
         "domain": [
          0,
          1
         ],
         "title": {
          "text": "order_date"
         }
        },
        "yaxis": {
         "anchor": "x",
         "domain": [
          0,
          1
         ],
         "title": {
          "text": "profit"
         }
        }
       }
      }
     },
     "metadata": {},
     "output_type": "display_data"
    }
   ],
   "source": [
    "px.bar(daily_profit, x='order_date', y='profit')"
   ]
  },
  {
   "cell_type": "code",
   "execution_count": 76,
   "id": "42ec49c6",
   "metadata": {},
   "outputs": [
    {
     "data": {
      "text/plain": [
       "0        41.91\n",
       "1       261.50\n",
       "2         6.87\n",
       "3      -383.03\n",
       "4      -380.51\n",
       "         ...  \n",
       "9989      4.10\n",
       "9990    414.64\n",
       "9991    434.03\n",
       "9992    447.35\n",
       "9993    292.33\n",
       "Name: profit, Length: 9994, dtype: float64"
      ]
     },
     "execution_count": 76,
     "metadata": {},
     "output_type": "execute_result"
    }
   ],
   "source": [
    "cum_profit = df.groupby('order_date')['profit'].cumsum()\n",
    "cum_profit"
   ]
  },
  {
   "cell_type": "code",
   "execution_count": null,
   "id": "7340b7f8",
   "metadata": {},
   "outputs": [
    {
     "data": {
      "application/vnd.plotly.v1+json": {
       "config": {
        "plotlyServerURL": "https://plot.ly"
       },
       "data": [
        {
         "hovertemplate": "variable=profit<br>index=%{x}<br>value=%{y}<extra></extra>",
         "legendgroup": "profit",
         "line": {
          "color": "#636efa",
          "dash": "solid"
         },
         "marker": {
          "symbol": "circle"
         },
         "mode": "lines",
         "name": "profit",
         "showlegend": true,
         "type": "scattergl",
         "x": {
          "bdata": "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",
          "dtype": "i2"
         },
         "xaxis": "x",
         "y": {
          "bdata": "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",
          "dtype": "f8"
         },
         "yaxis": "y"
        }
       ],
       "layout": {
        "legend": {
         "title": {
          "text": "variable"
         },
         "tracegroupgap": 0
        },
        "margin": {
         "t": 60
        },
        "template": {
         "data": {
          "bar": [
           {
            "error_x": {
             "color": "#2a3f5f"
            },
            "error_y": {
             "color": "#2a3f5f"
            },
            "marker": {
             "line": {
              "color": "#E5ECF6",
              "width": 0.5
             },
             "pattern": {
              "fillmode": "overlay",
              "size": 10,
              "solidity": 0.2
             }
            },
            "type": "bar"
           }
          ],
          "barpolar": [
           {
            "marker": {
             "line": {
              "color": "#E5ECF6",
              "width": 0.5
             },
             "pattern": {
              "fillmode": "overlay",
              "size": 10,
              "solidity": 0.2
             }
            },
            "type": "barpolar"
           }
          ],
          "carpet": [
           {
            "aaxis": {
             "endlinecolor": "#2a3f5f",
             "gridcolor": "white",
             "linecolor": "white",
             "minorgridcolor": "white",
             "startlinecolor": "#2a3f5f"
            },
            "baxis": {
             "endlinecolor": "#2a3f5f",
             "gridcolor": "white",
             "linecolor": "white",
             "minorgridcolor": "white",
             "startlinecolor": "#2a3f5f"
            },
            "type": "carpet"
           }
          ],
          "choropleth": [
           {
            "colorbar": {
             "outlinewidth": 0,
             "ticks": ""
            },
            "type": "choropleth"
           }
          ],
          "contour": [
           {
            "colorbar": {
             "outlinewidth": 0,
             "ticks": ""
            },
            "colorscale": [
             [
              0,
              "#0d0887"
             ],
             [
              0.1111111111111111,
              "#46039f"
             ],
             [
              0.2222222222222222,
              "#7201a8"
             ],
             [
              0.3333333333333333,
              "#9c179e"
             ],
             [
              0.4444444444444444,
              "#bd3786"
             ],
             [
              0.5555555555555556,
              "#d8576b"
             ],
             [
              0.6666666666666666,
              "#ed7953"
             ],
             [
              0.7777777777777778,
              "#fb9f3a"
             ],
             [
              0.8888888888888888,
              "#fdca26"
             ],
             [
              1,
              "#f0f921"
             ]
            ],
            "type": "contour"
           }
          ],
          "contourcarpet": [
           {
            "colorbar": {
             "outlinewidth": 0,
             "ticks": ""
            },
            "type": "contourcarpet"
           }
          ],
          "heatmap": [
           {
            "colorbar": {
             "outlinewidth": 0,
             "ticks": ""
            },
            "colorscale": [
             [
              0,
              "#0d0887"
             ],
             [
              0.1111111111111111,
              "#46039f"
             ],
             [
              0.2222222222222222,
              "#7201a8"
             ],
             [
              0.3333333333333333,
              "#9c179e"
             ],
             [
              0.4444444444444444,
              "#bd3786"
             ],
             [
              0.5555555555555556,
              "#d8576b"
             ],
             [
              0.6666666666666666,
              "#ed7953"
             ],
             [
              0.7777777777777778,
              "#fb9f3a"
             ],
             [
              0.8888888888888888,
              "#fdca26"
             ],
             [
              1,
              "#f0f921"
             ]
            ],
            "type": "heatmap"
           }
          ],
          "histogram": [
           {
            "marker": {
             "pattern": {
              "fillmode": "overlay",
              "size": 10,
              "solidity": 0.2
             }
            },
            "type": "histogram"
           }
          ],
          "histogram2d": [
           {
            "colorbar": {
             "outlinewidth": 0,
             "ticks": ""
            },
            "colorscale": [
             [
              0,
              "#0d0887"
             ],
             [
              0.1111111111111111,
              "#46039f"
             ],
             [
              0.2222222222222222,
              "#7201a8"
             ],
             [
              0.3333333333333333,
              "#9c179e"
             ],
             [
              0.4444444444444444,
              "#bd3786"
             ],
             [
              0.5555555555555556,
              "#d8576b"
             ],
             [
              0.6666666666666666,
              "#ed7953"
             ],
             [
              0.7777777777777778,
              "#fb9f3a"
             ],
             [
              0.8888888888888888,
              "#fdca26"
             ],
             [
              1,
              "#f0f921"
             ]
            ],
            "type": "histogram2d"
           }
          ],
          "histogram2dcontour": [
           {
            "colorbar": {
             "outlinewidth": 0,
             "ticks": ""
            },
            "colorscale": [
             [
              0,
              "#0d0887"
             ],
             [
              0.1111111111111111,
              "#46039f"
             ],
             [
              0.2222222222222222,
              "#7201a8"
             ],
             [
              0.3333333333333333,
              "#9c179e"
             ],
             [
              0.4444444444444444,
              "#bd3786"
             ],
             [
              0.5555555555555556,
              "#d8576b"
             ],
             [
              0.6666666666666666,
              "#ed7953"
             ],
             [
              0.7777777777777778,
              "#fb9f3a"
             ],
             [
              0.8888888888888888,
              "#fdca26"
             ],
             [
              1,
              "#f0f921"
             ]
            ],
            "type": "histogram2dcontour"
           }
          ],
          "mesh3d": [
           {
            "colorbar": {
             "outlinewidth": 0,
             "ticks": ""
            },
            "type": "mesh3d"
           }
          ],
          "parcoords": [
           {
            "line": {
             "colorbar": {
              "outlinewidth": 0,
              "ticks": ""
             }
            },
            "type": "parcoords"
           }
          ],
          "pie": [
           {
            "automargin": true,
            "type": "pie"
           }
          ],
          "scatter": [
           {
            "fillpattern": {
             "fillmode": "overlay",
             "size": 10,
             "solidity": 0.2
            },
            "type": "scatter"
           }
          ],
          "scatter3d": [
           {
            "line": {
             "colorbar": {
              "outlinewidth": 0,
              "ticks": ""
             }
            },
            "marker": {
             "colorbar": {
              "outlinewidth": 0,
              "ticks": ""
             }
            },
            "type": "scatter3d"
           }
          ],
          "scattercarpet": [
           {
            "marker": {
             "colorbar": {
              "outlinewidth": 0,
              "ticks": ""
             }
            },
            "type": "scattercarpet"
           }
          ],
          "scattergeo": [
           {
            "marker": {
             "colorbar": {
              "outlinewidth": 0,
              "ticks": ""
             }
            },
            "type": "scattergeo"
           }
          ],
          "scattergl": [
           {
            "marker": {
             "colorbar": {
              "outlinewidth": 0,
              "ticks": ""
             }
            },
            "type": "scattergl"
           }
          ],
          "scattermap": [
           {
            "marker": {
             "colorbar": {
              "outlinewidth": 0,
              "ticks": ""
             }
            },
            "type": "scattermap"
           }
          ],
          "scattermapbox": [
           {
            "marker": {
             "colorbar": {
              "outlinewidth": 0,
              "ticks": ""
             }
            },
            "type": "scattermapbox"
           }
          ],
          "scatterpolar": [
           {
            "marker": {
             "colorbar": {
              "outlinewidth": 0,
              "ticks": ""
             }
            },
            "type": "scatterpolar"
           }
          ],
          "scatterpolargl": [
           {
            "marker": {
             "colorbar": {
              "outlinewidth": 0,
              "ticks": ""
             }
            },
            "type": "scatterpolargl"
           }
          ],
          "scatterternary": [
           {
            "marker": {
             "colorbar": {
              "outlinewidth": 0,
              "ticks": ""
             }
            },
            "type": "scatterternary"
           }
          ],
          "surface": [
           {
            "colorbar": {
             "outlinewidth": 0,
             "ticks": ""
            },
            "colorscale": [
             [
              0,
              "#0d0887"
             ],
             [
              0.1111111111111111,
              "#46039f"
             ],
             [
              0.2222222222222222,
              "#7201a8"
             ],
             [
              0.3333333333333333,
              "#9c179e"
             ],
             [
              0.4444444444444444,
              "#bd3786"
             ],
             [
              0.5555555555555556,
              "#d8576b"
             ],
             [
              0.6666666666666666,
              "#ed7953"
             ],
             [
              0.7777777777777778,
              "#fb9f3a"
             ],
             [
              0.8888888888888888,
              "#fdca26"
             ],
             [
              1,
              "#f0f921"
             ]
            ],
            "type": "surface"
           }
          ],
          "table": [
           {
            "cells": {
             "fill": {
              "color": "#EBF0F8"
             },
             "line": {
              "color": "white"
             }
            },
            "header": {
             "fill": {
              "color": "#C8D4E3"
             },
             "line": {
              "color": "white"
             }
            },
            "type": "table"
           }
          ]
         },
         "layout": {
          "annotationdefaults": {
           "arrowcolor": "#2a3f5f",
           "arrowhead": 0,
           "arrowwidth": 1
          },
          "autotypenumbers": "strict",
          "coloraxis": {
           "colorbar": {
            "outlinewidth": 0,
            "ticks": ""
           }
          },
          "colorscale": {
           "diverging": [
            [
             0,
             "#8e0152"
            ],
            [
             0.1,
             "#c51b7d"
            ],
            [
             0.2,
             "#de77ae"
            ],
            [
             0.3,
             "#f1b6da"
            ],
            [
             0.4,
             "#fde0ef"
            ],
            [
             0.5,
             "#f7f7f7"
            ],
            [
             0.6,
             "#e6f5d0"
            ],
            [
             0.7,
             "#b8e186"
            ],
            [
             0.8,
             "#7fbc41"
            ],
            [
             0.9,
             "#4d9221"
            ],
            [
             1,
             "#276419"
            ]
           ],
           "sequential": [
            [
             0,
             "#0d0887"
            ],
            [
             0.1111111111111111,
             "#46039f"
            ],
            [
             0.2222222222222222,
             "#7201a8"
            ],
            [
             0.3333333333333333,
             "#9c179e"
            ],
            [
             0.4444444444444444,
             "#bd3786"
            ],
            [
             0.5555555555555556,
             "#d8576b"
            ],
            [
             0.6666666666666666,
             "#ed7953"
            ],
            [
             0.7777777777777778,
             "#fb9f3a"
            ],
            [
             0.8888888888888888,
             "#fdca26"
            ],
            [
             1,
             "#f0f921"
            ]
           ],
           "sequentialminus": [
            [
             0,
             "#0d0887"
            ],
            [
             0.1111111111111111,
             "#46039f"
            ],
            [
             0.2222222222222222,
             "#7201a8"
            ],
            [
             0.3333333333333333,
             "#9c179e"
            ],
            [
             0.4444444444444444,
             "#bd3786"
            ],
            [
             0.5555555555555556,
             "#d8576b"
            ],
            [
             0.6666666666666666,
             "#ed7953"
            ],
            [
             0.7777777777777778,
             "#fb9f3a"
            ],
            [
             0.8888888888888888,
             "#fdca26"
            ],
            [
             1,
             "#f0f921"
            ]
           ]
          },
          "colorway": [
           "#636efa",
           "#EF553B",
           "#00cc96",
           "#ab63fa",
           "#FFA15A",
           "#19d3f3",
           "#FF6692",
           "#B6E880",
           "#FF97FF",
           "#FECB52"
          ],
          "font": {
           "color": "#2a3f5f"
          },
          "geo": {
           "bgcolor": "white",
           "lakecolor": "white",
           "landcolor": "#E5ECF6",
           "showlakes": true,
           "showland": true,
           "subunitcolor": "white"
          },
          "hoverlabel": {
           "align": "left"
          },
          "hovermode": "closest",
          "mapbox": {
           "style": "light"
          },
          "paper_bgcolor": "white",
          "plot_bgcolor": "#E5ECF6",
          "polar": {
           "angularaxis": {
            "gridcolor": "white",
            "linecolor": "white",
            "ticks": ""
           },
           "bgcolor": "#E5ECF6",
           "radialaxis": {
            "gridcolor": "white",
            "linecolor": "white",
            "ticks": ""
           }
          },
          "scene": {
           "xaxis": {
            "backgroundcolor": "#E5ECF6",
            "gridcolor": "white",
            "gridwidth": 2,
            "linecolor": "white",
            "showbackground": true,
            "ticks": "",
            "zerolinecolor": "white"
           },
           "yaxis": {
            "backgroundcolor": "#E5ECF6",
            "gridcolor": "white",
            "gridwidth": 2,
            "linecolor": "white",
            "showbackground": true,
            "ticks": "",
            "zerolinecolor": "white"
           },
           "zaxis": {
            "backgroundcolor": "#E5ECF6",
            "gridcolor": "white",
            "gridwidth": 2,
            "linecolor": "white",
            "showbackground": true,
            "ticks": "",
            "zerolinecolor": "white"
           }
          },
          "shapedefaults": {
           "line": {
            "color": "#2a3f5f"
           }
          },
          "ternary": {
           "aaxis": {
            "gridcolor": "white",
            "linecolor": "white",
            "ticks": ""
           },
           "baxis": {
            "gridcolor": "white",
            "linecolor": "white",
            "ticks": ""
           },
           "bgcolor": "#E5ECF6",
           "caxis": {
            "gridcolor": "white",
            "linecolor": "white",
            "ticks": ""
           }
          },
          "title": {
           "x": 0.05
          },
          "xaxis": {
           "automargin": true,
           "gridcolor": "white",
           "linecolor": "white",
           "ticks": "",
           "title": {
            "standoff": 15
           },
           "zerolinecolor": "white",
           "zerolinewidth": 2
          },
          "yaxis": {
           "automargin": true,
           "gridcolor": "white",
           "linecolor": "white",
           "ticks": "",
           "title": {
            "standoff": 15
           },
           "zerolinecolor": "white",
           "zerolinewidth": 2
          }
         }
        },
        "xaxis": {
         "anchor": "y",
         "domain": [
          0,
          1
         ],
         "title": {
          "text": "index"
         }
        },
        "yaxis": {
         "anchor": "x",
         "domain": [
          0,
          1
         ],
         "title": {
          "text": "value"
         }
        }
       }
      }
     },
     "metadata": {},
     "output_type": "display_data"
    }
   ],
   "source": [
    "cum_profit = daily_profit.profit.cumsum()\n",
    "px.line(cum_profit)"
   ]
  },
  {
   "cell_type": "code",
   "execution_count": null,
   "id": "0848a079",
   "metadata": {},
   "outputs": [
    {
     "data": {
      "application/vnd.plotly.v1+json": {
       "config": {
        "plotlyServerURL": "https://plot.ly"
       },
       "data": [
        {
         "bingroup": "x",
         "hovertemplate": "profit=%{x}<br>count=%{y}<extra></extra>",
         "legendgroup": "",
         "marker": {
          "color": "#636efa",
          "pattern": {
           "shape": ""
          }
         },
         "name": "",
         "orientation": "v",
         "showlegend": false,
         "type": "histogram",
         "x": {
          "bdata": "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",
          "dtype": "f8"
         },
         "xaxis": "x",
         "yaxis": "y"
        }
       ],
       "layout": {
        "barmode": "relative",
        "legend": {
         "tracegroupgap": 0
        },
        "margin": {
         "t": 60
        },
        "template": {
         "data": {
          "bar": [
           {
            "error_x": {
             "color": "#2a3f5f"
            },
            "error_y": {
             "color": "#2a3f5f"
            },
            "marker": {
             "line": {
              "color": "#E5ECF6",
              "width": 0.5
             },
             "pattern": {
              "fillmode": "overlay",
              "size": 10,
              "solidity": 0.2
             }
            },
            "type": "bar"
           }
          ],
          "barpolar": [
           {
            "marker": {
             "line": {
              "color": "#E5ECF6",
              "width": 0.5
             },
             "pattern": {
              "fillmode": "overlay",
              "size": 10,
              "solidity": 0.2
             }
            },
            "type": "barpolar"
           }
          ],
          "carpet": [
           {
            "aaxis": {
             "endlinecolor": "#2a3f5f",
             "gridcolor": "white",
             "linecolor": "white",
             "minorgridcolor": "white",
             "startlinecolor": "#2a3f5f"
            },
            "baxis": {
             "endlinecolor": "#2a3f5f",
             "gridcolor": "white",
             "linecolor": "white",
             "minorgridcolor": "white",
             "startlinecolor": "#2a3f5f"
            },
            "type": "carpet"
           }
          ],
          "choropleth": [
           {
            "colorbar": {
             "outlinewidth": 0,
             "ticks": ""
            },
            "type": "choropleth"
           }
          ],
          "contour": [
           {
            "colorbar": {
             "outlinewidth": 0,
             "ticks": ""
            },
            "colorscale": [
             [
              0,
              "#0d0887"
             ],
             [
              0.1111111111111111,
              "#46039f"
             ],
             [
              0.2222222222222222,
              "#7201a8"
             ],
             [
              0.3333333333333333,
              "#9c179e"
             ],
             [
              0.4444444444444444,
              "#bd3786"
             ],
             [
              0.5555555555555556,
              "#d8576b"
             ],
             [
              0.6666666666666666,
              "#ed7953"
             ],
             [
              0.7777777777777778,
              "#fb9f3a"
             ],
             [
              0.8888888888888888,
              "#fdca26"
             ],
             [
              1,
              "#f0f921"
             ]
            ],
            "type": "contour"
           }
          ],
          "contourcarpet": [
           {
            "colorbar": {
             "outlinewidth": 0,
             "ticks": ""
            },
            "type": "contourcarpet"
           }
          ],
          "heatmap": [
           {
            "colorbar": {
             "outlinewidth": 0,
             "ticks": ""
            },
            "colorscale": [
             [
              0,
              "#0d0887"
             ],
             [
              0.1111111111111111,
              "#46039f"
             ],
             [
              0.2222222222222222,
              "#7201a8"
             ],
             [
              0.3333333333333333,
              "#9c179e"
             ],
             [
              0.4444444444444444,
              "#bd3786"
             ],
             [
              0.5555555555555556,
              "#d8576b"
             ],
             [
              0.6666666666666666,
              "#ed7953"
             ],
             [
              0.7777777777777778,
              "#fb9f3a"
             ],
             [
              0.8888888888888888,
              "#fdca26"
             ],
             [
              1,
              "#f0f921"
             ]
            ],
            "type": "heatmap"
           }
          ],
          "histogram": [
           {
            "marker": {
             "pattern": {
              "fillmode": "overlay",
              "size": 10,
              "solidity": 0.2
             }
            },
            "type": "histogram"
           }
          ],
          "histogram2d": [
           {
            "colorbar": {
             "outlinewidth": 0,
             "ticks": ""
            },
            "colorscale": [
             [
              0,
              "#0d0887"
             ],
             [
              0.1111111111111111,
              "#46039f"
             ],
             [
              0.2222222222222222,
              "#7201a8"
             ],
             [
              0.3333333333333333,
              "#9c179e"
             ],
             [
              0.4444444444444444,
              "#bd3786"
             ],
             [
              0.5555555555555556,
              "#d8576b"
             ],
             [
              0.6666666666666666,
              "#ed7953"
             ],
             [
              0.7777777777777778,
              "#fb9f3a"
             ],
             [
              0.8888888888888888,
              "#fdca26"
             ],
             [
              1,
              "#f0f921"
             ]
            ],
            "type": "histogram2d"
           }
          ],
          "histogram2dcontour": [
           {
            "colorbar": {
             "outlinewidth": 0,
             "ticks": ""
            },
            "colorscale": [
             [
              0,
              "#0d0887"
             ],
             [
              0.1111111111111111,
              "#46039f"
             ],
             [
              0.2222222222222222,
              "#7201a8"
             ],
             [
              0.3333333333333333,
              "#9c179e"
             ],
             [
              0.4444444444444444,
              "#bd3786"
             ],
             [
              0.5555555555555556,
              "#d8576b"
             ],
             [
              0.6666666666666666,
              "#ed7953"
             ],
             [
              0.7777777777777778,
              "#fb9f3a"
             ],
             [
              0.8888888888888888,
              "#fdca26"
             ],
             [
              1,
              "#f0f921"
             ]
            ],
            "type": "histogram2dcontour"
           }
          ],
          "mesh3d": [
           {
            "colorbar": {
             "outlinewidth": 0,
             "ticks": ""
            },
            "type": "mesh3d"
           }
          ],
          "parcoords": [
           {
            "line": {
             "colorbar": {
              "outlinewidth": 0,
              "ticks": ""
             }
            },
            "type": "parcoords"
           }
          ],
          "pie": [
           {
            "automargin": true,
            "type": "pie"
           }
          ],
          "scatter": [
           {
            "fillpattern": {
             "fillmode": "overlay",
             "size": 10,
             "solidity": 0.2
            },
            "type": "scatter"
           }
          ],
          "scatter3d": [
           {
            "line": {
             "colorbar": {
              "outlinewidth": 0,
              "ticks": ""
             }
            },
            "marker": {
             "colorbar": {
              "outlinewidth": 0,
              "ticks": ""
             }
            },
            "type": "scatter3d"
           }
          ],
          "scattercarpet": [
           {
            "marker": {
             "colorbar": {
              "outlinewidth": 0,
              "ticks": ""
             }
            },
            "type": "scattercarpet"
           }
          ],
          "scattergeo": [
           {
            "marker": {
             "colorbar": {
              "outlinewidth": 0,
              "ticks": ""
             }
            },
            "type": "scattergeo"
           }
          ],
          "scattergl": [
           {
            "marker": {
             "colorbar": {
              "outlinewidth": 0,
              "ticks": ""
             }
            },
            "type": "scattergl"
           }
          ],
          "scattermap": [
           {
            "marker": {
             "colorbar": {
              "outlinewidth": 0,
              "ticks": ""
             }
            },
            "type": "scattermap"
           }
          ],
          "scattermapbox": [
           {
            "marker": {
             "colorbar": {
              "outlinewidth": 0,
              "ticks": ""
             }
            },
            "type": "scattermapbox"
           }
          ],
          "scatterpolar": [
           {
            "marker": {
             "colorbar": {
              "outlinewidth": 0,
              "ticks": ""
             }
            },
            "type": "scatterpolar"
           }
          ],
          "scatterpolargl": [
           {
            "marker": {
             "colorbar": {
              "outlinewidth": 0,
              "ticks": ""
             }
            },
            "type": "scatterpolargl"
           }
          ],
          "scatterternary": [
           {
            "marker": {
             "colorbar": {
              "outlinewidth": 0,
              "ticks": ""
             }
            },
            "type": "scatterternary"
           }
          ],
          "surface": [
           {
            "colorbar": {
             "outlinewidth": 0,
             "ticks": ""
            },
            "colorscale": [
             [
              0,
              "#0d0887"
             ],
             [
              0.1111111111111111,
              "#46039f"
             ],
             [
              0.2222222222222222,
              "#7201a8"
             ],
             [
              0.3333333333333333,
              "#9c179e"
             ],
             [
              0.4444444444444444,
              "#bd3786"
             ],
             [
              0.5555555555555556,
              "#d8576b"
             ],
             [
              0.6666666666666666,
              "#ed7953"
             ],
             [
              0.7777777777777778,
              "#fb9f3a"
             ],
             [
              0.8888888888888888,
              "#fdca26"
             ],
             [
              1,
              "#f0f921"
             ]
            ],
            "type": "surface"
           }
          ],
          "table": [
           {
            "cells": {
             "fill": {
              "color": "#EBF0F8"
             },
             "line": {
              "color": "white"
             }
            },
            "header": {
             "fill": {
              "color": "#C8D4E3"
             },
             "line": {
              "color": "white"
             }
            },
            "type": "table"
           }
          ]
         },
         "layout": {
          "annotationdefaults": {
           "arrowcolor": "#2a3f5f",
           "arrowhead": 0,
           "arrowwidth": 1
          },
          "autotypenumbers": "strict",
          "coloraxis": {
           "colorbar": {
            "outlinewidth": 0,
            "ticks": ""
           }
          },
          "colorscale": {
           "diverging": [
            [
             0,
             "#8e0152"
            ],
            [
             0.1,
             "#c51b7d"
            ],
            [
             0.2,
             "#de77ae"
            ],
            [
             0.3,
             "#f1b6da"
            ],
            [
             0.4,
             "#fde0ef"
            ],
            [
             0.5,
             "#f7f7f7"
            ],
            [
             0.6,
             "#e6f5d0"
            ],
            [
             0.7,
             "#b8e186"
            ],
            [
             0.8,
             "#7fbc41"
            ],
            [
             0.9,
             "#4d9221"
            ],
            [
             1,
             "#276419"
            ]
           ],
           "sequential": [
            [
             0,
             "#0d0887"
            ],
            [
             0.1111111111111111,
             "#46039f"
            ],
            [
             0.2222222222222222,
             "#7201a8"
            ],
            [
             0.3333333333333333,
             "#9c179e"
            ],
            [
             0.4444444444444444,
             "#bd3786"
            ],
            [
             0.5555555555555556,
             "#d8576b"
            ],
            [
             0.6666666666666666,
             "#ed7953"
            ],
            [
             0.7777777777777778,
             "#fb9f3a"
            ],
            [
             0.8888888888888888,
             "#fdca26"
            ],
            [
             1,
             "#f0f921"
            ]
           ],
           "sequentialminus": [
            [
             0,
             "#0d0887"
            ],
            [
             0.1111111111111111,
             "#46039f"
            ],
            [
             0.2222222222222222,
             "#7201a8"
            ],
            [
             0.3333333333333333,
             "#9c179e"
            ],
            [
             0.4444444444444444,
             "#bd3786"
            ],
            [
             0.5555555555555556,
             "#d8576b"
            ],
            [
             0.6666666666666666,
             "#ed7953"
            ],
            [
             0.7777777777777778,
             "#fb9f3a"
            ],
            [
             0.8888888888888888,
             "#fdca26"
            ],
            [
             1,
             "#f0f921"
            ]
           ]
          },
          "colorway": [
           "#636efa",
           "#EF553B",
           "#00cc96",
           "#ab63fa",
           "#FFA15A",
           "#19d3f3",
           "#FF6692",
           "#B6E880",
           "#FF97FF",
           "#FECB52"
          ],
          "font": {
           "color": "#2a3f5f"
          },
          "geo": {
           "bgcolor": "white",
           "lakecolor": "white",
           "landcolor": "#E5ECF6",
           "showlakes": true,
           "showland": true,
           "subunitcolor": "white"
          },
          "hoverlabel": {
           "align": "left"
          },
          "hovermode": "closest",
          "mapbox": {
           "style": "light"
          },
          "paper_bgcolor": "white",
          "plot_bgcolor": "#E5ECF6",
          "polar": {
           "angularaxis": {
            "gridcolor": "white",
            "linecolor": "white",
            "ticks": ""
           },
           "bgcolor": "#E5ECF6",
           "radialaxis": {
            "gridcolor": "white",
            "linecolor": "white",
            "ticks": ""
           }
          },
          "scene": {
           "xaxis": {
            "backgroundcolor": "#E5ECF6",
            "gridcolor": "white",
            "gridwidth": 2,
            "linecolor": "white",
            "showbackground": true,
            "ticks": "",
            "zerolinecolor": "white"
           },
           "yaxis": {
            "backgroundcolor": "#E5ECF6",
            "gridcolor": "white",
            "gridwidth": 2,
            "linecolor": "white",
            "showbackground": true,
            "ticks": "",
            "zerolinecolor": "white"
           },
           "zaxis": {
            "backgroundcolor": "#E5ECF6",
            "gridcolor": "white",
            "gridwidth": 2,
            "linecolor": "white",
            "showbackground": true,
            "ticks": "",
            "zerolinecolor": "white"
           }
          },
          "shapedefaults": {
           "line": {
            "color": "#2a3f5f"
           }
          },
          "ternary": {
           "aaxis": {
            "gridcolor": "white",
            "linecolor": "white",
            "ticks": ""
           },
           "baxis": {
            "gridcolor": "white",
            "linecolor": "white",
            "ticks": ""
           },
           "bgcolor": "#E5ECF6",
           "caxis": {
            "gridcolor": "white",
            "linecolor": "white",
            "ticks": ""
           }
          },
          "title": {
           "x": 0.05
          },
          "xaxis": {
           "automargin": true,
           "gridcolor": "white",
           "linecolor": "white",
           "ticks": "",
           "title": {
            "standoff": 15
           },
           "zerolinecolor": "white",
           "zerolinewidth": 2
          },
          "yaxis": {
           "automargin": true,
           "gridcolor": "white",
           "linecolor": "white",
           "ticks": "",
           "title": {
            "standoff": 15
           },
           "zerolinecolor": "white",
           "zerolinewidth": 2
          }
         }
        },
        "xaxis": {
         "anchor": "y",
         "domain": [
          0,
          1
         ],
         "title": {
          "text": "profit"
         }
        },
        "yaxis": {
         "anchor": "x",
         "domain": [
          0,
          1
         ],
         "title": {
          "text": "count"
         }
        }
       }
      }
     },
     "metadata": {},
     "output_type": "display_data"
    }
   ],
   "source": [
    "import plotly.express as px\n",
    "fig = px.histogram(df, x='profit')\n",
    "fig\n",
    "\n"
   ]
  }
 ],
 "metadata": {
  "kernelspec": {
   "display_name": "Python 3",
   "language": "python",
   "name": "python3"
  },
  "language_info": {
   "codemirror_mode": {
    "name": "ipython",
    "version": 3
   },
   "file_extension": ".py",
   "mimetype": "text/x-python",
   "name": "python",
   "nbconvert_exporter": "python",
   "pygments_lexer": "ipython3",
   "version": "3.13.7"
  }
 },
 "nbformat": 4,
 "nbformat_minor": 5
}
