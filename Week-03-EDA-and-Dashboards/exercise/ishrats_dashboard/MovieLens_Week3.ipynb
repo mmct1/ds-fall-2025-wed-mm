{
 "cells": [
  {
   "cell_type": "markdown",
   "id": "b7bcff19",
   "metadata": {},
   "source": [
    "# MovieLens 200k — Week 3 Notebook"
   ]
  },
  {
   "cell_type": "code",
   "execution_count": null,
   "id": "e310a78f",
   "metadata": {},
   "outputs": [],
   "source": [
    "import pandas as pd\n",
    "import numpy as np\n",
    "import matplotlib.pyplot as plt\n",
    "plt.rcParams['figure.figsize']=(10,4)\n",
    "\n",
    "df = pd.read_csv('data/movie_ratings.csv')\n",
    "df.head()"
   ]
  },
  {
   "cell_type": "markdown",
   "id": "83fc96fb",
   "metadata": {},
   "source": [
    "## Explode Genres (for per-genre analysis)"
   ]
  },
  {
   "cell_type": "code",
   "execution_count": null,
   "id": "84c13837",
   "metadata": {},
   "outputs": [],
   "source": [
    "df_expl = df.assign(genres=df['genres'].fillna('').astype(str).str.split('|')).explode('genres')\n",
    "df_expl = df_expl[df_expl['genres'].str.strip()!='']\n",
    "df_expl.head()"
   ]
  },
  {
   "cell_type": "markdown",
   "id": "5f0fe840",
   "metadata": {},
   "source": [
    "## Q1: Breakdown of genres"
   ]
  },
  {
   "cell_type": "code",
   "execution_count": null,
   "id": "58333ff0",
   "metadata": {},
   "outputs": [],
   "source": [
    "g = df_expl.groupby('genres')['rating'].count().sort_values(ascending=False)\n",
    "ax = g.plot(kind='bar')\n",
    "ax.set_xlabel('Genre'); ax.set_ylabel('Number of ratings'); ax.set_title('Ratings per Genre')\n",
    "plt.show()"
   ]
  }
 ],
 "metadata": {},
 "nbformat": 4,
 "nbformat_minor": 5
}
