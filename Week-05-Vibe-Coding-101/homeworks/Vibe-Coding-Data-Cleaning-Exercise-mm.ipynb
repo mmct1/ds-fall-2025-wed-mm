{
 "cells": [
  {
   "cell_type": "markdown",
   "metadata": {},
   "source": [
    "# Vibe Coding: Real-World Data Cleaning Challenge\n",
    "\n",
    "## The Mission\n",
    "\n",
    "You're a Data Analyst at **TechSalary Insights**. Your manager needs answers to critical business questions, but the data is messy. Your job is to clean it and provide accurate insights.\n",
    "\n",
    "**The catch:** You must figure out how to clean the data yourself. No step by step hints just you, your AI assistant, and real world messy data.\n",
    "\n",
    "---\n",
    "\n",
    "## The Dataset: Ask A Manager Salary Survey 2021\n",
    "\n",
    "**Location:** `../Week-02-Pandas-Part-2-and-DS-Overview/data/Ask A Manager Salary Survey 2021 (Responses) - Form Responses 1.tsv`\n",
    "\n",
    "This is **real survey data** from Ask A Manager's 2021 salary survey with over 28,000 responses from working professionals. The data comes from this survey: https://www.askamanager.org/2021/04/how-much-money-do-you-make-4.html\n",
    "\n",
    "**Why this dataset is perfect for vibe coding:**\n",
    "- Real human responses (inconsistent formatting)\n",
    "- Multiple currencies and formats  \n",
    "- Messy job titles and location data\n",
    "- Missing and invalid entries\n",
    "- Requires business judgment calls\n",
    "\n",
    "---\n",
    "\n",
    "## Your Business Questions\n",
    "\n",
    "Answer these **exact questions** with clean data. There's only one correct answer for each:\n",
    "\n",
    "### Core Questions (Required):\n",
    "1. **What is the median salary for Software Engineers in the United States?** \n",
    "2. **Which US state has the highest average salary for tech workers?**\n",
    "3. **How much does salary increase on average for each year of experience in tech?**\n",
    "4. **Which industry (besides tech) has the highest median salary?**\n",
    "\n",
    "### Bonus Questions (If time permits):\n",
    "5. **What's the salary gap between men and women in tech roles?**\n",
    "6. **Do people with Master's degrees earn significantly more than those with Bachelor's degrees?**\n",
    "\n",
    "**Success Criteria:** Your final answers will be compared against the \"official\" results. Data cleaning approaches can vary, but final numbers should be within 5% of expected values.\n"
   ]
  },
  {
   "cell_type": "markdown",
   "metadata": {},
   "source": [
    "---\n",
    "# Your Work Starts Here\n",
    "\n",
    "## Step 0: Create Your Plan\n",
    "**Before writing any code, use Cursor to create your todo plan. Then paste it here:**\n",
    "\n",
    "## My Data Cleaning Plan\n",
    "\n",
    "- Profile dataset and catalog data quality issues\n",
    "- Define cleaning rules and business assumptions with a data dictionary\n",
    "- Standardize schema and infer types for core fields\n",
    "- Normalize currencies to USD and consolidate compensation components\n",
    "- Standardize job titles and map to canonical roles\n",
    "- Clean and geocode locations; extract and validate US states\n",
    "- Parse and normalize years of experience fields\n",
    "- Handle missing, invalid, and duplicate records\n",
    "- Detect and mitigate outliers with defensible rules\n",
    "- Compute cleaned salary metrics and derived features\n",
    "- Answer four business questions with validated calculations\n",
    "- Document assumptions, QA checks, and deliver final summary\n"
   ]
  },
  {
   "cell_type": "markdown",
   "metadata": {},
   "source": [
    "## Step 1: Data Loading and Exploration\n",
    "\n",
    "Start here! Load the dataset and get familiar with what you're working with.\n"
   ]
  },
  {
   "cell_type": "code",
   "execution_count": 356,
   "metadata": {},
   "outputs": [
    {
     "name": "stdout",
     "output_type": "stream",
     "text": [
      "rows, cols: (28062, 18)\n",
      "************************************************\n",
      "Timestamp                                                                                                                                                                                                                                object\n",
      "How old are you?                                                                                                                                                                                                                         object\n",
      "What industry do you work in?                                                                                                                                                                                                            object\n",
      "Job title                                                                                                                                                                                                                                object\n",
      "If your job title needs additional context, please clarify here:                                                                                                                                                                         object\n",
      "What is your annual salary? (You'll indicate the currency in a later question. If you are part-time or hourly, please enter an annualized equivalent -- what you would earn if you worked the job 40 hours a week, 52 weeks a year.)     object\n",
      "How much additional monetary compensation do you get, if any (for example, bonuses or overtime in an average year)? Please only include monetary compensation here, not the value of benefits.                                          float64\n",
      "Please indicate the currency                                                                                                                                                                                                             object\n",
      "If \"Other,\" please indicate the currency here:                                                                                                                                                                                           object\n",
      "If your income needs additional context, please provide it here:                                                                                                                                                                         object\n",
      "What country do you work in?                                                                                                                                                                                                             object\n",
      "If you're in the U.S., what state do you work in?                                                                                                                                                                                        object\n",
      "What city do you work in?                                                                                                                                                                                                                object\n",
      "How many years of professional work experience do you have overall?                                                                                                                                                                      object\n",
      "How many years of professional work experience do you have in your field?                                                                                                                                                                object\n",
      "What is your highest level of education completed?                                                                                                                                                                                       object\n",
      "What is your gender?                                                                                                                                                                                                                     object\n",
      "What is your race? (Choose all that apply.)                                                                                                                                                                                              object\n",
      "dtype: object\n",
      "************************************************\n",
      "number of NaNs: Timestamp                                                                                                                                                                                                                                   0\n",
      "How old are you?                                                                                                                                                                                                                            0\n",
      "What industry do you work in?                                                                                                                                                                                                              74\n",
      "Job title                                                                                                                                                                                                                                   1\n",
      "If your job title needs additional context, please clarify here:                                                                                                                                                                        20800\n",
      "What is your annual salary? (You'll indicate the currency in a later question. If you are part-time or hourly, please enter an annualized equivalent -- what you would earn if you worked the job 40 hours a week, 52 weeks a year.)        0\n",
      "How much additional monetary compensation do you get, if any (for example, bonuses or overtime in an average year)? Please only include monetary compensation here, not the value of benefits.                                           7296\n",
      "Please indicate the currency                                                                                                                                                                                                                0\n",
      "If \"Other,\" please indicate the currency here:                                                                                                                                                                                          27856\n",
      "If your income needs additional context, please provide it here:                                                                                                                                                                        25020\n",
      "What country do you work in?                                                                                                                                                                                                                0\n",
      "If you're in the U.S., what state do you work in?                                                                                                                                                                                        5023\n",
      "What city do you work in?                                                                                                                                                                                                                  82\n",
      "How many years of professional work experience do you have overall?                                                                                                                                                                         0\n",
      "How many years of professional work experience do you have in your field?                                                                                                                                                                   0\n",
      "What is your highest level of education completed?                                                                                                                                                                                        222\n",
      "What is your gender?                                                                                                                                                                                                                      171\n",
      "What is your race? (Choose all that apply.)                                                                                                                                                                                               177\n",
      "dtype: int64\n",
      "************************************************\n"
     ]
    },
    {
     "data": {
      "text/html": [
       "<div>\n",
       "<style scoped>\n",
       "    .dataframe tbody tr th:only-of-type {\n",
       "        vertical-align: middle;\n",
       "    }\n",
       "\n",
       "    .dataframe tbody tr th {\n",
       "        vertical-align: top;\n",
       "    }\n",
       "\n",
       "    .dataframe thead th {\n",
       "        text-align: right;\n",
       "    }\n",
       "</style>\n",
       "<table border=\"1\" class=\"dataframe\">\n",
       "  <thead>\n",
       "    <tr style=\"text-align: right;\">\n",
       "      <th></th>\n",
       "      <th>Timestamp</th>\n",
       "      <th>How old are you?</th>\n",
       "      <th>What industry do you work in?</th>\n",
       "      <th>Job title</th>\n",
       "      <th>If your job title needs additional context, please clarify here:</th>\n",
       "      <th>What is your annual salary? (You'll indicate the currency in a later question. If you are part-time or hourly, please enter an annualized equivalent -- what you would earn if you worked the job 40 hours a week, 52 weeks a year.)</th>\n",
       "      <th>How much additional monetary compensation do you get, if any (for example, bonuses or overtime in an average year)? Please only include monetary compensation here, not the value of benefits.</th>\n",
       "      <th>Please indicate the currency</th>\n",
       "      <th>If \"Other,\" please indicate the currency here:</th>\n",
       "      <th>If your income needs additional context, please provide it here:</th>\n",
       "      <th>What country do you work in?</th>\n",
       "      <th>If you're in the U.S., what state do you work in?</th>\n",
       "      <th>What city do you work in?</th>\n",
       "      <th>How many years of professional work experience do you have overall?</th>\n",
       "      <th>How many years of professional work experience do you have in your field?</th>\n",
       "      <th>What is your highest level of education completed?</th>\n",
       "      <th>What is your gender?</th>\n",
       "      <th>What is your race? (Choose all that apply.)</th>\n",
       "    </tr>\n",
       "  </thead>\n",
       "  <tbody>\n",
       "    <tr>\n",
       "      <th>0</th>\n",
       "      <td>4/27/2021 11:02:10</td>\n",
       "      <td>25-34</td>\n",
       "      <td>Education (Higher Education)</td>\n",
       "      <td>Research and Instruction Librarian</td>\n",
       "      <td>NaN</td>\n",
       "      <td>55,000</td>\n",
       "      <td>0.0</td>\n",
       "      <td>USD</td>\n",
       "      <td>NaN</td>\n",
       "      <td>NaN</td>\n",
       "      <td>United States</td>\n",
       "      <td>Massachusetts</td>\n",
       "      <td>Boston</td>\n",
       "      <td>5-7 years</td>\n",
       "      <td>5-7 years</td>\n",
       "      <td>Master's degree</td>\n",
       "      <td>Woman</td>\n",
       "      <td>White</td>\n",
       "    </tr>\n",
       "    <tr>\n",
       "      <th>1</th>\n",
       "      <td>4/27/2021 11:02:22</td>\n",
       "      <td>25-34</td>\n",
       "      <td>Computing or Tech</td>\n",
       "      <td>Change &amp; Internal Communications Manager</td>\n",
       "      <td>NaN</td>\n",
       "      <td>54,600</td>\n",
       "      <td>4000.0</td>\n",
       "      <td>GBP</td>\n",
       "      <td>NaN</td>\n",
       "      <td>NaN</td>\n",
       "      <td>United Kingdom</td>\n",
       "      <td>NaN</td>\n",
       "      <td>Cambridge</td>\n",
       "      <td>8 - 10 years</td>\n",
       "      <td>5-7 years</td>\n",
       "      <td>College degree</td>\n",
       "      <td>Non-binary</td>\n",
       "      <td>White</td>\n",
       "    </tr>\n",
       "    <tr>\n",
       "      <th>2</th>\n",
       "      <td>4/27/2021 11:02:38</td>\n",
       "      <td>25-34</td>\n",
       "      <td>Accounting, Banking &amp; Finance</td>\n",
       "      <td>Marketing Specialist</td>\n",
       "      <td>NaN</td>\n",
       "      <td>34,000</td>\n",
       "      <td>NaN</td>\n",
       "      <td>USD</td>\n",
       "      <td>NaN</td>\n",
       "      <td>NaN</td>\n",
       "      <td>US</td>\n",
       "      <td>Tennessee</td>\n",
       "      <td>Chattanooga</td>\n",
       "      <td>2 - 4 years</td>\n",
       "      <td>2 - 4 years</td>\n",
       "      <td>College degree</td>\n",
       "      <td>Woman</td>\n",
       "      <td>White</td>\n",
       "    </tr>\n",
       "    <tr>\n",
       "      <th>3</th>\n",
       "      <td>4/27/2021 11:02:41</td>\n",
       "      <td>25-34</td>\n",
       "      <td>Nonprofits</td>\n",
       "      <td>Program Manager</td>\n",
       "      <td>NaN</td>\n",
       "      <td>62,000</td>\n",
       "      <td>3000.0</td>\n",
       "      <td>USD</td>\n",
       "      <td>NaN</td>\n",
       "      <td>NaN</td>\n",
       "      <td>USA</td>\n",
       "      <td>Wisconsin</td>\n",
       "      <td>Milwaukee</td>\n",
       "      <td>8 - 10 years</td>\n",
       "      <td>5-7 years</td>\n",
       "      <td>College degree</td>\n",
       "      <td>Woman</td>\n",
       "      <td>White</td>\n",
       "    </tr>\n",
       "    <tr>\n",
       "      <th>4</th>\n",
       "      <td>4/27/2021 11:02:42</td>\n",
       "      <td>25-34</td>\n",
       "      <td>Accounting, Banking &amp; Finance</td>\n",
       "      <td>Accounting Manager</td>\n",
       "      <td>NaN</td>\n",
       "      <td>60,000</td>\n",
       "      <td>7000.0</td>\n",
       "      <td>USD</td>\n",
       "      <td>NaN</td>\n",
       "      <td>NaN</td>\n",
       "      <td>US</td>\n",
       "      <td>South Carolina</td>\n",
       "      <td>Greenville</td>\n",
       "      <td>8 - 10 years</td>\n",
       "      <td>5-7 years</td>\n",
       "      <td>College degree</td>\n",
       "      <td>Woman</td>\n",
       "      <td>White</td>\n",
       "    </tr>\n",
       "  </tbody>\n",
       "</table>\n",
       "</div>"
      ],
      "text/plain": [
       "            Timestamp How old are you?  What industry do you work in?  \\\n",
       "0  4/27/2021 11:02:10            25-34   Education (Higher Education)   \n",
       "1  4/27/2021 11:02:22            25-34              Computing or Tech   \n",
       "2  4/27/2021 11:02:38            25-34  Accounting, Banking & Finance   \n",
       "3  4/27/2021 11:02:41            25-34                     Nonprofits   \n",
       "4  4/27/2021 11:02:42            25-34  Accounting, Banking & Finance   \n",
       "\n",
       "                                  Job title  \\\n",
       "0        Research and Instruction Librarian   \n",
       "1  Change & Internal Communications Manager   \n",
       "2                      Marketing Specialist   \n",
       "3                           Program Manager   \n",
       "4                        Accounting Manager   \n",
       "\n",
       "  If your job title needs additional context, please clarify here:  \\\n",
       "0                                                NaN                 \n",
       "1                                                NaN                 \n",
       "2                                                NaN                 \n",
       "3                                                NaN                 \n",
       "4                                                NaN                 \n",
       "\n",
       "  What is your annual salary? (You'll indicate the currency in a later question. If you are part-time or hourly, please enter an annualized equivalent -- what you would earn if you worked the job 40 hours a week, 52 weeks a year.)  \\\n",
       "0                                             55,000                                                                                                                                                                                     \n",
       "1                                             54,600                                                                                                                                                                                     \n",
       "2                                             34,000                                                                                                                                                                                     \n",
       "3                                             62,000                                                                                                                                                                                     \n",
       "4                                             60,000                                                                                                                                                                                     \n",
       "\n",
       "   How much additional monetary compensation do you get, if any (for example, bonuses or overtime in an average year)? Please only include monetary compensation here, not the value of benefits.  \\\n",
       "0                                                0.0                                                                                                                                                \n",
       "1                                             4000.0                                                                                                                                                \n",
       "2                                                NaN                                                                                                                                                \n",
       "3                                             3000.0                                                                                                                                                \n",
       "4                                             7000.0                                                                                                                                                \n",
       "\n",
       "  Please indicate the currency  \\\n",
       "0                          USD   \n",
       "1                          GBP   \n",
       "2                          USD   \n",
       "3                          USD   \n",
       "4                          USD   \n",
       "\n",
       "  If \"Other,\" please indicate the currency here:   \\\n",
       "0                                             NaN   \n",
       "1                                             NaN   \n",
       "2                                             NaN   \n",
       "3                                             NaN   \n",
       "4                                             NaN   \n",
       "\n",
       "  If your income needs additional context, please provide it here:  \\\n",
       "0                                                NaN                 \n",
       "1                                                NaN                 \n",
       "2                                                NaN                 \n",
       "3                                                NaN                 \n",
       "4                                                NaN                 \n",
       "\n",
       "  What country do you work in?  \\\n",
       "0                United States   \n",
       "1               United Kingdom   \n",
       "2                           US   \n",
       "3                          USA   \n",
       "4                           US   \n",
       "\n",
       "  If you're in the U.S., what state do you work in? What city do you work in?  \\\n",
       "0                                     Massachusetts                    Boston   \n",
       "1                                               NaN                 Cambridge   \n",
       "2                                         Tennessee               Chattanooga   \n",
       "3                                         Wisconsin                 Milwaukee   \n",
       "4                                    South Carolina                Greenville   \n",
       "\n",
       "  How many years of professional work experience do you have overall?  \\\n",
       "0                                          5-7 years                    \n",
       "1                                       8 - 10 years                    \n",
       "2                                        2 - 4 years                    \n",
       "3                                       8 - 10 years                    \n",
       "4                                       8 - 10 years                    \n",
       "\n",
       "  How many years of professional work experience do you have in your field?  \\\n",
       "0                                          5-7 years                          \n",
       "1                                          5-7 years                          \n",
       "2                                        2 - 4 years                          \n",
       "3                                          5-7 years                          \n",
       "4                                          5-7 years                          \n",
       "\n",
       "  What is your highest level of education completed? What is your gender?  \\\n",
       "0                                    Master's degree                Woman   \n",
       "1                                     College degree           Non-binary   \n",
       "2                                     College degree                Woman   \n",
       "3                                     College degree                Woman   \n",
       "4                                     College degree                Woman   \n",
       "\n",
       "  What is your race? (Choose all that apply.)  \n",
       "0                                       White  \n",
       "1                                       White  \n",
       "2                                       White  \n",
       "3                                       White  \n",
       "4                                       White  "
      ]
     },
     "execution_count": 356,
     "metadata": {},
     "output_type": "execute_result"
    }
   ],
   "source": [
    "# Import necessary libraries\n",
    "import pandas as pd\n",
    "import numpy as np\n",
    "import matplotlib.pyplot as plt\n",
    "import seaborn as sns\n",
    "import plotly.express as px\n",
    "\n",
    "df_messy=pd.read_csv('../../Week-02-Pandas-Part-2-and-DS-Overview/data/Ask A Manager Salary Survey 2021 (Responses) - Form Responses 1.tsv',delimiter='\\t')\n",
    "print('rows, cols:',df_messy.shape)\n",
    "print('************************************************')\n",
    "print(df_messy.dtypes)\n",
    "print('************************************************')\n",
    "print('number of NaNs:',df_messy.isna().sum())\n",
    "print('************************************************')\n",
    "df_messy.head()"
   ]
  },
  {
   "cell_type": "markdown",
   "metadata": {},
   "source": [
    "## Step 2: Data Cleaning\n"
   ]
  },
  {
   "cell_type": "code",
   "execution_count": 357,
   "metadata": {},
   "outputs": [
    {
     "data": {
      "text/html": [
       "<div>\n",
       "<style scoped>\n",
       "    .dataframe tbody tr th:only-of-type {\n",
       "        vertical-align: middle;\n",
       "    }\n",
       "\n",
       "    .dataframe tbody tr th {\n",
       "        vertical-align: top;\n",
       "    }\n",
       "\n",
       "    .dataframe thead th {\n",
       "        text-align: right;\n",
       "    }\n",
       "</style>\n",
       "<table border=\"1\" class=\"dataframe\">\n",
       "  <thead>\n",
       "    <tr style=\"text-align: right;\">\n",
       "      <th></th>\n",
       "      <th>time_of_response</th>\n",
       "      <th>age</th>\n",
       "      <th>industry</th>\n",
       "      <th>job_title</th>\n",
       "      <th>extra_job_info</th>\n",
       "      <th>annual_sal_full_time</th>\n",
       "      <th>additional_compensation</th>\n",
       "      <th>currency_type</th>\n",
       "      <th>uncommon_currency_type</th>\n",
       "      <th>income_context</th>\n",
       "      <th>country</th>\n",
       "      <th>us_state</th>\n",
       "      <th>city</th>\n",
       "      <th>yrs_experience_general</th>\n",
       "      <th>yrs_experience_field</th>\n",
       "      <th>highest_lvl_edu</th>\n",
       "      <th>gender</th>\n",
       "      <th>race</th>\n",
       "    </tr>\n",
       "  </thead>\n",
       "  <tbody>\n",
       "    <tr>\n",
       "      <th>0</th>\n",
       "      <td>4/27/2021 11:02:10</td>\n",
       "      <td>25-34</td>\n",
       "      <td>Education (Higher Education)</td>\n",
       "      <td>Research and Instruction Librarian</td>\n",
       "      <td>NaN</td>\n",
       "      <td>55,000</td>\n",
       "      <td>0.0</td>\n",
       "      <td>USD</td>\n",
       "      <td>NaN</td>\n",
       "      <td>NaN</td>\n",
       "      <td>United States</td>\n",
       "      <td>Massachusetts</td>\n",
       "      <td>Boston</td>\n",
       "      <td>5-7 years</td>\n",
       "      <td>5-7 years</td>\n",
       "      <td>Master's degree</td>\n",
       "      <td>Woman</td>\n",
       "      <td>White</td>\n",
       "    </tr>\n",
       "    <tr>\n",
       "      <th>1</th>\n",
       "      <td>4/27/2021 11:02:22</td>\n",
       "      <td>25-34</td>\n",
       "      <td>Computing or Tech</td>\n",
       "      <td>Change &amp; Internal Communications Manager</td>\n",
       "      <td>NaN</td>\n",
       "      <td>54,600</td>\n",
       "      <td>4000.0</td>\n",
       "      <td>GBP</td>\n",
       "      <td>NaN</td>\n",
       "      <td>NaN</td>\n",
       "      <td>United Kingdom</td>\n",
       "      <td>NaN</td>\n",
       "      <td>Cambridge</td>\n",
       "      <td>8 - 10 years</td>\n",
       "      <td>5-7 years</td>\n",
       "      <td>College degree</td>\n",
       "      <td>Non-binary</td>\n",
       "      <td>White</td>\n",
       "    </tr>\n",
       "    <tr>\n",
       "      <th>2</th>\n",
       "      <td>4/27/2021 11:02:38</td>\n",
       "      <td>25-34</td>\n",
       "      <td>Accounting, Banking &amp; Finance</td>\n",
       "      <td>Marketing Specialist</td>\n",
       "      <td>NaN</td>\n",
       "      <td>34,000</td>\n",
       "      <td>NaN</td>\n",
       "      <td>USD</td>\n",
       "      <td>NaN</td>\n",
       "      <td>NaN</td>\n",
       "      <td>US</td>\n",
       "      <td>Tennessee</td>\n",
       "      <td>Chattanooga</td>\n",
       "      <td>2 - 4 years</td>\n",
       "      <td>2 - 4 years</td>\n",
       "      <td>College degree</td>\n",
       "      <td>Woman</td>\n",
       "      <td>White</td>\n",
       "    </tr>\n",
       "    <tr>\n",
       "      <th>3</th>\n",
       "      <td>4/27/2021 11:02:41</td>\n",
       "      <td>25-34</td>\n",
       "      <td>Nonprofits</td>\n",
       "      <td>Program Manager</td>\n",
       "      <td>NaN</td>\n",
       "      <td>62,000</td>\n",
       "      <td>3000.0</td>\n",
       "      <td>USD</td>\n",
       "      <td>NaN</td>\n",
       "      <td>NaN</td>\n",
       "      <td>USA</td>\n",
       "      <td>Wisconsin</td>\n",
       "      <td>Milwaukee</td>\n",
       "      <td>8 - 10 years</td>\n",
       "      <td>5-7 years</td>\n",
       "      <td>College degree</td>\n",
       "      <td>Woman</td>\n",
       "      <td>White</td>\n",
       "    </tr>\n",
       "    <tr>\n",
       "      <th>4</th>\n",
       "      <td>4/27/2021 11:02:42</td>\n",
       "      <td>25-34</td>\n",
       "      <td>Accounting, Banking &amp; Finance</td>\n",
       "      <td>Accounting Manager</td>\n",
       "      <td>NaN</td>\n",
       "      <td>60,000</td>\n",
       "      <td>7000.0</td>\n",
       "      <td>USD</td>\n",
       "      <td>NaN</td>\n",
       "      <td>NaN</td>\n",
       "      <td>US</td>\n",
       "      <td>South Carolina</td>\n",
       "      <td>Greenville</td>\n",
       "      <td>8 - 10 years</td>\n",
       "      <td>5-7 years</td>\n",
       "      <td>College degree</td>\n",
       "      <td>Woman</td>\n",
       "      <td>White</td>\n",
       "    </tr>\n",
       "  </tbody>\n",
       "</table>\n",
       "</div>"
      ],
      "text/plain": [
       "     time_of_response    age                       industry  \\\n",
       "0  4/27/2021 11:02:10  25-34   Education (Higher Education)   \n",
       "1  4/27/2021 11:02:22  25-34              Computing or Tech   \n",
       "2  4/27/2021 11:02:38  25-34  Accounting, Banking & Finance   \n",
       "3  4/27/2021 11:02:41  25-34                     Nonprofits   \n",
       "4  4/27/2021 11:02:42  25-34  Accounting, Banking & Finance   \n",
       "\n",
       "                                  job_title extra_job_info  \\\n",
       "0        Research and Instruction Librarian            NaN   \n",
       "1  Change & Internal Communications Manager            NaN   \n",
       "2                      Marketing Specialist            NaN   \n",
       "3                           Program Manager            NaN   \n",
       "4                        Accounting Manager            NaN   \n",
       "\n",
       "  annual_sal_full_time  additional_compensation currency_type  \\\n",
       "0               55,000                      0.0           USD   \n",
       "1               54,600                   4000.0           GBP   \n",
       "2               34,000                      NaN           USD   \n",
       "3               62,000                   3000.0           USD   \n",
       "4               60,000                   7000.0           USD   \n",
       "\n",
       "  uncommon_currency_type income_context         country        us_state  \\\n",
       "0                    NaN            NaN   United States   Massachusetts   \n",
       "1                    NaN            NaN  United Kingdom             NaN   \n",
       "2                    NaN            NaN              US       Tennessee   \n",
       "3                    NaN            NaN             USA       Wisconsin   \n",
       "4                    NaN            NaN              US  South Carolina   \n",
       "\n",
       "          city yrs_experience_general yrs_experience_field  highest_lvl_edu  \\\n",
       "0       Boston              5-7 years            5-7 years  Master's degree   \n",
       "1    Cambridge           8 - 10 years            5-7 years   College degree   \n",
       "2  Chattanooga            2 - 4 years          2 - 4 years   College degree   \n",
       "3    Milwaukee           8 - 10 years            5-7 years   College degree   \n",
       "4   Greenville           8 - 10 years            5-7 years   College degree   \n",
       "\n",
       "       gender   race  \n",
       "0       Woman  White  \n",
       "1  Non-binary  White  \n",
       "2       Woman  White  \n",
       "3       Woman  White  \n",
       "4       Woman  White  "
      ]
     },
     "execution_count": 357,
     "metadata": {},
     "output_type": "execute_result"
    }
   ],
   "source": [
    "\n",
    "column_map = {\n",
    "    'Timestamp' : 'time_of_response',\n",
    "    'How old are you?' : 'age',\n",
    "    'What industry do you work in?' : 'industry',\n",
    "    'Job title' : 'job_title',\n",
    "    'If your job title needs additional context, please clarify here:' : 'extra_job_info',\n",
    "    'What is your annual salary? (You\\'ll indicate the currency in a later question. If you are part-time or hourly, please enter an annualized equivalent -- what you would earn if you worked the job 40 hours a week, 52 weeks a year.)' : 'annual_sal_full_time',\n",
    "    'How much additional monetary compensation do you get, if any (for example, bonuses or overtime in an average year)? Please only include monetary compensation here, not the value of benefits.' : 'additional_compensation',\n",
    "    'Please indicate the currency' : 'currency_type',\n",
    "    'If \"Other,\" please indicate the currency here: ' : 'uncommon_currency_type',\n",
    "    'If your income needs additional context, please provide it here:' : 'income_context',\n",
    "    'What country do you work in?' : 'country',\n",
    "    'If you\\'re in the U.S., what state do you work in?' : 'us_state',\n",
    "    'What city do you work in?' : 'city',\n",
    "    'How many years of professional work experience do you have overall?' : 'yrs_experience_general',\n",
    "    'How many years of professional work experience do you have in your field?' : 'yrs_experience_field',\n",
    "    'What is your highest level of education completed?' : 'highest_lvl_edu',\n",
    "    'What is your gender?' : 'gender',\n",
    "    'What is your race? (Choose all that apply.)' : 'race'\n",
    "}\n",
    "\n",
    "df_clean = df_messy.rename(columns=column_map)\n",
    "df_clean.head()"
   ]
  },
  {
   "cell_type": "code",
   "execution_count": 358,
   "metadata": {},
   "outputs": [
    {
     "name": "stdout",
     "output_type": "stream",
     "text": [
      "country\n",
      "USA               22897\n",
      "Canada             1570\n",
      "UK                  574\n",
      "United Kingdom      547\n",
      "Australia           318\n",
      "                  ...  \n",
      "LOUTRELAND            1\n",
      "philippines           1\n",
      "ff                    1\n",
      "Myanmar               1\n",
      "Burma                 1\n",
      "Name: count, Length: 363, dtype: int64\n"
     ]
    },
    {
     "data": {
      "text/html": [
       "<div>\n",
       "<style scoped>\n",
       "    .dataframe tbody tr th:only-of-type {\n",
       "        vertical-align: middle;\n",
       "    }\n",
       "\n",
       "    .dataframe tbody tr th {\n",
       "        vertical-align: top;\n",
       "    }\n",
       "\n",
       "    .dataframe thead th {\n",
       "        text-align: right;\n",
       "    }\n",
       "</style>\n",
       "<table border=\"1\" class=\"dataframe\">\n",
       "  <thead>\n",
       "    <tr style=\"text-align: right;\">\n",
       "      <th></th>\n",
       "      <th>time_of_response</th>\n",
       "      <th>age</th>\n",
       "      <th>industry</th>\n",
       "      <th>job_title</th>\n",
       "      <th>extra_job_info</th>\n",
       "      <th>annual_sal_full_time</th>\n",
       "      <th>additional_compensation</th>\n",
       "      <th>currency_type</th>\n",
       "      <th>uncommon_currency_type</th>\n",
       "      <th>income_context</th>\n",
       "      <th>country</th>\n",
       "      <th>us_state</th>\n",
       "      <th>city</th>\n",
       "      <th>yrs_experience_general</th>\n",
       "      <th>yrs_experience_field</th>\n",
       "      <th>highest_lvl_edu</th>\n",
       "      <th>gender</th>\n",
       "      <th>race</th>\n",
       "    </tr>\n",
       "  </thead>\n",
       "  <tbody>\n",
       "    <tr>\n",
       "      <th>0</th>\n",
       "      <td>4/27/2021 11:02:10</td>\n",
       "      <td>25-34</td>\n",
       "      <td>Education (Higher Education)</td>\n",
       "      <td>Research and Instruction Librarian</td>\n",
       "      <td>NaN</td>\n",
       "      <td>55,000</td>\n",
       "      <td>0.0</td>\n",
       "      <td>USD</td>\n",
       "      <td>NaN</td>\n",
       "      <td>NaN</td>\n",
       "      <td>USA</td>\n",
       "      <td>Massachusetts</td>\n",
       "      <td>Boston</td>\n",
       "      <td>5-7 years</td>\n",
       "      <td>5-7 years</td>\n",
       "      <td>Master's degree</td>\n",
       "      <td>Woman</td>\n",
       "      <td>White</td>\n",
       "    </tr>\n",
       "    <tr>\n",
       "      <th>1</th>\n",
       "      <td>4/27/2021 11:02:22</td>\n",
       "      <td>25-34</td>\n",
       "      <td>Computing or Tech</td>\n",
       "      <td>Change &amp; Internal Communications Manager</td>\n",
       "      <td>NaN</td>\n",
       "      <td>54,600</td>\n",
       "      <td>4000.0</td>\n",
       "      <td>GBP</td>\n",
       "      <td>NaN</td>\n",
       "      <td>NaN</td>\n",
       "      <td>United Kingdom</td>\n",
       "      <td>NaN</td>\n",
       "      <td>Cambridge</td>\n",
       "      <td>8 - 10 years</td>\n",
       "      <td>5-7 years</td>\n",
       "      <td>College degree</td>\n",
       "      <td>Non-binary</td>\n",
       "      <td>White</td>\n",
       "    </tr>\n",
       "    <tr>\n",
       "      <th>2</th>\n",
       "      <td>4/27/2021 11:02:38</td>\n",
       "      <td>25-34</td>\n",
       "      <td>Accounting, Banking &amp; Finance</td>\n",
       "      <td>Marketing Specialist</td>\n",
       "      <td>NaN</td>\n",
       "      <td>34,000</td>\n",
       "      <td>NaN</td>\n",
       "      <td>USD</td>\n",
       "      <td>NaN</td>\n",
       "      <td>NaN</td>\n",
       "      <td>USA</td>\n",
       "      <td>Tennessee</td>\n",
       "      <td>Chattanooga</td>\n",
       "      <td>2 - 4 years</td>\n",
       "      <td>2 - 4 years</td>\n",
       "      <td>College degree</td>\n",
       "      <td>Woman</td>\n",
       "      <td>White</td>\n",
       "    </tr>\n",
       "    <tr>\n",
       "      <th>3</th>\n",
       "      <td>4/27/2021 11:02:41</td>\n",
       "      <td>25-34</td>\n",
       "      <td>Nonprofits</td>\n",
       "      <td>Program Manager</td>\n",
       "      <td>NaN</td>\n",
       "      <td>62,000</td>\n",
       "      <td>3000.0</td>\n",
       "      <td>USD</td>\n",
       "      <td>NaN</td>\n",
       "      <td>NaN</td>\n",
       "      <td>USA</td>\n",
       "      <td>Wisconsin</td>\n",
       "      <td>Milwaukee</td>\n",
       "      <td>8 - 10 years</td>\n",
       "      <td>5-7 years</td>\n",
       "      <td>College degree</td>\n",
       "      <td>Woman</td>\n",
       "      <td>White</td>\n",
       "    </tr>\n",
       "    <tr>\n",
       "      <th>4</th>\n",
       "      <td>4/27/2021 11:02:42</td>\n",
       "      <td>25-34</td>\n",
       "      <td>Accounting, Banking &amp; Finance</td>\n",
       "      <td>Accounting Manager</td>\n",
       "      <td>NaN</td>\n",
       "      <td>60,000</td>\n",
       "      <td>7000.0</td>\n",
       "      <td>USD</td>\n",
       "      <td>NaN</td>\n",
       "      <td>NaN</td>\n",
       "      <td>USA</td>\n",
       "      <td>South Carolina</td>\n",
       "      <td>Greenville</td>\n",
       "      <td>8 - 10 years</td>\n",
       "      <td>5-7 years</td>\n",
       "      <td>College degree</td>\n",
       "      <td>Woman</td>\n",
       "      <td>White</td>\n",
       "    </tr>\n",
       "  </tbody>\n",
       "</table>\n",
       "</div>"
      ],
      "text/plain": [
       "     time_of_response    age                       industry  \\\n",
       "0  4/27/2021 11:02:10  25-34   Education (Higher Education)   \n",
       "1  4/27/2021 11:02:22  25-34              Computing or Tech   \n",
       "2  4/27/2021 11:02:38  25-34  Accounting, Banking & Finance   \n",
       "3  4/27/2021 11:02:41  25-34                     Nonprofits   \n",
       "4  4/27/2021 11:02:42  25-34  Accounting, Banking & Finance   \n",
       "\n",
       "                                  job_title extra_job_info  \\\n",
       "0        Research and Instruction Librarian            NaN   \n",
       "1  Change & Internal Communications Manager            NaN   \n",
       "2                      Marketing Specialist            NaN   \n",
       "3                           Program Manager            NaN   \n",
       "4                        Accounting Manager            NaN   \n",
       "\n",
       "  annual_sal_full_time  additional_compensation currency_type  \\\n",
       "0               55,000                      0.0           USD   \n",
       "1               54,600                   4000.0           GBP   \n",
       "2               34,000                      NaN           USD   \n",
       "3               62,000                   3000.0           USD   \n",
       "4               60,000                   7000.0           USD   \n",
       "\n",
       "  uncommon_currency_type income_context         country        us_state  \\\n",
       "0                    NaN            NaN             USA   Massachusetts   \n",
       "1                    NaN            NaN  United Kingdom             NaN   \n",
       "2                    NaN            NaN             USA       Tennessee   \n",
       "3                    NaN            NaN             USA       Wisconsin   \n",
       "4                    NaN            NaN             USA  South Carolina   \n",
       "\n",
       "          city yrs_experience_general yrs_experience_field  highest_lvl_edu  \\\n",
       "0       Boston              5-7 years            5-7 years  Master's degree   \n",
       "1    Cambridge           8 - 10 years            5-7 years   College degree   \n",
       "2  Chattanooga            2 - 4 years          2 - 4 years   College degree   \n",
       "3    Milwaukee           8 - 10 years            5-7 years   College degree   \n",
       "4   Greenville           8 - 10 years            5-7 years   College degree   \n",
       "\n",
       "       gender   race  \n",
       "0       Woman  White  \n",
       "1  Non-binary  White  \n",
       "2       Woman  White  \n",
       "3       Woman  White  \n",
       "4       Woman  White  "
      ]
     },
     "execution_count": 358,
     "metadata": {},
     "output_type": "execute_result"
    }
   ],
   "source": [
    "america = ['United States', 'United States ', 'USA', 'US', 'U.S.', 'United States of America', 'USA ', 'U.S', 'U.S.A', 'Usa',\n",
    "           'United states', 'united states', 'U.S.A.', 'United States of America ', 'usa' , 'Us','us']\n",
    "df_clean['country'] = df_clean['country'].replace(america, 'USA')\n",
    "\n",
    "print(df_clean['country'].value_counts())\n",
    "\n",
    "df_clean['country'].isna().sum()\n",
    "df_clean.head()\n"
   ]
  },
  {
   "cell_type": "code",
   "execution_count": 359,
   "metadata": {},
   "outputs": [
    {
     "name": "stdout",
     "output_type": "stream",
     "text": [
      "time_of_response               0\n",
      "age                            0\n",
      "industry                      74\n",
      "job_title                      1\n",
      "extra_job_info             20800\n",
      "annual_sal_full_time           0\n",
      "additional_compensation     7296\n",
      "currency_type                  0\n",
      "uncommon_currency_type     27856\n",
      "income_context             25020\n",
      "country                        0\n",
      "us_state                    5023\n",
      "city                          82\n",
      "yrs_experience_general         0\n",
      "yrs_experience_field           0\n",
      "highest_lvl_edu              222\n",
      "gender                       171\n",
      "race                         177\n",
      "dtype: int64\n",
      "currency_type\n",
      "USD        23374\n",
      "CAD         1673\n",
      "GBP         1591\n",
      "EUR          643\n",
      "AUD/NZD      504\n",
      "Other        160\n",
      "CHF           37\n",
      "SEK           37\n",
      "JPY           23\n",
      "ZAR           16\n",
      "HKD            4\n",
      "Name: count, dtype: int64\n"
     ]
    },
    {
     "data": {
      "text/html": [
       "<div>\n",
       "<style scoped>\n",
       "    .dataframe tbody tr th:only-of-type {\n",
       "        vertical-align: middle;\n",
       "    }\n",
       "\n",
       "    .dataframe tbody tr th {\n",
       "        vertical-align: top;\n",
       "    }\n",
       "\n",
       "    .dataframe thead th {\n",
       "        text-align: right;\n",
       "    }\n",
       "</style>\n",
       "<table border=\"1\" class=\"dataframe\">\n",
       "  <thead>\n",
       "    <tr style=\"text-align: right;\">\n",
       "      <th></th>\n",
       "      <th>time_of_response</th>\n",
       "      <th>age</th>\n",
       "      <th>industry</th>\n",
       "      <th>job_title</th>\n",
       "      <th>extra_job_info</th>\n",
       "      <th>annual_sal_full_time</th>\n",
       "      <th>additional_compensation</th>\n",
       "      <th>currency_type</th>\n",
       "      <th>income_context</th>\n",
       "      <th>country</th>\n",
       "      <th>us_state</th>\n",
       "      <th>city</th>\n",
       "      <th>yrs_experience_general</th>\n",
       "      <th>yrs_experience_field</th>\n",
       "      <th>highest_lvl_edu</th>\n",
       "      <th>gender</th>\n",
       "      <th>race</th>\n",
       "    </tr>\n",
       "  </thead>\n",
       "  <tbody>\n",
       "    <tr>\n",
       "      <th>0</th>\n",
       "      <td>4/27/2021 11:02:10</td>\n",
       "      <td>25-34</td>\n",
       "      <td>Education (Higher Education)</td>\n",
       "      <td>Research and Instruction Librarian</td>\n",
       "      <td>NaN</td>\n",
       "      <td>55,000</td>\n",
       "      <td>0.0</td>\n",
       "      <td>USD</td>\n",
       "      <td>NaN</td>\n",
       "      <td>USA</td>\n",
       "      <td>Massachusetts</td>\n",
       "      <td>Boston</td>\n",
       "      <td>5-7 years</td>\n",
       "      <td>5-7 years</td>\n",
       "      <td>Master's degree</td>\n",
       "      <td>Woman</td>\n",
       "      <td>White</td>\n",
       "    </tr>\n",
       "    <tr>\n",
       "      <th>1</th>\n",
       "      <td>4/27/2021 11:02:22</td>\n",
       "      <td>25-34</td>\n",
       "      <td>Computing or Tech</td>\n",
       "      <td>Change &amp; Internal Communications Manager</td>\n",
       "      <td>NaN</td>\n",
       "      <td>54,600</td>\n",
       "      <td>4000.0</td>\n",
       "      <td>GBP</td>\n",
       "      <td>NaN</td>\n",
       "      <td>United Kingdom</td>\n",
       "      <td>NaN</td>\n",
       "      <td>Cambridge</td>\n",
       "      <td>8 - 10 years</td>\n",
       "      <td>5-7 years</td>\n",
       "      <td>College degree</td>\n",
       "      <td>Non-binary</td>\n",
       "      <td>White</td>\n",
       "    </tr>\n",
       "    <tr>\n",
       "      <th>2</th>\n",
       "      <td>4/27/2021 11:02:38</td>\n",
       "      <td>25-34</td>\n",
       "      <td>Accounting, Banking &amp; Finance</td>\n",
       "      <td>Marketing Specialist</td>\n",
       "      <td>NaN</td>\n",
       "      <td>34,000</td>\n",
       "      <td>NaN</td>\n",
       "      <td>USD</td>\n",
       "      <td>NaN</td>\n",
       "      <td>USA</td>\n",
       "      <td>Tennessee</td>\n",
       "      <td>Chattanooga</td>\n",
       "      <td>2 - 4 years</td>\n",
       "      <td>2 - 4 years</td>\n",
       "      <td>College degree</td>\n",
       "      <td>Woman</td>\n",
       "      <td>White</td>\n",
       "    </tr>\n",
       "    <tr>\n",
       "      <th>3</th>\n",
       "      <td>4/27/2021 11:02:41</td>\n",
       "      <td>25-34</td>\n",
       "      <td>Nonprofits</td>\n",
       "      <td>Program Manager</td>\n",
       "      <td>NaN</td>\n",
       "      <td>62,000</td>\n",
       "      <td>3000.0</td>\n",
       "      <td>USD</td>\n",
       "      <td>NaN</td>\n",
       "      <td>USA</td>\n",
       "      <td>Wisconsin</td>\n",
       "      <td>Milwaukee</td>\n",
       "      <td>8 - 10 years</td>\n",
       "      <td>5-7 years</td>\n",
       "      <td>College degree</td>\n",
       "      <td>Woman</td>\n",
       "      <td>White</td>\n",
       "    </tr>\n",
       "    <tr>\n",
       "      <th>4</th>\n",
       "      <td>4/27/2021 11:02:42</td>\n",
       "      <td>25-34</td>\n",
       "      <td>Accounting, Banking &amp; Finance</td>\n",
       "      <td>Accounting Manager</td>\n",
       "      <td>NaN</td>\n",
       "      <td>60,000</td>\n",
       "      <td>7000.0</td>\n",
       "      <td>USD</td>\n",
       "      <td>NaN</td>\n",
       "      <td>USA</td>\n",
       "      <td>South Carolina</td>\n",
       "      <td>Greenville</td>\n",
       "      <td>8 - 10 years</td>\n",
       "      <td>5-7 years</td>\n",
       "      <td>College degree</td>\n",
       "      <td>Woman</td>\n",
       "      <td>White</td>\n",
       "    </tr>\n",
       "  </tbody>\n",
       "</table>\n",
       "</div>"
      ],
      "text/plain": [
       "     time_of_response    age                       industry  \\\n",
       "0  4/27/2021 11:02:10  25-34   Education (Higher Education)   \n",
       "1  4/27/2021 11:02:22  25-34              Computing or Tech   \n",
       "2  4/27/2021 11:02:38  25-34  Accounting, Banking & Finance   \n",
       "3  4/27/2021 11:02:41  25-34                     Nonprofits   \n",
       "4  4/27/2021 11:02:42  25-34  Accounting, Banking & Finance   \n",
       "\n",
       "                                  job_title extra_job_info  \\\n",
       "0        Research and Instruction Librarian            NaN   \n",
       "1  Change & Internal Communications Manager            NaN   \n",
       "2                      Marketing Specialist            NaN   \n",
       "3                           Program Manager            NaN   \n",
       "4                        Accounting Manager            NaN   \n",
       "\n",
       "  annual_sal_full_time  additional_compensation currency_type income_context  \\\n",
       "0               55,000                      0.0           USD            NaN   \n",
       "1               54,600                   4000.0           GBP            NaN   \n",
       "2               34,000                      NaN           USD            NaN   \n",
       "3               62,000                   3000.0           USD            NaN   \n",
       "4               60,000                   7000.0           USD            NaN   \n",
       "\n",
       "          country        us_state         city yrs_experience_general  \\\n",
       "0             USA   Massachusetts       Boston              5-7 years   \n",
       "1  United Kingdom             NaN    Cambridge           8 - 10 years   \n",
       "2             USA       Tennessee  Chattanooga            2 - 4 years   \n",
       "3             USA       Wisconsin    Milwaukee           8 - 10 years   \n",
       "4             USA  South Carolina   Greenville           8 - 10 years   \n",
       "\n",
       "  yrs_experience_field  highest_lvl_edu      gender   race  \n",
       "0            5-7 years  Master's degree       Woman  White  \n",
       "1            5-7 years   College degree  Non-binary  White  \n",
       "2          2 - 4 years   College degree       Woman  White  \n",
       "3            5-7 years   College degree       Woman  White  \n",
       "4            5-7 years   College degree       Woman  White  "
      ]
     },
     "execution_count": 359,
     "metadata": {},
     "output_type": "execute_result"
    }
   ],
   "source": [
    "print(df_clean.isna().sum())\n",
    "#no NaNs in the following cols: \n",
    "#time_of_response, age, annual_sal_full_time, currency_type, country, yrs_experience_general, yrs_experience_field\n",
    "print(df_clean['currency_type'].value_counts())\n",
    "\n",
    "\n",
    "condition = df_clean['currency_type'] == 'Other'\n",
    "df_clean.loc[condition, 'currency_type'] = df_clean['uncommon_currency_type']\n",
    "\n",
    "df_clean['currency_type'].value_counts()\n",
    "\n",
    "df_clean = df_clean.drop(columns=['uncommon_currency_type'], inplace=False)\n",
    "\n",
    "df_clean.head()\n"
   ]
  },
  {
   "cell_type": "code",
   "execution_count": 360,
   "metadata": {},
   "outputs": [
    {
     "name": "stdout",
     "output_type": "stream",
     "text": [
      "job_title\n",
      "Software Engineer                          286\n",
      "Project Manager                            230\n",
      "Director                                   198\n",
      "Senior Software Engineer                   196\n",
      "Program Manager                            152\n",
      "                                          ... \n",
      "Director Accounting                          1\n",
      "Research Strategy and Portfolio Manager      1\n",
      "QA Assistant Manager                         1\n",
      "Bicycle mechanic                             1\n",
      "Sales rep for fuel, oil and lubes            1\n",
      "Name: count, Length: 14348, dtype: int64\n",
      "job_title\n",
      "Software Engineer                      286\n",
      "Senior Software Engineer               196\n",
      "Staff Software Engineer                 36\n",
      "Software Engineer II                    31\n",
      "Principal Software Engineer             30\n",
      "                                      ... \n",
      "Software Engineering manager             1\n",
      "Software Engineering Intern              1\n",
      "Full Stack Software Engineer II          1\n",
      "Software Engineer 1                      1\n",
      "Software Engineer Technical Support      1\n",
      "Name: count, Length: 92, dtype: int64\n"
     ]
    },
    {
     "data": {
      "text/html": [
       "<div>\n",
       "<style scoped>\n",
       "    .dataframe tbody tr th:only-of-type {\n",
       "        vertical-align: middle;\n",
       "    }\n",
       "\n",
       "    .dataframe tbody tr th {\n",
       "        vertical-align: top;\n",
       "    }\n",
       "\n",
       "    .dataframe thead th {\n",
       "        text-align: right;\n",
       "    }\n",
       "</style>\n",
       "<table border=\"1\" class=\"dataframe\">\n",
       "  <thead>\n",
       "    <tr style=\"text-align: right;\">\n",
       "      <th></th>\n",
       "      <th>time_of_response</th>\n",
       "      <th>age</th>\n",
       "      <th>industry</th>\n",
       "      <th>job_title</th>\n",
       "      <th>extra_job_info</th>\n",
       "      <th>annual_sal_full_time</th>\n",
       "      <th>additional_compensation</th>\n",
       "      <th>currency_type</th>\n",
       "      <th>income_context</th>\n",
       "      <th>country</th>\n",
       "      <th>us_state</th>\n",
       "      <th>city</th>\n",
       "      <th>yrs_experience_general</th>\n",
       "      <th>yrs_experience_field</th>\n",
       "      <th>highest_lvl_edu</th>\n",
       "      <th>gender</th>\n",
       "      <th>race</th>\n",
       "    </tr>\n",
       "  </thead>\n",
       "  <tbody>\n",
       "    <tr>\n",
       "      <th>43</th>\n",
       "      <td>4/27/2021 11:04:04</td>\n",
       "      <td>25-34</td>\n",
       "      <td>Computing or Tech</td>\n",
       "      <td>Principal Software Engineer</td>\n",
       "      <td>NaN</td>\n",
       "      <td>187,500</td>\n",
       "      <td>5000.0</td>\n",
       "      <td>USD</td>\n",
       "      <td>NaN</td>\n",
       "      <td>USA</td>\n",
       "      <td>Pennsylvania</td>\n",
       "      <td>Pittsburgh</td>\n",
       "      <td>8 - 10 years</td>\n",
       "      <td>5-7 years</td>\n",
       "      <td>College degree</td>\n",
       "      <td>Woman</td>\n",
       "      <td>White</td>\n",
       "    </tr>\n",
       "    <tr>\n",
       "      <th>321</th>\n",
       "      <td>4/27/2021 11:08:11</td>\n",
       "      <td>35-44</td>\n",
       "      <td>Computing or Tech</td>\n",
       "      <td>Software Engineer</td>\n",
       "      <td>NaN</td>\n",
       "      <td>156,000</td>\n",
       "      <td>189000.0</td>\n",
       "      <td>USD</td>\n",
       "      <td>Salary, stock, bonus</td>\n",
       "      <td>USA</td>\n",
       "      <td>Massachusetts</td>\n",
       "      <td>Metro Boston</td>\n",
       "      <td>21 - 30 years</td>\n",
       "      <td>21 - 30 years</td>\n",
       "      <td>Master's degree</td>\n",
       "      <td>Other or prefer not to answer</td>\n",
       "      <td>Another option not listed here or prefer not t...</td>\n",
       "    </tr>\n",
       "    <tr>\n",
       "      <th>389</th>\n",
       "      <td>4/27/2021 11:09:13</td>\n",
       "      <td>35-44</td>\n",
       "      <td>Computing or Tech</td>\n",
       "      <td>Software Engineer</td>\n",
       "      <td>NaN</td>\n",
       "      <td>112,000</td>\n",
       "      <td>0.0</td>\n",
       "      <td>USD</td>\n",
       "      <td>NaN</td>\n",
       "      <td>USA</td>\n",
       "      <td>Florida</td>\n",
       "      <td>Melbourne</td>\n",
       "      <td>11 - 20 years</td>\n",
       "      <td>8 - 10 years</td>\n",
       "      <td>College degree</td>\n",
       "      <td>Woman</td>\n",
       "      <td>White</td>\n",
       "    </tr>\n",
       "    <tr>\n",
       "      <th>455</th>\n",
       "      <td>4/27/2021 11:10:12</td>\n",
       "      <td>25-34</td>\n",
       "      <td>Computing or Tech</td>\n",
       "      <td>Software Engineer</td>\n",
       "      <td>NaN</td>\n",
       "      <td>80,000</td>\n",
       "      <td>3000.0</td>\n",
       "      <td>USD</td>\n",
       "      <td>NaN</td>\n",
       "      <td>USA</td>\n",
       "      <td>Minnesota</td>\n",
       "      <td>Minneapolis</td>\n",
       "      <td>1 year or less</td>\n",
       "      <td>1 year or less</td>\n",
       "      <td>Some college</td>\n",
       "      <td>Non-binary</td>\n",
       "      <td>White</td>\n",
       "    </tr>\n",
       "    <tr>\n",
       "      <th>511</th>\n",
       "      <td>4/27/2021 11:11:06</td>\n",
       "      <td>45-54</td>\n",
       "      <td>Oil and Gas</td>\n",
       "      <td>Senior Software Engineer</td>\n",
       "      <td>NaN</td>\n",
       "      <td>120,000</td>\n",
       "      <td>20000.0</td>\n",
       "      <td>USD</td>\n",
       "      <td>NaN</td>\n",
       "      <td>USA</td>\n",
       "      <td>Texas</td>\n",
       "      <td>Houston</td>\n",
       "      <td>21 - 30 years</td>\n",
       "      <td>21 - 30 years</td>\n",
       "      <td>Some college</td>\n",
       "      <td>Man</td>\n",
       "      <td>White</td>\n",
       "    </tr>\n",
       "    <tr>\n",
       "      <th>...</th>\n",
       "      <td>...</td>\n",
       "      <td>...</td>\n",
       "      <td>...</td>\n",
       "      <td>...</td>\n",
       "      <td>...</td>\n",
       "      <td>...</td>\n",
       "      <td>...</td>\n",
       "      <td>...</td>\n",
       "      <td>...</td>\n",
       "      <td>...</td>\n",
       "      <td>...</td>\n",
       "      <td>...</td>\n",
       "      <td>...</td>\n",
       "      <td>...</td>\n",
       "      <td>...</td>\n",
       "      <td>...</td>\n",
       "      <td>...</td>\n",
       "    </tr>\n",
       "    <tr>\n",
       "      <th>27745</th>\n",
       "      <td>4/6/2022 13:49:57</td>\n",
       "      <td>25-34</td>\n",
       "      <td>Computing or Tech</td>\n",
       "      <td>Software Engineer III</td>\n",
       "      <td>NaN</td>\n",
       "      <td>125000</td>\n",
       "      <td>10000.0</td>\n",
       "      <td>USD</td>\n",
       "      <td>NaN</td>\n",
       "      <td>USA</td>\n",
       "      <td>Georgia</td>\n",
       "      <td>Atlanta</td>\n",
       "      <td>5-7 years</td>\n",
       "      <td>2 - 4 years</td>\n",
       "      <td>College degree</td>\n",
       "      <td>Man</td>\n",
       "      <td>White</td>\n",
       "    </tr>\n",
       "    <tr>\n",
       "      <th>27750</th>\n",
       "      <td>4/6/2022 20:25:25</td>\n",
       "      <td>25-34</td>\n",
       "      <td>Computing or Tech</td>\n",
       "      <td>Software Engineer</td>\n",
       "      <td>MLOps</td>\n",
       "      <td>340000</td>\n",
       "      <td>0.0</td>\n",
       "      <td>USD</td>\n",
       "      <td>Working two remote Jobs right now.</td>\n",
       "      <td>Usa</td>\n",
       "      <td>Michigan, Texas, Washington</td>\n",
       "      <td>Houston</td>\n",
       "      <td>2 - 4 years</td>\n",
       "      <td>2 - 4 years</td>\n",
       "      <td>Master's degree</td>\n",
       "      <td>Man</td>\n",
       "      <td>Asian or Asian American, Hispanic, Latino, or ...</td>\n",
       "    </tr>\n",
       "    <tr>\n",
       "      <th>27755</th>\n",
       "      <td>4/8/2022 8:46:10</td>\n",
       "      <td>25-34</td>\n",
       "      <td>Computing or Tech</td>\n",
       "      <td>Software Engineer</td>\n",
       "      <td>NaN</td>\n",
       "      <td>35000</td>\n",
       "      <td>55.0</td>\n",
       "      <td>GBP</td>\n",
       "      <td>NaN</td>\n",
       "      <td>United Kingdom</td>\n",
       "      <td>NaN</td>\n",
       "      <td>London</td>\n",
       "      <td>1 year or less</td>\n",
       "      <td>1 year or less</td>\n",
       "      <td>College degree</td>\n",
       "      <td>Man</td>\n",
       "      <td>White</td>\n",
       "    </tr>\n",
       "    <tr>\n",
       "      <th>27804</th>\n",
       "      <td>5/17/2022 0:08:55</td>\n",
       "      <td>35-44</td>\n",
       "      <td>Computing or Tech</td>\n",
       "      <td>Software Engineer</td>\n",
       "      <td>NaN</td>\n",
       "      <td>152000</td>\n",
       "      <td>20000.0</td>\n",
       "      <td>USD</td>\n",
       "      <td>NaN</td>\n",
       "      <td>USA</td>\n",
       "      <td>California</td>\n",
       "      <td>Walnut Creek</td>\n",
       "      <td>11 - 20 years</td>\n",
       "      <td>2 - 4 years</td>\n",
       "      <td>College degree</td>\n",
       "      <td>Woman</td>\n",
       "      <td>White</td>\n",
       "    </tr>\n",
       "    <tr>\n",
       "      <th>27949</th>\n",
       "      <td>3/28/2023 18:41:56</td>\n",
       "      <td>25-34</td>\n",
       "      <td>Computing or Tech</td>\n",
       "      <td>Software Engineer II</td>\n",
       "      <td>NaN</td>\n",
       "      <td>116421</td>\n",
       "      <td>3000.0</td>\n",
       "      <td>USD</td>\n",
       "      <td>NaN</td>\n",
       "      <td>USA</td>\n",
       "      <td>Maryland</td>\n",
       "      <td>Bethesda</td>\n",
       "      <td>2 - 4 years</td>\n",
       "      <td>2 - 4 years</td>\n",
       "      <td>College degree</td>\n",
       "      <td>Man</td>\n",
       "      <td>White</td>\n",
       "    </tr>\n",
       "  </tbody>\n",
       "</table>\n",
       "<p>782 rows × 17 columns</p>\n",
       "</div>"
      ],
      "text/plain": [
       "         time_of_response    age           industry  \\\n",
       "43     4/27/2021 11:04:04  25-34  Computing or Tech   \n",
       "321    4/27/2021 11:08:11  35-44  Computing or Tech   \n",
       "389    4/27/2021 11:09:13  35-44  Computing or Tech   \n",
       "455    4/27/2021 11:10:12  25-34  Computing or Tech   \n",
       "511    4/27/2021 11:11:06  45-54        Oil and Gas   \n",
       "...                   ...    ...                ...   \n",
       "27745   4/6/2022 13:49:57  25-34  Computing or Tech   \n",
       "27750   4/6/2022 20:25:25  25-34  Computing or Tech   \n",
       "27755    4/8/2022 8:46:10  25-34  Computing or Tech   \n",
       "27804   5/17/2022 0:08:55  35-44  Computing or Tech   \n",
       "27949  3/28/2023 18:41:56  25-34  Computing or Tech   \n",
       "\n",
       "                         job_title extra_job_info annual_sal_full_time  \\\n",
       "43     Principal Software Engineer            NaN              187,500   \n",
       "321              Software Engineer            NaN              156,000   \n",
       "389              Software Engineer            NaN              112,000   \n",
       "455              Software Engineer            NaN               80,000   \n",
       "511      Senior Software Engineer             NaN              120,000   \n",
       "...                            ...            ...                  ...   \n",
       "27745        Software Engineer III            NaN               125000   \n",
       "27750            Software Engineer          MLOps               340000   \n",
       "27755            Software Engineer            NaN                35000   \n",
       "27804           Software Engineer             NaN               152000   \n",
       "27949         Software Engineer II            NaN               116421   \n",
       "\n",
       "       additional_compensation currency_type  \\\n",
       "43                      5000.0           USD   \n",
       "321                   189000.0           USD   \n",
       "389                        0.0           USD   \n",
       "455                     3000.0           USD   \n",
       "511                    20000.0           USD   \n",
       "...                        ...           ...   \n",
       "27745                  10000.0           USD   \n",
       "27750                      0.0           USD   \n",
       "27755                     55.0           GBP   \n",
       "27804                  20000.0           USD   \n",
       "27949                   3000.0           USD   \n",
       "\n",
       "                            income_context         country  \\\n",
       "43                                     NaN             USA   \n",
       "321                   Salary, stock, bonus             USA   \n",
       "389                                    NaN             USA   \n",
       "455                                    NaN             USA   \n",
       "511                                    NaN             USA   \n",
       "...                                    ...             ...   \n",
       "27745                                  NaN             USA   \n",
       "27750  Working two remote Jobs right now.             Usa    \n",
       "27755                                  NaN  United Kingdom   \n",
       "27804                                  NaN             USA   \n",
       "27949                                  NaN             USA   \n",
       "\n",
       "                          us_state          city yrs_experience_general  \\\n",
       "43                    Pennsylvania    Pittsburgh           8 - 10 years   \n",
       "321                  Massachusetts  Metro Boston          21 - 30 years   \n",
       "389                        Florida     Melbourne          11 - 20 years   \n",
       "455                      Minnesota   Minneapolis         1 year or less   \n",
       "511                          Texas       Houston          21 - 30 years   \n",
       "...                            ...           ...                    ...   \n",
       "27745                      Georgia       Atlanta              5-7 years   \n",
       "27750  Michigan, Texas, Washington       Houston            2 - 4 years   \n",
       "27755                          NaN        London         1 year or less   \n",
       "27804                   California  Walnut Creek          11 - 20 years   \n",
       "27949                     Maryland      Bethesda            2 - 4 years   \n",
       "\n",
       "      yrs_experience_field  highest_lvl_edu                         gender  \\\n",
       "43               5-7 years   College degree                          Woman   \n",
       "321          21 - 30 years  Master's degree  Other or prefer not to answer   \n",
       "389           8 - 10 years   College degree                          Woman   \n",
       "455         1 year or less     Some college                     Non-binary   \n",
       "511          21 - 30 years     Some college                            Man   \n",
       "...                    ...              ...                            ...   \n",
       "27745          2 - 4 years   College degree                            Man   \n",
       "27750          2 - 4 years  Master's degree                            Man   \n",
       "27755       1 year or less   College degree                            Man   \n",
       "27804          2 - 4 years   College degree                          Woman   \n",
       "27949          2 - 4 years   College degree                            Man   \n",
       "\n",
       "                                                    race  \n",
       "43                                                 White  \n",
       "321    Another option not listed here or prefer not t...  \n",
       "389                                                White  \n",
       "455                                                White  \n",
       "511                                                White  \n",
       "...                                                  ...  \n",
       "27745                                              White  \n",
       "27750  Asian or Asian American, Hispanic, Latino, or ...  \n",
       "27755                                              White  \n",
       "27804                                              White  \n",
       "27949                                              White  \n",
       "\n",
       "[782 rows x 17 columns]"
      ]
     },
     "execution_count": 360,
     "metadata": {},
     "output_type": "execute_result"
    }
   ],
   "source": [
    "print(df_clean['job_title'].value_counts())\n",
    "\n",
    "mask = df_clean['job_title'].str.contains('Software Engineer', na=False)\n",
    "# Use the mask to filter the DataFrame\n",
    "swe_rows = df_clean[mask]\n",
    "print(swe_rows['job_title'].value_counts())\n",
    "swe_rows"
   ]
  },
  {
   "cell_type": "markdown",
   "metadata": {},
   "source": [
    "## Step 3: Business Questions Analysis\n",
    "\n",
    "Now answer those important business questions!\n"
   ]
  },
  {
   "cell_type": "code",
   "execution_count": 361,
   "metadata": {},
   "outputs": [
    {
     "name": "stdout",
     "output_type": "stream",
     "text": [
      "Median salary for Software Engineers in the US: $142,000\n"
     ]
    },
    {
     "name": "stderr",
     "output_type": "stream",
     "text": [
      "/tmp/ipykernel_47584/1792450171.py:4: SettingWithCopyWarning:\n",
      "\n",
      "\n",
      "A value is trying to be set on a copy of a slice from a DataFrame.\n",
      "Try using .loc[row_indexer,col_indexer] = value instead\n",
      "\n",
      "See the caveats in the documentation: https://pandas.pydata.org/pandas-docs/stable/user_guide/indexing.html#returning-a-view-versus-a-copy\n",
      "\n"
     ]
    }
   ],
   "source": [
    "# Question 1: What is the median salary for Software Engineers in the United States?\n",
    "swe_rows.dtypes\n",
    "# 'annual_sal_full_time        object' -> need to convert to num\n",
    "swe_rows['annual_sal_full_time'] = pd.to_numeric(swe_rows['annual_sal_full_time'], errors='coerce')\n",
    "swe_rows.dtypes\n",
    "# 'annual_sal_full_time       float64'\n",
    "\n",
    "usa_mask = swe_rows['country'] == 'USA'\n",
    "usa_salaries = swe_rows.loc[usa_mask, 'annual_sal_full_time']\n",
    "median_swe_sal = usa_salaries.median()\n",
    "print(f\"Median salary for Software Engineers in the US: ${median_swe_sal:,.0f}\")\n",
    "\n",
    "#ANS : Median salary for Software Engineers in the US: $142,000\n"
   ]
  },
  {
   "cell_type": "code",
   "execution_count": 362,
   "metadata": {},
   "outputs": [
    {
     "name": "stdout",
     "output_type": "stream",
     "text": [
      "US state with the highest avg salary for tech workers: Florida\n"
     ]
    },
    {
     "name": "stderr",
     "output_type": "stream",
     "text": [
      "/tmp/ipykernel_47584/105405403.py:4: SettingWithCopyWarning:\n",
      "\n",
      "\n",
      "A value is trying to be set on a copy of a slice from a DataFrame.\n",
      "Try using .loc[row_indexer,col_indexer] = value instead\n",
      "\n",
      "See the caveats in the documentation: https://pandas.pydata.org/pandas-docs/stable/user_guide/indexing.html#returning-a-view-versus-a-copy\n",
      "\n"
     ]
    }
   ],
   "source": [
    "# Question 2: Which US state has the highest average salary for tech workers?\n",
    "condition = (df_clean['industry'] == 'Computing or Tech') & (df_clean['country'] == 'USA')\n",
    "tech_wrk_us = df_clean[condition]\n",
    "tech_wrk_us['annual_sal_full_time'] = pd.to_numeric(tech_wrk_us['annual_sal_full_time'], errors='coerce')\n",
    "\n",
    "tech_wrk_us['us_state'].value_counts()\n",
    "\n",
    "tech_wrk_us_avg = tech_wrk_us.groupby('us_state')['annual_sal_full_time'].mean().reset_index()\n",
    "sorted_average_df = tech_wrk_us_avg.sort_values(by='annual_sal_full_time', ascending=False)\n",
    "print('US state with the highest avg salary for tech workers:',sorted_average_df.iloc[0, 0])\n",
    "\n",
    "#ANS : US state with the highest avg salary for tech workers: Florida\n"
   ]
  },
  {
   "cell_type": "code",
   "execution_count": 363,
   "metadata": {},
   "outputs": [
    {
     "name": "stderr",
     "output_type": "stream",
     "text": [
      "/tmp/ipykernel_47584/4182547277.py:4: SettingWithCopyWarning:\n",
      "\n",
      "\n",
      "A value is trying to be set on a copy of a slice from a DataFrame.\n",
      "Try using .loc[row_indexer,col_indexer] = value instead\n",
      "\n",
      "See the caveats in the documentation: https://pandas.pydata.org/pandas-docs/stable/user_guide/indexing.html#returning-a-view-versus-a-copy\n",
      "\n"
     ]
    },
    {
     "data": {
      "application/vnd.plotly.v1+json": {
       "config": {
        "plotlyServerURL": "https://plot.ly"
       },
       "data": [
        {
         "hovertemplate": "yrs_experience_field=%{x}<br>annual_sal_full_time=%{y}<extra></extra>",
         "legendgroup": "",
         "marker": {
          "color": "#636efa",
          "pattern": {
           "shape": ""
          }
         },
         "name": "",
         "orientation": "v",
         "showlegend": false,
         "textposition": "auto",
         "type": "bar",
         "x": [
          "1 year or less",
          "2 - 4 years",
          "5-7 years",
          "8 - 10 years",
          "11 - 20 years",
          "21 - 30 years",
          "31 - 40 years",
          "41 years or more"
         ],
         "xaxis": "x",
         "y": {
          "bdata": "mRrYO3aE9kDM72px8+z7QAPEaLy/n/1AS0tLS41/AEHQITXB8DEAQUYq5lb3FQ1BAAAAAKCkBUEAAAAAgFUBQQ==",
          "dtype": "f8"
         },
         "yaxis": "y"
        }
       ],
       "layout": {
        "barmode": "relative",
        "legend": {
         "tracegroupgap": 0
        },
        "template": {
         "data": {
          "bar": [
           {
            "error_x": {
             "color": "#2a3f5f"
            },
            "error_y": {
             "color": "#2a3f5f"
            },
            "marker": {
             "line": {
              "color": "#E5ECF6",
              "width": 0.5
             },
             "pattern": {
              "fillmode": "overlay",
              "size": 10,
              "solidity": 0.2
             }
            },
            "type": "bar"
           }
          ],
          "barpolar": [
           {
            "marker": {
             "line": {
              "color": "#E5ECF6",
              "width": 0.5
             },
             "pattern": {
              "fillmode": "overlay",
              "size": 10,
              "solidity": 0.2
             }
            },
            "type": "barpolar"
           }
          ],
          "carpet": [
           {
            "aaxis": {
             "endlinecolor": "#2a3f5f",
             "gridcolor": "white",
             "linecolor": "white",
             "minorgridcolor": "white",
             "startlinecolor": "#2a3f5f"
            },
            "baxis": {
             "endlinecolor": "#2a3f5f",
             "gridcolor": "white",
             "linecolor": "white",
             "minorgridcolor": "white",
             "startlinecolor": "#2a3f5f"
            },
            "type": "carpet"
           }
          ],
          "choropleth": [
           {
            "colorbar": {
             "outlinewidth": 0,
             "ticks": ""
            },
            "type": "choropleth"
           }
          ],
          "contour": [
           {
            "colorbar": {
             "outlinewidth": 0,
             "ticks": ""
            },
            "colorscale": [
             [
              0,
              "#0d0887"
             ],
             [
              0.1111111111111111,
              "#46039f"
             ],
             [
              0.2222222222222222,
              "#7201a8"
             ],
             [
              0.3333333333333333,
              "#9c179e"
             ],
             [
              0.4444444444444444,
              "#bd3786"
             ],
             [
              0.5555555555555556,
              "#d8576b"
             ],
             [
              0.6666666666666666,
              "#ed7953"
             ],
             [
              0.7777777777777778,
              "#fb9f3a"
             ],
             [
              0.8888888888888888,
              "#fdca26"
             ],
             [
              1,
              "#f0f921"
             ]
            ],
            "type": "contour"
           }
          ],
          "contourcarpet": [
           {
            "colorbar": {
             "outlinewidth": 0,
             "ticks": ""
            },
            "type": "contourcarpet"
           }
          ],
          "heatmap": [
           {
            "colorbar": {
             "outlinewidth": 0,
             "ticks": ""
            },
            "colorscale": [
             [
              0,
              "#0d0887"
             ],
             [
              0.1111111111111111,
              "#46039f"
             ],
             [
              0.2222222222222222,
              "#7201a8"
             ],
             [
              0.3333333333333333,
              "#9c179e"
             ],
             [
              0.4444444444444444,
              "#bd3786"
             ],
             [
              0.5555555555555556,
              "#d8576b"
             ],
             [
              0.6666666666666666,
              "#ed7953"
             ],
             [
              0.7777777777777778,
              "#fb9f3a"
             ],
             [
              0.8888888888888888,
              "#fdca26"
             ],
             [
              1,
              "#f0f921"
             ]
            ],
            "type": "heatmap"
           }
          ],
          "histogram": [
           {
            "marker": {
             "pattern": {
              "fillmode": "overlay",
              "size": 10,
              "solidity": 0.2
             }
            },
            "type": "histogram"
           }
          ],
          "histogram2d": [
           {
            "colorbar": {
             "outlinewidth": 0,
             "ticks": ""
            },
            "colorscale": [
             [
              0,
              "#0d0887"
             ],
             [
              0.1111111111111111,
              "#46039f"
             ],
             [
              0.2222222222222222,
              "#7201a8"
             ],
             [
              0.3333333333333333,
              "#9c179e"
             ],
             [
              0.4444444444444444,
              "#bd3786"
             ],
             [
              0.5555555555555556,
              "#d8576b"
             ],
             [
              0.6666666666666666,
              "#ed7953"
             ],
             [
              0.7777777777777778,
              "#fb9f3a"
             ],
             [
              0.8888888888888888,
              "#fdca26"
             ],
             [
              1,
              "#f0f921"
             ]
            ],
            "type": "histogram2d"
           }
          ],
          "histogram2dcontour": [
           {
            "colorbar": {
             "outlinewidth": 0,
             "ticks": ""
            },
            "colorscale": [
             [
              0,
              "#0d0887"
             ],
             [
              0.1111111111111111,
              "#46039f"
             ],
             [
              0.2222222222222222,
              "#7201a8"
             ],
             [
              0.3333333333333333,
              "#9c179e"
             ],
             [
              0.4444444444444444,
              "#bd3786"
             ],
             [
              0.5555555555555556,
              "#d8576b"
             ],
             [
              0.6666666666666666,
              "#ed7953"
             ],
             [
              0.7777777777777778,
              "#fb9f3a"
             ],
             [
              0.8888888888888888,
              "#fdca26"
             ],
             [
              1,
              "#f0f921"
             ]
            ],
            "type": "histogram2dcontour"
           }
          ],
          "mesh3d": [
           {
            "colorbar": {
             "outlinewidth": 0,
             "ticks": ""
            },
            "type": "mesh3d"
           }
          ],
          "parcoords": [
           {
            "line": {
             "colorbar": {
              "outlinewidth": 0,
              "ticks": ""
             }
            },
            "type": "parcoords"
           }
          ],
          "pie": [
           {
            "automargin": true,
            "type": "pie"
           }
          ],
          "scatter": [
           {
            "fillpattern": {
             "fillmode": "overlay",
             "size": 10,
             "solidity": 0.2
            },
            "type": "scatter"
           }
          ],
          "scatter3d": [
           {
            "line": {
             "colorbar": {
              "outlinewidth": 0,
              "ticks": ""
             }
            },
            "marker": {
             "colorbar": {
              "outlinewidth": 0,
              "ticks": ""
             }
            },
            "type": "scatter3d"
           }
          ],
          "scattercarpet": [
           {
            "marker": {
             "colorbar": {
              "outlinewidth": 0,
              "ticks": ""
             }
            },
            "type": "scattercarpet"
           }
          ],
          "scattergeo": [
           {
            "marker": {
             "colorbar": {
              "outlinewidth": 0,
              "ticks": ""
             }
            },
            "type": "scattergeo"
           }
          ],
          "scattergl": [
           {
            "marker": {
             "colorbar": {
              "outlinewidth": 0,
              "ticks": ""
             }
            },
            "type": "scattergl"
           }
          ],
          "scattermap": [
           {
            "marker": {
             "colorbar": {
              "outlinewidth": 0,
              "ticks": ""
             }
            },
            "type": "scattermap"
           }
          ],
          "scattermapbox": [
           {
            "marker": {
             "colorbar": {
              "outlinewidth": 0,
              "ticks": ""
             }
            },
            "type": "scattermapbox"
           }
          ],
          "scatterpolar": [
           {
            "marker": {
             "colorbar": {
              "outlinewidth": 0,
              "ticks": ""
             }
            },
            "type": "scatterpolar"
           }
          ],
          "scatterpolargl": [
           {
            "marker": {
             "colorbar": {
              "outlinewidth": 0,
              "ticks": ""
             }
            },
            "type": "scatterpolargl"
           }
          ],
          "scatterternary": [
           {
            "marker": {
             "colorbar": {
              "outlinewidth": 0,
              "ticks": ""
             }
            },
            "type": "scatterternary"
           }
          ],
          "surface": [
           {
            "colorbar": {
             "outlinewidth": 0,
             "ticks": ""
            },
            "colorscale": [
             [
              0,
              "#0d0887"
             ],
             [
              0.1111111111111111,
              "#46039f"
             ],
             [
              0.2222222222222222,
              "#7201a8"
             ],
             [
              0.3333333333333333,
              "#9c179e"
             ],
             [
              0.4444444444444444,
              "#bd3786"
             ],
             [
              0.5555555555555556,
              "#d8576b"
             ],
             [
              0.6666666666666666,
              "#ed7953"
             ],
             [
              0.7777777777777778,
              "#fb9f3a"
             ],
             [
              0.8888888888888888,
              "#fdca26"
             ],
             [
              1,
              "#f0f921"
             ]
            ],
            "type": "surface"
           }
          ],
          "table": [
           {
            "cells": {
             "fill": {
              "color": "#EBF0F8"
             },
             "line": {
              "color": "white"
             }
            },
            "header": {
             "fill": {
              "color": "#C8D4E3"
             },
             "line": {
              "color": "white"
             }
            },
            "type": "table"
           }
          ]
         },
         "layout": {
          "annotationdefaults": {
           "arrowcolor": "#2a3f5f",
           "arrowhead": 0,
           "arrowwidth": 1
          },
          "autotypenumbers": "strict",
          "coloraxis": {
           "colorbar": {
            "outlinewidth": 0,
            "ticks": ""
           }
          },
          "colorscale": {
           "diverging": [
            [
             0,
             "#8e0152"
            ],
            [
             0.1,
             "#c51b7d"
            ],
            [
             0.2,
             "#de77ae"
            ],
            [
             0.3,
             "#f1b6da"
            ],
            [
             0.4,
             "#fde0ef"
            ],
            [
             0.5,
             "#f7f7f7"
            ],
            [
             0.6,
             "#e6f5d0"
            ],
            [
             0.7,
             "#b8e186"
            ],
            [
             0.8,
             "#7fbc41"
            ],
            [
             0.9,
             "#4d9221"
            ],
            [
             1,
             "#276419"
            ]
           ],
           "sequential": [
            [
             0,
             "#0d0887"
            ],
            [
             0.1111111111111111,
             "#46039f"
            ],
            [
             0.2222222222222222,
             "#7201a8"
            ],
            [
             0.3333333333333333,
             "#9c179e"
            ],
            [
             0.4444444444444444,
             "#bd3786"
            ],
            [
             0.5555555555555556,
             "#d8576b"
            ],
            [
             0.6666666666666666,
             "#ed7953"
            ],
            [
             0.7777777777777778,
             "#fb9f3a"
            ],
            [
             0.8888888888888888,
             "#fdca26"
            ],
            [
             1,
             "#f0f921"
            ]
           ],
           "sequentialminus": [
            [
             0,
             "#0d0887"
            ],
            [
             0.1111111111111111,
             "#46039f"
            ],
            [
             0.2222222222222222,
             "#7201a8"
            ],
            [
             0.3333333333333333,
             "#9c179e"
            ],
            [
             0.4444444444444444,
             "#bd3786"
            ],
            [
             0.5555555555555556,
             "#d8576b"
            ],
            [
             0.6666666666666666,
             "#ed7953"
            ],
            [
             0.7777777777777778,
             "#fb9f3a"
            ],
            [
             0.8888888888888888,
             "#fdca26"
            ],
            [
             1,
             "#f0f921"
            ]
           ]
          },
          "colorway": [
           "#636efa",
           "#EF553B",
           "#00cc96",
           "#ab63fa",
           "#FFA15A",
           "#19d3f3",
           "#FF6692",
           "#B6E880",
           "#FF97FF",
           "#FECB52"
          ],
          "font": {
           "color": "#2a3f5f"
          },
          "geo": {
           "bgcolor": "white",
           "lakecolor": "white",
           "landcolor": "#E5ECF6",
           "showlakes": true,
           "showland": true,
           "subunitcolor": "white"
          },
          "hoverlabel": {
           "align": "left"
          },
          "hovermode": "closest",
          "mapbox": {
           "style": "light"
          },
          "paper_bgcolor": "white",
          "plot_bgcolor": "#E5ECF6",
          "polar": {
           "angularaxis": {
            "gridcolor": "white",
            "linecolor": "white",
            "ticks": ""
           },
           "bgcolor": "#E5ECF6",
           "radialaxis": {
            "gridcolor": "white",
            "linecolor": "white",
            "ticks": ""
           }
          },
          "scene": {
           "xaxis": {
            "backgroundcolor": "#E5ECF6",
            "gridcolor": "white",
            "gridwidth": 2,
            "linecolor": "white",
            "showbackground": true,
            "ticks": "",
            "zerolinecolor": "white"
           },
           "yaxis": {
            "backgroundcolor": "#E5ECF6",
            "gridcolor": "white",
            "gridwidth": 2,
            "linecolor": "white",
            "showbackground": true,
            "ticks": "",
            "zerolinecolor": "white"
           },
           "zaxis": {
            "backgroundcolor": "#E5ECF6",
            "gridcolor": "white",
            "gridwidth": 2,
            "linecolor": "white",
            "showbackground": true,
            "ticks": "",
            "zerolinecolor": "white"
           }
          },
          "shapedefaults": {
           "line": {
            "color": "#2a3f5f"
           }
          },
          "ternary": {
           "aaxis": {
            "gridcolor": "white",
            "linecolor": "white",
            "ticks": ""
           },
           "baxis": {
            "gridcolor": "white",
            "linecolor": "white",
            "ticks": ""
           },
           "bgcolor": "#E5ECF6",
           "caxis": {
            "gridcolor": "white",
            "linecolor": "white",
            "ticks": ""
           }
          },
          "title": {
           "x": 0.05
          },
          "xaxis": {
           "automargin": true,
           "gridcolor": "white",
           "linecolor": "white",
           "ticks": "",
           "title": {
            "standoff": 15
           },
           "zerolinecolor": "white",
           "zerolinewidth": 2
          },
          "yaxis": {
           "automargin": true,
           "gridcolor": "white",
           "linecolor": "white",
           "ticks": "",
           "title": {
            "standoff": 15
           },
           "zerolinecolor": "white",
           "zerolinewidth": 2
          }
         }
        },
        "title": {
         "text": "Salary by Years of Experience in Tech"
        },
        "xaxis": {
         "anchor": "y",
         "domain": [
          0,
          1
         ],
         "title": {
          "text": "Years of Experience in Field"
         }
        },
        "yaxis": {
         "anchor": "x",
         "domain": [
          0,
          1
         ],
         "title": {
          "text": "Average Annual Salary"
         }
        }
       }
      }
     },
     "metadata": {},
     "output_type": "display_data"
    },
    {
     "name": "stdout",
     "output_type": "stream",
     "text": [
      "7109.801484230055\n"
     ]
    }
   ],
   "source": [
    "# Question 3: How much does salary increase on average for each year of experience in tech?\n",
    "condition = (df_clean['industry'] == 'Computing or Tech')\n",
    "df_yrs = df_clean[condition]\n",
    "df_yrs['annual_sal_full_time'] = pd.to_numeric(df_yrs['annual_sal_full_time'], errors='coerce')\n",
    "\n",
    "df_yrs_avg = df_yrs.groupby('yrs_experience_field')['annual_sal_full_time'].mean().reset_index()\n",
    "\n",
    "yrs_order = ['1 year or less', '2 - 4 years', '5-7 years', '8 - 10 years', '11 - 20 years','21 - 30 years','31 - 40 years','41 years or more']\n",
    "df_yrs_avg['yrs_experience_field'] = pd.Categorical(df_yrs_avg['yrs_experience_field'], categories=yrs_order, ordered=True)\n",
    "\n",
    "# Sort by the 'Month' column\n",
    "sorted_df_yrs = df_yrs_avg.sort_values(by='yrs_experience_field')\n",
    "sorted_df_yrs\n",
    "\n",
    "fig = px.bar(sorted_df_yrs, x=\"yrs_experience_field\", y=\"annual_sal_full_time\", title='Salary by Years of Experience in Tech')\n",
    "fig.update_layout(\n",
    "    xaxis_title=\"Years of Experience in Field\",\n",
    "    yaxis_title=\"Average Annual Salary\"\n",
    ")\n",
    "fig.show()\n",
    "\n",
    "average_change = sorted_df_yrs['annual_sal_full_time'].diff().mean()\n",
    "print(average_change)"
   ]
  },
  {
   "cell_type": "code",
   "execution_count": 364,
   "metadata": {},
   "outputs": [
    {
     "name": "stdout",
     "output_type": "stream",
     "text": [
      "'Remote' exists in the DataFrame 136 time(s).\n",
      "'remote' exists in the DataFrame 12 time(s).\n",
      "'WFH' exists in the DataFrame 5 time(s).\n",
      "So, approximately 0.55% work remotely, and 99.45% work in office.\n"
     ]
    }
   ],
   "source": [
    "\n",
    "# Question 4: What percentage of respondents work remotely vs. in-office?\n",
    "search_value = 'Remote'\n",
    "total_countR = df_clean.isin([search_value]).sum().sum()\n",
    "print(f\"'{search_value}' exists in the DataFrame {total_countR} time(s).\")\n",
    "\n",
    "search_value = 'remote'\n",
    "total_countr = df_clean.isin([search_value]).sum().sum()\n",
    "print(f\"'{search_value}' exists in the DataFrame {total_countr} time(s).\")\n",
    "\n",
    "search_value = 'WFH'\n",
    "total_countWFH = df_clean.isin([search_value]).sum().sum()\n",
    "print(f\"'{search_value}' exists in the DataFrame {total_countWFH} time(s).\")\n",
    "\n",
    "total_count = total_countR + total_countr + total_countWFH\n",
    "remotes=(total_count/len(df_clean)) *100\n",
    "inoffices=100-remotes\n",
    "\n",
    "print(f\"So, approximately {remotes:,.2f}% work remotely, and {inoffices:,.2f}% work in office.\")\n"
   ]
  },
  {
   "cell_type": "code",
   "execution_count": 365,
   "metadata": {},
   "outputs": [
    {
     "name": "stdout",
     "output_type": "stream",
     "text": [
      "Industry besides tech with the highest median salary: ESL Teacher\n"
     ]
    }
   ],
   "source": [
    "# Question 5: Which industry (besides tech) has the highest median salary?\n",
    "df_clean['annual_sal_full_time'] = pd.to_numeric(df_clean['annual_sal_full_time'], errors='coerce')\n",
    "df_industry = df_clean.groupby('industry')['annual_sal_full_time'].median().reset_index()\n",
    "df_industry_sorted = df_industry.sort_values(by='annual_sal_full_time', ascending=False)\n",
    "\n",
    "print('Industry besides tech with the highest median salary:',df_industry_sorted.iloc[0, 0])"
   ]
  },
  {
   "cell_type": "code",
   "execution_count": 366,
   "metadata": {},
   "outputs": [],
   "source": [
    "# Bonus Questions:\n",
    "# Question 6: What's the salary gap between men and women in similar roles?\n",
    "# Question 7: Do people with Master's degrees earn significantly more than those with Bachelor's degrees?\n",
    "# Question 8: Which company size (startup, medium, large) pays the most on average?"
   ]
  },
  {
   "cell_type": "markdown",
   "metadata": {},
   "source": [
    "## Final Summary\n",
    "\n",
    "**Summarize your findings here:**\n",
    "\n",
    "1. **Median salary for Software Engineers in US:** $142,000\n",
    "2. **Highest paying US state for tech:** Florida\n",
    "3. **Salary increase per year of experience:** $7109.80 per year\n",
    "4. **Remote vs office percentage:** 0.55% remote, 99.45% office\n",
    "5. **Highest paying non-tech industry:** ESL Teacher\n",
    "\n",
    "**Key insights:**\n",
    "- Generally, as years of experience increase, salary increases (up until around 30 years of experience).\n",
    "- It seems that the majority of workers reported working in-office\n",
    "- ESL Teacher had the highest median salary outisde of tech\n",
    "\n",
    "**Challenges faced:**\n",
    "- When mapping the column names to new names print(repr(df_clean.columns)) helped me to get the proper title of each column so that it could be mappeed to a new name. \n",
    "- Certain colums representing numeric data were objects, so they had to be converted to numeric values\n",
    "\n",
    "**What you learned about vibe coding:**\n",
    "- Allows for more productivity, but you have to be careful about understanding what AI is suggesting\n",
    "- When provided enough context, Cursor can create a pretty clear framework of actions you should take\n",
    "- Allows you to focus more on outcomes than syntax\n"
   ]
  }
 ],
 "metadata": {
  "kernelspec": {
   "display_name": "Python 3",
   "language": "python",
   "name": "python3"
  },
  "language_info": {
   "codemirror_mode": {
    "name": "ipython",
    "version": 3
   },
   "file_extension": ".py",
   "mimetype": "text/x-python",
   "name": "python",
   "nbconvert_exporter": "python",
   "pygments_lexer": "ipython3",
   "version": "3.12.1"
  }
 },
 "nbformat": 4,
 "nbformat_minor": 2
}
