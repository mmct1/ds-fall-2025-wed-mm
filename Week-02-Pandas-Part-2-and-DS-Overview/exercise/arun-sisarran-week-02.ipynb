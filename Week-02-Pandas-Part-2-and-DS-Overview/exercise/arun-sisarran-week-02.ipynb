{
 "cells": [
  {
   "cell_type": "markdown",
   "metadata": {},
   "source": [
    "# Fall 2024 Data Science Track: Week 2 - Data Cleaning Exercise"
   ]
  },
  {
   "cell_type": "markdown",
   "metadata": {},
   "source": [
    "## Packages, Packages, Packages!\n",
    "\n",
    "Import *all* the things here! You need the standard stuff: `pandas` and `numpy`.\n",
    "\n",
    "If you got more stuff you want to use, add them here too. 🙂"
   ]
  },
  {
   "cell_type": "code",
   "execution_count": 1,
   "metadata": {},
   "outputs": [],
   "source": [
    "# Import here.\n",
    "import pandas as pd\n",
    "import numpy as np\n"
   ]
  },
  {
   "cell_type": "markdown",
   "metadata": {},
   "source": [
    "## Introduction\n",
    "\n",
    "With the packages out of the way, now you will be working with the following data sets:\n",
    "\n",
    "* `food_coded.csv`: [Food choices](https://www.kaggle.com/datasets/borapajo/food-choices?select=food_coded.csv) from Kaggle\n",
    "* `Ask A Manager Salary Survey 2021 (Responses) - Form Responses 1.tsv`: [Ask A Manager Salary Survey 2021 (Responses)](https://docs.google.com/spreadsheets/d/1IPS5dBSGtwYVbjsfbaMCYIWnOuRmJcbequohNxCyGVw/view?&gid=1625408792) as *Tab Separated Values (.tsv)* from Google Docs\n",
    "\n",
    "Each one poses different challenges. But you’ll―of course―overcome them with what you learned in class! 😉"
   ]
  },
  {
   "cell_type": "markdown",
   "metadata": {},
   "source": [
    "## Food Choices Data Set"
   ]
  },
  {
   "cell_type": "markdown",
   "metadata": {},
   "source": [
    "### Load the Data"
   ]
  },
  {
   "cell_type": "code",
   "execution_count": 3,
   "metadata": {},
   "outputs": [],
   "source": [
    "# Load the Food choices data set into a variable (e.g., df_food).\n",
    "\n",
    "food_data_set_path = '/Users/arunsisarran/Documents/GitHub/ds-fall-2025-fri-1230/Week-02-Pandas-Part-2-and-DS-Overview/data/food_coded.csv'\n",
    "\n",
    "df_food = pd.read_csv(food_data_set_path)"
   ]
  },
  {
   "cell_type": "markdown",
   "metadata": {},
   "source": [
    "### Explore the Data"
   ]
  },
  {
   "cell_type": "markdown",
   "metadata": {},
   "source": [
    "How much data did you just load?"
   ]
  },
  {
   "cell_type": "code",
   "execution_count": 7,
   "metadata": {},
   "outputs": [
    {
     "data": {
      "text/plain": [
       "7625"
      ]
     },
     "execution_count": 7,
     "metadata": {},
     "output_type": "execute_result"
    }
   ],
   "source": [
    "# Count by hand. (lol kidding)\n",
    "df_food.size"
   ]
  },
  {
   "cell_type": "markdown",
   "metadata": {},
   "source": [
    "What are the columns and their types in this data set?"
   ]
  },
  {
   "cell_type": "code",
   "execution_count": 10,
   "metadata": {},
   "outputs": [
    {
     "data": {
      "text/plain": [
       "GPA                  object\n",
       "Gender                int64\n",
       "breakfast             int64\n",
       "calories_chicken      int64\n",
       "calories_day        float64\n",
       "                     ...   \n",
       "type_sports          object\n",
       "veggies_day           int64\n",
       "vitamins              int64\n",
       "waffle_calories       int64\n",
       "weight               object\n",
       "Length: 61, dtype: object"
      ]
     },
     "execution_count": 10,
     "metadata": {},
     "output_type": "execute_result"
    }
   ],
   "source": [
    "# Show the column names and their types.\n",
    "df_food.dtypes\n"
   ]
  },
  {
   "cell_type": "markdown",
   "metadata": {},
   "source": [
    "### Clean the Data\n",
    "\n",
    "Perhaps we’d like to know more another day, but the team is really interested in just the relationship between calories (`calories_day`) and weight. …and maybe gender."
   ]
  },
  {
   "cell_type": "markdown",
   "metadata": {},
   "source": [
    "Can you remove the other columns?"
   ]
  },
  {
   "cell_type": "code",
   "execution_count": 22,
   "metadata": {},
   "outputs": [],
   "source": [
    "# Remove ‘em.\n",
    "important_cols = ['calories_day', 'weight', 'Gender']\n",
    "df_food = df_food[important_cols]"
   ]
  },
  {
   "cell_type": "markdown",
   "metadata": {},
   "source": [
    "What about `NaN`s? How many are there?"
   ]
  },
  {
   "cell_type": "code",
   "execution_count": 23,
   "metadata": {},
   "outputs": [
    {
     "data": {
      "text/plain": [
       "np.int64(21)"
      ]
     },
     "execution_count": 23,
     "metadata": {},
     "output_type": "execute_result"
    }
   ],
   "source": [
    "# Count ‘em.\n",
    "df_food.isnull().sum().sum()\n"
   ]
  },
  {
   "cell_type": "markdown",
   "metadata": {},
   "source": [
    "We gotta remove those `NaN`s―the entire row."
   ]
  },
  {
   "cell_type": "code",
   "execution_count": 26,
   "metadata": {},
   "outputs": [
    {
     "data": {
      "text/html": [
       "<div>\n",
       "<style scoped>\n",
       "    .dataframe tbody tr th:only-of-type {\n",
       "        vertical-align: middle;\n",
       "    }\n",
       "\n",
       "    .dataframe tbody tr th {\n",
       "        vertical-align: top;\n",
       "    }\n",
       "\n",
       "    .dataframe thead th {\n",
       "        text-align: right;\n",
       "    }\n",
       "</style>\n",
       "<table border=\"1\" class=\"dataframe\">\n",
       "  <thead>\n",
       "    <tr style=\"text-align: right;\">\n",
       "      <th></th>\n",
       "      <th>calories_day</th>\n",
       "      <th>weight</th>\n",
       "      <th>Gender</th>\n",
       "    </tr>\n",
       "  </thead>\n",
       "  <tbody>\n",
       "    <tr>\n",
       "      <th>1</th>\n",
       "      <td>3.0</td>\n",
       "      <td>155</td>\n",
       "      <td>1</td>\n",
       "    </tr>\n",
       "    <tr>\n",
       "      <th>2</th>\n",
       "      <td>4.0</td>\n",
       "      <td>I'm not answering this.</td>\n",
       "      <td>1</td>\n",
       "    </tr>\n",
       "    <tr>\n",
       "      <th>3</th>\n",
       "      <td>3.0</td>\n",
       "      <td>Not sure, 240</td>\n",
       "      <td>1</td>\n",
       "    </tr>\n",
       "    <tr>\n",
       "      <th>4</th>\n",
       "      <td>2.0</td>\n",
       "      <td>190</td>\n",
       "      <td>1</td>\n",
       "    </tr>\n",
       "    <tr>\n",
       "      <th>5</th>\n",
       "      <td>3.0</td>\n",
       "      <td>190</td>\n",
       "      <td>1</td>\n",
       "    </tr>\n",
       "  </tbody>\n",
       "</table>\n",
       "</div>"
      ],
      "text/plain": [
       "   calories_day                    weight  Gender\n",
       "1           3.0                       155       1\n",
       "2           4.0  I'm not answering this.        1\n",
       "3           3.0             Not sure, 240       1\n",
       "4           2.0                       190       1\n",
       "5           3.0                       190       1"
      ]
     },
     "execution_count": 26,
     "metadata": {},
     "output_type": "execute_result"
    }
   ],
   "source": [
    "# Drop ‘em.\n",
    "df_cleaned = df_food.dropna()\n",
    "df_cleaned.head()\n"
   ]
  },
  {
   "cell_type": "markdown",
   "metadata": {},
   "source": [
    "But what about the weird non-numeric values in the column obviously meant for numeric data?\n",
    "\n",
    "Notice the data type of that column from when you got the types of all the columns?\n",
    "\n",
    "If only we could convert the column to a numeric type and drop the rows with invalid values. 🤔"
   ]
  },
  {
   "cell_type": "code",
   "execution_count": 28,
   "metadata": {},
   "outputs": [],
   "source": [
    "# Fix that.\n",
    "df_cleaned = df_cleaned.copy()\n",
    "\n",
    "df_cleaned['weight'] = pd.to_numeric(df_cleaned['weight'], errors='coerce')\n",
    "df_cleaned = df_cleaned.dropna(subset=['weight'])\n",
    "df_cleaned['weight'] = df_cleaned['weight'].astype('int64')"
   ]
  },
  {
   "cell_type": "markdown",
   "metadata": {},
   "source": [
    "Now this data seems reasonably clean for our purposes! 😁\n",
    "\n",
    "Let’s save it somewhere to be shipped off to another teammate. 💾"
   ]
  },
  {
   "cell_type": "code",
   "execution_count": 29,
   "metadata": {},
   "outputs": [],
   "source": [
    "# Savey save!\n",
    "df_cleaned.to_csv('cleaned_data.csv', index=False)\n",
    "\n"
   ]
  },
  {
   "cell_type": "markdown",
   "metadata": {},
   "source": [
    "## Ask a Manager Salary Survey 2021 (Responses) Data Set"
   ]
  },
  {
   "cell_type": "markdown",
   "metadata": {},
   "source": [
    "### Load the Data"
   ]
  },
  {
   "cell_type": "code",
   "execution_count": 33,
   "metadata": {},
   "outputs": [
    {
     "data": {
      "text/plain": [
       "<bound method NDFrame.head of                 Timestamp How old are you?  What industry do you work in?  \\\n",
       "0      4/27/2021 11:02:10            25-34   Education (Higher Education)   \n",
       "1      4/27/2021 11:02:22            25-34              Computing or Tech   \n",
       "2      4/27/2021 11:02:38            25-34  Accounting, Banking & Finance   \n",
       "3      4/27/2021 11:02:41            25-34                     Nonprofits   \n",
       "4      4/27/2021 11:02:42            25-34  Accounting, Banking & Finance   \n",
       "...                   ...              ...                            ...   \n",
       "28057  7/12/2024 22:52:01            35-44                    Health care   \n",
       "28058  7/23/2024 17:51:03            25-34              Computing or Tech   \n",
       "28059  7/24/2024 12:22:58            18-24  Accounting, Banking & Finance   \n",
       "28060  7/26/2024 11:20:45            18-24              Computing or Tech   \n",
       "28061   8/20/2024 1:06:13            25-34                    Health care   \n",
       "\n",
       "                                      Job title  \\\n",
       "0            Research and Instruction Librarian   \n",
       "1      Change & Internal Communications Manager   \n",
       "2                          Marketing Specialist   \n",
       "3                               Program Manager   \n",
       "4                            Accounting Manager   \n",
       "...                                         ...   \n",
       "28057                              Veterinarian   \n",
       "28058                         Systems Architect   \n",
       "28059                 Risk Management Associate   \n",
       "28060                                        IT   \n",
       "28061                    Clinical physiologist    \n",
       "\n",
       "      If your job title needs additional context, please clarify here:  \\\n",
       "0                                                    NaN                 \n",
       "1                                                    NaN                 \n",
       "2                                                    NaN                 \n",
       "3                                                    NaN                 \n",
       "4                                                    NaN                 \n",
       "...                                                  ...                 \n",
       "28057                                                NaN                 \n",
       "28058                                                NaN                 \n",
       "28059                                                NaN                 \n",
       "28060                                                NaN                 \n",
       "28061                                                NaN                 \n",
       "\n",
       "      What is your annual salary? (You'll indicate the currency in a later question. If you are part-time or hourly, please enter an annualized equivalent -- what you would earn if you worked the job 40 hours a week, 52 weeks a year.)  \\\n",
       "0                                                 55,000                                                                                                                                                                                     \n",
       "1                                                 54,600                                                                                                                                                                                     \n",
       "2                                                 34,000                                                                                                                                                                                     \n",
       "3                                                 62,000                                                                                                                                                                                     \n",
       "4                                                 60,000                                                                                                                                                                                     \n",
       "...                                                  ...                                                                                                                                                                                     \n",
       "28057                                             135000                                                                                                                                                                                     \n",
       "28058                                             109000                                                                                                                                                                                     \n",
       "28059                                               1200                                                                                                                                                                                     \n",
       "28060                                               1700                                                                                                                                                                                     \n",
       "28061                                            1200000                                                                                                                                                                                     \n",
       "\n",
       "       How much additional monetary compensation do you get, if any (for example, bonuses or overtime in an average year)? Please only include monetary compensation here, not the value of benefits.  \\\n",
       "0                                                    0.0                                                                                                                                                \n",
       "1                                                 4000.0                                                                                                                                                \n",
       "2                                                    NaN                                                                                                                                                \n",
       "3                                                 3000.0                                                                                                                                                \n",
       "4                                                 7000.0                                                                                                                                                \n",
       "...                                                  ...                                                                                                                                                \n",
       "28057                                                NaN                                                                                                                                                \n",
       "28058                                                NaN                                                                                                                                                \n",
       "28059                                                0.0                                                                                                                                                \n",
       "28060                                               10.0                                                                                                                                                \n",
       "28061                                                NaN                                                                                                                                                \n",
       "\n",
       "      Please indicate the currency  \\\n",
       "0                              USD   \n",
       "1                              GBP   \n",
       "2                              USD   \n",
       "3                              USD   \n",
       "4                              USD   \n",
       "...                            ...   \n",
       "28057                          USD   \n",
       "28058                          USD   \n",
       "28059                          USD   \n",
       "28060                          USD   \n",
       "28061                        Other   \n",
       "\n",
       "      If \"Other,\" please indicate the currency here:   \\\n",
       "0                                                 NaN   \n",
       "1                                                 NaN   \n",
       "2                                                 NaN   \n",
       "3                                                 NaN   \n",
       "4                                                 NaN   \n",
       "...                                               ...   \n",
       "28057                                             NaN   \n",
       "28058                                             NaN   \n",
       "28059                                             NaN   \n",
       "28060                                             NaN   \n",
       "28061                                             NGN   \n",
       "\n",
       "      If your income needs additional context, please provide it here:  \\\n",
       "0                                                    NaN                 \n",
       "1                                                    NaN                 \n",
       "2                                                    NaN                 \n",
       "3                                                    NaN                 \n",
       "4                                                    NaN                 \n",
       "...                                                  ...                 \n",
       "28057                                                NaN                 \n",
       "28058                                                NaN                 \n",
       "28059                                                NaN                 \n",
       "28060                                                NaN                 \n",
       "28061                                                NaN                 \n",
       "\n",
       "      What country do you work in?  \\\n",
       "0                    United States   \n",
       "1                   United Kingdom   \n",
       "2                               US   \n",
       "3                              USA   \n",
       "4                               US   \n",
       "...                            ...   \n",
       "28057               United States    \n",
       "28058                          USA   \n",
       "28059                      Myanmar   \n",
       "28060                        Burma   \n",
       "28061                     Nigeria    \n",
       "\n",
       "      If you're in the U.S., what state do you work in?  \\\n",
       "0                                         Massachusetts   \n",
       "1                                                   NaN   \n",
       "2                                             Tennessee   \n",
       "3                                             Wisconsin   \n",
       "4                                        South Carolina   \n",
       "...                                                 ...   \n",
       "28057                                          Missouri   \n",
       "28058                                           Georgia   \n",
       "28059                                          Colorado   \n",
       "28060                                               NaN   \n",
       "28061                                               NaN   \n",
       "\n",
       "      What city do you work in?  \\\n",
       "0                        Boston   \n",
       "1                     Cambridge   \n",
       "2                   Chattanooga   \n",
       "3                     Milwaukee   \n",
       "4                    Greenville   \n",
       "...                         ...   \n",
       "28057               Wentzville    \n",
       "28058                   Atlanta   \n",
       "28059                    Yangon   \n",
       "28060                    Yangon   \n",
       "28061                     Lagos   \n",
       "\n",
       "      How many years of professional work experience do you have overall?  \\\n",
       "0                                              5-7 years                    \n",
       "1                                           8 - 10 years                    \n",
       "2                                            2 - 4 years                    \n",
       "3                                           8 - 10 years                    \n",
       "4                                           8 - 10 years                    \n",
       "...                                                  ...                    \n",
       "28057                                      11 - 20 years                    \n",
       "28058                                          5-7 years                    \n",
       "28059                                        2 - 4 years                    \n",
       "28060                                        2 - 4 years                    \n",
       "28061                                        2 - 4 years                    \n",
       "\n",
       "      How many years of professional work experience do you have in your field?  \\\n",
       "0                                              5-7 years                          \n",
       "1                                              5-7 years                          \n",
       "2                                            2 - 4 years                          \n",
       "3                                              5-7 years                          \n",
       "4                                              5-7 years                          \n",
       "...                                                  ...                          \n",
       "28057                                      11 - 20 years                          \n",
       "28058                                          5-7 years                          \n",
       "28059                                        2 - 4 years                          \n",
       "28060                                     1 year or less                          \n",
       "28061                                        2 - 4 years                          \n",
       "\n",
       "      What is your highest level of education completed? What is your gender?  \\\n",
       "0                                        Master's degree                Woman   \n",
       "1                                         College degree           Non-binary   \n",
       "2                                         College degree                Woman   \n",
       "3                                         College degree                Woman   \n",
       "4                                         College degree                Woman   \n",
       "...                                                  ...                  ...   \n",
       "28057                 Professional degree (MD, JD, etc.)                Woman   \n",
       "28058                                     College degree                  Man   \n",
       "28059                                       Some college                  Man   \n",
       "28060                                       Some college                  Man   \n",
       "28061                                     College degree                Woman   \n",
       "\n",
       "      What is your race? (Choose all that apply.)  \n",
       "0                                           White  \n",
       "1                                           White  \n",
       "2                                           White  \n",
       "3                                           White  \n",
       "4                                           White  \n",
       "...                                           ...  \n",
       "28057                                       White  \n",
       "28058                                       White  \n",
       "28059                     Asian or Asian American  \n",
       "28060                     Asian or Asian American  \n",
       "28061                   Black or African American  \n",
       "\n",
       "[28062 rows x 18 columns]>"
      ]
     },
     "execution_count": 33,
     "metadata": {},
     "output_type": "execute_result"
    }
   ],
   "source": [
    "# Load the Ask A Manager Salary Survey 2021 (Responses) data set into a variable (e.g., df_salary).\n",
    "df = pd.read_csv('/Users/arunsisarran/Documents/GitHub/ds-fall-2025-fri-1230/Week-02-Pandas-Part-2-and-DS-Overview/data/Ask A Manager Salary Survey 2021 (Responses) - Form Responses 1.tsv', sep=\"\\t\")\n",
    "df.head\n"
   ]
  },
  {
   "cell_type": "markdown",
   "metadata": {},
   "source": [
    "Was that hard? 🙃"
   ]
  },
  {
   "cell_type": "markdown",
   "metadata": {},
   "source": [
    "#### rename the file to something that is better for all systems.  \n",
    "* No spaces in filename (can use '_')\n",
    "* all lower case"
   ]
  },
  {
   "cell_type": "markdown",
   "metadata": {},
   "source": [
    "### Explore\n",
    "\n",
    "You know the drill."
   ]
  },
  {
   "cell_type": "markdown",
   "metadata": {},
   "source": [
    "How much data did you just load?"
   ]
  },
  {
   "cell_type": "code",
   "execution_count": 34,
   "metadata": {},
   "outputs": [
    {
     "data": {
      "text/plain": [
       "505116"
      ]
     },
     "execution_count": 34,
     "metadata": {},
     "output_type": "execute_result"
    }
   ],
   "source": [
    "# Count by hand. I’m dead serious.\n",
    "df.size\n"
   ]
  },
  {
   "cell_type": "markdown",
   "metadata": {},
   "source": [
    "What are the columns and their types?"
   ]
  },
  {
   "cell_type": "code",
   "execution_count": 35,
   "metadata": {},
   "outputs": [
    {
     "data": {
      "text/plain": [
       "Timestamp                                                                                                                                                                                                                                object\n",
       "How old are you?                                                                                                                                                                                                                         object\n",
       "What industry do you work in?                                                                                                                                                                                                            object\n",
       "Job title                                                                                                                                                                                                                                object\n",
       "If your job title needs additional context, please clarify here:                                                                                                                                                                         object\n",
       "What is your annual salary? (You'll indicate the currency in a later question. If you are part-time or hourly, please enter an annualized equivalent -- what you would earn if you worked the job 40 hours a week, 52 weeks a year.)     object\n",
       "How much additional monetary compensation do you get, if any (for example, bonuses or overtime in an average year)? Please only include monetary compensation here, not the value of benefits.                                          float64\n",
       "Please indicate the currency                                                                                                                                                                                                             object\n",
       "If \"Other,\" please indicate the currency here:                                                                                                                                                                                           object\n",
       "If your income needs additional context, please provide it here:                                                                                                                                                                         object\n",
       "What country do you work in?                                                                                                                                                                                                             object\n",
       "If you're in the U.S., what state do you work in?                                                                                                                                                                                        object\n",
       "What city do you work in?                                                                                                                                                                                                                object\n",
       "How many years of professional work experience do you have overall?                                                                                                                                                                      object\n",
       "How many years of professional work experience do you have in your field?                                                                                                                                                                object\n",
       "What is your highest level of education completed?                                                                                                                                                                                       object\n",
       "What is your gender?                                                                                                                                                                                                                     object\n",
       "What is your race? (Choose all that apply.)                                                                                                                                                                                              object\n",
       "dtype: object"
      ]
     },
     "execution_count": 35,
     "metadata": {},
     "output_type": "execute_result"
    }
   ],
   "source": [
    "# Show the column names and their types.\n",
    "df.dtypes\n"
   ]
  },
  {
   "cell_type": "markdown",
   "metadata": {},
   "source": [
    "Oh… Ugh! Give these columns easier names to work with first. 🙄"
   ]
  },
  {
   "cell_type": "code",
   "execution_count": 38,
   "metadata": {},
   "outputs": [
    {
     "data": {
      "text/plain": [
       "<bound method NDFrame.head of                 timestamp    age                       industry  \\\n",
       "0      4/27/2021 11:02:10  25-34   Education (Higher Education)   \n",
       "1      4/27/2021 11:02:22  25-34              Computing or Tech   \n",
       "2      4/27/2021 11:02:38  25-34  Accounting, Banking & Finance   \n",
       "3      4/27/2021 11:02:41  25-34                     Nonprofits   \n",
       "4      4/27/2021 11:02:42  25-34  Accounting, Banking & Finance   \n",
       "...                   ...    ...                            ...   \n",
       "28057  7/12/2024 22:52:01  35-44                    Health care   \n",
       "28058  7/23/2024 17:51:03  25-34              Computing or Tech   \n",
       "28059  7/24/2024 12:22:58  18-24  Accounting, Banking & Finance   \n",
       "28060  7/26/2024 11:20:45  18-24              Computing or Tech   \n",
       "28061   8/20/2024 1:06:13  25-34                    Health care   \n",
       "\n",
       "                                          title title_context   salary  \\\n",
       "0            Research and Instruction Librarian           NaN   55,000   \n",
       "1      Change & Internal Communications Manager           NaN   54,600   \n",
       "2                          Marketing Specialist           NaN   34,000   \n",
       "3                               Program Manager           NaN   62,000   \n",
       "4                            Accounting Manager           NaN   60,000   \n",
       "...                                         ...           ...      ...   \n",
       "28057                              Veterinarian           NaN   135000   \n",
       "28058                         Systems Architect           NaN   109000   \n",
       "28059                 Risk Management Associate           NaN     1200   \n",
       "28060                                        IT           NaN     1700   \n",
       "28061                    Clinical physiologist            NaN  1200000   \n",
       "\n",
       "       additional_compensation currency other_currency salary_context  \\\n",
       "0                          0.0      USD            NaN            NaN   \n",
       "1                       4000.0      GBP            NaN            NaN   \n",
       "2                          NaN      USD            NaN            NaN   \n",
       "3                       3000.0      USD            NaN            NaN   \n",
       "4                       7000.0      USD            NaN            NaN   \n",
       "...                        ...      ...            ...            ...   \n",
       "28057                      NaN      USD            NaN            NaN   \n",
       "28058                      NaN      USD            NaN            NaN   \n",
       "28059                      0.0      USD            NaN            NaN   \n",
       "28060                     10.0      USD            NaN            NaN   \n",
       "28061                      NaN    Other            NGN            NaN   \n",
       "\n",
       "              country           state         city      total_yoe  \\\n",
       "0       United States   Massachusetts       Boston      5-7 years   \n",
       "1      United Kingdom             NaN    Cambridge   8 - 10 years   \n",
       "2                  US       Tennessee  Chattanooga    2 - 4 years   \n",
       "3                 USA       Wisconsin    Milwaukee   8 - 10 years   \n",
       "4                  US  South Carolina   Greenville   8 - 10 years   \n",
       "...               ...             ...          ...            ...   \n",
       "28057  United States         Missouri  Wentzville   11 - 20 years   \n",
       "28058             USA         Georgia      Atlanta      5-7 years   \n",
       "28059         Myanmar        Colorado       Yangon    2 - 4 years   \n",
       "28060           Burma             NaN       Yangon    2 - 4 years   \n",
       "28061        Nigeria              NaN        Lagos    2 - 4 years   \n",
       "\n",
       "            field_yoe         highest_education_completed      gender  \\\n",
       "0           5-7 years                     Master's degree       Woman   \n",
       "1           5-7 years                      College degree  Non-binary   \n",
       "2         2 - 4 years                      College degree       Woman   \n",
       "3           5-7 years                      College degree       Woman   \n",
       "4           5-7 years                      College degree       Woman   \n",
       "...               ...                                 ...         ...   \n",
       "28057   11 - 20 years  Professional degree (MD, JD, etc.)       Woman   \n",
       "28058       5-7 years                      College degree         Man   \n",
       "28059     2 - 4 years                        Some college         Man   \n",
       "28060  1 year or less                        Some college         Man   \n",
       "28061     2 - 4 years                      College degree       Woman   \n",
       "\n",
       "                            race  \n",
       "0                          White  \n",
       "1                          White  \n",
       "2                          White  \n",
       "3                          White  \n",
       "4                          White  \n",
       "...                          ...  \n",
       "28057                      White  \n",
       "28058                      White  \n",
       "28059    Asian or Asian American  \n",
       "28060    Asian or Asian American  \n",
       "28061  Black or African American  \n",
       "\n",
       "[28062 rows x 18 columns]>"
      ]
     },
     "execution_count": 38,
     "metadata": {},
     "output_type": "execute_result"
    }
   ],
   "source": [
    "# Rename ‘em.\n",
    "# Non-binding suggestions: timestamp, age, industry, title, title_context, salary, additional_compensation, currency, other_currency, salary_context, country, state, city, total_yoe, field_yoe, highest_education_completed\tgender, race\n",
    "df.columns = ['timestamp', 'age', 'industry', 'title', 'title_context', 'salary', 'additional_compensation', 'currency', 'other_currency', 'salary_context', 'country', 'state', 'city', 'total_yoe', 'field_yoe', 'highest_education_completed', 'gender', 'race']\n",
    "df.head"
   ]
  },
  {
   "cell_type": "markdown",
   "metadata": {},
   "source": [
    "It’s a lot, and that should not have been easy. 😏"
   ]
  },
  {
   "cell_type": "markdown",
   "metadata": {},
   "source": [
    "You’re going to have a gander at the computing/tech subset first because thats *your* industry. But first, what value corresponds to that `industry`?"
   ]
  },
  {
   "cell_type": "code",
   "execution_count": 39,
   "metadata": {},
   "outputs": [
    {
     "data": {
      "text/plain": [
       "industry\n",
       "Computing or Tech                          4699\n",
       "Education (Higher Education)               2464\n",
       "Nonprofits                                 2419\n",
       "Health care                                1896\n",
       "Government and Public Administration       1889\n",
       "                                           ... \n",
       "Gaming (Gambling)                             1\n",
       "Regulatory Affairs- nutraceuticals            1\n",
       "Manufacturing : corporate admin support       1\n",
       "Real Estate Investment Support                1\n",
       "Wine & Spirits                                1\n",
       "Name: count, Length: 1219, dtype: int64"
      ]
     },
     "execution_count": 39,
     "metadata": {},
     "output_type": "execute_result"
    }
   ],
   "source": [
    "# List the unique industries and a count of their instances.\n",
    "df['industry'].value_counts()\n"
   ]
  },
  {
   "cell_type": "markdown",
   "metadata": {},
   "source": [
    "That value among the top 5 is what you’re looking for innit? Filter out all the rows not in that industry and save it into a new dataframe. "
   ]
  },
  {
   "cell_type": "code",
   "execution_count": 40,
   "metadata": {},
   "outputs": [
    {
     "data": {
      "text/plain": [
       "<bound method NDFrame.head of                 timestamp    age           industry  \\\n",
       "1      4/27/2021 11:02:22  25-34  Computing or Tech   \n",
       "8      4/27/2021 11:03:01  45-54  Computing or Tech   \n",
       "43     4/27/2021 11:04:04  25-34  Computing or Tech   \n",
       "44     4/27/2021 11:04:04  25-34  Computing or Tech   \n",
       "46     4/27/2021 11:04:07  35-44  Computing or Tech   \n",
       "...                   ...    ...                ...   \n",
       "28050   7/1/2024 13:38:46  25-34  Computing or Tech   \n",
       "28051   7/1/2024 20:05:58  25-34  Computing or Tech   \n",
       "28052   7/3/2024 14:02:01  25-34  Computing or Tech   \n",
       "28058  7/23/2024 17:51:03  25-34  Computing or Tech   \n",
       "28060  7/26/2024 11:20:45  18-24  Computing or Tech   \n",
       "\n",
       "                                              title  \\\n",
       "1          Change & Internal Communications Manager   \n",
       "8                                   Systems Analyst   \n",
       "43                      Principal Software Engineer   \n",
       "44                             Intelligence Analyst   \n",
       "46                                 Mobile developer   \n",
       "...                                             ...   \n",
       "28050  Research & Systems Technician Data Analytics   \n",
       "28051                          Junior data analyst    \n",
       "28052        Senior Global Public Relations Manager   \n",
       "28058                             Systems Architect   \n",
       "28060                                            IT   \n",
       "\n",
       "                      title_context   salary  additional_compensation  \\\n",
       "1                               NaN   54,600                   4000.0   \n",
       "8      Data developer/ETL Developer  112,000                  10000.0   \n",
       "43                              NaN  187,500                   5000.0   \n",
       "44                              NaN  110,000                  20000.0   \n",
       "46                              NaN  144,600                   2500.0   \n",
       "...                             ...      ...                      ...   \n",
       "28050                           NaN    22000                      NaN   \n",
       "28051                           NaN    35000                  15000.0   \n",
       "28052                           NaN   144000                  15000.0   \n",
       "28058                           NaN   109000                      NaN   \n",
       "28060                           NaN     1700                     10.0   \n",
       "\n",
       "      currency other_currency                 salary_context         country  \\\n",
       "1          GBP            NaN                            NaN  United Kingdom   \n",
       "8          USD            NaN                            NaN              US   \n",
       "43         USD            NaN                            NaN   United States   \n",
       "44         USD            NaN  Around 20,000 a year in stock             USA   \n",
       "46         USD            NaN                            NaN             USA   \n",
       "...        ...            ...                            ...             ...   \n",
       "28050      EUR            NaN                            NaN           Spain   \n",
       "28051      USD            NaN                            NaN             Usa   \n",
       "28052      USD            NaN                            NaN             Usa   \n",
       "28058      USD            NaN                            NaN             USA   \n",
       "28060      USD            NaN                            NaN           Burma   \n",
       "\n",
       "               state                                          city  \\\n",
       "1                NaN                                     Cambridge   \n",
       "8           Missouri                                     St. Louis   \n",
       "43      Pennsylvania                                    Pittsburgh   \n",
       "44          Virginia                                 Arlington, VA   \n",
       "46     Massachusetts                                        Boston   \n",
       "...              ...                                           ...   \n",
       "28050            NaN                                     Barcelona   \n",
       "28051        Alabama                                      Alabama    \n",
       "28052  Massachusetts  Boise-but remote. Company located in Boston    \n",
       "28058        Georgia                                       Atlanta   \n",
       "28060            NaN                                        Yangon   \n",
       "\n",
       "           total_yoe       field_yoe highest_education_completed      gender  \\\n",
       "1       8 - 10 years       5-7 years              College degree  Non-binary   \n",
       "8      21 - 30 years   21 - 30 years              College degree       Woman   \n",
       "43      8 - 10 years       5-7 years              College degree       Woman   \n",
       "44      8 - 10 years    8 - 10 years             Master's degree         Man   \n",
       "46         5-7 years       5-7 years                         PhD       Woman   \n",
       "...              ...             ...                         ...         ...   \n",
       "28050    2 - 4 years     2 - 4 years              College degree         Man   \n",
       "28051    2 - 4 years     2 - 4 years              College degree       Woman   \n",
       "28052   8 - 10 years    8 - 10 years             Master's degree       Woman   \n",
       "28058      5-7 years       5-7 years              College degree         Man   \n",
       "28060    2 - 4 years  1 year or less                Some college         Man   \n",
       "\n",
       "                                      race  \n",
       "1                                    White  \n",
       "8                                    White  \n",
       "43                                   White  \n",
       "44                                   White  \n",
       "46                                   White  \n",
       "...                                    ...  \n",
       "28050  Hispanic, Latino, or Spanish origin  \n",
       "28051            Black or African American  \n",
       "28052                                White  \n",
       "28058                                White  \n",
       "28060              Asian or Asian American  \n",
       "\n",
       "[4699 rows x 18 columns]>"
      ]
     },
     "execution_count": 40,
     "metadata": {},
     "output_type": "execute_result"
    }
   ],
   "source": [
    "# Filtery filter. (Save it to a new variable, df_salary_tech.)\n",
    "df_salary_tech = df[df['industry'] == 'Computing or Tech']\n",
    "df_salary_tech.head\n"
   ]
  },
  {
   "cell_type": "markdown",
   "metadata": {},
   "source": [
    "Do a sanity check to make sure that the only values you kept are the one you are filtered for.  "
   ]
  },
  {
   "cell_type": "code",
   "execution_count": 42,
   "metadata": {},
   "outputs": [
    {
     "data": {
      "text/plain": [
       "industry\n",
       "Computing or Tech    4699\n",
       "Name: count, dtype: int64"
      ]
     },
     "execution_count": 42,
     "metadata": {},
     "output_type": "execute_result"
    }
   ],
   "source": [
    "# Sanity Check \n",
    "df_salary_tech['industry'].value_counts()\n",
    "\n"
   ]
  },
  {
   "cell_type": "markdown",
   "metadata": {},
   "source": [
    "We are very interested in salary figures. But how many dollars 💵 is a euro 💶 or a pound 💷? That sounds like a problem for another day. 🫠\n",
    "\n",
    "For now, let’s just look at U.S. dollars (`'USD'`)."
   ]
  },
  {
   "cell_type": "code",
   "execution_count": 44,
   "metadata": {},
   "outputs": [
    {
     "data": {
      "text/plain": [
       "currency\n",
       "USD    3777\n",
       "Name: count, dtype: int64"
      ]
     },
     "execution_count": 44,
     "metadata": {},
     "output_type": "execute_result"
    }
   ],
   "source": [
    "# Filtery filter for just the jobs that pay in USD!\n",
    "df_salary_tech = df_salary_tech[df_salary_tech['currency'] == 'USD']\n",
    "df_salary_tech['currency'].value_counts()"
   ]
  },
  {
   "cell_type": "markdown",
   "metadata": {},
   "source": [
    "What we really want know is how each U.S. city pays in tech. What value in `country` represents the United States of America?"
   ]
  },
  {
   "cell_type": "code",
   "execution_count": 45,
   "metadata": {},
   "outputs": [
    {
     "data": {
      "text/plain": [
       "country\n",
       "United States               1576\n",
       "USA                         1222\n",
       "US                           412\n",
       "U.S.                         108\n",
       "United States of America      90\n",
       "                            ... \n",
       "Pakistan                       1\n",
       "Puerto Rico                    1\n",
       "America                        1\n",
       "Uniyed states                  1\n",
       "Burma                          1\n",
       "Name: count, Length: 76, dtype: int64"
      ]
     },
     "execution_count": 45,
     "metadata": {},
     "output_type": "execute_result"
    }
   ],
   "source": [
    "# We did filter for USD, so if we do a count of each unique country in descending count order, the relevant value(s) should show up at the top.\n",
    "df_salary_tech['country'].value_counts()\n"
   ]
  },
  {
   "cell_type": "markdown",
   "metadata": {},
   "source": [
    "### Clean the Data\n",
    "\n",
    "Well, we can’t get our answers with what we currently have, so you’ll have to make some changes."
   ]
  },
  {
   "cell_type": "markdown",
   "metadata": {},
   "source": [
    "Let’s not worry about anything below the first 5 values for now. Convert the top 5 to a single canonical value―say, `'US'`, which is nice and short."
   ]
  },
  {
   "cell_type": "code",
   "execution_count": 50,
   "metadata": {},
   "outputs": [],
   "source": [
    "# Replace them all with 'US'.\n",
    "values_to_replace = ['United States', 'USA', 'US', 'U.S.', 'United States of America']\n",
    "new_value = \"US\"\n",
    "\n",
    "\n",
    "df_salary_tech['country'] = df_salary_tech['country'].replace(values_to_replace, new_value)\n"
   ]
  },
  {
   "cell_type": "markdown",
   "metadata": {},
   "source": [
    "Have a look at the count of each unique country again now."
   ]
  },
  {
   "cell_type": "code",
   "execution_count": 51,
   "metadata": {},
   "outputs": [
    {
     "data": {
      "text/plain": [
       "country\n",
       "US                3408\n",
       "United States       68\n",
       "Usa                 59\n",
       "USA                 56\n",
       "usa                 28\n",
       "                  ... \n",
       "Mexico               1\n",
       "United Stateds       1\n",
       "ISA                  1\n",
       "singapore            1\n",
       "Burma                1\n",
       "Name: count, Length: 72, dtype: int64"
      ]
     },
     "execution_count": 51,
     "metadata": {},
     "output_type": "execute_result"
    }
   ],
   "source": [
    "# Count again.\n",
    "df_salary_tech['country'].value_counts()\n"
   ]
  },
  {
   "cell_type": "markdown",
   "metadata": {},
   "source": [
    "Did you notice anything interesting?"
   ]
  },
  {
   "cell_type": "code",
   "execution_count": null,
   "metadata": {},
   "outputs": [],
   "source": [
    "# BONUS CREDIT: resolve [most of] those anomalous cases too without exhaustively taking every variant literally into account.\n",
    "\n"
   ]
  },
  {
   "cell_type": "code",
   "execution_count": null,
   "metadata": {},
   "outputs": [],
   "source": [
    "\n",
    "# BONUS CREDIT: if you’ve resolved it, let’s see how well you did by counting the number of instances of each unique value.\n",
    "\n"
   ]
  },
  {
   "cell_type": "markdown",
   "metadata": {},
   "source": [
    "It’s looking good so far. Let’s find out the minimum, mean, and maximum (in that order) salary by state, sorted by the mean in descending order."
   ]
  },
  {
   "cell_type": "code",
   "execution_count": 53,
   "metadata": {},
   "outputs": [
    {
     "name": "stdout",
     "output_type": "stream",
     "text": [
      "                                     min        max           mean\n",
      "state                                                             \n",
      "Alabama                          35000.0   350000.0  117400.000000\n",
      "Arizona                          35000.0   145000.0   97833.333333\n",
      "Arkansas                             4.0    95000.0   58001.000000\n",
      "California                           0.0   520000.0  153286.988827\n",
      "California, Colorado            176000.0   176000.0  176000.000000\n",
      "California, Maryland             81500.0    81500.0   81500.000000\n",
      "California, Oregon              200000.0   200000.0  200000.000000\n",
      "Colorado                         49400.0   165000.0  109291.891892\n",
      "Connecticut                      68000.0   270000.0  161610.000000\n",
      "Delaware                        169000.0   169000.0  169000.000000\n",
      "District of Columbia             59000.0   200000.0  142923.076923\n",
      "District of Columbia, Virginia  109200.0   109200.0  109200.000000\n",
      "Florida                          28800.0  2600000.0  210711.000000\n",
      "Georgia                          29120.0   242000.0  115297.647059\n",
      "Idaho                            74860.0   170000.0  105465.000000\n",
      "Illinois                         36000.0   228800.0  117555.571429\n",
      "Indiana                          15000.0   140000.0   82875.000000\n",
      "Iowa                             63000.0   142000.0  101200.000000\n",
      "Kansas                           41500.0   167000.0  109666.666667\n",
      "Kentucky                         62000.0   125000.0  102500.000000\n",
      "Louisiana                        75000.0    84000.0   80500.000000\n",
      "Louisiana, Washington           117000.0   117000.0  117000.000000\n",
      "Maine                            50000.0   173000.0  103833.333333\n",
      "Maryland                         62000.0   176000.0  119955.461538\n",
      "Massachusetts                    41000.0   400000.0  125899.155844\n",
      "Michigan                         41600.0   235000.0   95758.823529\n",
      "Michigan, Texas, Washington     340000.0   340000.0  340000.000000\n",
      "Minnesota                        52124.0   210000.0  101064.941176\n",
      "Missouri                            80.0   200000.0   80339.923077\n",
      "Montana                          65000.0   145000.0  112666.666667\n",
      "Nebraska                         43000.0   140000.0   76736.000000\n",
      "Nevada                          107100.0   142000.0  124550.000000\n",
      "New Hampshire                       55.0   130000.0   87175.833333\n",
      "New Jersey                       67500.0   192000.0  124090.909091\n",
      "New Jersey, New York            135000.0   140000.0  137500.000000\n",
      "New Mexico                       82000.0   115200.0   95733.333333\n",
      "New York                         14000.0   590000.0  146594.112150\n",
      "North Carolina                   29000.0   165000.0   97841.666667\n",
      "Ohio                             42000.0   954000.0  137066.666667\n",
      "Oklahoma                         36958.0   180000.0   84802.571429\n",
      "Oregon                           16200.0   230000.0  122640.000000\n",
      "Pennsylvania                     52000.0   237000.0  116826.388889\n",
      "Rhode Island                     76000.0   122950.0   99475.000000\n",
      "South Carolina                   40000.0    40000.0   40000.000000\n",
      "Tennessee                        61500.0   144000.0   91750.000000\n",
      "Texas                            10700.0   190000.0  103685.245902\n",
      "Utah                             33280.0   176000.0  105023.333333\n",
      "Vermont                          91250.0   120000.0  105625.000000\n",
      "Virginia                         58750.0   378000.0  115086.696970\n",
      "Washington                          72.0   300000.0  136923.916667\n",
      "West Virginia                   120000.0   120000.0  120000.000000\n",
      "Wisconsin                            1.0   920000.0  145806.888889\n"
     ]
    }
   ],
   "source": [
    "# Find the minimum, mean, and maximum salary in USD by U.S. state.\n",
    "df_salary_tech['salary'] = pd.to_numeric(df_salary_tech['salary'], errors='coerce')\n",
    "df_salary_tech = df_salary_tech.dropna(subset=['salary'])\n",
    "\n",
    "salary_stats = df_salary_tech.groupby('state')['salary'].agg(['min', 'max', 'mean'])\n",
    "print(salary_stats)\n"
   ]
  },
  {
   "cell_type": "markdown",
   "metadata": {},
   "source": [
    "Well, pooh! We forgot that `salary` isn’t numeric. Something wrong must be fixed."
   ]
  },
  {
   "cell_type": "code",
   "execution_count": 54,
   "metadata": {},
   "outputs": [
    {
     "name": "stderr",
     "output_type": "stream",
     "text": [
      "/var/folders/46/y4y08_8x10j7n9sdw44rsvgh0000gn/T/ipykernel_74893/2052445453.py:2: SettingWithCopyWarning: \n",
      "A value is trying to be set on a copy of a slice from a DataFrame.\n",
      "Try using .loc[row_indexer,col_indexer] = value instead\n",
      "\n",
      "See the caveats in the documentation: https://pandas.pydata.org/pandas-docs/stable/user_guide/indexing.html#returning-a-view-versus-a-copy\n",
      "  df_salary_tech['salary'] = pd.to_numeric(df_salary_tech['salary'], errors='coerce')\n"
     ]
    }
   ],
   "source": [
    "# Fix it.\n",
    "df_salary_tech['salary'] = pd.to_numeric(df_salary_tech['salary'], errors='coerce')\n",
    "df_salary_tech = df_salary_tech.dropna(subset=['salary'])\n"
   ]
  },
  {
   "cell_type": "markdown",
   "metadata": {},
   "source": [
    "Let’s try that again."
   ]
  },
  {
   "cell_type": "code",
   "execution_count": 55,
   "metadata": {},
   "outputs": [
    {
     "name": "stdout",
     "output_type": "stream",
     "text": [
      "                                     min        max           mean\n",
      "state                                                             \n",
      "Alabama                          35000.0   350000.0  117400.000000\n",
      "Arizona                          35000.0   145000.0   97833.333333\n",
      "Arkansas                             4.0    95000.0   58001.000000\n",
      "California                           0.0   520000.0  153286.988827\n",
      "California, Colorado            176000.0   176000.0  176000.000000\n",
      "California, Maryland             81500.0    81500.0   81500.000000\n",
      "California, Oregon              200000.0   200000.0  200000.000000\n",
      "Colorado                         49400.0   165000.0  109291.891892\n",
      "Connecticut                      68000.0   270000.0  161610.000000\n",
      "Delaware                        169000.0   169000.0  169000.000000\n",
      "District of Columbia             59000.0   200000.0  142923.076923\n",
      "District of Columbia, Virginia  109200.0   109200.0  109200.000000\n",
      "Florida                          28800.0  2600000.0  210711.000000\n",
      "Georgia                          29120.0   242000.0  115297.647059\n",
      "Idaho                            74860.0   170000.0  105465.000000\n",
      "Illinois                         36000.0   228800.0  117555.571429\n",
      "Indiana                          15000.0   140000.0   82875.000000\n",
      "Iowa                             63000.0   142000.0  101200.000000\n",
      "Kansas                           41500.0   167000.0  109666.666667\n",
      "Kentucky                         62000.0   125000.0  102500.000000\n",
      "Louisiana                        75000.0    84000.0   80500.000000\n",
      "Louisiana, Washington           117000.0   117000.0  117000.000000\n",
      "Maine                            50000.0   173000.0  103833.333333\n",
      "Maryland                         62000.0   176000.0  119955.461538\n",
      "Massachusetts                    41000.0   400000.0  125899.155844\n",
      "Michigan                         41600.0   235000.0   95758.823529\n",
      "Michigan, Texas, Washington     340000.0   340000.0  340000.000000\n",
      "Minnesota                        52124.0   210000.0  101064.941176\n",
      "Missouri                            80.0   200000.0   80339.923077\n",
      "Montana                          65000.0   145000.0  112666.666667\n",
      "Nebraska                         43000.0   140000.0   76736.000000\n",
      "Nevada                          107100.0   142000.0  124550.000000\n",
      "New Hampshire                       55.0   130000.0   87175.833333\n",
      "New Jersey                       67500.0   192000.0  124090.909091\n",
      "New Jersey, New York            135000.0   140000.0  137500.000000\n",
      "New Mexico                       82000.0   115200.0   95733.333333\n",
      "New York                         14000.0   590000.0  146594.112150\n",
      "North Carolina                   29000.0   165000.0   97841.666667\n",
      "Ohio                             42000.0   954000.0  137066.666667\n",
      "Oklahoma                         36958.0   180000.0   84802.571429\n",
      "Oregon                           16200.0   230000.0  122640.000000\n",
      "Pennsylvania                     52000.0   237000.0  116826.388889\n",
      "Rhode Island                     76000.0   122950.0   99475.000000\n",
      "South Carolina                   40000.0    40000.0   40000.000000\n",
      "Tennessee                        61500.0   144000.0   91750.000000\n",
      "Texas                            10700.0   190000.0  103685.245902\n",
      "Utah                             33280.0   176000.0  105023.333333\n",
      "Vermont                          91250.0   120000.0  105625.000000\n",
      "Virginia                         58750.0   378000.0  115086.696970\n",
      "Washington                          72.0   300000.0  136923.916667\n",
      "West Virginia                   120000.0   120000.0  120000.000000\n",
      "Wisconsin                            1.0   920000.0  145806.888889\n"
     ]
    }
   ],
   "source": [
    "# Try it again. Yeah!\n",
    "salary_stats = df_salary_tech.groupby('state')['salary'].agg(['min', 'max', 'mean'])\n",
    "print(salary_stats)\n"
   ]
  },
  {
   "cell_type": "markdown",
   "metadata": {},
   "source": [
    "That did the trick! Now let’s narrow this to data 2021 and 2022 just because (lel). *(Hint: that timestamp column may not be a temporal type right now.)*"
   ]
  },
  {
   "cell_type": "code",
   "execution_count": 56,
   "metadata": {},
   "outputs": [
    {
     "name": "stdout",
     "output_type": "stream",
     "text": [
      "                                     min       max           mean\n",
      "state                                                            \n",
      "Alabama                          52000.0  350000.0  138000.000000\n",
      "Arizona                          35000.0  145000.0   97833.333333\n",
      "Arkansas                         60000.0   95000.0   77333.333333\n",
      "California                           0.0  520000.0  153754.893258\n",
      "California, Colorado            176000.0  176000.0  176000.000000\n",
      "California, Maryland             81500.0   81500.0   81500.000000\n",
      "California, Oregon              200000.0  200000.0  200000.000000\n",
      "Colorado                         49400.0  165000.0  109291.891892\n",
      "Connecticut                      68000.0  270000.0  161610.000000\n",
      "Delaware                        169000.0  169000.0  169000.000000\n",
      "District of Columbia             59000.0  200000.0  142923.076923\n",
      "District of Columbia, Virginia  109200.0  109200.0  109200.000000\n",
      "Florida                          28800.0  170000.0  102106.954545\n",
      "Georgia                          29120.0  242000.0  117222.500000\n",
      "Idaho                            74860.0  170000.0  105465.000000\n",
      "Illinois                         36795.0  228800.0  121771.060606\n",
      "Indiana                          15000.0  140000.0   82875.000000\n",
      "Iowa                             63000.0  142000.0  101200.000000\n",
      "Kansas                           41500.0  167000.0  109666.666667\n",
      "Kentucky                         62000.0  125000.0  102500.000000\n",
      "Louisiana                        75000.0   84000.0   80500.000000\n",
      "Louisiana, Washington           117000.0  117000.0  117000.000000\n",
      "Maine                            50000.0  173000.0  103833.333333\n",
      "Maryland                         62000.0  176000.0  120250.000000\n",
      "Massachusetts                    41000.0  400000.0  126576.466667\n",
      "Michigan                         41600.0  235000.0   95758.823529\n",
      "Michigan, Texas, Washington     340000.0  340000.0  340000.000000\n",
      "Minnesota                        52124.0  210000.0  102381.500000\n",
      "Missouri                            80.0  200000.0   83275.833333\n",
      "Montana                          65000.0  145000.0  112666.666667\n",
      "Nebraska                         43000.0  140000.0   76736.000000\n",
      "Nevada                          107100.0  142000.0  124550.000000\n",
      "New Hampshire                       55.0  130000.0   87175.833333\n",
      "New Jersey                       67500.0  192000.0  127500.000000\n",
      "New Jersey, New York            135000.0  140000.0  137500.000000\n",
      "New Mexico                       82000.0  115200.0   95733.333333\n",
      "New York                         14000.0  590000.0  147363.867925\n",
      "North Carolina                   29000.0  165000.0   97250.000000\n",
      "Ohio                             42000.0  954000.0  141894.117647\n",
      "Oklahoma                         36958.0  180000.0   84802.571429\n",
      "Oregon                           16200.0  230000.0  122640.000000\n",
      "Pennsylvania                     52000.0  237000.0  116826.388889\n",
      "Rhode Island                     76000.0  122950.0   99475.000000\n",
      "Tennessee                        61500.0  144000.0   91750.000000\n",
      "Texas                            10700.0  185000.0  103386.440678\n",
      "Utah                             33280.0  176000.0  105023.333333\n",
      "Vermont                          91250.0  120000.0  105625.000000\n",
      "Virginia                         58750.0  378000.0  116651.906250\n",
      "Washington                          72.0  300000.0  137427.774648\n",
      "West Virginia                   120000.0  120000.0  120000.000000\n",
      "Wisconsin                            1.0  920000.0  145806.888889\n"
     ]
    }
   ],
   "source": [
    "# Filter the data to within 2021, 2022, or 2023, saving the DataFrame to a new variable, and generate the summary again.\n",
    "df_salary_tech['timestamp'] = pd.to_datetime(df_salary_tech['timestamp'])\n",
    "df_2021_2022 = df_salary_tech[df_salary_tech['timestamp'].dt.year.isin([2021, 2022])]\n",
    "salary_stats_filtered = df_2021_2022.groupby('state')['salary'].agg(['min', 'max', 'mean'])\n",
    "print(salary_stats_filtered)"
   ]
  },
  {
   "cell_type": "markdown",
   "metadata": {},
   "source": [
    "## Bonus\n",
    "\n",
    "Clearly, we do not have enough data to produce useful figures for the level of specificity you’ve now reached. What do you notice about Delaware and West Virginia?\n",
    "\n",
    "Let’s back out a bit and return to `df_salary` (which was the loaded data with renamed columns but *sans* filtering)."
   ]
  },
  {
   "cell_type": "markdown",
   "metadata": {},
   "source": [
    "### Bonus #0\n",
    "\n",
    "Apply the same steps as before to `df_salary`, but do not filter for any specific industry. Do perform the other data cleaning stuff, and get to a point where you can generate the minimum, mean, and maximum by state."
   ]
  },
  {
   "cell_type": "code",
   "execution_count": null,
   "metadata": {},
   "outputs": [],
   "source": []
  },
  {
   "cell_type": "markdown",
   "metadata": {},
   "source": [
    "### Bonus #1\n",
    "\n",
    "This time, format the table output nicely (*$12,345.00*) without modifying the values in the `DataFrame`. That is, `df_salary` should be identical before versus after running your code.\n",
    "\n",
    "(*Hint: if you run into an error about `jinja2` perhaps you need to `pip install` something.*)"
   ]
  },
  {
   "cell_type": "code",
   "execution_count": null,
   "metadata": {},
   "outputs": [],
   "source": []
  },
  {
   "cell_type": "markdown",
   "metadata": {},
   "source": [
    "### Bonus #2\n",
    "\n",
    "Filter out the non-single-states (e.g., `'California, Colorado'`) in the most elegant way possible (i.e., *not* by blacklisting all the bad values)."
   ]
  },
  {
   "cell_type": "code",
   "execution_count": null,
   "metadata": {},
   "outputs": [],
   "source": []
  },
  {
   "cell_type": "markdown",
   "metadata": {},
   "source": [
    "### Bonus #3\n",
    "\n",
    "Show the quantiles instead of just minimum, mean, and maximum―say 0%, 5%, 25%, 50%, 75%, 95%, and 100%. Outliers may be deceiving.\n",
    "\n",
    "Sort by whatever interests you―like say the *50th* percentile.\n",
    "\n",
    "And throw in a count by state too. It would be interesting to know how many data points contribute to the figures for each state. (*Hint: your nice formatting from Bonus #1 might not work this time around.* 😜)"
   ]
  },
  {
   "cell_type": "code",
   "execution_count": null,
   "metadata": {},
   "outputs": [],
   "source": []
  }
 ],
 "metadata": {
  "kernelspec": {
   "display_name": "venv (3.11.1)",
   "language": "python",
   "name": "python3"
  },
  "language_info": {
   "codemirror_mode": {
    "name": "ipython",
    "version": 3
   },
   "file_extension": ".py",
   "mimetype": "text/x-python",
   "name": "python",
   "nbconvert_exporter": "python",
   "pygments_lexer": "ipython3",
   "version": "3.11.1"
  }
 },
 "nbformat": 4,
 "nbformat_minor": 2
}
